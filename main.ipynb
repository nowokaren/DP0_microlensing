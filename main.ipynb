{
 "cells": [
  {
   "cell_type": "code",
   "execution_count": 1,
   "id": "859f9477-60a4-4b3d-80db-5787e04e14f6",
   "metadata": {
    "execution": {
     "iopub.execute_input": "2024-11-07T20:22:03.067647Z",
     "iopub.status.busy": "2024-11-07T20:22:03.067486Z",
     "iopub.status.idle": "2024-11-07T20:22:09.907874Z",
     "shell.execute_reply": "2024-11-07T20:22:09.907341Z",
     "shell.execute_reply.started": "2024-11-07T20:22:03.067631Z"
    }
   },
   "outputs": [],
   "source": [
    "from light_curves import LightCurve\n",
    "from exposures import Calexp\n",
    "from task import Run\n",
    "import numpy as np"
   ]
  },
  {
   "cell_type": "code",
   "execution_count": null,
   "id": "e241b8b0-7b1d-4ff4-a042-6e0db5bd7af8",
   "metadata": {
    "execution": {
     "iopub.execute_input": "2024-11-07T20:22:09.934373Z",
     "iopub.status.busy": "2024-11-07T20:22:09.933907Z"
    }
   },
   "outputs": [
    {
     "name": "stdout",
     "output_type": "stream",
     "text": [
      "(ra,dec) = (57.59451632893858, -32.481152201226145)/nHTM_ID = 9871854450032 - HTM_level=20 (bounded by a circle of radius ~0.27 arcsec.)\n"
     ]
    },
    {
     "name": "stderr",
     "output_type": "stream",
     "text": [
      "/opt/lsst/software/stack/conda/envs/lsst-scipipe-9.0.0/share/eups/Linux64/daf_butler/g588e17ab67+fac83bd63d/python/lsst/daf/butler/registry/queries/_structs.py:401: FutureWarning: Dimension 'htm20' should no longer be used in data IDs. Use the region 'OVERLAPS' operator in the where clause instead. Will be removed after v28.\n",
      "  warnings.warn(\n"
     ]
    },
    {
     "name": "stdout",
     "output_type": "stream",
     "text": [
      "Found 145 calexps\n"
     ]
    },
    {
     "name": "stderr",
     "output_type": "stream",
     "text": [
      "/home/karennowo/DP0_microlensing/light_curves.py:107: FutureWarning: The behavior of DataFrame concatenation with empty or all-NA entries is deprecated. In a future version, this will no longer exclude empty or all-NA columns when determining the result dtypes. To retain the old behavior, exclude the relevant entries before the concat operation.\n",
      "  self.data = pd.concat([self.data, new_data], ignore_index=True)\n"
     ]
    },
    {
     "name": "stdout",
     "output_type": "stream",
     "text": [
      " ------ CALEXP 0 ------\n",
      "Points injected: 3\n",
      "[0, 3, 5]\n"
     ]
    },
    {
     "data": {
      "text/html": [
       "<pre style=\"margin: 0.1em;\n",
       "padding-left: 0.25em;\n",
       "border-left-style: solid;\n",
       "font-family: var(--jp-code-font-family);\n",
       "font-size: var(--jp-code-font-size);\n",
       "line-height: var(--jp-code-line-height);\n",
       "\"><span style=\"color: var(--jp-warn-color2)\">lsst.visitInjectTask</span> <span style=\"color: var(--jp-info-color0)\">INFO</span>: Retrieved 3 injection sources from 1 HTM trixel.</pre>"
      ],
      "text/plain": [
       "<IPython.core.display.HTML object>"
      ]
     },
     "metadata": {},
     "output_type": "display_data"
    },
    {
     "data": {
      "text/html": [
       "<pre style=\"margin: 0.1em;\n",
       "padding-left: 0.25em;\n",
       "border-left-style: solid;\n",
       "font-family: var(--jp-code-font-family);\n",
       "font-size: var(--jp-code-font-size);\n",
       "line-height: var(--jp-code-line-height);\n",
       "\"><span style=\"color: var(--jp-warn-color2)\">lsst.visitInjectTask</span> <span style=\"color: var(--jp-info-color0)\">INFO</span>: Catalog cleaning removed 0 of 3 sources; 3 remaining for catalog checking.</pre>"
      ],
      "text/plain": [
       "<IPython.core.display.HTML object>"
      ]
     },
     "metadata": {},
     "output_type": "display_data"
    },
    {
     "data": {
      "text/html": [
       "<pre style=\"margin: 0.1em;\n",
       "padding-left: 0.25em;\n",
       "border-left-style: solid;\n",
       "font-family: var(--jp-code-font-family);\n",
       "font-size: var(--jp-code-font-size);\n",
       "line-height: var(--jp-code-line-height);\n",
       "\"><span style=\"color: var(--jp-warn-color2)\">lsst.visitInjectTask</span> <span style=\"color: var(--jp-info-color0)\">INFO</span>: Catalog checking flagged 0 of 3 sources; 3 remaining for source generation.</pre>"
      ],
      "text/plain": [
       "<IPython.core.display.HTML object>"
      ]
     },
     "metadata": {},
     "output_type": "display_data"
    },
    {
     "data": {
      "text/html": [
       "<pre style=\"margin: 0.1em;\n",
       "padding-left: 0.25em;\n",
       "border-left-style: solid;\n",
       "font-family: var(--jp-code-font-family);\n",
       "font-size: var(--jp-code-font-size);\n",
       "line-height: var(--jp-code-line-height);\n",
       "\"><span style=\"color: var(--jp-warn-color2)\">lsst.visitInjectTask</span> <span style=\"color: var(--jp-info-color0)\">INFO</span>: Adding INJECTED and INJECTED_CORE mask planes to the exposure.</pre>"
      ],
      "text/plain": [
       "<IPython.core.display.HTML object>"
      ]
     },
     "metadata": {},
     "output_type": "display_data"
    },
    {
     "data": {
      "text/html": [
       "<pre style=\"margin: 0.1em;\n",
       "padding-left: 0.25em;\n",
       "border-left-style: solid;\n",
       "font-family: var(--jp-code-font-family);\n",
       "font-size: var(--jp-code-font-size);\n",
       "line-height: var(--jp-code-line-height);\n",
       "\"><span style=\"color: var(--jp-warn-color2)\">lsst.visitInjectTask</span> <span style=\"color: var(--jp-info-color0)\">INFO</span>: Generating 3 injection sources consisting of 1 unique type: DeltaFunction(3).</pre>"
      ],
      "text/plain": [
       "<IPython.core.display.HTML object>"
      ]
     },
     "metadata": {},
     "output_type": "display_data"
    },
    {
     "data": {
      "text/html": [
       "<pre style=\"margin: 0.1em;\n",
       "padding-left: 0.25em;\n",
       "border-left-style: solid;\n",
       "font-family: var(--jp-code-font-family);\n",
       "font-size: var(--jp-code-font-size);\n",
       "line-height: var(--jp-code-line-height);\n",
       "\"><span style=\"color: var(--jp-warn-color2)\">lsst.visitInjectTask</span> <span style=\"color: var(--jp-info-color0)\">INFO</span>: Injected 3 of 3 potential sources. 0 sources flagged and skipped.</pre>"
      ],
      "text/plain": [
       "<IPython.core.display.HTML object>"
      ]
     },
     "metadata": {},
     "output_type": "display_data"
    },
    {
     "data": {
      "text/html": [
       "<pre style=\"margin: 0.1em;\n",
       "padding-left: 0.25em;\n",
       "border-left-style: solid;\n",
       "font-family: var(--jp-code-font-family);\n",
       "font-size: var(--jp-code-font-size);\n",
       "line-height: var(--jp-code-line-height);\n",
       "\"><span style=\"color: var(--jp-warn-color2)\">lsst.sourceDetection</span> <span style=\"color: var(--jp-info-color0)\">INFO</span>: Setting factor for negative detections equal to that for positive detections: 1.000000</pre>"
      ],
      "text/plain": [
       "<IPython.core.display.HTML object>"
      ]
     },
     "metadata": {},
     "output_type": "display_data"
    },
    {
     "data": {
      "text/html": [
       "<pre style=\"margin: 0.1em;\n",
       "padding-left: 0.25em;\n",
       "border-left-style: solid;\n",
       "font-family: var(--jp-code-font-family);\n",
       "font-size: var(--jp-code-font-size);\n",
       "line-height: var(--jp-code-line-height);\n",
       "\"><span style=\"color: var(--jp-warn-color2)\">lsst.sourceDetection</span> <span style=\"color: var(--jp-info-color0)\">INFO</span>: Detected 3067 positive peaks in 2613 footprints and 80 negative peaks in 80 footprints to 4 +ve and 4 -ve sigma</pre>"
      ],
      "text/plain": [
       "<IPython.core.display.HTML object>"
      ]
     },
     "metadata": {},
     "output_type": "display_data"
    },
    {
     "data": {
      "text/html": [
       "<pre style=\"margin: 0.1em;\n",
       "padding-left: 0.25em;\n",
       "border-left-style: solid;\n",
       "font-family: var(--jp-code-font-family);\n",
       "font-size: var(--jp-code-font-size);\n",
       "line-height: var(--jp-code-line-height);\n",
       "\"><span style=\"color: var(--jp-warn-color2)\">lsst.sourceDetection</span> <span style=\"color: var(--jp-info-color0)\">INFO</span>: Resubtracting the background after object detection</pre>"
      ],
      "text/plain": [
       "<IPython.core.display.HTML object>"
      ]
     },
     "metadata": {},
     "output_type": "display_data"
    },
    {
     "data": {
      "text/html": [
       "<pre style=\"margin: 0.1em;\n",
       "padding-left: 0.25em;\n",
       "border-left-style: solid;\n",
       "font-family: var(--jp-code-font-family);\n",
       "font-size: var(--jp-code-font-size);\n",
       "line-height: var(--jp-code-line-height);\n",
       "\"><span style=\"color: var(--jp-warn-color2)\">lsst.measurement</span> <span style=\"color: var(--jp-info-color0)\">INFO</span>: Measuring 2613 sources (2613 parents, 0 children) </pre>"
      ],
      "text/plain": [
       "<IPython.core.display.HTML object>"
      ]
     },
     "metadata": {},
     "output_type": "display_data"
    },
    {
     "name": "stdout",
     "output_type": "stream",
     "text": [
      "Searching in lc 0\n",
      "Searching in lc 3\n",
      "Searching in lc 5\n",
      "ra = 57.59451632893858, dec = -32.481152201226145\n",
      "Measured  19.6590756879262 0.007810228492692649\n",
      "Injected  17.999800399179982\n",
      "ra = 57.674448508748796, dec = -32.32794370527656\n",
      "Measured  19.6590756879262 0.007810228492692649\n",
      "Injected  18.66646706584665\n",
      "ra = 57.438495261209376, dec = -32.36797056019446\n",
      "Measured  19.6590756879262 0.007810228492692649\n",
      "Injected  19.333133732513314\n",
      " ------ CALEXP 1 ------\n",
      "Points injected: 2\n",
      "[0, 5]\n"
     ]
    },
    {
     "data": {
      "text/html": [
       "<pre style=\"margin: 0.1em;\n",
       "padding-left: 0.25em;\n",
       "border-left-style: solid;\n",
       "font-family: var(--jp-code-font-family);\n",
       "font-size: var(--jp-code-font-size);\n",
       "line-height: var(--jp-code-line-height);\n",
       "\"><span style=\"color: var(--jp-warn-color2)\">lsst.visitInjectTask</span> <span style=\"color: var(--jp-info-color0)\">INFO</span>: Retrieved 2 injection sources from 1 HTM trixel.</pre>"
      ],
      "text/plain": [
       "<IPython.core.display.HTML object>"
      ]
     },
     "metadata": {},
     "output_type": "display_data"
    },
    {
     "data": {
      "text/html": [
       "<pre style=\"margin: 0.1em;\n",
       "padding-left: 0.25em;\n",
       "border-left-style: solid;\n",
       "font-family: var(--jp-code-font-family);\n",
       "font-size: var(--jp-code-font-size);\n",
       "line-height: var(--jp-code-line-height);\n",
       "\"><span style=\"color: var(--jp-warn-color2)\">lsst.visitInjectTask</span> <span style=\"color: var(--jp-info-color0)\">INFO</span>: Catalog cleaning removed 0 of 2 sources; 2 remaining for catalog checking.</pre>"
      ],
      "text/plain": [
       "<IPython.core.display.HTML object>"
      ]
     },
     "metadata": {},
     "output_type": "display_data"
    },
    {
     "data": {
      "text/html": [
       "<pre style=\"margin: 0.1em;\n",
       "padding-left: 0.25em;\n",
       "border-left-style: solid;\n",
       "font-family: var(--jp-code-font-family);\n",
       "font-size: var(--jp-code-font-size);\n",
       "line-height: var(--jp-code-line-height);\n",
       "\"><span style=\"color: var(--jp-warn-color2)\">lsst.visitInjectTask</span> <span style=\"color: var(--jp-info-color0)\">INFO</span>: Catalog checking flagged 0 of 2 sources; 2 remaining for source generation.</pre>"
      ],
      "text/plain": [
       "<IPython.core.display.HTML object>"
      ]
     },
     "metadata": {},
     "output_type": "display_data"
    },
    {
     "data": {
      "text/html": [
       "<pre style=\"margin: 0.1em;\n",
       "padding-left: 0.25em;\n",
       "border-left-style: solid;\n",
       "font-family: var(--jp-code-font-family);\n",
       "font-size: var(--jp-code-font-size);\n",
       "line-height: var(--jp-code-line-height);\n",
       "\"><span style=\"color: var(--jp-warn-color2)\">lsst.visitInjectTask</span> <span style=\"color: var(--jp-info-color0)\">INFO</span>: Adding INJECTED and INJECTED_CORE mask planes to the exposure.</pre>"
      ],
      "text/plain": [
       "<IPython.core.display.HTML object>"
      ]
     },
     "metadata": {},
     "output_type": "display_data"
    },
    {
     "data": {
      "text/html": [
       "<pre style=\"margin: 0.1em;\n",
       "padding-left: 0.25em;\n",
       "border-left-style: solid;\n",
       "font-family: var(--jp-code-font-family);\n",
       "font-size: var(--jp-code-font-size);\n",
       "line-height: var(--jp-code-line-height);\n",
       "\"><span style=\"color: var(--jp-warn-color2)\">lsst.visitInjectTask</span> <span style=\"color: var(--jp-info-color0)\">INFO</span>: Generating 2 injection sources consisting of 1 unique type: DeltaFunction(2).</pre>"
      ],
      "text/plain": [
       "<IPython.core.display.HTML object>"
      ]
     },
     "metadata": {},
     "output_type": "display_data"
    },
    {
     "data": {
      "text/html": [
       "<pre style=\"margin: 0.1em;\n",
       "padding-left: 0.25em;\n",
       "border-left-style: solid;\n",
       "font-family: var(--jp-code-font-family);\n",
       "font-size: var(--jp-code-font-size);\n",
       "line-height: var(--jp-code-line-height);\n",
       "\"><span style=\"color: var(--jp-warn-color2)\">lsst.visitInjectTask</span> <span style=\"color: var(--jp-info-color0)\">INFO</span>: Injected 2 of 2 potential sources. 0 sources flagged and skipped.</pre>"
      ],
      "text/plain": [
       "<IPython.core.display.HTML object>"
      ]
     },
     "metadata": {},
     "output_type": "display_data"
    },
    {
     "data": {
      "text/html": [
       "<pre style=\"margin: 0.1em;\n",
       "padding-left: 0.25em;\n",
       "border-left-style: solid;\n",
       "font-family: var(--jp-code-font-family);\n",
       "font-size: var(--jp-code-font-size);\n",
       "line-height: var(--jp-code-line-height);\n",
       "\"><span style=\"color: var(--jp-warn-color2)\">lsst.sourceDetection</span> <span style=\"color: var(--jp-info-color0)\">INFO</span>: Setting factor for negative detections equal to that for positive detections: 1.000000</pre>"
      ],
      "text/plain": [
       "<IPython.core.display.HTML object>"
      ]
     },
     "metadata": {},
     "output_type": "display_data"
    },
    {
     "data": {
      "text/html": [
       "<pre style=\"margin: 0.1em;\n",
       "padding-left: 0.25em;\n",
       "border-left-style: solid;\n",
       "font-family: var(--jp-code-font-family);\n",
       "font-size: var(--jp-code-font-size);\n",
       "line-height: var(--jp-code-line-height);\n",
       "\"><span style=\"color: var(--jp-warn-color2)\">lsst.sourceDetection</span> <span style=\"color: var(--jp-info-color0)\">INFO</span>: Detected 3630 positive peaks in 3123 footprints and 154 negative peaks in 153 footprints to 4 +ve and 4 -ve sigma</pre>"
      ],
      "text/plain": [
       "<IPython.core.display.HTML object>"
      ]
     },
     "metadata": {},
     "output_type": "display_data"
    },
    {
     "data": {
      "text/html": [
       "<pre style=\"margin: 0.1em;\n",
       "padding-left: 0.25em;\n",
       "border-left-style: solid;\n",
       "font-family: var(--jp-code-font-family);\n",
       "font-size: var(--jp-code-font-size);\n",
       "line-height: var(--jp-code-line-height);\n",
       "\"><span style=\"color: var(--jp-warn-color2)\">lsst.sourceDetection</span> <span style=\"color: var(--jp-info-color0)\">INFO</span>: Resubtracting the background after object detection</pre>"
      ],
      "text/plain": [
       "<IPython.core.display.HTML object>"
      ]
     },
     "metadata": {},
     "output_type": "display_data"
    },
    {
     "data": {
      "text/html": [
       "<pre style=\"margin: 0.1em;\n",
       "padding-left: 0.25em;\n",
       "border-left-style: solid;\n",
       "font-family: var(--jp-code-font-family);\n",
       "font-size: var(--jp-code-font-size);\n",
       "line-height: var(--jp-code-line-height);\n",
       "\"><span style=\"color: var(--jp-warn-color2)\">lsst.measurement</span> <span style=\"color: var(--jp-info-color0)\">INFO</span>: Measuring 3123 sources (3123 parents, 0 children) </pre>"
      ],
      "text/plain": [
       "<IPython.core.display.HTML object>"
      ]
     },
     "metadata": {},
     "output_type": "display_data"
    },
    {
     "name": "stdout",
     "output_type": "stream",
     "text": [
      "Searching in lc 0\n",
      "Searching in lc 5\n",
      "ra = 57.59451632893858, dec = -32.481152201226145\n",
      "Measured  22.032638942831806 0.04378331200076081\n",
      "Injected  17.999526457030296\n",
      "ra = 57.674448508748796, dec = -32.32794370527656\n",
      "Measured  22.032638942831806 0.04378331200076081\n",
      "Injected  18.666193123696964\n",
      " ------ CALEXP 2 ------\n",
      "Points injected: 3\n",
      "[0, 3, 5]\n"
     ]
    },
    {
     "data": {
      "text/html": [
       "<pre style=\"margin: 0.1em;\n",
       "padding-left: 0.25em;\n",
       "border-left-style: solid;\n",
       "font-family: var(--jp-code-font-family);\n",
       "font-size: var(--jp-code-font-size);\n",
       "line-height: var(--jp-code-line-height);\n",
       "\"><span style=\"color: var(--jp-warn-color2)\">lsst.visitInjectTask</span> <span style=\"color: var(--jp-info-color0)\">INFO</span>: Retrieved 3 injection sources from 1 HTM trixel.</pre>"
      ],
      "text/plain": [
       "<IPython.core.display.HTML object>"
      ]
     },
     "metadata": {},
     "output_type": "display_data"
    },
    {
     "data": {
      "text/html": [
       "<pre style=\"margin: 0.1em;\n",
       "padding-left: 0.25em;\n",
       "border-left-style: solid;\n",
       "font-family: var(--jp-code-font-family);\n",
       "font-size: var(--jp-code-font-size);\n",
       "line-height: var(--jp-code-line-height);\n",
       "\"><span style=\"color: var(--jp-warn-color2)\">lsst.visitInjectTask</span> <span style=\"color: var(--jp-info-color0)\">INFO</span>: Catalog cleaning removed 0 of 3 sources; 3 remaining for catalog checking.</pre>"
      ],
      "text/plain": [
       "<IPython.core.display.HTML object>"
      ]
     },
     "metadata": {},
     "output_type": "display_data"
    },
    {
     "data": {
      "text/html": [
       "<pre style=\"margin: 0.1em;\n",
       "padding-left: 0.25em;\n",
       "border-left-style: solid;\n",
       "font-family: var(--jp-code-font-family);\n",
       "font-size: var(--jp-code-font-size);\n",
       "line-height: var(--jp-code-line-height);\n",
       "\"><span style=\"color: var(--jp-warn-color2)\">lsst.visitInjectTask</span> <span style=\"color: var(--jp-info-color0)\">INFO</span>: Catalog checking flagged 0 of 3 sources; 3 remaining for source generation.</pre>"
      ],
      "text/plain": [
       "<IPython.core.display.HTML object>"
      ]
     },
     "metadata": {},
     "output_type": "display_data"
    },
    {
     "data": {
      "text/html": [
       "<pre style=\"margin: 0.1em;\n",
       "padding-left: 0.25em;\n",
       "border-left-style: solid;\n",
       "font-family: var(--jp-code-font-family);\n",
       "font-size: var(--jp-code-font-size);\n",
       "line-height: var(--jp-code-line-height);\n",
       "\"><span style=\"color: var(--jp-warn-color2)\">lsst.visitInjectTask</span> <span style=\"color: var(--jp-info-color0)\">INFO</span>: Adding INJECTED and INJECTED_CORE mask planes to the exposure.</pre>"
      ],
      "text/plain": [
       "<IPython.core.display.HTML object>"
      ]
     },
     "metadata": {},
     "output_type": "display_data"
    },
    {
     "data": {
      "text/html": [
       "<pre style=\"margin: 0.1em;\n",
       "padding-left: 0.25em;\n",
       "border-left-style: solid;\n",
       "font-family: var(--jp-code-font-family);\n",
       "font-size: var(--jp-code-font-size);\n",
       "line-height: var(--jp-code-line-height);\n",
       "\"><span style=\"color: var(--jp-warn-color2)\">lsst.visitInjectTask</span> <span style=\"color: var(--jp-info-color0)\">INFO</span>: Generating 3 injection sources consisting of 1 unique type: DeltaFunction(3).</pre>"
      ],
      "text/plain": [
       "<IPython.core.display.HTML object>"
      ]
     },
     "metadata": {},
     "output_type": "display_data"
    },
    {
     "data": {
      "text/html": [
       "<pre style=\"margin: 0.1em;\n",
       "padding-left: 0.25em;\n",
       "border-left-style: solid;\n",
       "font-family: var(--jp-code-font-family);\n",
       "font-size: var(--jp-code-font-size);\n",
       "line-height: var(--jp-code-line-height);\n",
       "\"><span style=\"color: var(--jp-warn-color2)\">lsst.visitInjectTask</span> <span style=\"color: var(--jp-info-color0)\">INFO</span>: Injected 3 of 3 potential sources. 0 sources flagged and skipped.</pre>"
      ],
      "text/plain": [
       "<IPython.core.display.HTML object>"
      ]
     },
     "metadata": {},
     "output_type": "display_data"
    },
    {
     "data": {
      "text/html": [
       "<pre style=\"margin: 0.1em;\n",
       "padding-left: 0.25em;\n",
       "border-left-style: solid;\n",
       "font-family: var(--jp-code-font-family);\n",
       "font-size: var(--jp-code-font-size);\n",
       "line-height: var(--jp-code-line-height);\n",
       "\"><span style=\"color: var(--jp-warn-color2)\">lsst.sourceDetection</span> <span style=\"color: var(--jp-info-color0)\">INFO</span>: Setting factor for negative detections equal to that for positive detections: 1.000000</pre>"
      ],
      "text/plain": [
       "<IPython.core.display.HTML object>"
      ]
     },
     "metadata": {},
     "output_type": "display_data"
    },
    {
     "data": {
      "text/html": [
       "<pre style=\"margin: 0.1em;\n",
       "padding-left: 0.25em;\n",
       "border-left-style: solid;\n",
       "font-family: var(--jp-code-font-family);\n",
       "font-size: var(--jp-code-font-size);\n",
       "line-height: var(--jp-code-line-height);\n",
       "\"><span style=\"color: var(--jp-warn-color2)\">lsst.sourceDetection</span> <span style=\"color: var(--jp-info-color0)\">INFO</span>: Detected 3848 positive peaks in 3275 footprints and 131 negative peaks in 131 footprints to 4 +ve and 4 -ve sigma</pre>"
      ],
      "text/plain": [
       "<IPython.core.display.HTML object>"
      ]
     },
     "metadata": {},
     "output_type": "display_data"
    },
    {
     "data": {
      "text/html": [
       "<pre style=\"margin: 0.1em;\n",
       "padding-left: 0.25em;\n",
       "border-left-style: solid;\n",
       "font-family: var(--jp-code-font-family);\n",
       "font-size: var(--jp-code-font-size);\n",
       "line-height: var(--jp-code-line-height);\n",
       "\"><span style=\"color: var(--jp-warn-color2)\">lsst.sourceDetection</span> <span style=\"color: var(--jp-info-color0)\">INFO</span>: Resubtracting the background after object detection</pre>"
      ],
      "text/plain": [
       "<IPython.core.display.HTML object>"
      ]
     },
     "metadata": {},
     "output_type": "display_data"
    },
    {
     "data": {
      "text/html": [
       "<pre style=\"margin: 0.1em;\n",
       "padding-left: 0.25em;\n",
       "border-left-style: solid;\n",
       "font-family: var(--jp-code-font-family);\n",
       "font-size: var(--jp-code-font-size);\n",
       "line-height: var(--jp-code-line-height);\n",
       "\"><span style=\"color: var(--jp-warn-color2)\">lsst.measurement</span> <span style=\"color: var(--jp-info-color0)\">INFO</span>: Measuring 3275 sources (3275 parents, 0 children) </pre>"
      ],
      "text/plain": [
       "<IPython.core.display.HTML object>"
      ]
     },
     "metadata": {},
     "output_type": "display_data"
    },
    {
     "name": "stdout",
     "output_type": "stream",
     "text": [
      "Searching in lc 0\n",
      "Searching in lc 3\n",
      "Searching in lc 5\n",
      "ra = 57.59451632893858, dec = -32.481152201226145\n",
      "Measured  23.66198741349461 0.160648135281272\n",
      "Injected  17.999520247493123\n",
      "ra = 57.674448508748796, dec = -32.32794370527656\n",
      "Measured  23.66198741349461 0.160648135281272\n",
      "Injected  18.66618691415979\n",
      "ra = 57.438495261209376, dec = -32.36797056019446\n",
      "Measured  23.66198741349461 0.160648135281272\n",
      "Injected  19.332853580826455\n",
      " ------ CALEXP 3 ------\n",
      "Points injected: 2\n",
      "[0, 5]\n"
     ]
    },
    {
     "data": {
      "text/html": [
       "<pre style=\"margin: 0.1em;\n",
       "padding-left: 0.25em;\n",
       "border-left-style: solid;\n",
       "font-family: var(--jp-code-font-family);\n",
       "font-size: var(--jp-code-font-size);\n",
       "line-height: var(--jp-code-line-height);\n",
       "\"><span style=\"color: var(--jp-warn-color2)\">lsst.visitInjectTask</span> <span style=\"color: var(--jp-info-color0)\">INFO</span>: Retrieved 2 injection sources from 1 HTM trixel.</pre>"
      ],
      "text/plain": [
       "<IPython.core.display.HTML object>"
      ]
     },
     "metadata": {},
     "output_type": "display_data"
    },
    {
     "data": {
      "text/html": [
       "<pre style=\"margin: 0.1em;\n",
       "padding-left: 0.25em;\n",
       "border-left-style: solid;\n",
       "font-family: var(--jp-code-font-family);\n",
       "font-size: var(--jp-code-font-size);\n",
       "line-height: var(--jp-code-line-height);\n",
       "\"><span style=\"color: var(--jp-warn-color2)\">lsst.visitInjectTask</span> <span style=\"color: var(--jp-info-color0)\">INFO</span>: Catalog cleaning removed 0 of 2 sources; 2 remaining for catalog checking.</pre>"
      ],
      "text/plain": [
       "<IPython.core.display.HTML object>"
      ]
     },
     "metadata": {},
     "output_type": "display_data"
    },
    {
     "data": {
      "text/html": [
       "<pre style=\"margin: 0.1em;\n",
       "padding-left: 0.25em;\n",
       "border-left-style: solid;\n",
       "font-family: var(--jp-code-font-family);\n",
       "font-size: var(--jp-code-font-size);\n",
       "line-height: var(--jp-code-line-height);\n",
       "\"><span style=\"color: var(--jp-warn-color2)\">lsst.visitInjectTask</span> <span style=\"color: var(--jp-info-color0)\">INFO</span>: Catalog checking flagged 0 of 2 sources; 2 remaining for source generation.</pre>"
      ],
      "text/plain": [
       "<IPython.core.display.HTML object>"
      ]
     },
     "metadata": {},
     "output_type": "display_data"
    },
    {
     "data": {
      "text/html": [
       "<pre style=\"margin: 0.1em;\n",
       "padding-left: 0.25em;\n",
       "border-left-style: solid;\n",
       "font-family: var(--jp-code-font-family);\n",
       "font-size: var(--jp-code-font-size);\n",
       "line-height: var(--jp-code-line-height);\n",
       "\"><span style=\"color: var(--jp-warn-color2)\">lsst.visitInjectTask</span> <span style=\"color: var(--jp-info-color0)\">INFO</span>: Adding INJECTED and INJECTED_CORE mask planes to the exposure.</pre>"
      ],
      "text/plain": [
       "<IPython.core.display.HTML object>"
      ]
     },
     "metadata": {},
     "output_type": "display_data"
    },
    {
     "data": {
      "text/html": [
       "<pre style=\"margin: 0.1em;\n",
       "padding-left: 0.25em;\n",
       "border-left-style: solid;\n",
       "font-family: var(--jp-code-font-family);\n",
       "font-size: var(--jp-code-font-size);\n",
       "line-height: var(--jp-code-line-height);\n",
       "\"><span style=\"color: var(--jp-warn-color2)\">lsst.visitInjectTask</span> <span style=\"color: var(--jp-info-color0)\">INFO</span>: Generating 2 injection sources consisting of 1 unique type: DeltaFunction(2).</pre>"
      ],
      "text/plain": [
       "<IPython.core.display.HTML object>"
      ]
     },
     "metadata": {},
     "output_type": "display_data"
    },
    {
     "data": {
      "text/html": [
       "<pre style=\"margin: 0.1em;\n",
       "padding-left: 0.25em;\n",
       "border-left-style: solid;\n",
       "font-family: var(--jp-code-font-family);\n",
       "font-size: var(--jp-code-font-size);\n",
       "line-height: var(--jp-code-line-height);\n",
       "\"><span style=\"color: var(--jp-warn-color2)\">lsst.visitInjectTask</span> <span style=\"color: var(--jp-info-color0)\">INFO</span>: Injected 2 of 2 potential sources. 0 sources flagged and skipped.</pre>"
      ],
      "text/plain": [
       "<IPython.core.display.HTML object>"
      ]
     },
     "metadata": {},
     "output_type": "display_data"
    },
    {
     "data": {
      "text/html": [
       "<pre style=\"margin: 0.1em;\n",
       "padding-left: 0.25em;\n",
       "border-left-style: solid;\n",
       "font-family: var(--jp-code-font-family);\n",
       "font-size: var(--jp-code-font-size);\n",
       "line-height: var(--jp-code-line-height);\n",
       "\"><span style=\"color: var(--jp-warn-color2)\">lsst.sourceDetection</span> <span style=\"color: var(--jp-info-color0)\">INFO</span>: Setting factor for negative detections equal to that for positive detections: 1.000000</pre>"
      ],
      "text/plain": [
       "<IPython.core.display.HTML object>"
      ]
     },
     "metadata": {},
     "output_type": "display_data"
    },
    {
     "data": {
      "text/html": [
       "<pre style=\"margin: 0.1em;\n",
       "padding-left: 0.25em;\n",
       "border-left-style: solid;\n",
       "font-family: var(--jp-code-font-family);\n",
       "font-size: var(--jp-code-font-size);\n",
       "line-height: var(--jp-code-line-height);\n",
       "\"><span style=\"color: var(--jp-warn-color2)\">lsst.sourceDetection</span> <span style=\"color: var(--jp-info-color0)\">INFO</span>: Detected 4247 positive peaks in 3616 footprints and 133 negative peaks in 131 footprints to 4 +ve and 4 -ve sigma</pre>"
      ],
      "text/plain": [
       "<IPython.core.display.HTML object>"
      ]
     },
     "metadata": {},
     "output_type": "display_data"
    },
    {
     "data": {
      "text/html": [
       "<pre style=\"margin: 0.1em;\n",
       "padding-left: 0.25em;\n",
       "border-left-style: solid;\n",
       "font-family: var(--jp-code-font-family);\n",
       "font-size: var(--jp-code-font-size);\n",
       "line-height: var(--jp-code-line-height);\n",
       "\"><span style=\"color: var(--jp-warn-color2)\">lsst.sourceDetection</span> <span style=\"color: var(--jp-info-color0)\">INFO</span>: Resubtracting the background after object detection</pre>"
      ],
      "text/plain": [
       "<IPython.core.display.HTML object>"
      ]
     },
     "metadata": {},
     "output_type": "display_data"
    },
    {
     "data": {
      "text/html": [
       "<pre style=\"margin: 0.1em;\n",
       "padding-left: 0.25em;\n",
       "border-left-style: solid;\n",
       "font-family: var(--jp-code-font-family);\n",
       "font-size: var(--jp-code-font-size);\n",
       "line-height: var(--jp-code-line-height);\n",
       "\"><span style=\"color: var(--jp-warn-color2)\">lsst.measurement</span> <span style=\"color: var(--jp-info-color0)\">INFO</span>: Measuring 3616 sources (3616 parents, 0 children) </pre>"
      ],
      "text/plain": [
       "<IPython.core.display.HTML object>"
      ]
     },
     "metadata": {},
     "output_type": "display_data"
    },
    {
     "name": "stdout",
     "output_type": "stream",
     "text": [
      "Searching in lc 0\n",
      "Searching in lc 5\n",
      "ra = 57.59451632893858, dec = -32.481152201226145\n",
      "Measured  23.520973470730567 0.13692210026837565\n",
      "Injected  17.999520246553935\n",
      "ra = 57.674448508748796, dec = -32.32794370527656\n",
      "Measured  23.520973470730567 0.13692210026837565\n",
      "Injected  18.666186913220603\n",
      " ------ CALEXP 4 ------\n",
      "Points injected: 6\n",
      "[0, 1, 2, 4, 7, 8]\n"
     ]
    },
    {
     "data": {
      "text/html": [
       "<pre style=\"margin: 0.1em;\n",
       "padding-left: 0.25em;\n",
       "border-left-style: solid;\n",
       "font-family: var(--jp-code-font-family);\n",
       "font-size: var(--jp-code-font-size);\n",
       "line-height: var(--jp-code-line-height);\n",
       "\"><span style=\"color: var(--jp-warn-color2)\">lsst.visitInjectTask</span> <span style=\"color: var(--jp-info-color0)\">INFO</span>: Retrieved 6 injection sources from 1 HTM trixel.</pre>"
      ],
      "text/plain": [
       "<IPython.core.display.HTML object>"
      ]
     },
     "metadata": {},
     "output_type": "display_data"
    },
    {
     "data": {
      "text/html": [
       "<pre style=\"margin: 0.1em;\n",
       "padding-left: 0.25em;\n",
       "border-left-style: solid;\n",
       "font-family: var(--jp-code-font-family);\n",
       "font-size: var(--jp-code-font-size);\n",
       "line-height: var(--jp-code-line-height);\n",
       "\"><span style=\"color: var(--jp-warn-color2)\">lsst.visitInjectTask</span> <span style=\"color: var(--jp-info-color0)\">INFO</span>: Catalog cleaning removed 0 of 6 sources; 6 remaining for catalog checking.</pre>"
      ],
      "text/plain": [
       "<IPython.core.display.HTML object>"
      ]
     },
     "metadata": {},
     "output_type": "display_data"
    },
    {
     "data": {
      "text/html": [
       "<pre style=\"margin: 0.1em;\n",
       "padding-left: 0.25em;\n",
       "border-left-style: solid;\n",
       "font-family: var(--jp-code-font-family);\n",
       "font-size: var(--jp-code-font-size);\n",
       "line-height: var(--jp-code-line-height);\n",
       "\"><span style=\"color: var(--jp-warn-color2)\">lsst.visitInjectTask</span> <span style=\"color: var(--jp-info-color0)\">INFO</span>: Catalog checking flagged 0 of 6 sources; 6 remaining for source generation.</pre>"
      ],
      "text/plain": [
       "<IPython.core.display.HTML object>"
      ]
     },
     "metadata": {},
     "output_type": "display_data"
    },
    {
     "data": {
      "text/html": [
       "<pre style=\"margin: 0.1em;\n",
       "padding-left: 0.25em;\n",
       "border-left-style: solid;\n",
       "font-family: var(--jp-code-font-family);\n",
       "font-size: var(--jp-code-font-size);\n",
       "line-height: var(--jp-code-line-height);\n",
       "\"><span style=\"color: var(--jp-warn-color2)\">lsst.visitInjectTask</span> <span style=\"color: var(--jp-info-color0)\">INFO</span>: Adding INJECTED and INJECTED_CORE mask planes to the exposure.</pre>"
      ],
      "text/plain": [
       "<IPython.core.display.HTML object>"
      ]
     },
     "metadata": {},
     "output_type": "display_data"
    },
    {
     "data": {
      "text/html": [
       "<pre style=\"margin: 0.1em;\n",
       "padding-left: 0.25em;\n",
       "border-left-style: solid;\n",
       "font-family: var(--jp-code-font-family);\n",
       "font-size: var(--jp-code-font-size);\n",
       "line-height: var(--jp-code-line-height);\n",
       "\"><span style=\"color: var(--jp-warn-color2)\">lsst.visitInjectTask</span> <span style=\"color: var(--jp-info-color0)\">INFO</span>: Generating 6 injection sources consisting of 1 unique type: DeltaFunction(6).</pre>"
      ],
      "text/plain": [
       "<IPython.core.display.HTML object>"
      ]
     },
     "metadata": {},
     "output_type": "display_data"
    },
    {
     "data": {
      "text/html": [
       "<pre style=\"margin: 0.1em;\n",
       "padding-left: 0.25em;\n",
       "border-left-style: solid;\n",
       "font-family: var(--jp-code-font-family);\n",
       "font-size: var(--jp-code-font-size);\n",
       "line-height: var(--jp-code-line-height);\n",
       "\"><span style=\"color: var(--jp-warn-color2)\">lsst.visitInjectTask</span> <span style=\"color: var(--jp-info-color0)\">INFO</span>: Injected 6 of 6 potential sources. 0 sources flagged and skipped.</pre>"
      ],
      "text/plain": [
       "<IPython.core.display.HTML object>"
      ]
     },
     "metadata": {},
     "output_type": "display_data"
    },
    {
     "data": {
      "text/html": [
       "<pre style=\"margin: 0.1em;\n",
       "padding-left: 0.25em;\n",
       "border-left-style: solid;\n",
       "font-family: var(--jp-code-font-family);\n",
       "font-size: var(--jp-code-font-size);\n",
       "line-height: var(--jp-code-line-height);\n",
       "\"><span style=\"color: var(--jp-warn-color2)\">lsst.sourceDetection</span> <span style=\"color: var(--jp-info-color0)\">INFO</span>: Setting factor for negative detections equal to that for positive detections: 1.000000</pre>"
      ],
      "text/plain": [
       "<IPython.core.display.HTML object>"
      ]
     },
     "metadata": {},
     "output_type": "display_data"
    },
    {
     "data": {
      "text/html": [
       "<pre style=\"margin: 0.1em;\n",
       "padding-left: 0.25em;\n",
       "border-left-style: solid;\n",
       "font-family: var(--jp-code-font-family);\n",
       "font-size: var(--jp-code-font-size);\n",
       "line-height: var(--jp-code-line-height);\n",
       "\"><span style=\"color: var(--jp-warn-color2)\">lsst.sourceDetection</span> <span style=\"color: var(--jp-info-color0)\">INFO</span>: Detected 3944 positive peaks in 3339 footprints and 118 negative peaks in 118 footprints to 4 +ve and 4 -ve sigma</pre>"
      ],
      "text/plain": [
       "<IPython.core.display.HTML object>"
      ]
     },
     "metadata": {},
     "output_type": "display_data"
    },
    {
     "data": {
      "text/html": [
       "<pre style=\"margin: 0.1em;\n",
       "padding-left: 0.25em;\n",
       "border-left-style: solid;\n",
       "font-family: var(--jp-code-font-family);\n",
       "font-size: var(--jp-code-font-size);\n",
       "line-height: var(--jp-code-line-height);\n",
       "\"><span style=\"color: var(--jp-warn-color2)\">lsst.sourceDetection</span> <span style=\"color: var(--jp-info-color0)\">INFO</span>: Resubtracting the background after object detection</pre>"
      ],
      "text/plain": [
       "<IPython.core.display.HTML object>"
      ]
     },
     "metadata": {},
     "output_type": "display_data"
    },
    {
     "data": {
      "text/html": [
       "<pre style=\"margin: 0.1em;\n",
       "padding-left: 0.25em;\n",
       "border-left-style: solid;\n",
       "font-family: var(--jp-code-font-family);\n",
       "font-size: var(--jp-code-font-size);\n",
       "line-height: var(--jp-code-line-height);\n",
       "\"><span style=\"color: var(--jp-warn-color2)\">lsst.measurement</span> <span style=\"color: var(--jp-info-color0)\">INFO</span>: Measuring 3339 sources (3339 parents, 0 children) </pre>"
      ],
      "text/plain": [
       "<IPython.core.display.HTML object>"
      ]
     },
     "metadata": {},
     "output_type": "display_data"
    },
    {
     "name": "stdout",
     "output_type": "stream",
     "text": [
      "Searching in lc 0\n",
      "Searching in lc 1\n",
      "Searching in lc 2\n",
      "Searching in lc 4\n",
      "Searching in lc 7\n",
      "Searching in lc 8\n",
      "ra = 57.59451632893858, dec = -32.481152201226145\n",
      "Measured  21.141566002175804 0.020336020449984053\n",
      "Injected  17.999520173952803\n",
      "ra = 57.674448508748796, dec = -32.32794370527656\n",
      "Measured  21.141566002175804 0.020336020449984053\n",
      "Injected  18.66618684061947\n",
      "ra = 57.438495261209376, dec = -32.36797056019446\n",
      "Measured  21.141566002175804 0.020336020449984053\n",
      "Injected  19.332853507286135\n",
      "ra = 57.7176674343267, dec = -32.65962018271738\n",
      "Measured  21.141566002175804 0.020336020449984053\n",
      "Injected  19.999520173952803\n",
      "ra = 57.55098581599304, dec = -32.3349347830932\n",
      "Measured  21.141566002175804 0.020336020449984053\n",
      "Injected  20.66618684061947\n",
      "ra = 57.54932039514468, dec = -32.61432553103963\n",
      "Measured  21.141566002175804 0.020336020449984053\n",
      "Injected  21.332853507286135\n",
      " ------ CALEXP 5 ------\n",
      "Points injected: 3\n",
      "[0, 6, 7]\n"
     ]
    },
    {
     "data": {
      "text/html": [
       "<pre style=\"margin: 0.1em;\n",
       "padding-left: 0.25em;\n",
       "border-left-style: solid;\n",
       "font-family: var(--jp-code-font-family);\n",
       "font-size: var(--jp-code-font-size);\n",
       "line-height: var(--jp-code-line-height);\n",
       "\"><span style=\"color: var(--jp-warn-color2)\">lsst.visitInjectTask</span> <span style=\"color: var(--jp-info-color0)\">INFO</span>: Retrieved 3 injection sources from 1 HTM trixel.</pre>"
      ],
      "text/plain": [
       "<IPython.core.display.HTML object>"
      ]
     },
     "metadata": {},
     "output_type": "display_data"
    },
    {
     "data": {
      "text/html": [
       "<pre style=\"margin: 0.1em;\n",
       "padding-left: 0.25em;\n",
       "border-left-style: solid;\n",
       "font-family: var(--jp-code-font-family);\n",
       "font-size: var(--jp-code-font-size);\n",
       "line-height: var(--jp-code-line-height);\n",
       "\"><span style=\"color: var(--jp-warn-color2)\">lsst.visitInjectTask</span> <span style=\"color: var(--jp-info-color0)\">INFO</span>: Catalog cleaning removed 0 of 3 sources; 3 remaining for catalog checking.</pre>"
      ],
      "text/plain": [
       "<IPython.core.display.HTML object>"
      ]
     },
     "metadata": {},
     "output_type": "display_data"
    },
    {
     "data": {
      "text/html": [
       "<pre style=\"margin: 0.1em;\n",
       "padding-left: 0.25em;\n",
       "border-left-style: solid;\n",
       "font-family: var(--jp-code-font-family);\n",
       "font-size: var(--jp-code-font-size);\n",
       "line-height: var(--jp-code-line-height);\n",
       "\"><span style=\"color: var(--jp-warn-color2)\">lsst.visitInjectTask</span> <span style=\"color: var(--jp-info-color0)\">INFO</span>: Catalog checking flagged 0 of 3 sources; 3 remaining for source generation.</pre>"
      ],
      "text/plain": [
       "<IPython.core.display.HTML object>"
      ]
     },
     "metadata": {},
     "output_type": "display_data"
    },
    {
     "data": {
      "text/html": [
       "<pre style=\"margin: 0.1em;\n",
       "padding-left: 0.25em;\n",
       "border-left-style: solid;\n",
       "font-family: var(--jp-code-font-family);\n",
       "font-size: var(--jp-code-font-size);\n",
       "line-height: var(--jp-code-line-height);\n",
       "\"><span style=\"color: var(--jp-warn-color2)\">lsst.visitInjectTask</span> <span style=\"color: var(--jp-info-color0)\">INFO</span>: Adding INJECTED and INJECTED_CORE mask planes to the exposure.</pre>"
      ],
      "text/plain": [
       "<IPython.core.display.HTML object>"
      ]
     },
     "metadata": {},
     "output_type": "display_data"
    },
    {
     "data": {
      "text/html": [
       "<pre style=\"margin: 0.1em;\n",
       "padding-left: 0.25em;\n",
       "border-left-style: solid;\n",
       "font-family: var(--jp-code-font-family);\n",
       "font-size: var(--jp-code-font-size);\n",
       "line-height: var(--jp-code-line-height);\n",
       "\"><span style=\"color: var(--jp-warn-color2)\">lsst.visitInjectTask</span> <span style=\"color: var(--jp-info-color0)\">INFO</span>: Generating 3 injection sources consisting of 1 unique type: DeltaFunction(3).</pre>"
      ],
      "text/plain": [
       "<IPython.core.display.HTML object>"
      ]
     },
     "metadata": {},
     "output_type": "display_data"
    },
    {
     "data": {
      "text/html": [
       "<pre style=\"margin: 0.1em;\n",
       "padding-left: 0.25em;\n",
       "border-left-style: solid;\n",
       "font-family: var(--jp-code-font-family);\n",
       "font-size: var(--jp-code-font-size);\n",
       "line-height: var(--jp-code-line-height);\n",
       "\"><span style=\"color: var(--jp-warn-color2)\">lsst.visitInjectTask</span> <span style=\"color: var(--jp-info-color0)\">INFO</span>: Injected 3 of 3 potential sources. 0 sources flagged and skipped.</pre>"
      ],
      "text/plain": [
       "<IPython.core.display.HTML object>"
      ]
     },
     "metadata": {},
     "output_type": "display_data"
    },
    {
     "data": {
      "text/html": [
       "<pre style=\"margin: 0.1em;\n",
       "padding-left: 0.25em;\n",
       "border-left-style: solid;\n",
       "font-family: var(--jp-code-font-family);\n",
       "font-size: var(--jp-code-font-size);\n",
       "line-height: var(--jp-code-line-height);\n",
       "\"><span style=\"color: var(--jp-warn-color2)\">lsst.sourceDetection</span> <span style=\"color: var(--jp-info-color0)\">INFO</span>: Setting factor for negative detections equal to that for positive detections: 1.000000</pre>"
      ],
      "text/plain": [
       "<IPython.core.display.HTML object>"
      ]
     },
     "metadata": {},
     "output_type": "display_data"
    },
    {
     "data": {
      "text/html": [
       "<pre style=\"margin: 0.1em;\n",
       "padding-left: 0.25em;\n",
       "border-left-style: solid;\n",
       "font-family: var(--jp-code-font-family);\n",
       "font-size: var(--jp-code-font-size);\n",
       "line-height: var(--jp-code-line-height);\n",
       "\"><span style=\"color: var(--jp-warn-color2)\">lsst.sourceDetection</span> <span style=\"color: var(--jp-info-color0)\">INFO</span>: Detected 3035 positive peaks in 2499 footprints and 180 negative peaks in 177 footprints to 4 +ve and 4 -ve sigma</pre>"
      ],
      "text/plain": [
       "<IPython.core.display.HTML object>"
      ]
     },
     "metadata": {},
     "output_type": "display_data"
    },
    {
     "data": {
      "text/html": [
       "<pre style=\"margin: 0.1em;\n",
       "padding-left: 0.25em;\n",
       "border-left-style: solid;\n",
       "font-family: var(--jp-code-font-family);\n",
       "font-size: var(--jp-code-font-size);\n",
       "line-height: var(--jp-code-line-height);\n",
       "\"><span style=\"color: var(--jp-warn-color2)\">lsst.sourceDetection</span> <span style=\"color: var(--jp-info-color0)\">INFO</span>: Resubtracting the background after object detection</pre>"
      ],
      "text/plain": [
       "<IPython.core.display.HTML object>"
      ]
     },
     "metadata": {},
     "output_type": "display_data"
    },
    {
     "data": {
      "text/html": [
       "<pre style=\"margin: 0.1em;\n",
       "padding-left: 0.25em;\n",
       "border-left-style: solid;\n",
       "font-family: var(--jp-code-font-family);\n",
       "font-size: var(--jp-code-font-size);\n",
       "line-height: var(--jp-code-line-height);\n",
       "\"><span style=\"color: var(--jp-warn-color2)\">lsst.measurement</span> <span style=\"color: var(--jp-info-color0)\">INFO</span>: Measuring 2499 sources (2499 parents, 0 children) </pre>"
      ],
      "text/plain": [
       "<IPython.core.display.HTML object>"
      ]
     },
     "metadata": {},
     "output_type": "display_data"
    },
    {
     "name": "stdout",
     "output_type": "stream",
     "text": [
      "Searching in lc 0\n",
      "Searching in lc 6\n",
      "Searching in lc 7\n",
      "ra = 57.59451632893858, dec = -32.481152201226145\n",
      "Measured  22.846654443253943 0.11819629996737616\n",
      "Injected  17.999466563033558\n",
      "ra = 57.674448508748796, dec = -32.32794370527656\n",
      "Measured  22.846654443253943 0.11819629996737616\n",
      "Injected  18.666133229700225\n",
      "ra = 57.438495261209376, dec = -32.36797056019446\n",
      "Measured  22.846654443253943 0.11819629996737616\n",
      "Injected  19.33279989636689\n",
      " ------ CALEXP 6 ------\n",
      "Points injected: 5\n",
      "[0, 1, 4, 7, 8]\n"
     ]
    },
    {
     "data": {
      "text/html": [
       "<pre style=\"margin: 0.1em;\n",
       "padding-left: 0.25em;\n",
       "border-left-style: solid;\n",
       "font-family: var(--jp-code-font-family);\n",
       "font-size: var(--jp-code-font-size);\n",
       "line-height: var(--jp-code-line-height);\n",
       "\"><span style=\"color: var(--jp-warn-color2)\">lsst.visitInjectTask</span> <span style=\"color: var(--jp-info-color0)\">INFO</span>: Retrieved 5 injection sources from 1 HTM trixel.</pre>"
      ],
      "text/plain": [
       "<IPython.core.display.HTML object>"
      ]
     },
     "metadata": {},
     "output_type": "display_data"
    },
    {
     "data": {
      "text/html": [
       "<pre style=\"margin: 0.1em;\n",
       "padding-left: 0.25em;\n",
       "border-left-style: solid;\n",
       "font-family: var(--jp-code-font-family);\n",
       "font-size: var(--jp-code-font-size);\n",
       "line-height: var(--jp-code-line-height);\n",
       "\"><span style=\"color: var(--jp-warn-color2)\">lsst.visitInjectTask</span> <span style=\"color: var(--jp-info-color0)\">INFO</span>: Catalog cleaning removed 0 of 5 sources; 5 remaining for catalog checking.</pre>"
      ],
      "text/plain": [
       "<IPython.core.display.HTML object>"
      ]
     },
     "metadata": {},
     "output_type": "display_data"
    },
    {
     "data": {
      "text/html": [
       "<pre style=\"margin: 0.1em;\n",
       "padding-left: 0.25em;\n",
       "border-left-style: solid;\n",
       "font-family: var(--jp-code-font-family);\n",
       "font-size: var(--jp-code-font-size);\n",
       "line-height: var(--jp-code-line-height);\n",
       "\"><span style=\"color: var(--jp-warn-color2)\">lsst.visitInjectTask</span> <span style=\"color: var(--jp-info-color0)\">INFO</span>: Catalog checking flagged 0 of 5 sources; 5 remaining for source generation.</pre>"
      ],
      "text/plain": [
       "<IPython.core.display.HTML object>"
      ]
     },
     "metadata": {},
     "output_type": "display_data"
    },
    {
     "data": {
      "text/html": [
       "<pre style=\"margin: 0.1em;\n",
       "padding-left: 0.25em;\n",
       "border-left-style: solid;\n",
       "font-family: var(--jp-code-font-family);\n",
       "font-size: var(--jp-code-font-size);\n",
       "line-height: var(--jp-code-line-height);\n",
       "\"><span style=\"color: var(--jp-warn-color2)\">lsst.visitInjectTask</span> <span style=\"color: var(--jp-info-color0)\">INFO</span>: Adding INJECTED and INJECTED_CORE mask planes to the exposure.</pre>"
      ],
      "text/plain": [
       "<IPython.core.display.HTML object>"
      ]
     },
     "metadata": {},
     "output_type": "display_data"
    },
    {
     "data": {
      "text/html": [
       "<pre style=\"margin: 0.1em;\n",
       "padding-left: 0.25em;\n",
       "border-left-style: solid;\n",
       "font-family: var(--jp-code-font-family);\n",
       "font-size: var(--jp-code-font-size);\n",
       "line-height: var(--jp-code-line-height);\n",
       "\"><span style=\"color: var(--jp-warn-color2)\">lsst.visitInjectTask</span> <span style=\"color: var(--jp-info-color0)\">INFO</span>: Generating 5 injection sources consisting of 1 unique type: DeltaFunction(5).</pre>"
      ],
      "text/plain": [
       "<IPython.core.display.HTML object>"
      ]
     },
     "metadata": {},
     "output_type": "display_data"
    },
    {
     "data": {
      "text/html": [
       "<pre style=\"margin: 0.1em;\n",
       "padding-left: 0.25em;\n",
       "border-left-style: solid;\n",
       "font-family: var(--jp-code-font-family);\n",
       "font-size: var(--jp-code-font-size);\n",
       "line-height: var(--jp-code-line-height);\n",
       "\"><span style=\"color: var(--jp-warn-color2)\">lsst.visitInjectTask</span> <span style=\"color: var(--jp-info-color0)\">INFO</span>: Injected 5 of 5 potential sources. 0 sources flagged and skipped.</pre>"
      ],
      "text/plain": [
       "<IPython.core.display.HTML object>"
      ]
     },
     "metadata": {},
     "output_type": "display_data"
    },
    {
     "data": {
      "text/html": [
       "<pre style=\"margin: 0.1em;\n",
       "padding-left: 0.25em;\n",
       "border-left-style: solid;\n",
       "font-family: var(--jp-code-font-family);\n",
       "font-size: var(--jp-code-font-size);\n",
       "line-height: var(--jp-code-line-height);\n",
       "\"><span style=\"color: var(--jp-warn-color2)\">lsst.sourceDetection</span> <span style=\"color: var(--jp-info-color0)\">INFO</span>: Setting factor for negative detections equal to that for positive detections: 1.000000</pre>"
      ],
      "text/plain": [
       "<IPython.core.display.HTML object>"
      ]
     },
     "metadata": {},
     "output_type": "display_data"
    },
    {
     "data": {
      "text/html": [
       "<pre style=\"margin: 0.1em;\n",
       "padding-left: 0.25em;\n",
       "border-left-style: solid;\n",
       "font-family: var(--jp-code-font-family);\n",
       "font-size: var(--jp-code-font-size);\n",
       "line-height: var(--jp-code-line-height);\n",
       "\"><span style=\"color: var(--jp-warn-color2)\">lsst.sourceDetection</span> <span style=\"color: var(--jp-info-color0)\">INFO</span>: Detected 2424 positive peaks in 2048 footprints and 98 negative peaks in 97 footprints to 4 +ve and 4 -ve sigma</pre>"
      ],
      "text/plain": [
       "<IPython.core.display.HTML object>"
      ]
     },
     "metadata": {},
     "output_type": "display_data"
    },
    {
     "data": {
      "text/html": [
       "<pre style=\"margin: 0.1em;\n",
       "padding-left: 0.25em;\n",
       "border-left-style: solid;\n",
       "font-family: var(--jp-code-font-family);\n",
       "font-size: var(--jp-code-font-size);\n",
       "line-height: var(--jp-code-line-height);\n",
       "\"><span style=\"color: var(--jp-warn-color2)\">lsst.sourceDetection</span> <span style=\"color: var(--jp-info-color0)\">INFO</span>: Resubtracting the background after object detection</pre>"
      ],
      "text/plain": [
       "<IPython.core.display.HTML object>"
      ]
     },
     "metadata": {},
     "output_type": "display_data"
    },
    {
     "data": {
      "text/html": [
       "<pre style=\"margin: 0.1em;\n",
       "padding-left: 0.25em;\n",
       "border-left-style: solid;\n",
       "font-family: var(--jp-code-font-family);\n",
       "font-size: var(--jp-code-font-size);\n",
       "line-height: var(--jp-code-line-height);\n",
       "\"><span style=\"color: var(--jp-warn-color2)\">lsst.measurement</span> <span style=\"color: var(--jp-info-color0)\">INFO</span>: Measuring 2048 sources (2048 parents, 0 children) </pre>"
      ],
      "text/plain": [
       "<IPython.core.display.HTML object>"
      ]
     },
     "metadata": {},
     "output_type": "display_data"
    },
    {
     "name": "stdout",
     "output_type": "stream",
     "text": [
      "Searching in lc 0\n",
      "Searching in lc 1\n",
      "Searching in lc 4\n",
      "Searching in lc 7\n",
      "Searching in lc 8\n",
      "ra = 57.59451632893858, dec = -32.481152201226145\n",
      "Measured  23.22317921330088 0.2235614778107798\n",
      "Injected  17.999392031847123\n",
      "ra = 57.674448508748796, dec = -32.32794370527656\n",
      "Measured  23.22317921330088 0.2235614778107798\n",
      "Injected  18.66605869851379\n",
      "ra = 57.438495261209376, dec = -32.36797056019446\n",
      "Measured  23.22317921330088 0.2235614778107798\n",
      "Injected  19.332725365180455\n",
      "ra = 57.7176674343267, dec = -32.65962018271738\n",
      "Measured  23.22317921330088 0.2235614778107798\n",
      "Injected  19.999392031847123\n",
      "ra = 57.55098581599304, dec = -32.3349347830932\n",
      "Measured  23.22317921330088 0.2235614778107798\n",
      "Injected  20.66605869851379\n",
      " ------ CALEXP 7 ------\n",
      "Points injected: 2\n",
      "[0, 6]\n"
     ]
    },
    {
     "data": {
      "text/html": [
       "<pre style=\"margin: 0.1em;\n",
       "padding-left: 0.25em;\n",
       "border-left-style: solid;\n",
       "font-family: var(--jp-code-font-family);\n",
       "font-size: var(--jp-code-font-size);\n",
       "line-height: var(--jp-code-line-height);\n",
       "\"><span style=\"color: var(--jp-warn-color2)\">lsst.visitInjectTask</span> <span style=\"color: var(--jp-info-color0)\">INFO</span>: Retrieved 2 injection sources from 1 HTM trixel.</pre>"
      ],
      "text/plain": [
       "<IPython.core.display.HTML object>"
      ]
     },
     "metadata": {},
     "output_type": "display_data"
    },
    {
     "data": {
      "text/html": [
       "<pre style=\"margin: 0.1em;\n",
       "padding-left: 0.25em;\n",
       "border-left-style: solid;\n",
       "font-family: var(--jp-code-font-family);\n",
       "font-size: var(--jp-code-font-size);\n",
       "line-height: var(--jp-code-line-height);\n",
       "\"><span style=\"color: var(--jp-warn-color2)\">lsst.visitInjectTask</span> <span style=\"color: var(--jp-info-color0)\">INFO</span>: Catalog cleaning removed 0 of 2 sources; 2 remaining for catalog checking.</pre>"
      ],
      "text/plain": [
       "<IPython.core.display.HTML object>"
      ]
     },
     "metadata": {},
     "output_type": "display_data"
    },
    {
     "data": {
      "text/html": [
       "<pre style=\"margin: 0.1em;\n",
       "padding-left: 0.25em;\n",
       "border-left-style: solid;\n",
       "font-family: var(--jp-code-font-family);\n",
       "font-size: var(--jp-code-font-size);\n",
       "line-height: var(--jp-code-line-height);\n",
       "\"><span style=\"color: var(--jp-warn-color2)\">lsst.visitInjectTask</span> <span style=\"color: var(--jp-info-color0)\">INFO</span>: Catalog checking flagged 0 of 2 sources; 2 remaining for source generation.</pre>"
      ],
      "text/plain": [
       "<IPython.core.display.HTML object>"
      ]
     },
     "metadata": {},
     "output_type": "display_data"
    },
    {
     "data": {
      "text/html": [
       "<pre style=\"margin: 0.1em;\n",
       "padding-left: 0.25em;\n",
       "border-left-style: solid;\n",
       "font-family: var(--jp-code-font-family);\n",
       "font-size: var(--jp-code-font-size);\n",
       "line-height: var(--jp-code-line-height);\n",
       "\"><span style=\"color: var(--jp-warn-color2)\">lsst.visitInjectTask</span> <span style=\"color: var(--jp-info-color0)\">INFO</span>: Adding INJECTED and INJECTED_CORE mask planes to the exposure.</pre>"
      ],
      "text/plain": [
       "<IPython.core.display.HTML object>"
      ]
     },
     "metadata": {},
     "output_type": "display_data"
    },
    {
     "data": {
      "text/html": [
       "<pre style=\"margin: 0.1em;\n",
       "padding-left: 0.25em;\n",
       "border-left-style: solid;\n",
       "font-family: var(--jp-code-font-family);\n",
       "font-size: var(--jp-code-font-size);\n",
       "line-height: var(--jp-code-line-height);\n",
       "\"><span style=\"color: var(--jp-warn-color2)\">lsst.visitInjectTask</span> <span style=\"color: var(--jp-info-color0)\">INFO</span>: Generating 2 injection sources consisting of 1 unique type: DeltaFunction(2).</pre>"
      ],
      "text/plain": [
       "<IPython.core.display.HTML object>"
      ]
     },
     "metadata": {},
     "output_type": "display_data"
    },
    {
     "data": {
      "text/html": [
       "<pre style=\"margin: 0.1em;\n",
       "padding-left: 0.25em;\n",
       "border-left-style: solid;\n",
       "font-family: var(--jp-code-font-family);\n",
       "font-size: var(--jp-code-font-size);\n",
       "line-height: var(--jp-code-line-height);\n",
       "\"><span style=\"color: var(--jp-warn-color2)\">lsst.visitInjectTask</span> <span style=\"color: var(--jp-info-color0)\">INFO</span>: Injected 2 of 2 potential sources. 0 sources flagged and skipped.</pre>"
      ],
      "text/plain": [
       "<IPython.core.display.HTML object>"
      ]
     },
     "metadata": {},
     "output_type": "display_data"
    },
    {
     "data": {
      "text/html": [
       "<pre style=\"margin: 0.1em;\n",
       "padding-left: 0.25em;\n",
       "border-left-style: solid;\n",
       "font-family: var(--jp-code-font-family);\n",
       "font-size: var(--jp-code-font-size);\n",
       "line-height: var(--jp-code-line-height);\n",
       "\"><span style=\"color: var(--jp-warn-color2)\">lsst.sourceDetection</span> <span style=\"color: var(--jp-info-color0)\">INFO</span>: Setting factor for negative detections equal to that for positive detections: 1.000000</pre>"
      ],
      "text/plain": [
       "<IPython.core.display.HTML object>"
      ]
     },
     "metadata": {},
     "output_type": "display_data"
    },
    {
     "data": {
      "text/html": [
       "<pre style=\"margin: 0.1em;\n",
       "padding-left: 0.25em;\n",
       "border-left-style: solid;\n",
       "font-family: var(--jp-code-font-family);\n",
       "font-size: var(--jp-code-font-size);\n",
       "line-height: var(--jp-code-line-height);\n",
       "\"><span style=\"color: var(--jp-warn-color2)\">lsst.sourceDetection</span> <span style=\"color: var(--jp-info-color0)\">INFO</span>: Detected 2370 positive peaks in 1975 footprints and 105 negative peaks in 103 footprints to 4 +ve and 4 -ve sigma</pre>"
      ],
      "text/plain": [
       "<IPython.core.display.HTML object>"
      ]
     },
     "metadata": {},
     "output_type": "display_data"
    },
    {
     "data": {
      "text/html": [
       "<pre style=\"margin: 0.1em;\n",
       "padding-left: 0.25em;\n",
       "border-left-style: solid;\n",
       "font-family: var(--jp-code-font-family);\n",
       "font-size: var(--jp-code-font-size);\n",
       "line-height: var(--jp-code-line-height);\n",
       "\"><span style=\"color: var(--jp-warn-color2)\">lsst.sourceDetection</span> <span style=\"color: var(--jp-info-color0)\">INFO</span>: Resubtracting the background after object detection</pre>"
      ],
      "text/plain": [
       "<IPython.core.display.HTML object>"
      ]
     },
     "metadata": {},
     "output_type": "display_data"
    },
    {
     "data": {
      "text/html": [
       "<pre style=\"margin: 0.1em;\n",
       "padding-left: 0.25em;\n",
       "border-left-style: solid;\n",
       "font-family: var(--jp-code-font-family);\n",
       "font-size: var(--jp-code-font-size);\n",
       "line-height: var(--jp-code-line-height);\n",
       "\"><span style=\"color: var(--jp-warn-color2)\">lsst.measurement</span> <span style=\"color: var(--jp-info-color0)\">INFO</span>: Measuring 1975 sources (1975 parents, 0 children) </pre>"
      ],
      "text/plain": [
       "<IPython.core.display.HTML object>"
      ]
     },
     "metadata": {},
     "output_type": "display_data"
    },
    {
     "name": "stdout",
     "output_type": "stream",
     "text": [
      "Searching in lc 0\n",
      "Searching in lc 6\n",
      "ra = 57.59451632893858, dec = -32.481152201226145\n",
      "Measured  21.214868867874475 0.03604397300331378\n",
      "Injected  17.999392026419127\n",
      "ra = 57.674448508748796, dec = -32.32794370527656\n",
      "Measured  21.214868867874475 0.03604397300331378\n",
      "Injected  18.666058693085795\n",
      " ------ CALEXP 8 ------\n",
      "Points injected: 2\n",
      "[0, 3]\n"
     ]
    },
    {
     "data": {
      "text/html": [
       "<pre style=\"margin: 0.1em;\n",
       "padding-left: 0.25em;\n",
       "border-left-style: solid;\n",
       "font-family: var(--jp-code-font-family);\n",
       "font-size: var(--jp-code-font-size);\n",
       "line-height: var(--jp-code-line-height);\n",
       "\"><span style=\"color: var(--jp-warn-color2)\">lsst.visitInjectTask</span> <span style=\"color: var(--jp-info-color0)\">INFO</span>: Retrieved 2 injection sources from 1 HTM trixel.</pre>"
      ],
      "text/plain": [
       "<IPython.core.display.HTML object>"
      ]
     },
     "metadata": {},
     "output_type": "display_data"
    },
    {
     "data": {
      "text/html": [
       "<pre style=\"margin: 0.1em;\n",
       "padding-left: 0.25em;\n",
       "border-left-style: solid;\n",
       "font-family: var(--jp-code-font-family);\n",
       "font-size: var(--jp-code-font-size);\n",
       "line-height: var(--jp-code-line-height);\n",
       "\"><span style=\"color: var(--jp-warn-color2)\">lsst.visitInjectTask</span> <span style=\"color: var(--jp-info-color0)\">INFO</span>: Catalog cleaning removed 0 of 2 sources; 2 remaining for catalog checking.</pre>"
      ],
      "text/plain": [
       "<IPython.core.display.HTML object>"
      ]
     },
     "metadata": {},
     "output_type": "display_data"
    },
    {
     "data": {
      "text/html": [
       "<pre style=\"margin: 0.1em;\n",
       "padding-left: 0.25em;\n",
       "border-left-style: solid;\n",
       "font-family: var(--jp-code-font-family);\n",
       "font-size: var(--jp-code-font-size);\n",
       "line-height: var(--jp-code-line-height);\n",
       "\"><span style=\"color: var(--jp-warn-color2)\">lsst.visitInjectTask</span> <span style=\"color: var(--jp-info-color0)\">INFO</span>: Catalog checking flagged 0 of 2 sources; 2 remaining for source generation.</pre>"
      ],
      "text/plain": [
       "<IPython.core.display.HTML object>"
      ]
     },
     "metadata": {},
     "output_type": "display_data"
    },
    {
     "data": {
      "text/html": [
       "<pre style=\"margin: 0.1em;\n",
       "padding-left: 0.25em;\n",
       "border-left-style: solid;\n",
       "font-family: var(--jp-code-font-family);\n",
       "font-size: var(--jp-code-font-size);\n",
       "line-height: var(--jp-code-line-height);\n",
       "\"><span style=\"color: var(--jp-warn-color2)\">lsst.visitInjectTask</span> <span style=\"color: var(--jp-info-color0)\">INFO</span>: Adding INJECTED and INJECTED_CORE mask planes to the exposure.</pre>"
      ],
      "text/plain": [
       "<IPython.core.display.HTML object>"
      ]
     },
     "metadata": {},
     "output_type": "display_data"
    },
    {
     "data": {
      "text/html": [
       "<pre style=\"margin: 0.1em;\n",
       "padding-left: 0.25em;\n",
       "border-left-style: solid;\n",
       "font-family: var(--jp-code-font-family);\n",
       "font-size: var(--jp-code-font-size);\n",
       "line-height: var(--jp-code-line-height);\n",
       "\"><span style=\"color: var(--jp-warn-color2)\">lsst.visitInjectTask</span> <span style=\"color: var(--jp-info-color0)\">INFO</span>: Generating 2 injection sources consisting of 1 unique type: DeltaFunction(2).</pre>"
      ],
      "text/plain": [
       "<IPython.core.display.HTML object>"
      ]
     },
     "metadata": {},
     "output_type": "display_data"
    },
    {
     "data": {
      "text/html": [
       "<pre style=\"margin: 0.1em;\n",
       "padding-left: 0.25em;\n",
       "border-left-style: solid;\n",
       "font-family: var(--jp-code-font-family);\n",
       "font-size: var(--jp-code-font-size);\n",
       "line-height: var(--jp-code-line-height);\n",
       "\"><span style=\"color: var(--jp-warn-color2)\">lsst.visitInjectTask</span> <span style=\"color: var(--jp-info-color0)\">INFO</span>: Injected 2 of 2 potential sources. 0 sources flagged and skipped.</pre>"
      ],
      "text/plain": [
       "<IPython.core.display.HTML object>"
      ]
     },
     "metadata": {},
     "output_type": "display_data"
    },
    {
     "data": {
      "text/html": [
       "<pre style=\"margin: 0.1em;\n",
       "padding-left: 0.25em;\n",
       "border-left-style: solid;\n",
       "font-family: var(--jp-code-font-family);\n",
       "font-size: var(--jp-code-font-size);\n",
       "line-height: var(--jp-code-line-height);\n",
       "\"><span style=\"color: var(--jp-warn-color2)\">lsst.sourceDetection</span> <span style=\"color: var(--jp-info-color0)\">INFO</span>: Setting factor for negative detections equal to that for positive detections: 1.000000</pre>"
      ],
      "text/plain": [
       "<IPython.core.display.HTML object>"
      ]
     },
     "metadata": {},
     "output_type": "display_data"
    },
    {
     "data": {
      "text/html": [
       "<pre style=\"margin: 0.1em;\n",
       "padding-left: 0.25em;\n",
       "border-left-style: solid;\n",
       "font-family: var(--jp-code-font-family);\n",
       "font-size: var(--jp-code-font-size);\n",
       "line-height: var(--jp-code-line-height);\n",
       "\"><span style=\"color: var(--jp-warn-color2)\">lsst.sourceDetection</span> <span style=\"color: var(--jp-info-color0)\">INFO</span>: Detected 2423 positive peaks in 2112 footprints and 150 negative peaks in 147 footprints to 4 +ve and 4 -ve sigma</pre>"
      ],
      "text/plain": [
       "<IPython.core.display.HTML object>"
      ]
     },
     "metadata": {},
     "output_type": "display_data"
    },
    {
     "data": {
      "text/html": [
       "<pre style=\"margin: 0.1em;\n",
       "padding-left: 0.25em;\n",
       "border-left-style: solid;\n",
       "font-family: var(--jp-code-font-family);\n",
       "font-size: var(--jp-code-font-size);\n",
       "line-height: var(--jp-code-line-height);\n",
       "\"><span style=\"color: var(--jp-warn-color2)\">lsst.sourceDetection</span> <span style=\"color: var(--jp-info-color0)\">INFO</span>: Resubtracting the background after object detection</pre>"
      ],
      "text/plain": [
       "<IPython.core.display.HTML object>"
      ]
     },
     "metadata": {},
     "output_type": "display_data"
    },
    {
     "data": {
      "text/html": [
       "<pre style=\"margin: 0.1em;\n",
       "padding-left: 0.25em;\n",
       "border-left-style: solid;\n",
       "font-family: var(--jp-code-font-family);\n",
       "font-size: var(--jp-code-font-size);\n",
       "line-height: var(--jp-code-line-height);\n",
       "\"><span style=\"color: var(--jp-warn-color2)\">lsst.measurement</span> <span style=\"color: var(--jp-info-color0)\">INFO</span>: Measuring 2112 sources (2112 parents, 0 children) </pre>"
      ],
      "text/plain": [
       "<IPython.core.display.HTML object>"
      ]
     },
     "metadata": {},
     "output_type": "display_data"
    },
    {
     "name": "stdout",
     "output_type": "stream",
     "text": [
      "Searching in lc 0\n",
      "Searching in lc 3\n",
      "ra = 57.59451632893858, dec = -32.481152201226145\n",
      "Measured  23.427146558741583 0.25015536388761883\n",
      "Injected  17.999391983509366\n",
      "ra = 57.674448508748796, dec = -32.32794370527656\n",
      "Measured  23.427146558741583 0.25015536388761883\n",
      "Injected  18.666058650176033\n",
      " ------ CALEXP 9 ------\n",
      "Points injected: 2\n",
      "[3, 5]\n"
     ]
    },
    {
     "data": {
      "text/html": [
       "<pre style=\"margin: 0.1em;\n",
       "padding-left: 0.25em;\n",
       "border-left-style: solid;\n",
       "font-family: var(--jp-code-font-family);\n",
       "font-size: var(--jp-code-font-size);\n",
       "line-height: var(--jp-code-line-height);\n",
       "\"><span style=\"color: var(--jp-warn-color2)\">lsst.visitInjectTask</span> <span style=\"color: var(--jp-info-color0)\">INFO</span>: Retrieved 2 injection sources from 1 HTM trixel.</pre>"
      ],
      "text/plain": [
       "<IPython.core.display.HTML object>"
      ]
     },
     "metadata": {},
     "output_type": "display_data"
    },
    {
     "data": {
      "text/html": [
       "<pre style=\"margin: 0.1em;\n",
       "padding-left: 0.25em;\n",
       "border-left-style: solid;\n",
       "font-family: var(--jp-code-font-family);\n",
       "font-size: var(--jp-code-font-size);\n",
       "line-height: var(--jp-code-line-height);\n",
       "\"><span style=\"color: var(--jp-warn-color2)\">lsst.visitInjectTask</span> <span style=\"color: var(--jp-info-color0)\">INFO</span>: Catalog cleaning removed 0 of 2 sources; 2 remaining for catalog checking.</pre>"
      ],
      "text/plain": [
       "<IPython.core.display.HTML object>"
      ]
     },
     "metadata": {},
     "output_type": "display_data"
    },
    {
     "data": {
      "text/html": [
       "<pre style=\"margin: 0.1em;\n",
       "padding-left: 0.25em;\n",
       "border-left-style: solid;\n",
       "font-family: var(--jp-code-font-family);\n",
       "font-size: var(--jp-code-font-size);\n",
       "line-height: var(--jp-code-line-height);\n",
       "\"><span style=\"color: var(--jp-warn-color2)\">lsst.visitInjectTask</span> <span style=\"color: var(--jp-info-color0)\">INFO</span>: Catalog checking flagged 0 of 2 sources; 2 remaining for source generation.</pre>"
      ],
      "text/plain": [
       "<IPython.core.display.HTML object>"
      ]
     },
     "metadata": {},
     "output_type": "display_data"
    },
    {
     "data": {
      "text/html": [
       "<pre style=\"margin: 0.1em;\n",
       "padding-left: 0.25em;\n",
       "border-left-style: solid;\n",
       "font-family: var(--jp-code-font-family);\n",
       "font-size: var(--jp-code-font-size);\n",
       "line-height: var(--jp-code-line-height);\n",
       "\"><span style=\"color: var(--jp-warn-color2)\">lsst.visitInjectTask</span> <span style=\"color: var(--jp-info-color0)\">INFO</span>: Adding INJECTED and INJECTED_CORE mask planes to the exposure.</pre>"
      ],
      "text/plain": [
       "<IPython.core.display.HTML object>"
      ]
     },
     "metadata": {},
     "output_type": "display_data"
    },
    {
     "data": {
      "text/html": [
       "<pre style=\"margin: 0.1em;\n",
       "padding-left: 0.25em;\n",
       "border-left-style: solid;\n",
       "font-family: var(--jp-code-font-family);\n",
       "font-size: var(--jp-code-font-size);\n",
       "line-height: var(--jp-code-line-height);\n",
       "\"><span style=\"color: var(--jp-warn-color2)\">lsst.visitInjectTask</span> <span style=\"color: var(--jp-info-color0)\">INFO</span>: Generating 2 injection sources consisting of 1 unique type: DeltaFunction(2).</pre>"
      ],
      "text/plain": [
       "<IPython.core.display.HTML object>"
      ]
     },
     "metadata": {},
     "output_type": "display_data"
    },
    {
     "data": {
      "text/html": [
       "<pre style=\"margin: 0.1em;\n",
       "padding-left: 0.25em;\n",
       "border-left-style: solid;\n",
       "font-family: var(--jp-code-font-family);\n",
       "font-size: var(--jp-code-font-size);\n",
       "line-height: var(--jp-code-line-height);\n",
       "\"><span style=\"color: var(--jp-warn-color2)\">lsst.visitInjectTask</span> <span style=\"color: var(--jp-info-color0)\">INFO</span>: Injected 2 of 2 potential sources. 0 sources flagged and skipped.</pre>"
      ],
      "text/plain": [
       "<IPython.core.display.HTML object>"
      ]
     },
     "metadata": {},
     "output_type": "display_data"
    },
    {
     "data": {
      "text/html": [
       "<pre style=\"margin: 0.1em;\n",
       "padding-left: 0.25em;\n",
       "border-left-style: solid;\n",
       "font-family: var(--jp-code-font-family);\n",
       "font-size: var(--jp-code-font-size);\n",
       "line-height: var(--jp-code-line-height);\n",
       "\"><span style=\"color: var(--jp-warn-color2)\">lsst.sourceDetection</span> <span style=\"color: var(--jp-info-color0)\">INFO</span>: Setting factor for negative detections equal to that for positive detections: 1.000000</pre>"
      ],
      "text/plain": [
       "<IPython.core.display.HTML object>"
      ]
     },
     "metadata": {},
     "output_type": "display_data"
    },
    {
     "data": {
      "text/html": [
       "<pre style=\"margin: 0.1em;\n",
       "padding-left: 0.25em;\n",
       "border-left-style: solid;\n",
       "font-family: var(--jp-code-font-family);\n",
       "font-size: var(--jp-code-font-size);\n",
       "line-height: var(--jp-code-line-height);\n",
       "\"><span style=\"color: var(--jp-warn-color2)\">lsst.sourceDetection</span> <span style=\"color: var(--jp-info-color0)\">INFO</span>: Detected 2539 positive peaks in 2169 footprints and 204 negative peaks in 201 footprints to 4 +ve and 4 -ve sigma</pre>"
      ],
      "text/plain": [
       "<IPython.core.display.HTML object>"
      ]
     },
     "metadata": {},
     "output_type": "display_data"
    },
    {
     "data": {
      "text/html": [
       "<pre style=\"margin: 0.1em;\n",
       "padding-left: 0.25em;\n",
       "border-left-style: solid;\n",
       "font-family: var(--jp-code-font-family);\n",
       "font-size: var(--jp-code-font-size);\n",
       "line-height: var(--jp-code-line-height);\n",
       "\"><span style=\"color: var(--jp-warn-color2)\">lsst.sourceDetection</span> <span style=\"color: var(--jp-info-color0)\">INFO</span>: Resubtracting the background after object detection</pre>"
      ],
      "text/plain": [
       "<IPython.core.display.HTML object>"
      ]
     },
     "metadata": {},
     "output_type": "display_data"
    },
    {
     "data": {
      "text/html": [
       "<pre style=\"margin: 0.1em;\n",
       "padding-left: 0.25em;\n",
       "border-left-style: solid;\n",
       "font-family: var(--jp-code-font-family);\n",
       "font-size: var(--jp-code-font-size);\n",
       "line-height: var(--jp-code-line-height);\n",
       "\"><span style=\"color: var(--jp-warn-color2)\">lsst.measurement</span> <span style=\"color: var(--jp-info-color0)\">INFO</span>: Measuring 2169 sources (2169 parents, 0 children) </pre>"
      ],
      "text/plain": [
       "<IPython.core.display.HTML object>"
      ]
     },
     "metadata": {},
     "output_type": "display_data"
    },
    {
     "name": "stdout",
     "output_type": "stream",
     "text": [
      "Searching in lc 3\n",
      "Searching in lc 5\n",
      "ra = 57.59451632893858, dec = -32.481152201226145\n",
      "Measured  23.54013518185576 0.2543837354925953\n",
      "Injected  17.999391960315545\n",
      "ra = 57.674448508748796, dec = -32.32794370527656\n",
      "Measured  23.54013518185576 0.2543837354925953\n",
      "Injected  18.666058626982213\n",
      "(ra,dec) = (57.59451632893858, -32.481152201226145)/nHTM_ID = 37658136 - HTM_level=11 (bounded by a circle of radius ~140.32 arcsec.)\n"
     ]
    },
    {
     "name": "stderr",
     "output_type": "stream",
     "text": [
      "/opt/lsst/software/stack/conda/envs/lsst-scipipe-9.0.0/share/eups/Linux64/daf_butler/g588e17ab67+fac83bd63d/python/lsst/daf/butler/registry/queries/_structs.py:401: FutureWarning: Dimension 'htm20' should no longer be used in data IDs. Use the region 'OVERLAPS' operator in the where clause instead. Will be removed after v28.\n",
      "  warnings.warn(\n"
     ]
    },
    {
     "name": "stdout",
     "output_type": "stream",
     "text": [
      "Found 229 calexps\n"
     ]
    },
    {
     "name": "stderr",
     "output_type": "stream",
     "text": [
      "/home/karennowo/DP0_microlensing/light_curves.py:107: FutureWarning: The behavior of DataFrame concatenation with empty or all-NA entries is deprecated. In a future version, this will no longer exclude empty or all-NA columns when determining the result dtypes. To retain the old behavior, exclude the relevant entries before the concat operation.\n",
      "  self.data = pd.concat([self.data, new_data], ignore_index=True)\n"
     ]
    },
    {
     "name": "stdout",
     "output_type": "stream",
     "text": [
      " ------ CALEXP 0 ------\n",
      "Points injected: 4\n",
      "[0, 1, 6, 7]\n"
     ]
    },
    {
     "data": {
      "text/html": [
       "<pre style=\"margin: 0.1em;\n",
       "padding-left: 0.25em;\n",
       "border-left-style: solid;\n",
       "font-family: var(--jp-code-font-family);\n",
       "font-size: var(--jp-code-font-size);\n",
       "line-height: var(--jp-code-line-height);\n",
       "\"><span style=\"color: var(--jp-warn-color2)\">lsst.visitInjectTask</span> <span style=\"color: var(--jp-info-color0)\">INFO</span>: Retrieved 4 injection sources from 1 HTM trixel.</pre>"
      ],
      "text/plain": [
       "<IPython.core.display.HTML object>"
      ]
     },
     "metadata": {},
     "output_type": "display_data"
    },
    {
     "data": {
      "text/html": [
       "<pre style=\"margin: 0.1em;\n",
       "padding-left: 0.25em;\n",
       "border-left-style: solid;\n",
       "font-family: var(--jp-code-font-family);\n",
       "font-size: var(--jp-code-font-size);\n",
       "line-height: var(--jp-code-line-height);\n",
       "\"><span style=\"color: var(--jp-warn-color2)\">lsst.visitInjectTask</span> <span style=\"color: var(--jp-info-color0)\">INFO</span>: Catalog cleaning removed 0 of 4 sources; 4 remaining for catalog checking.</pre>"
      ],
      "text/plain": [
       "<IPython.core.display.HTML object>"
      ]
     },
     "metadata": {},
     "output_type": "display_data"
    },
    {
     "data": {
      "text/html": [
       "<pre style=\"margin: 0.1em;\n",
       "padding-left: 0.25em;\n",
       "border-left-style: solid;\n",
       "font-family: var(--jp-code-font-family);\n",
       "font-size: var(--jp-code-font-size);\n",
       "line-height: var(--jp-code-line-height);\n",
       "\"><span style=\"color: var(--jp-warn-color2)\">lsst.visitInjectTask</span> <span style=\"color: var(--jp-info-color0)\">INFO</span>: Catalog checking flagged 0 of 4 sources; 4 remaining for source generation.</pre>"
      ],
      "text/plain": [
       "<IPython.core.display.HTML object>"
      ]
     },
     "metadata": {},
     "output_type": "display_data"
    },
    {
     "data": {
      "text/html": [
       "<pre style=\"margin: 0.1em;\n",
       "padding-left: 0.25em;\n",
       "border-left-style: solid;\n",
       "font-family: var(--jp-code-font-family);\n",
       "font-size: var(--jp-code-font-size);\n",
       "line-height: var(--jp-code-line-height);\n",
       "\"><span style=\"color: var(--jp-warn-color2)\">lsst.visitInjectTask</span> <span style=\"color: var(--jp-info-color0)\">INFO</span>: Adding INJECTED and INJECTED_CORE mask planes to the exposure.</pre>"
      ],
      "text/plain": [
       "<IPython.core.display.HTML object>"
      ]
     },
     "metadata": {},
     "output_type": "display_data"
    },
    {
     "data": {
      "text/html": [
       "<pre style=\"margin: 0.1em;\n",
       "padding-left: 0.25em;\n",
       "border-left-style: solid;\n",
       "font-family: var(--jp-code-font-family);\n",
       "font-size: var(--jp-code-font-size);\n",
       "line-height: var(--jp-code-line-height);\n",
       "\"><span style=\"color: var(--jp-warn-color2)\">lsst.visitInjectTask</span> <span style=\"color: var(--jp-info-color0)\">INFO</span>: Generating 4 injection sources consisting of 1 unique type: DeltaFunction(4).</pre>"
      ],
      "text/plain": [
       "<IPython.core.display.HTML object>"
      ]
     },
     "metadata": {},
     "output_type": "display_data"
    },
    {
     "data": {
      "text/html": [
       "<pre style=\"margin: 0.1em;\n",
       "padding-left: 0.25em;\n",
       "border-left-style: solid;\n",
       "font-family: var(--jp-code-font-family);\n",
       "font-size: var(--jp-code-font-size);\n",
       "line-height: var(--jp-code-line-height);\n",
       "\"><span style=\"color: var(--jp-warn-color2)\">lsst.visitInjectTask</span> <span style=\"color: var(--jp-info-color0)\">INFO</span>: Injected 4 of 4 potential sources. 0 sources flagged and skipped.</pre>"
      ],
      "text/plain": [
       "<IPython.core.display.HTML object>"
      ]
     },
     "metadata": {},
     "output_type": "display_data"
    },
    {
     "data": {
      "text/html": [
       "<pre style=\"margin: 0.1em;\n",
       "padding-left: 0.25em;\n",
       "border-left-style: solid;\n",
       "font-family: var(--jp-code-font-family);\n",
       "font-size: var(--jp-code-font-size);\n",
       "line-height: var(--jp-code-line-height);\n",
       "\"><span style=\"color: var(--jp-warn-color2)\">lsst.sourceDetection</span> <span style=\"color: var(--jp-info-color0)\">INFO</span>: Setting factor for negative detections equal to that for positive detections: 1.000000</pre>"
      ],
      "text/plain": [
       "<IPython.core.display.HTML object>"
      ]
     },
     "metadata": {},
     "output_type": "display_data"
    },
    {
     "data": {
      "text/html": [
       "<pre style=\"margin: 0.1em;\n",
       "padding-left: 0.25em;\n",
       "border-left-style: solid;\n",
       "font-family: var(--jp-code-font-family);\n",
       "font-size: var(--jp-code-font-size);\n",
       "line-height: var(--jp-code-line-height);\n",
       "\"><span style=\"color: var(--jp-warn-color2)\">lsst.sourceDetection</span> <span style=\"color: var(--jp-info-color0)\">INFO</span>: Detected 3068 positive peaks in 2614 footprints and 80 negative peaks in 80 footprints to 4 +ve and 4 -ve sigma</pre>"
      ],
      "text/plain": [
       "<IPython.core.display.HTML object>"
      ]
     },
     "metadata": {},
     "output_type": "display_data"
    },
    {
     "data": {
      "text/html": [
       "<pre style=\"margin: 0.1em;\n",
       "padding-left: 0.25em;\n",
       "border-left-style: solid;\n",
       "font-family: var(--jp-code-font-family);\n",
       "font-size: var(--jp-code-font-size);\n",
       "line-height: var(--jp-code-line-height);\n",
       "\"><span style=\"color: var(--jp-warn-color2)\">lsst.sourceDetection</span> <span style=\"color: var(--jp-info-color0)\">INFO</span>: Resubtracting the background after object detection</pre>"
      ],
      "text/plain": [
       "<IPython.core.display.HTML object>"
      ]
     },
     "metadata": {},
     "output_type": "display_data"
    },
    {
     "data": {
      "text/html": [
       "<pre style=\"margin: 0.1em;\n",
       "padding-left: 0.25em;\n",
       "border-left-style: solid;\n",
       "font-family: var(--jp-code-font-family);\n",
       "font-size: var(--jp-code-font-size);\n",
       "line-height: var(--jp-code-line-height);\n",
       "\"><span style=\"color: var(--jp-warn-color2)\">lsst.measurement</span> <span style=\"color: var(--jp-info-color0)\">INFO</span>: Measuring 2614 sources (2614 parents, 0 children) </pre>"
      ],
      "text/plain": [
       "<IPython.core.display.HTML object>"
      ]
     },
     "metadata": {},
     "output_type": "display_data"
    },
    {
     "name": "stdout",
     "output_type": "stream",
     "text": [
      "Searching in lc 0\n",
      "Searching in lc 1\n",
      "Searching in lc 6\n",
      "Searching in lc 7\n",
      "ra = 57.59451632893858, dec = -32.481152201226145\n",
      "Measured  19.659075680600587 0.007810228471447606\n",
      "Injected  17.999800399179982\n",
      "ra = 57.54661330168041, dec = -32.617052701901834\n",
      "Measured  19.659075680600587 0.007810228471447606\n",
      "Injected  18.66646706584665\n",
      "ra = 57.4206744362783, dec = -32.56738293878671\n",
      "Measured  19.659075680600587 0.007810228471447606\n",
      "Injected  19.333133732513314\n",
      "ra = 57.54618259551755, dec = -32.298429145618904\n",
      "Measured  19.659075680600587 0.007810228471447606\n",
      "Injected  19.999800399179982\n",
      " ------ CALEXP 1 ------\n",
      "Points injected: 2\n",
      "[3, 7]\n"
     ]
    },
    {
     "data": {
      "text/html": [
       "<pre style=\"margin: 0.1em;\n",
       "padding-left: 0.25em;\n",
       "border-left-style: solid;\n",
       "font-family: var(--jp-code-font-family);\n",
       "font-size: var(--jp-code-font-size);\n",
       "line-height: var(--jp-code-line-height);\n",
       "\"><span style=\"color: var(--jp-warn-color2)\">lsst.visitInjectTask</span> <span style=\"color: var(--jp-info-color0)\">INFO</span>: Retrieved 2 injection sources from 1 HTM trixel.</pre>"
      ],
      "text/plain": [
       "<IPython.core.display.HTML object>"
      ]
     },
     "metadata": {},
     "output_type": "display_data"
    },
    {
     "data": {
      "text/html": [
       "<pre style=\"margin: 0.1em;\n",
       "padding-left: 0.25em;\n",
       "border-left-style: solid;\n",
       "font-family: var(--jp-code-font-family);\n",
       "font-size: var(--jp-code-font-size);\n",
       "line-height: var(--jp-code-line-height);\n",
       "\"><span style=\"color: var(--jp-warn-color2)\">lsst.visitInjectTask</span> <span style=\"color: var(--jp-info-color0)\">INFO</span>: Catalog cleaning removed 0 of 2 sources; 2 remaining for catalog checking.</pre>"
      ],
      "text/plain": [
       "<IPython.core.display.HTML object>"
      ]
     },
     "metadata": {},
     "output_type": "display_data"
    },
    {
     "data": {
      "text/html": [
       "<pre style=\"margin: 0.1em;\n",
       "padding-left: 0.25em;\n",
       "border-left-style: solid;\n",
       "font-family: var(--jp-code-font-family);\n",
       "font-size: var(--jp-code-font-size);\n",
       "line-height: var(--jp-code-line-height);\n",
       "\"><span style=\"color: var(--jp-warn-color2)\">lsst.visitInjectTask</span> <span style=\"color: var(--jp-info-color0)\">INFO</span>: Catalog checking flagged 0 of 2 sources; 2 remaining for source generation.</pre>"
      ],
      "text/plain": [
       "<IPython.core.display.HTML object>"
      ]
     },
     "metadata": {},
     "output_type": "display_data"
    },
    {
     "data": {
      "text/html": [
       "<pre style=\"margin: 0.1em;\n",
       "padding-left: 0.25em;\n",
       "border-left-style: solid;\n",
       "font-family: var(--jp-code-font-family);\n",
       "font-size: var(--jp-code-font-size);\n",
       "line-height: var(--jp-code-line-height);\n",
       "\"><span style=\"color: var(--jp-warn-color2)\">lsst.visitInjectTask</span> <span style=\"color: var(--jp-info-color0)\">INFO</span>: Adding INJECTED and INJECTED_CORE mask planes to the exposure.</pre>"
      ],
      "text/plain": [
       "<IPython.core.display.HTML object>"
      ]
     },
     "metadata": {},
     "output_type": "display_data"
    },
    {
     "data": {
      "text/html": [
       "<pre style=\"margin: 0.1em;\n",
       "padding-left: 0.25em;\n",
       "border-left-style: solid;\n",
       "font-family: var(--jp-code-font-family);\n",
       "font-size: var(--jp-code-font-size);\n",
       "line-height: var(--jp-code-line-height);\n",
       "\"><span style=\"color: var(--jp-warn-color2)\">lsst.visitInjectTask</span> <span style=\"color: var(--jp-info-color0)\">INFO</span>: Generating 2 injection sources consisting of 1 unique type: DeltaFunction(2).</pre>"
      ],
      "text/plain": [
       "<IPython.core.display.HTML object>"
      ]
     },
     "metadata": {},
     "output_type": "display_data"
    },
    {
     "data": {
      "text/html": [
       "<pre style=\"margin: 0.1em;\n",
       "padding-left: 0.25em;\n",
       "border-left-style: solid;\n",
       "font-family: var(--jp-code-font-family);\n",
       "font-size: var(--jp-code-font-size);\n",
       "line-height: var(--jp-code-line-height);\n",
       "\"><span style=\"color: var(--jp-warn-color2)\">lsst.visitInjectTask</span> <span style=\"color: var(--jp-info-color0)\">INFO</span>: Injected 2 of 2 potential sources. 0 sources flagged and skipped.</pre>"
      ],
      "text/plain": [
       "<IPython.core.display.HTML object>"
      ]
     },
     "metadata": {},
     "output_type": "display_data"
    },
    {
     "data": {
      "text/html": [
       "<pre style=\"margin: 0.1em;\n",
       "padding-left: 0.25em;\n",
       "border-left-style: solid;\n",
       "font-family: var(--jp-code-font-family);\n",
       "font-size: var(--jp-code-font-size);\n",
       "line-height: var(--jp-code-line-height);\n",
       "\"><span style=\"color: var(--jp-warn-color2)\">lsst.sourceDetection</span> <span style=\"color: var(--jp-info-color0)\">INFO</span>: Setting factor for negative detections equal to that for positive detections: 1.000000</pre>"
      ],
      "text/plain": [
       "<IPython.core.display.HTML object>"
      ]
     },
     "metadata": {},
     "output_type": "display_data"
    },
    {
     "data": {
      "text/html": [
       "<pre style=\"margin: 0.1em;\n",
       "padding-left: 0.25em;\n",
       "border-left-style: solid;\n",
       "font-family: var(--jp-code-font-family);\n",
       "font-size: var(--jp-code-font-size);\n",
       "line-height: var(--jp-code-line-height);\n",
       "\"><span style=\"color: var(--jp-warn-color2)\">lsst.sourceDetection</span> <span style=\"color: var(--jp-info-color0)\">INFO</span>: Detected 3782 positive peaks in 3147 footprints and 127 negative peaks in 127 footprints to 4 +ve and 4 -ve sigma</pre>"
      ],
      "text/plain": [
       "<IPython.core.display.HTML object>"
      ]
     },
     "metadata": {},
     "output_type": "display_data"
    },
    {
     "data": {
      "text/html": [
       "<pre style=\"margin: 0.1em;\n",
       "padding-left: 0.25em;\n",
       "border-left-style: solid;\n",
       "font-family: var(--jp-code-font-family);\n",
       "font-size: var(--jp-code-font-size);\n",
       "line-height: var(--jp-code-line-height);\n",
       "\"><span style=\"color: var(--jp-warn-color2)\">lsst.sourceDetection</span> <span style=\"color: var(--jp-info-color0)\">INFO</span>: Resubtracting the background after object detection</pre>"
      ],
      "text/plain": [
       "<IPython.core.display.HTML object>"
      ]
     },
     "metadata": {},
     "output_type": "display_data"
    },
    {
     "data": {
      "text/html": [
       "<pre style=\"margin: 0.1em;\n",
       "padding-left: 0.25em;\n",
       "border-left-style: solid;\n",
       "font-family: var(--jp-code-font-family);\n",
       "font-size: var(--jp-code-font-size);\n",
       "line-height: var(--jp-code-line-height);\n",
       "\"><span style=\"color: var(--jp-warn-color2)\">lsst.measurement</span> <span style=\"color: var(--jp-info-color0)\">INFO</span>: Measuring 3147 sources (3147 parents, 0 children) </pre>"
      ],
      "text/plain": [
       "<IPython.core.display.HTML object>"
      ]
     },
     "metadata": {},
     "output_type": "display_data"
    },
    {
     "name": "stdout",
     "output_type": "stream",
     "text": [
      "Searching in lc 3\n",
      "Searching in lc 7\n",
      "ra = 57.59451632893858, dec = -32.481152201226145\n",
      "Measured  23.76135072927374 0.20304068242208978\n",
      "Injected  17.999526457030296\n",
      "ra = 57.54661330168041, dec = -32.617052701901834\n",
      "Measured  23.76135072927374 0.20304068242208978\n",
      "Injected  18.666193123696964\n",
      " ------ CALEXP 2 ------\n",
      "Points injected: 6\n",
      "[0, 1, 2, 4, 5, 8]\n"
     ]
    },
    {
     "data": {
      "text/html": [
       "<pre style=\"margin: 0.1em;\n",
       "padding-left: 0.25em;\n",
       "border-left-style: solid;\n",
       "font-family: var(--jp-code-font-family);\n",
       "font-size: var(--jp-code-font-size);\n",
       "line-height: var(--jp-code-line-height);\n",
       "\"><span style=\"color: var(--jp-warn-color2)\">lsst.visitInjectTask</span> <span style=\"color: var(--jp-info-color0)\">INFO</span>: Retrieved 6 injection sources from 1 HTM trixel.</pre>"
      ],
      "text/plain": [
       "<IPython.core.display.HTML object>"
      ]
     },
     "metadata": {},
     "output_type": "display_data"
    },
    {
     "data": {
      "text/html": [
       "<pre style=\"margin: 0.1em;\n",
       "padding-left: 0.25em;\n",
       "border-left-style: solid;\n",
       "font-family: var(--jp-code-font-family);\n",
       "font-size: var(--jp-code-font-size);\n",
       "line-height: var(--jp-code-line-height);\n",
       "\"><span style=\"color: var(--jp-warn-color2)\">lsst.visitInjectTask</span> <span style=\"color: var(--jp-info-color0)\">INFO</span>: Catalog cleaning removed 0 of 6 sources; 6 remaining for catalog checking.</pre>"
      ],
      "text/plain": [
       "<IPython.core.display.HTML object>"
      ]
     },
     "metadata": {},
     "output_type": "display_data"
    },
    {
     "data": {
      "text/html": [
       "<pre style=\"margin: 0.1em;\n",
       "padding-left: 0.25em;\n",
       "border-left-style: solid;\n",
       "font-family: var(--jp-code-font-family);\n",
       "font-size: var(--jp-code-font-size);\n",
       "line-height: var(--jp-code-line-height);\n",
       "\"><span style=\"color: var(--jp-warn-color2)\">lsst.visitInjectTask</span> <span style=\"color: var(--jp-info-color0)\">INFO</span>: Catalog checking flagged 0 of 6 sources; 6 remaining for source generation.</pre>"
      ],
      "text/plain": [
       "<IPython.core.display.HTML object>"
      ]
     },
     "metadata": {},
     "output_type": "display_data"
    },
    {
     "data": {
      "text/html": [
       "<pre style=\"margin: 0.1em;\n",
       "padding-left: 0.25em;\n",
       "border-left-style: solid;\n",
       "font-family: var(--jp-code-font-family);\n",
       "font-size: var(--jp-code-font-size);\n",
       "line-height: var(--jp-code-line-height);\n",
       "\"><span style=\"color: var(--jp-warn-color2)\">lsst.visitInjectTask</span> <span style=\"color: var(--jp-info-color0)\">INFO</span>: Adding INJECTED and INJECTED_CORE mask planes to the exposure.</pre>"
      ],
      "text/plain": [
       "<IPython.core.display.HTML object>"
      ]
     },
     "metadata": {},
     "output_type": "display_data"
    },
    {
     "data": {
      "text/html": [
       "<pre style=\"margin: 0.1em;\n",
       "padding-left: 0.25em;\n",
       "border-left-style: solid;\n",
       "font-family: var(--jp-code-font-family);\n",
       "font-size: var(--jp-code-font-size);\n",
       "line-height: var(--jp-code-line-height);\n",
       "\"><span style=\"color: var(--jp-warn-color2)\">lsst.visitInjectTask</span> <span style=\"color: var(--jp-info-color0)\">INFO</span>: Generating 6 injection sources consisting of 1 unique type: DeltaFunction(6).</pre>"
      ],
      "text/plain": [
       "<IPython.core.display.HTML object>"
      ]
     },
     "metadata": {},
     "output_type": "display_data"
    },
    {
     "data": {
      "text/html": [
       "<pre style=\"margin: 0.1em;\n",
       "padding-left: 0.25em;\n",
       "border-left-style: solid;\n",
       "font-family: var(--jp-code-font-family);\n",
       "font-size: var(--jp-code-font-size);\n",
       "line-height: var(--jp-code-line-height);\n",
       "\"><span style=\"color: var(--jp-warn-color2)\">lsst.visitInjectTask</span> <span style=\"color: var(--jp-info-color0)\">INFO</span>: Injected 6 of 6 potential sources. 0 sources flagged and skipped.</pre>"
      ],
      "text/plain": [
       "<IPython.core.display.HTML object>"
      ]
     },
     "metadata": {},
     "output_type": "display_data"
    },
    {
     "data": {
      "text/html": [
       "<pre style=\"margin: 0.1em;\n",
       "padding-left: 0.25em;\n",
       "border-left-style: solid;\n",
       "font-family: var(--jp-code-font-family);\n",
       "font-size: var(--jp-code-font-size);\n",
       "line-height: var(--jp-code-line-height);\n",
       "\"><span style=\"color: var(--jp-warn-color2)\">lsst.sourceDetection</span> <span style=\"color: var(--jp-info-color0)\">INFO</span>: Setting factor for negative detections equal to that for positive detections: 1.000000</pre>"
      ],
      "text/plain": [
       "<IPython.core.display.HTML object>"
      ]
     },
     "metadata": {},
     "output_type": "display_data"
    },
    {
     "data": {
      "text/html": [
       "<pre style=\"margin: 0.1em;\n",
       "padding-left: 0.25em;\n",
       "border-left-style: solid;\n",
       "font-family: var(--jp-code-font-family);\n",
       "font-size: var(--jp-code-font-size);\n",
       "line-height: var(--jp-code-line-height);\n",
       "\"><span style=\"color: var(--jp-warn-color2)\">lsst.sourceDetection</span> <span style=\"color: var(--jp-info-color0)\">INFO</span>: Detected 3634 positive peaks in 3126 footprints and 154 negative peaks in 153 footprints to 4 +ve and 4 -ve sigma</pre>"
      ],
      "text/plain": [
       "<IPython.core.display.HTML object>"
      ]
     },
     "metadata": {},
     "output_type": "display_data"
    },
    {
     "data": {
      "text/html": [
       "<pre style=\"margin: 0.1em;\n",
       "padding-left: 0.25em;\n",
       "border-left-style: solid;\n",
       "font-family: var(--jp-code-font-family);\n",
       "font-size: var(--jp-code-font-size);\n",
       "line-height: var(--jp-code-line-height);\n",
       "\"><span style=\"color: var(--jp-warn-color2)\">lsst.sourceDetection</span> <span style=\"color: var(--jp-info-color0)\">INFO</span>: Resubtracting the background after object detection</pre>"
      ],
      "text/plain": [
       "<IPython.core.display.HTML object>"
      ]
     },
     "metadata": {},
     "output_type": "display_data"
    },
    {
     "data": {
      "text/html": [
       "<pre style=\"margin: 0.1em;\n",
       "padding-left: 0.25em;\n",
       "border-left-style: solid;\n",
       "font-family: var(--jp-code-font-family);\n",
       "font-size: var(--jp-code-font-size);\n",
       "line-height: var(--jp-code-line-height);\n",
       "\"><span style=\"color: var(--jp-warn-color2)\">lsst.measurement</span> <span style=\"color: var(--jp-info-color0)\">INFO</span>: Measuring 3126 sources (3126 parents, 0 children) </pre>"
      ],
      "text/plain": [
       "<IPython.core.display.HTML object>"
      ]
     },
     "metadata": {},
     "output_type": "display_data"
    },
    {
     "name": "stdout",
     "output_type": "stream",
     "text": [
      "Searching in lc 0\n",
      "Searching in lc 1\n",
      "Searching in lc 2\n",
      "Searching in lc 4\n",
      "Searching in lc 5\n",
      "Searching in lc 8\n",
      "ra = 57.59451632893858, dec = -32.481152201226145\n",
      "Measured  22.03263660474514 0.0437832176684882\n",
      "Injected  17.999526457030296\n",
      "ra = 57.54661330168041, dec = -32.617052701901834\n",
      "Measured  22.03263660474514 0.0437832176684882\n",
      "Injected  18.666193123696964\n",
      "ra = 57.4206744362783, dec = -32.56738293878671\n",
      "Measured  22.03263660474514 0.0437832176684882\n",
      "Injected  19.332859790363628\n",
      "ra = 57.54618259551755, dec = -32.298429145618904\n",
      "Measured  22.03263660474514 0.0437832176684882\n",
      "Injected  19.999526457030296\n",
      "ra = 57.40937069536117, dec = -32.48765029825218\n",
      "Measured  22.03263660474514 0.0437832176684882\n",
      "Injected  20.666193123696964\n",
      "ra = 57.53260832203183, dec = -32.47222623864323\n",
      "Measured  22.03263660474514 0.0437832176684882\n",
      "Injected  21.332859790363628\n",
      " ------ CALEXP 3 ------\n",
      "Points injected: 2\n",
      "[6, 7]\n"
     ]
    },
    {
     "data": {
      "text/html": [
       "<pre style=\"margin: 0.1em;\n",
       "padding-left: 0.25em;\n",
       "border-left-style: solid;\n",
       "font-family: var(--jp-code-font-family);\n",
       "font-size: var(--jp-code-font-size);\n",
       "line-height: var(--jp-code-line-height);\n",
       "\"><span style=\"color: var(--jp-warn-color2)\">lsst.visitInjectTask</span> <span style=\"color: var(--jp-info-color0)\">INFO</span>: Retrieved 2 injection sources from 1 HTM trixel.</pre>"
      ],
      "text/plain": [
       "<IPython.core.display.HTML object>"
      ]
     },
     "metadata": {},
     "output_type": "display_data"
    },
    {
     "data": {
      "text/html": [
       "<pre style=\"margin: 0.1em;\n",
       "padding-left: 0.25em;\n",
       "border-left-style: solid;\n",
       "font-family: var(--jp-code-font-family);\n",
       "font-size: var(--jp-code-font-size);\n",
       "line-height: var(--jp-code-line-height);\n",
       "\"><span style=\"color: var(--jp-warn-color2)\">lsst.visitInjectTask</span> <span style=\"color: var(--jp-info-color0)\">INFO</span>: Catalog cleaning removed 0 of 2 sources; 2 remaining for catalog checking.</pre>"
      ],
      "text/plain": [
       "<IPython.core.display.HTML object>"
      ]
     },
     "metadata": {},
     "output_type": "display_data"
    },
    {
     "data": {
      "text/html": [
       "<pre style=\"margin: 0.1em;\n",
       "padding-left: 0.25em;\n",
       "border-left-style: solid;\n",
       "font-family: var(--jp-code-font-family);\n",
       "font-size: var(--jp-code-font-size);\n",
       "line-height: var(--jp-code-line-height);\n",
       "\"><span style=\"color: var(--jp-warn-color2)\">lsst.visitInjectTask</span> <span style=\"color: var(--jp-info-color0)\">INFO</span>: Catalog checking flagged 0 of 2 sources; 2 remaining for source generation.</pre>"
      ],
      "text/plain": [
       "<IPython.core.display.HTML object>"
      ]
     },
     "metadata": {},
     "output_type": "display_data"
    },
    {
     "data": {
      "text/html": [
       "<pre style=\"margin: 0.1em;\n",
       "padding-left: 0.25em;\n",
       "border-left-style: solid;\n",
       "font-family: var(--jp-code-font-family);\n",
       "font-size: var(--jp-code-font-size);\n",
       "line-height: var(--jp-code-line-height);\n",
       "\"><span style=\"color: var(--jp-warn-color2)\">lsst.visitInjectTask</span> <span style=\"color: var(--jp-info-color0)\">INFO</span>: Adding INJECTED and INJECTED_CORE mask planes to the exposure.</pre>"
      ],
      "text/plain": [
       "<IPython.core.display.HTML object>"
      ]
     },
     "metadata": {},
     "output_type": "display_data"
    },
    {
     "data": {
      "text/html": [
       "<pre style=\"margin: 0.1em;\n",
       "padding-left: 0.25em;\n",
       "border-left-style: solid;\n",
       "font-family: var(--jp-code-font-family);\n",
       "font-size: var(--jp-code-font-size);\n",
       "line-height: var(--jp-code-line-height);\n",
       "\"><span style=\"color: var(--jp-warn-color2)\">lsst.visitInjectTask</span> <span style=\"color: var(--jp-info-color0)\">INFO</span>: Generating 2 injection sources consisting of 1 unique type: DeltaFunction(2).</pre>"
      ],
      "text/plain": [
       "<IPython.core.display.HTML object>"
      ]
     },
     "metadata": {},
     "output_type": "display_data"
    },
    {
     "data": {
      "text/html": [
       "<pre style=\"margin: 0.1em;\n",
       "padding-left: 0.25em;\n",
       "border-left-style: solid;\n",
       "font-family: var(--jp-code-font-family);\n",
       "font-size: var(--jp-code-font-size);\n",
       "line-height: var(--jp-code-line-height);\n",
       "\"><span style=\"color: var(--jp-warn-color2)\">lsst.visitInjectTask</span> <span style=\"color: var(--jp-info-color0)\">INFO</span>: Injected 2 of 2 potential sources. 0 sources flagged and skipped.</pre>"
      ],
      "text/plain": [
       "<IPython.core.display.HTML object>"
      ]
     },
     "metadata": {},
     "output_type": "display_data"
    },
    {
     "data": {
      "text/html": [
       "<pre style=\"margin: 0.1em;\n",
       "padding-left: 0.25em;\n",
       "border-left-style: solid;\n",
       "font-family: var(--jp-code-font-family);\n",
       "font-size: var(--jp-code-font-size);\n",
       "line-height: var(--jp-code-line-height);\n",
       "\"><span style=\"color: var(--jp-warn-color2)\">lsst.sourceDetection</span> <span style=\"color: var(--jp-info-color0)\">INFO</span>: Setting factor for negative detections equal to that for positive detections: 1.000000</pre>"
      ],
      "text/plain": [
       "<IPython.core.display.HTML object>"
      ]
     },
     "metadata": {},
     "output_type": "display_data"
    },
    {
     "data": {
      "text/html": [
       "<pre style=\"margin: 0.1em;\n",
       "padding-left: 0.25em;\n",
       "border-left-style: solid;\n",
       "font-family: var(--jp-code-font-family);\n",
       "font-size: var(--jp-code-font-size);\n",
       "line-height: var(--jp-code-line-height);\n",
       "\"><span style=\"color: var(--jp-warn-color2)\">lsst.sourceDetection</span> <span style=\"color: var(--jp-info-color0)\">INFO</span>: Detected 3559 positive peaks in 2867 footprints and 147 negative peaks in 147 footprints to 4 +ve and 4 -ve sigma</pre>"
      ],
      "text/plain": [
       "<IPython.core.display.HTML object>"
      ]
     },
     "metadata": {},
     "output_type": "display_data"
    },
    {
     "data": {
      "text/html": [
       "<pre style=\"margin: 0.1em;\n",
       "padding-left: 0.25em;\n",
       "border-left-style: solid;\n",
       "font-family: var(--jp-code-font-family);\n",
       "font-size: var(--jp-code-font-size);\n",
       "line-height: var(--jp-code-line-height);\n",
       "\"><span style=\"color: var(--jp-warn-color2)\">lsst.sourceDetection</span> <span style=\"color: var(--jp-info-color0)\">INFO</span>: Resubtracting the background after object detection</pre>"
      ],
      "text/plain": [
       "<IPython.core.display.HTML object>"
      ]
     },
     "metadata": {},
     "output_type": "display_data"
    },
    {
     "data": {
      "text/html": [
       "<pre style=\"margin: 0.1em;\n",
       "padding-left: 0.25em;\n",
       "border-left-style: solid;\n",
       "font-family: var(--jp-code-font-family);\n",
       "font-size: var(--jp-code-font-size);\n",
       "line-height: var(--jp-code-line-height);\n",
       "\"><span style=\"color: var(--jp-warn-color2)\">lsst.measurement</span> <span style=\"color: var(--jp-info-color0)\">INFO</span>: Measuring 2867 sources (2867 parents, 0 children) </pre>"
      ],
      "text/plain": [
       "<IPython.core.display.HTML object>"
      ]
     },
     "metadata": {},
     "output_type": "display_data"
    },
    {
     "name": "stdout",
     "output_type": "stream",
     "text": [
      "Searching in lc 6\n",
      "Searching in lc 7\n",
      "ra = 57.59451632893858, dec = -32.481152201226145\n",
      "Measured  23.63023111908474 0.18140402753414112\n",
      "Injected  17.999526450553148\n",
      "ra = 57.54661330168041, dec = -32.617052701901834\n",
      "Measured  23.63023111908474 0.18140402753414112\n",
      "Injected  18.666193117219816\n",
      " ------ CALEXP 4 ------\n",
      "Points injected: 4\n",
      "[0, 1, 2, 8]\n"
     ]
    },
    {
     "data": {
      "text/html": [
       "<pre style=\"margin: 0.1em;\n",
       "padding-left: 0.25em;\n",
       "border-left-style: solid;\n",
       "font-family: var(--jp-code-font-family);\n",
       "font-size: var(--jp-code-font-size);\n",
       "line-height: var(--jp-code-line-height);\n",
       "\"><span style=\"color: var(--jp-warn-color2)\">lsst.visitInjectTask</span> <span style=\"color: var(--jp-info-color0)\">INFO</span>: Retrieved 4 injection sources from 1 HTM trixel.</pre>"
      ],
      "text/plain": [
       "<IPython.core.display.HTML object>"
      ]
     },
     "metadata": {},
     "output_type": "display_data"
    },
    {
     "data": {
      "text/html": [
       "<pre style=\"margin: 0.1em;\n",
       "padding-left: 0.25em;\n",
       "border-left-style: solid;\n",
       "font-family: var(--jp-code-font-family);\n",
       "font-size: var(--jp-code-font-size);\n",
       "line-height: var(--jp-code-line-height);\n",
       "\"><span style=\"color: var(--jp-warn-color2)\">lsst.visitInjectTask</span> <span style=\"color: var(--jp-info-color0)\">INFO</span>: Catalog cleaning removed 0 of 4 sources; 4 remaining for catalog checking.</pre>"
      ],
      "text/plain": [
       "<IPython.core.display.HTML object>"
      ]
     },
     "metadata": {},
     "output_type": "display_data"
    },
    {
     "data": {
      "text/html": [
       "<pre style=\"margin: 0.1em;\n",
       "padding-left: 0.25em;\n",
       "border-left-style: solid;\n",
       "font-family: var(--jp-code-font-family);\n",
       "font-size: var(--jp-code-font-size);\n",
       "line-height: var(--jp-code-line-height);\n",
       "\"><span style=\"color: var(--jp-warn-color2)\">lsst.visitInjectTask</span> <span style=\"color: var(--jp-info-color0)\">INFO</span>: Catalog checking flagged 0 of 4 sources; 4 remaining for source generation.</pre>"
      ],
      "text/plain": [
       "<IPython.core.display.HTML object>"
      ]
     },
     "metadata": {},
     "output_type": "display_data"
    },
    {
     "data": {
      "text/html": [
       "<pre style=\"margin: 0.1em;\n",
       "padding-left: 0.25em;\n",
       "border-left-style: solid;\n",
       "font-family: var(--jp-code-font-family);\n",
       "font-size: var(--jp-code-font-size);\n",
       "line-height: var(--jp-code-line-height);\n",
       "\"><span style=\"color: var(--jp-warn-color2)\">lsst.visitInjectTask</span> <span style=\"color: var(--jp-info-color0)\">INFO</span>: Adding INJECTED and INJECTED_CORE mask planes to the exposure.</pre>"
      ],
      "text/plain": [
       "<IPython.core.display.HTML object>"
      ]
     },
     "metadata": {},
     "output_type": "display_data"
    },
    {
     "data": {
      "text/html": [
       "<pre style=\"margin: 0.1em;\n",
       "padding-left: 0.25em;\n",
       "border-left-style: solid;\n",
       "font-family: var(--jp-code-font-family);\n",
       "font-size: var(--jp-code-font-size);\n",
       "line-height: var(--jp-code-line-height);\n",
       "\"><span style=\"color: var(--jp-warn-color2)\">lsst.visitInjectTask</span> <span style=\"color: var(--jp-info-color0)\">INFO</span>: Generating 4 injection sources consisting of 1 unique type: DeltaFunction(4).</pre>"
      ],
      "text/plain": [
       "<IPython.core.display.HTML object>"
      ]
     },
     "metadata": {},
     "output_type": "display_data"
    },
    {
     "data": {
      "text/html": [
       "<pre style=\"margin: 0.1em;\n",
       "padding-left: 0.25em;\n",
       "border-left-style: solid;\n",
       "font-family: var(--jp-code-font-family);\n",
       "font-size: var(--jp-code-font-size);\n",
       "line-height: var(--jp-code-line-height);\n",
       "\"><span style=\"color: var(--jp-warn-color2)\">lsst.visitInjectTask</span> <span style=\"color: var(--jp-info-color0)\">INFO</span>: Injected 4 of 4 potential sources. 0 sources flagged and skipped.</pre>"
      ],
      "text/plain": [
       "<IPython.core.display.HTML object>"
      ]
     },
     "metadata": {},
     "output_type": "display_data"
    },
    {
     "data": {
      "text/html": [
       "<pre style=\"margin: 0.1em;\n",
       "padding-left: 0.25em;\n",
       "border-left-style: solid;\n",
       "font-family: var(--jp-code-font-family);\n",
       "font-size: var(--jp-code-font-size);\n",
       "line-height: var(--jp-code-line-height);\n",
       "\"><span style=\"color: var(--jp-warn-color2)\">lsst.sourceDetection</span> <span style=\"color: var(--jp-info-color0)\">INFO</span>: Setting factor for negative detections equal to that for positive detections: 1.000000</pre>"
      ],
      "text/plain": [
       "<IPython.core.display.HTML object>"
      ]
     },
     "metadata": {},
     "output_type": "display_data"
    },
    {
     "data": {
      "text/html": [
       "<pre style=\"margin: 0.1em;\n",
       "padding-left: 0.25em;\n",
       "border-left-style: solid;\n",
       "font-family: var(--jp-code-font-family);\n",
       "font-size: var(--jp-code-font-size);\n",
       "line-height: var(--jp-code-line-height);\n",
       "\"><span style=\"color: var(--jp-warn-color2)\">lsst.sourceDetection</span> <span style=\"color: var(--jp-info-color0)\">INFO</span>: Detected 3847 positive peaks in 3274 footprints and 131 negative peaks in 131 footprints to 4 +ve and 4 -ve sigma</pre>"
      ],
      "text/plain": [
       "<IPython.core.display.HTML object>"
      ]
     },
     "metadata": {},
     "output_type": "display_data"
    },
    {
     "data": {
      "text/html": [
       "<pre style=\"margin: 0.1em;\n",
       "padding-left: 0.25em;\n",
       "border-left-style: solid;\n",
       "font-family: var(--jp-code-font-family);\n",
       "font-size: var(--jp-code-font-size);\n",
       "line-height: var(--jp-code-line-height);\n",
       "\"><span style=\"color: var(--jp-warn-color2)\">lsst.sourceDetection</span> <span style=\"color: var(--jp-info-color0)\">INFO</span>: Resubtracting the background after object detection</pre>"
      ],
      "text/plain": [
       "<IPython.core.display.HTML object>"
      ]
     },
     "metadata": {},
     "output_type": "display_data"
    },
    {
     "data": {
      "text/html": [
       "<pre style=\"margin: 0.1em;\n",
       "padding-left: 0.25em;\n",
       "border-left-style: solid;\n",
       "font-family: var(--jp-code-font-family);\n",
       "font-size: var(--jp-code-font-size);\n",
       "line-height: var(--jp-code-line-height);\n",
       "\"><span style=\"color: var(--jp-warn-color2)\">lsst.measurement</span> <span style=\"color: var(--jp-info-color0)\">INFO</span>: Measuring 3274 sources (3274 parents, 0 children) </pre>"
      ],
      "text/plain": [
       "<IPython.core.display.HTML object>"
      ]
     },
     "metadata": {},
     "output_type": "display_data"
    },
    {
     "name": "stdout",
     "output_type": "stream",
     "text": [
      "Searching in lc 0\n",
      "Searching in lc 1\n",
      "Searching in lc 2\n",
      "Searching in lc 8\n",
      "ra = 57.59451632893858, dec = -32.481152201226145\n",
      "Measured  23.662217228445343 0.16068214929133834\n",
      "Injected  17.999520247493123\n",
      "ra = 57.54661330168041, dec = -32.617052701901834\n",
      "Measured  23.662217228445343 0.16068214929133834\n",
      "Injected  18.66618691415979\n",
      "ra = 57.4206744362783, dec = -32.56738293878671\n",
      "Measured  23.662217228445343 0.16068214929133834\n",
      "Injected  19.332853580826455\n",
      "ra = 57.54618259551755, dec = -32.298429145618904\n",
      "Measured  23.662217228445343 0.16068214929133834\n",
      "Injected  19.999520247493123\n",
      " ------ CALEXP 5 ------\n",
      "Points injected: 2\n",
      "[4, 5]\n"
     ]
    },
    {
     "data": {
      "text/html": [
       "<pre style=\"margin: 0.1em;\n",
       "padding-left: 0.25em;\n",
       "border-left-style: solid;\n",
       "font-family: var(--jp-code-font-family);\n",
       "font-size: var(--jp-code-font-size);\n",
       "line-height: var(--jp-code-line-height);\n",
       "\"><span style=\"color: var(--jp-warn-color2)\">lsst.visitInjectTask</span> <span style=\"color: var(--jp-info-color0)\">INFO</span>: Retrieved 2 injection sources from 1 HTM trixel.</pre>"
      ],
      "text/plain": [
       "<IPython.core.display.HTML object>"
      ]
     },
     "metadata": {},
     "output_type": "display_data"
    },
    {
     "data": {
      "text/html": [
       "<pre style=\"margin: 0.1em;\n",
       "padding-left: 0.25em;\n",
       "border-left-style: solid;\n",
       "font-family: var(--jp-code-font-family);\n",
       "font-size: var(--jp-code-font-size);\n",
       "line-height: var(--jp-code-line-height);\n",
       "\"><span style=\"color: var(--jp-warn-color2)\">lsst.visitInjectTask</span> <span style=\"color: var(--jp-info-color0)\">INFO</span>: Catalog cleaning removed 0 of 2 sources; 2 remaining for catalog checking.</pre>"
      ],
      "text/plain": [
       "<IPython.core.display.HTML object>"
      ]
     },
     "metadata": {},
     "output_type": "display_data"
    },
    {
     "data": {
      "text/html": [
       "<pre style=\"margin: 0.1em;\n",
       "padding-left: 0.25em;\n",
       "border-left-style: solid;\n",
       "font-family: var(--jp-code-font-family);\n",
       "font-size: var(--jp-code-font-size);\n",
       "line-height: var(--jp-code-line-height);\n",
       "\"><span style=\"color: var(--jp-warn-color2)\">lsst.visitInjectTask</span> <span style=\"color: var(--jp-info-color0)\">INFO</span>: Catalog checking flagged 0 of 2 sources; 2 remaining for source generation.</pre>"
      ],
      "text/plain": [
       "<IPython.core.display.HTML object>"
      ]
     },
     "metadata": {},
     "output_type": "display_data"
    },
    {
     "data": {
      "text/html": [
       "<pre style=\"margin: 0.1em;\n",
       "padding-left: 0.25em;\n",
       "border-left-style: solid;\n",
       "font-family: var(--jp-code-font-family);\n",
       "font-size: var(--jp-code-font-size);\n",
       "line-height: var(--jp-code-line-height);\n",
       "\"><span style=\"color: var(--jp-warn-color2)\">lsst.visitInjectTask</span> <span style=\"color: var(--jp-info-color0)\">INFO</span>: Adding INJECTED and INJECTED_CORE mask planes to the exposure.</pre>"
      ],
      "text/plain": [
       "<IPython.core.display.HTML object>"
      ]
     },
     "metadata": {},
     "output_type": "display_data"
    },
    {
     "data": {
      "text/html": [
       "<pre style=\"margin: 0.1em;\n",
       "padding-left: 0.25em;\n",
       "border-left-style: solid;\n",
       "font-family: var(--jp-code-font-family);\n",
       "font-size: var(--jp-code-font-size);\n",
       "line-height: var(--jp-code-line-height);\n",
       "\"><span style=\"color: var(--jp-warn-color2)\">lsst.visitInjectTask</span> <span style=\"color: var(--jp-info-color0)\">INFO</span>: Generating 2 injection sources consisting of 1 unique type: DeltaFunction(2).</pre>"
      ],
      "text/plain": [
       "<IPython.core.display.HTML object>"
      ]
     },
     "metadata": {},
     "output_type": "display_data"
    },
    {
     "data": {
      "text/html": [
       "<pre style=\"margin: 0.1em;\n",
       "padding-left: 0.25em;\n",
       "border-left-style: solid;\n",
       "font-family: var(--jp-code-font-family);\n",
       "font-size: var(--jp-code-font-size);\n",
       "line-height: var(--jp-code-line-height);\n",
       "\"><span style=\"color: var(--jp-warn-color2)\">lsst.visitInjectTask</span> <span style=\"color: var(--jp-info-color0)\">INFO</span>: Injected 2 of 2 potential sources. 0 sources flagged and skipped.</pre>"
      ],
      "text/plain": [
       "<IPython.core.display.HTML object>"
      ]
     },
     "metadata": {},
     "output_type": "display_data"
    },
    {
     "data": {
      "text/html": [
       "<pre style=\"margin: 0.1em;\n",
       "padding-left: 0.25em;\n",
       "border-left-style: solid;\n",
       "font-family: var(--jp-code-font-family);\n",
       "font-size: var(--jp-code-font-size);\n",
       "line-height: var(--jp-code-line-height);\n",
       "\"><span style=\"color: var(--jp-warn-color2)\">lsst.sourceDetection</span> <span style=\"color: var(--jp-info-color0)\">INFO</span>: Setting factor for negative detections equal to that for positive detections: 1.000000</pre>"
      ],
      "text/plain": [
       "<IPython.core.display.HTML object>"
      ]
     },
     "metadata": {},
     "output_type": "display_data"
    },
    {
     "data": {
      "text/html": [
       "<pre style=\"margin: 0.1em;\n",
       "padding-left: 0.25em;\n",
       "border-left-style: solid;\n",
       "font-family: var(--jp-code-font-family);\n",
       "font-size: var(--jp-code-font-size);\n",
       "line-height: var(--jp-code-line-height);\n",
       "\"><span style=\"color: var(--jp-warn-color2)\">lsst.sourceDetection</span> <span style=\"color: var(--jp-info-color0)\">INFO</span>: Detected 4353 positive peaks in 3675 footprints and 109 negative peaks in 109 footprints to 4 +ve and 4 -ve sigma</pre>"
      ],
      "text/plain": [
       "<IPython.core.display.HTML object>"
      ]
     },
     "metadata": {},
     "output_type": "display_data"
    },
    {
     "data": {
      "text/html": [
       "<pre style=\"margin: 0.1em;\n",
       "padding-left: 0.25em;\n",
       "border-left-style: solid;\n",
       "font-family: var(--jp-code-font-family);\n",
       "font-size: var(--jp-code-font-size);\n",
       "line-height: var(--jp-code-line-height);\n",
       "\"><span style=\"color: var(--jp-warn-color2)\">lsst.sourceDetection</span> <span style=\"color: var(--jp-info-color0)\">INFO</span>: Resubtracting the background after object detection</pre>"
      ],
      "text/plain": [
       "<IPython.core.display.HTML object>"
      ]
     },
     "metadata": {},
     "output_type": "display_data"
    },
    {
     "data": {
      "text/html": [
       "<pre style=\"margin: 0.1em;\n",
       "padding-left: 0.25em;\n",
       "border-left-style: solid;\n",
       "font-family: var(--jp-code-font-family);\n",
       "font-size: var(--jp-code-font-size);\n",
       "line-height: var(--jp-code-line-height);\n",
       "\"><span style=\"color: var(--jp-warn-color2)\">lsst.measurement</span> <span style=\"color: var(--jp-info-color0)\">INFO</span>: Measuring 3675 sources (3675 parents, 0 children) </pre>"
      ],
      "text/plain": [
       "<IPython.core.display.HTML object>"
      ]
     },
     "metadata": {},
     "output_type": "display_data"
    },
    {
     "name": "stdout",
     "output_type": "stream",
     "text": [
      "Searching in lc 4\n",
      "Searching in lc 5\n",
      "ra = 57.59451632893858, dec = -32.481152201226145\n",
      "Measured  24.19560931304361 0.2624167806408915\n",
      "Injected  17.999520247493123\n",
      "ra = 57.54661330168041, dec = -32.617052701901834\n",
      "Measured  24.19560931304361 0.2624167806408915\n",
      "Injected  18.66618691415979\n",
      " ------ CALEXP 6 ------\n",
      "Points injected: 5\n",
      "[0, 1, 2, 4, 5]\n"
     ]
    },
    {
     "data": {
      "text/html": [
       "<pre style=\"margin: 0.1em;\n",
       "padding-left: 0.25em;\n",
       "border-left-style: solid;\n",
       "font-family: var(--jp-code-font-family);\n",
       "font-size: var(--jp-code-font-size);\n",
       "line-height: var(--jp-code-line-height);\n",
       "\"><span style=\"color: var(--jp-warn-color2)\">lsst.visitInjectTask</span> <span style=\"color: var(--jp-info-color0)\">INFO</span>: Retrieved 5 injection sources from 1 HTM trixel.</pre>"
      ],
      "text/plain": [
       "<IPython.core.display.HTML object>"
      ]
     },
     "metadata": {},
     "output_type": "display_data"
    },
    {
     "data": {
      "text/html": [
       "<pre style=\"margin: 0.1em;\n",
       "padding-left: 0.25em;\n",
       "border-left-style: solid;\n",
       "font-family: var(--jp-code-font-family);\n",
       "font-size: var(--jp-code-font-size);\n",
       "line-height: var(--jp-code-line-height);\n",
       "\"><span style=\"color: var(--jp-warn-color2)\">lsst.visitInjectTask</span> <span style=\"color: var(--jp-info-color0)\">INFO</span>: Catalog cleaning removed 0 of 5 sources; 5 remaining for catalog checking.</pre>"
      ],
      "text/plain": [
       "<IPython.core.display.HTML object>"
      ]
     },
     "metadata": {},
     "output_type": "display_data"
    },
    {
     "data": {
      "text/html": [
       "<pre style=\"margin: 0.1em;\n",
       "padding-left: 0.25em;\n",
       "border-left-style: solid;\n",
       "font-family: var(--jp-code-font-family);\n",
       "font-size: var(--jp-code-font-size);\n",
       "line-height: var(--jp-code-line-height);\n",
       "\"><span style=\"color: var(--jp-warn-color2)\">lsst.visitInjectTask</span> <span style=\"color: var(--jp-info-color0)\">INFO</span>: Catalog checking flagged 0 of 5 sources; 5 remaining for source generation.</pre>"
      ],
      "text/plain": [
       "<IPython.core.display.HTML object>"
      ]
     },
     "metadata": {},
     "output_type": "display_data"
    },
    {
     "data": {
      "text/html": [
       "<pre style=\"margin: 0.1em;\n",
       "padding-left: 0.25em;\n",
       "border-left-style: solid;\n",
       "font-family: var(--jp-code-font-family);\n",
       "font-size: var(--jp-code-font-size);\n",
       "line-height: var(--jp-code-line-height);\n",
       "\"><span style=\"color: var(--jp-warn-color2)\">lsst.visitInjectTask</span> <span style=\"color: var(--jp-info-color0)\">INFO</span>: Adding INJECTED and INJECTED_CORE mask planes to the exposure.</pre>"
      ],
      "text/plain": [
       "<IPython.core.display.HTML object>"
      ]
     },
     "metadata": {},
     "output_type": "display_data"
    },
    {
     "data": {
      "text/html": [
       "<pre style=\"margin: 0.1em;\n",
       "padding-left: 0.25em;\n",
       "border-left-style: solid;\n",
       "font-family: var(--jp-code-font-family);\n",
       "font-size: var(--jp-code-font-size);\n",
       "line-height: var(--jp-code-line-height);\n",
       "\"><span style=\"color: var(--jp-warn-color2)\">lsst.visitInjectTask</span> <span style=\"color: var(--jp-info-color0)\">INFO</span>: Generating 5 injection sources consisting of 1 unique type: DeltaFunction(5).</pre>"
      ],
      "text/plain": [
       "<IPython.core.display.HTML object>"
      ]
     },
     "metadata": {},
     "output_type": "display_data"
    },
    {
     "data": {
      "text/html": [
       "<pre style=\"margin: 0.1em;\n",
       "padding-left: 0.25em;\n",
       "border-left-style: solid;\n",
       "font-family: var(--jp-code-font-family);\n",
       "font-size: var(--jp-code-font-size);\n",
       "line-height: var(--jp-code-line-height);\n",
       "\"><span style=\"color: var(--jp-warn-color2)\">lsst.visitInjectTask</span> <span style=\"color: var(--jp-info-color0)\">INFO</span>: Injected 5 of 5 potential sources. 0 sources flagged and skipped.</pre>"
      ],
      "text/plain": [
       "<IPython.core.display.HTML object>"
      ]
     },
     "metadata": {},
     "output_type": "display_data"
    },
    {
     "data": {
      "text/html": [
       "<pre style=\"margin: 0.1em;\n",
       "padding-left: 0.25em;\n",
       "border-left-style: solid;\n",
       "font-family: var(--jp-code-font-family);\n",
       "font-size: var(--jp-code-font-size);\n",
       "line-height: var(--jp-code-line-height);\n",
       "\"><span style=\"color: var(--jp-warn-color2)\">lsst.sourceDetection</span> <span style=\"color: var(--jp-info-color0)\">INFO</span>: Setting factor for negative detections equal to that for positive detections: 1.000000</pre>"
      ],
      "text/plain": [
       "<IPython.core.display.HTML object>"
      ]
     },
     "metadata": {},
     "output_type": "display_data"
    },
    {
     "data": {
      "text/html": [
       "<pre style=\"margin: 0.1em;\n",
       "padding-left: 0.25em;\n",
       "border-left-style: solid;\n",
       "font-family: var(--jp-code-font-family);\n",
       "font-size: var(--jp-code-font-size);\n",
       "line-height: var(--jp-code-line-height);\n",
       "\"><span style=\"color: var(--jp-warn-color2)\">lsst.sourceDetection</span> <span style=\"color: var(--jp-info-color0)\">INFO</span>: Detected 4250 positive peaks in 3619 footprints and 133 negative peaks in 131 footprints to 4 +ve and 4 -ve sigma</pre>"
      ],
      "text/plain": [
       "<IPython.core.display.HTML object>"
      ]
     },
     "metadata": {},
     "output_type": "display_data"
    },
    {
     "data": {
      "text/html": [
       "<pre style=\"margin: 0.1em;\n",
       "padding-left: 0.25em;\n",
       "border-left-style: solid;\n",
       "font-family: var(--jp-code-font-family);\n",
       "font-size: var(--jp-code-font-size);\n",
       "line-height: var(--jp-code-line-height);\n",
       "\"><span style=\"color: var(--jp-warn-color2)\">lsst.sourceDetection</span> <span style=\"color: var(--jp-info-color0)\">INFO</span>: Resubtracting the background after object detection</pre>"
      ],
      "text/plain": [
       "<IPython.core.display.HTML object>"
      ]
     },
     "metadata": {},
     "output_type": "display_data"
    },
    {
     "data": {
      "text/html": [
       "<pre style=\"margin: 0.1em;\n",
       "padding-left: 0.25em;\n",
       "border-left-style: solid;\n",
       "font-family: var(--jp-code-font-family);\n",
       "font-size: var(--jp-code-font-size);\n",
       "line-height: var(--jp-code-line-height);\n",
       "\"><span style=\"color: var(--jp-warn-color2)\">lsst.measurement</span> <span style=\"color: var(--jp-info-color0)\">INFO</span>: Measuring 3619 sources (3619 parents, 0 children) </pre>"
      ],
      "text/plain": [
       "<IPython.core.display.HTML object>"
      ]
     },
     "metadata": {},
     "output_type": "display_data"
    },
    {
     "name": "stdout",
     "output_type": "stream",
     "text": [
      "Searching in lc 0\n",
      "Searching in lc 1\n",
      "Searching in lc 2\n",
      "Searching in lc 4\n",
      "Searching in lc 5\n",
      "ra = 57.59451632893858, dec = -32.481152201226145\n",
      "Measured  23.520991998976054 0.13692441570417882\n",
      "Injected  17.999520246553935\n",
      "ra = 57.54661330168041, dec = -32.617052701901834\n",
      "Measured  23.520991998976054 0.13692441570417882\n",
      "Injected  18.666186913220603\n",
      "ra = 57.4206744362783, dec = -32.56738293878671\n",
      "Measured  23.520991998976054 0.13692441570417882\n",
      "Injected  19.332853579887267\n",
      "ra = 57.54618259551755, dec = -32.298429145618904\n",
      "Measured  23.520991998976054 0.13692441570417882\n",
      "Injected  19.999520246553935\n",
      "ra = 57.40937069536117, dec = -32.48765029825218\n",
      "Measured  23.520991998976054 0.13692441570417882\n",
      "Injected  20.666186913220603\n",
      " ------ CALEXP 7 ------\n",
      "Points injected: 5\n",
      "[0, 3, 5, 7, 9]\n"
     ]
    },
    {
     "data": {
      "text/html": [
       "<pre style=\"margin: 0.1em;\n",
       "padding-left: 0.25em;\n",
       "border-left-style: solid;\n",
       "font-family: var(--jp-code-font-family);\n",
       "font-size: var(--jp-code-font-size);\n",
       "line-height: var(--jp-code-line-height);\n",
       "\"><span style=\"color: var(--jp-warn-color2)\">lsst.visitInjectTask</span> <span style=\"color: var(--jp-info-color0)\">INFO</span>: Retrieved 5 injection sources from 1 HTM trixel.</pre>"
      ],
      "text/plain": [
       "<IPython.core.display.HTML object>"
      ]
     },
     "metadata": {},
     "output_type": "display_data"
    },
    {
     "data": {
      "text/html": [
       "<pre style=\"margin: 0.1em;\n",
       "padding-left: 0.25em;\n",
       "border-left-style: solid;\n",
       "font-family: var(--jp-code-font-family);\n",
       "font-size: var(--jp-code-font-size);\n",
       "line-height: var(--jp-code-line-height);\n",
       "\"><span style=\"color: var(--jp-warn-color2)\">lsst.visitInjectTask</span> <span style=\"color: var(--jp-info-color0)\">INFO</span>: Catalog cleaning removed 0 of 5 sources; 5 remaining for catalog checking.</pre>"
      ],
      "text/plain": [
       "<IPython.core.display.HTML object>"
      ]
     },
     "metadata": {},
     "output_type": "display_data"
    },
    {
     "data": {
      "text/html": [
       "<pre style=\"margin: 0.1em;\n",
       "padding-left: 0.25em;\n",
       "border-left-style: solid;\n",
       "font-family: var(--jp-code-font-family);\n",
       "font-size: var(--jp-code-font-size);\n",
       "line-height: var(--jp-code-line-height);\n",
       "\"><span style=\"color: var(--jp-warn-color2)\">lsst.visitInjectTask</span> <span style=\"color: var(--jp-info-color0)\">INFO</span>: Catalog checking flagged 0 of 5 sources; 5 remaining for source generation.</pre>"
      ],
      "text/plain": [
       "<IPython.core.display.HTML object>"
      ]
     },
     "metadata": {},
     "output_type": "display_data"
    },
    {
     "data": {
      "text/html": [
       "<pre style=\"margin: 0.1em;\n",
       "padding-left: 0.25em;\n",
       "border-left-style: solid;\n",
       "font-family: var(--jp-code-font-family);\n",
       "font-size: var(--jp-code-font-size);\n",
       "line-height: var(--jp-code-line-height);\n",
       "\"><span style=\"color: var(--jp-warn-color2)\">lsst.visitInjectTask</span> <span style=\"color: var(--jp-info-color0)\">INFO</span>: Adding INJECTED and INJECTED_CORE mask planes to the exposure.</pre>"
      ],
      "text/plain": [
       "<IPython.core.display.HTML object>"
      ]
     },
     "metadata": {},
     "output_type": "display_data"
    },
    {
     "data": {
      "text/html": [
       "<pre style=\"margin: 0.1em;\n",
       "padding-left: 0.25em;\n",
       "border-left-style: solid;\n",
       "font-family: var(--jp-code-font-family);\n",
       "font-size: var(--jp-code-font-size);\n",
       "line-height: var(--jp-code-line-height);\n",
       "\"><span style=\"color: var(--jp-warn-color2)\">lsst.visitInjectTask</span> <span style=\"color: var(--jp-info-color0)\">INFO</span>: Generating 5 injection sources consisting of 1 unique type: DeltaFunction(5).</pre>"
      ],
      "text/plain": [
       "<IPython.core.display.HTML object>"
      ]
     },
     "metadata": {},
     "output_type": "display_data"
    },
    {
     "data": {
      "text/html": [
       "<pre style=\"margin: 0.1em;\n",
       "padding-left: 0.25em;\n",
       "border-left-style: solid;\n",
       "font-family: var(--jp-code-font-family);\n",
       "font-size: var(--jp-code-font-size);\n",
       "line-height: var(--jp-code-line-height);\n",
       "\"><span style=\"color: var(--jp-warn-color2)\">lsst.visitInjectTask</span> <span style=\"color: var(--jp-info-color0)\">INFO</span>: Injected 5 of 5 potential sources. 0 sources flagged and skipped.</pre>"
      ],
      "text/plain": [
       "<IPython.core.display.HTML object>"
      ]
     },
     "metadata": {},
     "output_type": "display_data"
    },
    {
     "data": {
      "text/html": [
       "<pre style=\"margin: 0.1em;\n",
       "padding-left: 0.25em;\n",
       "border-left-style: solid;\n",
       "font-family: var(--jp-code-font-family);\n",
       "font-size: var(--jp-code-font-size);\n",
       "line-height: var(--jp-code-line-height);\n",
       "\"><span style=\"color: var(--jp-warn-color2)\">lsst.sourceDetection</span> <span style=\"color: var(--jp-info-color0)\">INFO</span>: Setting factor for negative detections equal to that for positive detections: 1.000000</pre>"
      ],
      "text/plain": [
       "<IPython.core.display.HTML object>"
      ]
     },
     "metadata": {},
     "output_type": "display_data"
    },
    {
     "data": {
      "text/html": [
       "<pre style=\"margin: 0.1em;\n",
       "padding-left: 0.25em;\n",
       "border-left-style: solid;\n",
       "font-family: var(--jp-code-font-family);\n",
       "font-size: var(--jp-code-font-size);\n",
       "line-height: var(--jp-code-line-height);\n",
       "\"><span style=\"color: var(--jp-warn-color2)\">lsst.sourceDetection</span> <span style=\"color: var(--jp-info-color0)\">INFO</span>: Detected 3944 positive peaks in 3341 footprints and 118 negative peaks in 118 footprints to 4 +ve and 4 -ve sigma</pre>"
      ],
      "text/plain": [
       "<IPython.core.display.HTML object>"
      ]
     },
     "metadata": {},
     "output_type": "display_data"
    },
    {
     "data": {
      "text/html": [
       "<pre style=\"margin: 0.1em;\n",
       "padding-left: 0.25em;\n",
       "border-left-style: solid;\n",
       "font-family: var(--jp-code-font-family);\n",
       "font-size: var(--jp-code-font-size);\n",
       "line-height: var(--jp-code-line-height);\n",
       "\"><span style=\"color: var(--jp-warn-color2)\">lsst.sourceDetection</span> <span style=\"color: var(--jp-info-color0)\">INFO</span>: Resubtracting the background after object detection</pre>"
      ],
      "text/plain": [
       "<IPython.core.display.HTML object>"
      ]
     },
     "metadata": {},
     "output_type": "display_data"
    },
    {
     "data": {
      "text/html": [
       "<pre style=\"margin: 0.1em;\n",
       "padding-left: 0.25em;\n",
       "border-left-style: solid;\n",
       "font-family: var(--jp-code-font-family);\n",
       "font-size: var(--jp-code-font-size);\n",
       "line-height: var(--jp-code-line-height);\n",
       "\"><span style=\"color: var(--jp-warn-color2)\">lsst.measurement</span> <span style=\"color: var(--jp-info-color0)\">INFO</span>: Measuring 3341 sources (3341 parents, 0 children) </pre>"
      ],
      "text/plain": [
       "<IPython.core.display.HTML object>"
      ]
     },
     "metadata": {},
     "output_type": "display_data"
    },
    {
     "name": "stdout",
     "output_type": "stream",
     "text": [
      "Searching in lc 0\n",
      "Searching in lc 3\n",
      "Searching in lc 5\n",
      "Searching in lc 7\n",
      "Searching in lc 9\n",
      "ra = 57.59451632893858, dec = -32.481152201226145\n",
      "Measured  21.14153895960079 0.02033553004944777\n",
      "Injected  17.999520173952803\n",
      "ra = 57.54661330168041, dec = -32.617052701901834\n",
      "Measured  21.14153895960079 0.02033553004944777\n",
      "Injected  18.66618684061947\n",
      "ra = 57.4206744362783, dec = -32.56738293878671\n",
      "Measured  21.14153895960079 0.02033553004944777\n",
      "Injected  19.332853507286135\n",
      "ra = 57.54618259551755, dec = -32.298429145618904\n",
      "Measured  21.14153895960079 0.02033553004944777\n",
      "Injected  19.999520173952803\n",
      "ra = 57.40937069536117, dec = -32.48765029825218\n",
      "Measured  21.14153895960079 0.02033553004944777\n",
      "Injected  20.66618684061947\n",
      " ------ CALEXP 8 ------\n",
      "Points injected: 3\n",
      "[2, 4, 5]\n"
     ]
    },
    {
     "data": {
      "text/html": [
       "<pre style=\"margin: 0.1em;\n",
       "padding-left: 0.25em;\n",
       "border-left-style: solid;\n",
       "font-family: var(--jp-code-font-family);\n",
       "font-size: var(--jp-code-font-size);\n",
       "line-height: var(--jp-code-line-height);\n",
       "\"><span style=\"color: var(--jp-warn-color2)\">lsst.visitInjectTask</span> <span style=\"color: var(--jp-info-color0)\">INFO</span>: Retrieved 3 injection sources from 1 HTM trixel.</pre>"
      ],
      "text/plain": [
       "<IPython.core.display.HTML object>"
      ]
     },
     "metadata": {},
     "output_type": "display_data"
    },
    {
     "data": {
      "text/html": [
       "<pre style=\"margin: 0.1em;\n",
       "padding-left: 0.25em;\n",
       "border-left-style: solid;\n",
       "font-family: var(--jp-code-font-family);\n",
       "font-size: var(--jp-code-font-size);\n",
       "line-height: var(--jp-code-line-height);\n",
       "\"><span style=\"color: var(--jp-warn-color2)\">lsst.visitInjectTask</span> <span style=\"color: var(--jp-info-color0)\">INFO</span>: Catalog cleaning removed 0 of 3 sources; 3 remaining for catalog checking.</pre>"
      ],
      "text/plain": [
       "<IPython.core.display.HTML object>"
      ]
     },
     "metadata": {},
     "output_type": "display_data"
    },
    {
     "data": {
      "text/html": [
       "<pre style=\"margin: 0.1em;\n",
       "padding-left: 0.25em;\n",
       "border-left-style: solid;\n",
       "font-family: var(--jp-code-font-family);\n",
       "font-size: var(--jp-code-font-size);\n",
       "line-height: var(--jp-code-line-height);\n",
       "\"><span style=\"color: var(--jp-warn-color2)\">lsst.visitInjectTask</span> <span style=\"color: var(--jp-info-color0)\">INFO</span>: Catalog checking flagged 0 of 3 sources; 3 remaining for source generation.</pre>"
      ],
      "text/plain": [
       "<IPython.core.display.HTML object>"
      ]
     },
     "metadata": {},
     "output_type": "display_data"
    },
    {
     "data": {
      "text/html": [
       "<pre style=\"margin: 0.1em;\n",
       "padding-left: 0.25em;\n",
       "border-left-style: solid;\n",
       "font-family: var(--jp-code-font-family);\n",
       "font-size: var(--jp-code-font-size);\n",
       "line-height: var(--jp-code-line-height);\n",
       "\"><span style=\"color: var(--jp-warn-color2)\">lsst.visitInjectTask</span> <span style=\"color: var(--jp-info-color0)\">INFO</span>: Adding INJECTED and INJECTED_CORE mask planes to the exposure.</pre>"
      ],
      "text/plain": [
       "<IPython.core.display.HTML object>"
      ]
     },
     "metadata": {},
     "output_type": "display_data"
    },
    {
     "data": {
      "text/html": [
       "<pre style=\"margin: 0.1em;\n",
       "padding-left: 0.25em;\n",
       "border-left-style: solid;\n",
       "font-family: var(--jp-code-font-family);\n",
       "font-size: var(--jp-code-font-size);\n",
       "line-height: var(--jp-code-line-height);\n",
       "\"><span style=\"color: var(--jp-warn-color2)\">lsst.visitInjectTask</span> <span style=\"color: var(--jp-info-color0)\">INFO</span>: Generating 3 injection sources consisting of 1 unique type: DeltaFunction(3).</pre>"
      ],
      "text/plain": [
       "<IPython.core.display.HTML object>"
      ]
     },
     "metadata": {},
     "output_type": "display_data"
    },
    {
     "data": {
      "text/html": [
       "<pre style=\"margin: 0.1em;\n",
       "padding-left: 0.25em;\n",
       "border-left-style: solid;\n",
       "font-family: var(--jp-code-font-family);\n",
       "font-size: var(--jp-code-font-size);\n",
       "line-height: var(--jp-code-line-height);\n",
       "\"><span style=\"color: var(--jp-warn-color2)\">lsst.visitInjectTask</span> <span style=\"color: var(--jp-info-color0)\">INFO</span>: Injected 3 of 3 potential sources. 0 sources flagged and skipped.</pre>"
      ],
      "text/plain": [
       "<IPython.core.display.HTML object>"
      ]
     },
     "metadata": {},
     "output_type": "display_data"
    },
    {
     "data": {
      "text/html": [
       "<pre style=\"margin: 0.1em;\n",
       "padding-left: 0.25em;\n",
       "border-left-style: solid;\n",
       "font-family: var(--jp-code-font-family);\n",
       "font-size: var(--jp-code-font-size);\n",
       "line-height: var(--jp-code-line-height);\n",
       "\"><span style=\"color: var(--jp-warn-color2)\">lsst.sourceDetection</span> <span style=\"color: var(--jp-info-color0)\">INFO</span>: Setting factor for negative detections equal to that for positive detections: 1.000000</pre>"
      ],
      "text/plain": [
       "<IPython.core.display.HTML object>"
      ]
     },
     "metadata": {},
     "output_type": "display_data"
    },
    {
     "data": {
      "text/html": [
       "<pre style=\"margin: 0.1em;\n",
       "padding-left: 0.25em;\n",
       "border-left-style: solid;\n",
       "font-family: var(--jp-code-font-family);\n",
       "font-size: var(--jp-code-font-size);\n",
       "line-height: var(--jp-code-line-height);\n",
       "\"><span style=\"color: var(--jp-warn-color2)\">lsst.sourceDetection</span> <span style=\"color: var(--jp-info-color0)\">INFO</span>: Detected 3021 positive peaks in 2600 footprints and 157 negative peaks in 157 footprints to 4 +ve and 4 -ve sigma</pre>"
      ],
      "text/plain": [
       "<IPython.core.display.HTML object>"
      ]
     },
     "metadata": {},
     "output_type": "display_data"
    },
    {
     "data": {
      "text/html": [
       "<pre style=\"margin: 0.1em;\n",
       "padding-left: 0.25em;\n",
       "border-left-style: solid;\n",
       "font-family: var(--jp-code-font-family);\n",
       "font-size: var(--jp-code-font-size);\n",
       "line-height: var(--jp-code-line-height);\n",
       "\"><span style=\"color: var(--jp-warn-color2)\">lsst.sourceDetection</span> <span style=\"color: var(--jp-info-color0)\">INFO</span>: Resubtracting the background after object detection</pre>"
      ],
      "text/plain": [
       "<IPython.core.display.HTML object>"
      ]
     },
     "metadata": {},
     "output_type": "display_data"
    },
    {
     "data": {
      "text/html": [
       "<pre style=\"margin: 0.1em;\n",
       "padding-left: 0.25em;\n",
       "border-left-style: solid;\n",
       "font-family: var(--jp-code-font-family);\n",
       "font-size: var(--jp-code-font-size);\n",
       "line-height: var(--jp-code-line-height);\n",
       "\"><span style=\"color: var(--jp-warn-color2)\">lsst.measurement</span> <span style=\"color: var(--jp-info-color0)\">INFO</span>: Measuring 2600 sources (2600 parents, 0 children) </pre>"
      ],
      "text/plain": [
       "<IPython.core.display.HTML object>"
      ]
     },
     "metadata": {},
     "output_type": "display_data"
    },
    {
     "name": "stdout",
     "output_type": "stream",
     "text": [
      "Searching in lc 2\n",
      "Searching in lc 4\n",
      "Searching in lc 5\n",
      "ra = 57.59451632893858, dec = -32.481152201226145\n",
      "Measured  23.4730652753056 0.2087476120161398\n",
      "Injected  17.999466563033558\n",
      "ra = 57.54661330168041, dec = -32.617052701901834\n",
      "Measured  23.4730652753056 0.2087476120161398\n",
      "Injected  18.666133229700225\n",
      "ra = 57.4206744362783, dec = -32.56738293878671\n",
      "Measured  23.4730652753056 0.2087476120161398\n",
      "Injected  19.33279989636689\n",
      " ------ CALEXP 9 ------\n",
      "Points injected: 3\n",
      "[0, 7, 9]\n"
     ]
    },
    {
     "data": {
      "text/html": [
       "<pre style=\"margin: 0.1em;\n",
       "padding-left: 0.25em;\n",
       "border-left-style: solid;\n",
       "font-family: var(--jp-code-font-family);\n",
       "font-size: var(--jp-code-font-size);\n",
       "line-height: var(--jp-code-line-height);\n",
       "\"><span style=\"color: var(--jp-warn-color2)\">lsst.visitInjectTask</span> <span style=\"color: var(--jp-info-color0)\">INFO</span>: Retrieved 3 injection sources from 1 HTM trixel.</pre>"
      ],
      "text/plain": [
       "<IPython.core.display.HTML object>"
      ]
     },
     "metadata": {},
     "output_type": "display_data"
    },
    {
     "data": {
      "text/html": [
       "<pre style=\"margin: 0.1em;\n",
       "padding-left: 0.25em;\n",
       "border-left-style: solid;\n",
       "font-family: var(--jp-code-font-family);\n",
       "font-size: var(--jp-code-font-size);\n",
       "line-height: var(--jp-code-line-height);\n",
       "\"><span style=\"color: var(--jp-warn-color2)\">lsst.visitInjectTask</span> <span style=\"color: var(--jp-info-color0)\">INFO</span>: Catalog cleaning removed 0 of 3 sources; 3 remaining for catalog checking.</pre>"
      ],
      "text/plain": [
       "<IPython.core.display.HTML object>"
      ]
     },
     "metadata": {},
     "output_type": "display_data"
    },
    {
     "data": {
      "text/html": [
       "<pre style=\"margin: 0.1em;\n",
       "padding-left: 0.25em;\n",
       "border-left-style: solid;\n",
       "font-family: var(--jp-code-font-family);\n",
       "font-size: var(--jp-code-font-size);\n",
       "line-height: var(--jp-code-line-height);\n",
       "\"><span style=\"color: var(--jp-warn-color2)\">lsst.visitInjectTask</span> <span style=\"color: var(--jp-info-color0)\">INFO</span>: Catalog checking flagged 0 of 3 sources; 3 remaining for source generation.</pre>"
      ],
      "text/plain": [
       "<IPython.core.display.HTML object>"
      ]
     },
     "metadata": {},
     "output_type": "display_data"
    },
    {
     "data": {
      "text/html": [
       "<pre style=\"margin: 0.1em;\n",
       "padding-left: 0.25em;\n",
       "border-left-style: solid;\n",
       "font-family: var(--jp-code-font-family);\n",
       "font-size: var(--jp-code-font-size);\n",
       "line-height: var(--jp-code-line-height);\n",
       "\"><span style=\"color: var(--jp-warn-color2)\">lsst.visitInjectTask</span> <span style=\"color: var(--jp-info-color0)\">INFO</span>: Adding INJECTED and INJECTED_CORE mask planes to the exposure.</pre>"
      ],
      "text/plain": [
       "<IPython.core.display.HTML object>"
      ]
     },
     "metadata": {},
     "output_type": "display_data"
    },
    {
     "data": {
      "text/html": [
       "<pre style=\"margin: 0.1em;\n",
       "padding-left: 0.25em;\n",
       "border-left-style: solid;\n",
       "font-family: var(--jp-code-font-family);\n",
       "font-size: var(--jp-code-font-size);\n",
       "line-height: var(--jp-code-line-height);\n",
       "\"><span style=\"color: var(--jp-warn-color2)\">lsst.visitInjectTask</span> <span style=\"color: var(--jp-info-color0)\">INFO</span>: Generating 3 injection sources consisting of 1 unique type: DeltaFunction(3).</pre>"
      ],
      "text/plain": [
       "<IPython.core.display.HTML object>"
      ]
     },
     "metadata": {},
     "output_type": "display_data"
    },
    {
     "data": {
      "text/html": [
       "<pre style=\"margin: 0.1em;\n",
       "padding-left: 0.25em;\n",
       "border-left-style: solid;\n",
       "font-family: var(--jp-code-font-family);\n",
       "font-size: var(--jp-code-font-size);\n",
       "line-height: var(--jp-code-line-height);\n",
       "\"><span style=\"color: var(--jp-warn-color2)\">lsst.visitInjectTask</span> <span style=\"color: var(--jp-info-color0)\">INFO</span>: Injected 3 of 3 potential sources. 0 sources flagged and skipped.</pre>"
      ],
      "text/plain": [
       "<IPython.core.display.HTML object>"
      ]
     },
     "metadata": {},
     "output_type": "display_data"
    },
    {
     "data": {
      "text/html": [
       "<pre style=\"margin: 0.1em;\n",
       "padding-left: 0.25em;\n",
       "border-left-style: solid;\n",
       "font-family: var(--jp-code-font-family);\n",
       "font-size: var(--jp-code-font-size);\n",
       "line-height: var(--jp-code-line-height);\n",
       "\"><span style=\"color: var(--jp-warn-color2)\">lsst.sourceDetection</span> <span style=\"color: var(--jp-info-color0)\">INFO</span>: Setting factor for negative detections equal to that for positive detections: 1.000000</pre>"
      ],
      "text/plain": [
       "<IPython.core.display.HTML object>"
      ]
     },
     "metadata": {},
     "output_type": "display_data"
    },
    {
     "data": {
      "text/html": [
       "<pre style=\"margin: 0.1em;\n",
       "padding-left: 0.25em;\n",
       "border-left-style: solid;\n",
       "font-family: var(--jp-code-font-family);\n",
       "font-size: var(--jp-code-font-size);\n",
       "line-height: var(--jp-code-line-height);\n",
       "\"><span style=\"color: var(--jp-warn-color2)\">lsst.sourceDetection</span> <span style=\"color: var(--jp-info-color0)\">INFO</span>: Detected 3036 positive peaks in 2500 footprints and 180 negative peaks in 177 footprints to 4 +ve and 4 -ve sigma</pre>"
      ],
      "text/plain": [
       "<IPython.core.display.HTML object>"
      ]
     },
     "metadata": {},
     "output_type": "display_data"
    },
    {
     "data": {
      "text/html": [
       "<pre style=\"margin: 0.1em;\n",
       "padding-left: 0.25em;\n",
       "border-left-style: solid;\n",
       "font-family: var(--jp-code-font-family);\n",
       "font-size: var(--jp-code-font-size);\n",
       "line-height: var(--jp-code-line-height);\n",
       "\"><span style=\"color: var(--jp-warn-color2)\">lsst.sourceDetection</span> <span style=\"color: var(--jp-info-color0)\">INFO</span>: Resubtracting the background after object detection</pre>"
      ],
      "text/plain": [
       "<IPython.core.display.HTML object>"
      ]
     },
     "metadata": {},
     "output_type": "display_data"
    },
    {
     "data": {
      "text/html": [
       "<pre style=\"margin: 0.1em;\n",
       "padding-left: 0.25em;\n",
       "border-left-style: solid;\n",
       "font-family: var(--jp-code-font-family);\n",
       "font-size: var(--jp-code-font-size);\n",
       "line-height: var(--jp-code-line-height);\n",
       "\"><span style=\"color: var(--jp-warn-color2)\">lsst.measurement</span> <span style=\"color: var(--jp-info-color0)\">INFO</span>: Measuring 2500 sources (2500 parents, 0 children) </pre>"
      ],
      "text/plain": [
       "<IPython.core.display.HTML object>"
      ]
     },
     "metadata": {},
     "output_type": "display_data"
    },
    {
     "name": "stdout",
     "output_type": "stream",
     "text": [
      "Searching in lc 0\n",
      "Searching in lc 7\n",
      "Searching in lc 9\n",
      "ra = 57.59451632893858, dec = -32.481152201226145\n",
      "Measured  22.846663511625607 0.11819728749626017\n",
      "Injected  17.999466563033558\n",
      "ra = 57.54661330168041, dec = -32.617052701901834\n",
      "Measured  22.846663511625607 0.11819728749626017\n",
      "Injected  18.666133229700225\n",
      "ra = 57.4206744362783, dec = -32.56738293878671\n",
      "Measured  22.846663511625607 0.11819728749626017\n",
      "Injected  19.33279989636689\n",
      "(ra,dec) = (57.59451632893858, -32.481152201226145)/nHTM_ID = 9414534 - HTM_level=10 (bounded by a circle of radius ~280.63 arcsec.)\n"
     ]
    },
    {
     "name": "stderr",
     "output_type": "stream",
     "text": [
      "/opt/lsst/software/stack/conda/envs/lsst-scipipe-9.0.0/share/eups/Linux64/daf_butler/g588e17ab67+fac83bd63d/python/lsst/daf/butler/registry/queries/_structs.py:401: FutureWarning: Dimension 'htm20' should no longer be used in data IDs. Use the region 'OVERLAPS' operator in the where clause instead. Will be removed after v28.\n",
      "  warnings.warn(\n"
     ]
    },
    {
     "name": "stdout",
     "output_type": "stream",
     "text": [
      "Found 313 calexps\n"
     ]
    },
    {
     "name": "stderr",
     "output_type": "stream",
     "text": [
      "/home/karennowo/DP0_microlensing/light_curves.py:107: FutureWarning: The behavior of DataFrame concatenation with empty or all-NA entries is deprecated. In a future version, this will no longer exclude empty or all-NA columns when determining the result dtypes. To retain the old behavior, exclude the relevant entries before the concat operation.\n",
      "  self.data = pd.concat([self.data, new_data], ignore_index=True)\n"
     ]
    },
    {
     "name": "stdout",
     "output_type": "stream",
     "text": [
      " ------ CALEXP 0 ------\n",
      "Points injected: 3\n",
      "[0, 8, 9]\n"
     ]
    },
    {
     "data": {
      "text/html": [
       "<pre style=\"margin: 0.1em;\n",
       "padding-left: 0.25em;\n",
       "border-left-style: solid;\n",
       "font-family: var(--jp-code-font-family);\n",
       "font-size: var(--jp-code-font-size);\n",
       "line-height: var(--jp-code-line-height);\n",
       "\"><span style=\"color: var(--jp-warn-color2)\">lsst.visitInjectTask</span> <span style=\"color: var(--jp-info-color0)\">INFO</span>: Retrieved 3 injection sources from 1 HTM trixel.</pre>"
      ],
      "text/plain": [
       "<IPython.core.display.HTML object>"
      ]
     },
     "metadata": {},
     "output_type": "display_data"
    },
    {
     "data": {
      "text/html": [
       "<pre style=\"margin: 0.1em;\n",
       "padding-left: 0.25em;\n",
       "border-left-style: solid;\n",
       "font-family: var(--jp-code-font-family);\n",
       "font-size: var(--jp-code-font-size);\n",
       "line-height: var(--jp-code-line-height);\n",
       "\"><span style=\"color: var(--jp-warn-color2)\">lsst.visitInjectTask</span> <span style=\"color: var(--jp-info-color0)\">INFO</span>: Catalog cleaning removed 0 of 3 sources; 3 remaining for catalog checking.</pre>"
      ],
      "text/plain": [
       "<IPython.core.display.HTML object>"
      ]
     },
     "metadata": {},
     "output_type": "display_data"
    },
    {
     "data": {
      "text/html": [
       "<pre style=\"margin: 0.1em;\n",
       "padding-left: 0.25em;\n",
       "border-left-style: solid;\n",
       "font-family: var(--jp-code-font-family);\n",
       "font-size: var(--jp-code-font-size);\n",
       "line-height: var(--jp-code-line-height);\n",
       "\"><span style=\"color: var(--jp-warn-color2)\">lsst.visitInjectTask</span> <span style=\"color: var(--jp-info-color0)\">INFO</span>: Catalog checking flagged 0 of 3 sources; 3 remaining for source generation.</pre>"
      ],
      "text/plain": [
       "<IPython.core.display.HTML object>"
      ]
     },
     "metadata": {},
     "output_type": "display_data"
    },
    {
     "data": {
      "text/html": [
       "<pre style=\"margin: 0.1em;\n",
       "padding-left: 0.25em;\n",
       "border-left-style: solid;\n",
       "font-family: var(--jp-code-font-family);\n",
       "font-size: var(--jp-code-font-size);\n",
       "line-height: var(--jp-code-line-height);\n",
       "\"><span style=\"color: var(--jp-warn-color2)\">lsst.visitInjectTask</span> <span style=\"color: var(--jp-info-color0)\">INFO</span>: Adding INJECTED and INJECTED_CORE mask planes to the exposure.</pre>"
      ],
      "text/plain": [
       "<IPython.core.display.HTML object>"
      ]
     },
     "metadata": {},
     "output_type": "display_data"
    },
    {
     "data": {
      "text/html": [
       "<pre style=\"margin: 0.1em;\n",
       "padding-left: 0.25em;\n",
       "border-left-style: solid;\n",
       "font-family: var(--jp-code-font-family);\n",
       "font-size: var(--jp-code-font-size);\n",
       "line-height: var(--jp-code-line-height);\n",
       "\"><span style=\"color: var(--jp-warn-color2)\">lsst.visitInjectTask</span> <span style=\"color: var(--jp-info-color0)\">INFO</span>: Generating 3 injection sources consisting of 1 unique type: DeltaFunction(3).</pre>"
      ],
      "text/plain": [
       "<IPython.core.display.HTML object>"
      ]
     },
     "metadata": {},
     "output_type": "display_data"
    },
    {
     "data": {
      "text/html": [
       "<pre style=\"margin: 0.1em;\n",
       "padding-left: 0.25em;\n",
       "border-left-style: solid;\n",
       "font-family: var(--jp-code-font-family);\n",
       "font-size: var(--jp-code-font-size);\n",
       "line-height: var(--jp-code-line-height);\n",
       "\"><span style=\"color: var(--jp-warn-color2)\">lsst.visitInjectTask</span> <span style=\"color: var(--jp-info-color0)\">INFO</span>: Injected 3 of 3 potential sources. 0 sources flagged and skipped.</pre>"
      ],
      "text/plain": [
       "<IPython.core.display.HTML object>"
      ]
     },
     "metadata": {},
     "output_type": "display_data"
    },
    {
     "data": {
      "text/html": [
       "<pre style=\"margin: 0.1em;\n",
       "padding-left: 0.25em;\n",
       "border-left-style: solid;\n",
       "font-family: var(--jp-code-font-family);\n",
       "font-size: var(--jp-code-font-size);\n",
       "line-height: var(--jp-code-line-height);\n",
       "\"><span style=\"color: var(--jp-warn-color2)\">lsst.sourceDetection</span> <span style=\"color: var(--jp-info-color0)\">INFO</span>: Setting factor for negative detections equal to that for positive detections: 1.000000</pre>"
      ],
      "text/plain": [
       "<IPython.core.display.HTML object>"
      ]
     },
     "metadata": {},
     "output_type": "display_data"
    },
    {
     "data": {
      "text/html": [
       "<pre style=\"margin: 0.1em;\n",
       "padding-left: 0.25em;\n",
       "border-left-style: solid;\n",
       "font-family: var(--jp-code-font-family);\n",
       "font-size: var(--jp-code-font-size);\n",
       "line-height: var(--jp-code-line-height);\n",
       "\"><span style=\"color: var(--jp-warn-color2)\">lsst.sourceDetection</span> <span style=\"color: var(--jp-info-color0)\">INFO</span>: Detected 3067 positive peaks in 2613 footprints and 80 negative peaks in 80 footprints to 4 +ve and 4 -ve sigma</pre>"
      ],
      "text/plain": [
       "<IPython.core.display.HTML object>"
      ]
     },
     "metadata": {},
     "output_type": "display_data"
    },
    {
     "data": {
      "text/html": [
       "<pre style=\"margin: 0.1em;\n",
       "padding-left: 0.25em;\n",
       "border-left-style: solid;\n",
       "font-family: var(--jp-code-font-family);\n",
       "font-size: var(--jp-code-font-size);\n",
       "line-height: var(--jp-code-line-height);\n",
       "\"><span style=\"color: var(--jp-warn-color2)\">lsst.sourceDetection</span> <span style=\"color: var(--jp-info-color0)\">INFO</span>: Resubtracting the background after object detection</pre>"
      ],
      "text/plain": [
       "<IPython.core.display.HTML object>"
      ]
     },
     "metadata": {},
     "output_type": "display_data"
    },
    {
     "data": {
      "text/html": [
       "<pre style=\"margin: 0.1em;\n",
       "padding-left: 0.25em;\n",
       "border-left-style: solid;\n",
       "font-family: var(--jp-code-font-family);\n",
       "font-size: var(--jp-code-font-size);\n",
       "line-height: var(--jp-code-line-height);\n",
       "\"><span style=\"color: var(--jp-warn-color2)\">lsst.measurement</span> <span style=\"color: var(--jp-info-color0)\">INFO</span>: Measuring 2613 sources (2613 parents, 0 children) </pre>"
      ],
      "text/plain": [
       "<IPython.core.display.HTML object>"
      ]
     },
     "metadata": {},
     "output_type": "display_data"
    },
    {
     "name": "stdout",
     "output_type": "stream",
     "text": [
      "Searching in lc 0\n",
      "Searching in lc 8\n",
      "Searching in lc 9\n",
      "ra = 57.59451632893858, dec = -32.481152201226145\n",
      "Measured  19.659075476263293 0.007810228855512908\n",
      "Injected  17.999800399179982\n",
      "ra = 57.55907861582008, dec = -32.361870580075546\n",
      "Measured  19.659075476263293 0.007810228855512908\n",
      "Injected  18.66646706584665\n",
      "ra = 57.45089048485629, dec = -32.631481438320925\n",
      "Measured  19.659075476263293 0.007810228855512908\n",
      "Injected  19.333133732513314\n",
      " ------ CALEXP 1 ------\n",
      "Points injected: 3\n",
      "[1, 6, 7]\n"
     ]
    },
    {
     "data": {
      "text/html": [
       "<pre style=\"margin: 0.1em;\n",
       "padding-left: 0.25em;\n",
       "border-left-style: solid;\n",
       "font-family: var(--jp-code-font-family);\n",
       "font-size: var(--jp-code-font-size);\n",
       "line-height: var(--jp-code-line-height);\n",
       "\"><span style=\"color: var(--jp-warn-color2)\">lsst.visitInjectTask</span> <span style=\"color: var(--jp-info-color0)\">INFO</span>: Retrieved 3 injection sources from 1 HTM trixel.</pre>"
      ],
      "text/plain": [
       "<IPython.core.display.HTML object>"
      ]
     },
     "metadata": {},
     "output_type": "display_data"
    },
    {
     "data": {
      "text/html": [
       "<pre style=\"margin: 0.1em;\n",
       "padding-left: 0.25em;\n",
       "border-left-style: solid;\n",
       "font-family: var(--jp-code-font-family);\n",
       "font-size: var(--jp-code-font-size);\n",
       "line-height: var(--jp-code-line-height);\n",
       "\"><span style=\"color: var(--jp-warn-color2)\">lsst.visitInjectTask</span> <span style=\"color: var(--jp-info-color0)\">INFO</span>: Catalog cleaning removed 0 of 3 sources; 3 remaining for catalog checking.</pre>"
      ],
      "text/plain": [
       "<IPython.core.display.HTML object>"
      ]
     },
     "metadata": {},
     "output_type": "display_data"
    },
    {
     "data": {
      "text/html": [
       "<pre style=\"margin: 0.1em;\n",
       "padding-left: 0.25em;\n",
       "border-left-style: solid;\n",
       "font-family: var(--jp-code-font-family);\n",
       "font-size: var(--jp-code-font-size);\n",
       "line-height: var(--jp-code-line-height);\n",
       "\"><span style=\"color: var(--jp-warn-color2)\">lsst.visitInjectTask</span> <span style=\"color: var(--jp-info-color0)\">INFO</span>: Catalog checking flagged 0 of 3 sources; 3 remaining for source generation.</pre>"
      ],
      "text/plain": [
       "<IPython.core.display.HTML object>"
      ]
     },
     "metadata": {},
     "output_type": "display_data"
    },
    {
     "data": {
      "text/html": [
       "<pre style=\"margin: 0.1em;\n",
       "padding-left: 0.25em;\n",
       "border-left-style: solid;\n",
       "font-family: var(--jp-code-font-family);\n",
       "font-size: var(--jp-code-font-size);\n",
       "line-height: var(--jp-code-line-height);\n",
       "\"><span style=\"color: var(--jp-warn-color2)\">lsst.visitInjectTask</span> <span style=\"color: var(--jp-info-color0)\">INFO</span>: Adding INJECTED and INJECTED_CORE mask planes to the exposure.</pre>"
      ],
      "text/plain": [
       "<IPython.core.display.HTML object>"
      ]
     },
     "metadata": {},
     "output_type": "display_data"
    },
    {
     "data": {
      "text/html": [
       "<pre style=\"margin: 0.1em;\n",
       "padding-left: 0.25em;\n",
       "border-left-style: solid;\n",
       "font-family: var(--jp-code-font-family);\n",
       "font-size: var(--jp-code-font-size);\n",
       "line-height: var(--jp-code-line-height);\n",
       "\"><span style=\"color: var(--jp-warn-color2)\">lsst.visitInjectTask</span> <span style=\"color: var(--jp-info-color0)\">INFO</span>: Generating 3 injection sources consisting of 1 unique type: DeltaFunction(3).</pre>"
      ],
      "text/plain": [
       "<IPython.core.display.HTML object>"
      ]
     },
     "metadata": {},
     "output_type": "display_data"
    },
    {
     "data": {
      "text/html": [
       "<pre style=\"margin: 0.1em;\n",
       "padding-left: 0.25em;\n",
       "border-left-style: solid;\n",
       "font-family: var(--jp-code-font-family);\n",
       "font-size: var(--jp-code-font-size);\n",
       "line-height: var(--jp-code-line-height);\n",
       "\"><span style=\"color: var(--jp-warn-color2)\">lsst.visitInjectTask</span> <span style=\"color: var(--jp-info-color0)\">INFO</span>: Injected 3 of 3 potential sources. 0 sources flagged and skipped.</pre>"
      ],
      "text/plain": [
       "<IPython.core.display.HTML object>"
      ]
     },
     "metadata": {},
     "output_type": "display_data"
    },
    {
     "data": {
      "text/html": [
       "<pre style=\"margin: 0.1em;\n",
       "padding-left: 0.25em;\n",
       "border-left-style: solid;\n",
       "font-family: var(--jp-code-font-family);\n",
       "font-size: var(--jp-code-font-size);\n",
       "line-height: var(--jp-code-line-height);\n",
       "\"><span style=\"color: var(--jp-warn-color2)\">lsst.sourceDetection</span> <span style=\"color: var(--jp-info-color0)\">INFO</span>: Setting factor for negative detections equal to that for positive detections: 1.000000</pre>"
      ],
      "text/plain": [
       "<IPython.core.display.HTML object>"
      ]
     },
     "metadata": {},
     "output_type": "display_data"
    },
    {
     "data": {
      "text/html": [
       "<pre style=\"margin: 0.1em;\n",
       "padding-left: 0.25em;\n",
       "border-left-style: solid;\n",
       "font-family: var(--jp-code-font-family);\n",
       "font-size: var(--jp-code-font-size);\n",
       "line-height: var(--jp-code-line-height);\n",
       "\"><span style=\"color: var(--jp-warn-color2)\">lsst.sourceDetection</span> <span style=\"color: var(--jp-info-color0)\">INFO</span>: Detected 3783 positive peaks in 3147 footprints and 127 negative peaks in 127 footprints to 4 +ve and 4 -ve sigma</pre>"
      ],
      "text/plain": [
       "<IPython.core.display.HTML object>"
      ]
     },
     "metadata": {},
     "output_type": "display_data"
    },
    {
     "data": {
      "text/html": [
       "<pre style=\"margin: 0.1em;\n",
       "padding-left: 0.25em;\n",
       "border-left-style: solid;\n",
       "font-family: var(--jp-code-font-family);\n",
       "font-size: var(--jp-code-font-size);\n",
       "line-height: var(--jp-code-line-height);\n",
       "\"><span style=\"color: var(--jp-warn-color2)\">lsst.sourceDetection</span> <span style=\"color: var(--jp-info-color0)\">INFO</span>: Resubtracting the background after object detection</pre>"
      ],
      "text/plain": [
       "<IPython.core.display.HTML object>"
      ]
     },
     "metadata": {},
     "output_type": "display_data"
    },
    {
     "data": {
      "text/html": [
       "<pre style=\"margin: 0.1em;\n",
       "padding-left: 0.25em;\n",
       "border-left-style: solid;\n",
       "font-family: var(--jp-code-font-family);\n",
       "font-size: var(--jp-code-font-size);\n",
       "line-height: var(--jp-code-line-height);\n",
       "\"><span style=\"color: var(--jp-warn-color2)\">lsst.measurement</span> <span style=\"color: var(--jp-info-color0)\">INFO</span>: Measuring 3147 sources (3147 parents, 0 children) </pre>"
      ],
      "text/plain": [
       "<IPython.core.display.HTML object>"
      ]
     },
     "metadata": {},
     "output_type": "display_data"
    },
    {
     "name": "stdout",
     "output_type": "stream",
     "text": [
      "Searching in lc 1\n",
      "Searching in lc 6\n",
      "Searching in lc 7\n",
      "ra = 57.59451632893858, dec = -32.481152201226145\n",
      "Measured  23.761339434666056 0.20303854569773958\n",
      "Injected  17.999526457030296\n",
      "ra = 57.55907861582008, dec = -32.361870580075546\n",
      "Measured  23.761339434666056 0.20303854569773958\n",
      "Injected  18.666193123696964\n",
      "ra = 57.45089048485629, dec = -32.631481438320925\n",
      "Measured  23.761339434666056 0.20303854569773958\n",
      "Injected  19.332859790363628\n",
      " ------ CALEXP 2 ------\n",
      "Points injected: 4\n",
      "[0, 2, 5, 9]\n"
     ]
    },
    {
     "data": {
      "text/html": [
       "<pre style=\"margin: 0.1em;\n",
       "padding-left: 0.25em;\n",
       "border-left-style: solid;\n",
       "font-family: var(--jp-code-font-family);\n",
       "font-size: var(--jp-code-font-size);\n",
       "line-height: var(--jp-code-line-height);\n",
       "\"><span style=\"color: var(--jp-warn-color2)\">lsst.visitInjectTask</span> <span style=\"color: var(--jp-info-color0)\">INFO</span>: Retrieved 4 injection sources from 1 HTM trixel.</pre>"
      ],
      "text/plain": [
       "<IPython.core.display.HTML object>"
      ]
     },
     "metadata": {},
     "output_type": "display_data"
    },
    {
     "data": {
      "text/html": [
       "<pre style=\"margin: 0.1em;\n",
       "padding-left: 0.25em;\n",
       "border-left-style: solid;\n",
       "font-family: var(--jp-code-font-family);\n",
       "font-size: var(--jp-code-font-size);\n",
       "line-height: var(--jp-code-line-height);\n",
       "\"><span style=\"color: var(--jp-warn-color2)\">lsst.visitInjectTask</span> <span style=\"color: var(--jp-info-color0)\">INFO</span>: Catalog cleaning removed 0 of 4 sources; 4 remaining for catalog checking.</pre>"
      ],
      "text/plain": [
       "<IPython.core.display.HTML object>"
      ]
     },
     "metadata": {},
     "output_type": "display_data"
    },
    {
     "data": {
      "text/html": [
       "<pre style=\"margin: 0.1em;\n",
       "padding-left: 0.25em;\n",
       "border-left-style: solid;\n",
       "font-family: var(--jp-code-font-family);\n",
       "font-size: var(--jp-code-font-size);\n",
       "line-height: var(--jp-code-line-height);\n",
       "\"><span style=\"color: var(--jp-warn-color2)\">lsst.visitInjectTask</span> <span style=\"color: var(--jp-info-color0)\">INFO</span>: Catalog checking flagged 0 of 4 sources; 4 remaining for source generation.</pre>"
      ],
      "text/plain": [
       "<IPython.core.display.HTML object>"
      ]
     },
     "metadata": {},
     "output_type": "display_data"
    },
    {
     "data": {
      "text/html": [
       "<pre style=\"margin: 0.1em;\n",
       "padding-left: 0.25em;\n",
       "border-left-style: solid;\n",
       "font-family: var(--jp-code-font-family);\n",
       "font-size: var(--jp-code-font-size);\n",
       "line-height: var(--jp-code-line-height);\n",
       "\"><span style=\"color: var(--jp-warn-color2)\">lsst.visitInjectTask</span> <span style=\"color: var(--jp-info-color0)\">INFO</span>: Adding INJECTED and INJECTED_CORE mask planes to the exposure.</pre>"
      ],
      "text/plain": [
       "<IPython.core.display.HTML object>"
      ]
     },
     "metadata": {},
     "output_type": "display_data"
    },
    {
     "data": {
      "text/html": [
       "<pre style=\"margin: 0.1em;\n",
       "padding-left: 0.25em;\n",
       "border-left-style: solid;\n",
       "font-family: var(--jp-code-font-family);\n",
       "font-size: var(--jp-code-font-size);\n",
       "line-height: var(--jp-code-line-height);\n",
       "\"><span style=\"color: var(--jp-warn-color2)\">lsst.visitInjectTask</span> <span style=\"color: var(--jp-info-color0)\">INFO</span>: Generating 4 injection sources consisting of 1 unique type: DeltaFunction(4).</pre>"
      ],
      "text/plain": [
       "<IPython.core.display.HTML object>"
      ]
     },
     "metadata": {},
     "output_type": "display_data"
    },
    {
     "data": {
      "text/html": [
       "<pre style=\"margin: 0.1em;\n",
       "padding-left: 0.25em;\n",
       "border-left-style: solid;\n",
       "font-family: var(--jp-code-font-family);\n",
       "font-size: var(--jp-code-font-size);\n",
       "line-height: var(--jp-code-line-height);\n",
       "\"><span style=\"color: var(--jp-warn-color2)\">lsst.visitInjectTask</span> <span style=\"color: var(--jp-info-color0)\">INFO</span>: Injected 4 of 4 potential sources. 0 sources flagged and skipped.</pre>"
      ],
      "text/plain": [
       "<IPython.core.display.HTML object>"
      ]
     },
     "metadata": {},
     "output_type": "display_data"
    },
    {
     "data": {
      "text/html": [
       "<pre style=\"margin: 0.1em;\n",
       "padding-left: 0.25em;\n",
       "border-left-style: solid;\n",
       "font-family: var(--jp-code-font-family);\n",
       "font-size: var(--jp-code-font-size);\n",
       "line-height: var(--jp-code-line-height);\n",
       "\"><span style=\"color: var(--jp-warn-color2)\">lsst.sourceDetection</span> <span style=\"color: var(--jp-info-color0)\">INFO</span>: Setting factor for negative detections equal to that for positive detections: 1.000000</pre>"
      ],
      "text/plain": [
       "<IPython.core.display.HTML object>"
      ]
     },
     "metadata": {},
     "output_type": "display_data"
    },
    {
     "data": {
      "text/html": [
       "<pre style=\"margin: 0.1em;\n",
       "padding-left: 0.25em;\n",
       "border-left-style: solid;\n",
       "font-family: var(--jp-code-font-family);\n",
       "font-size: var(--jp-code-font-size);\n",
       "line-height: var(--jp-code-line-height);\n",
       "\"><span style=\"color: var(--jp-warn-color2)\">lsst.sourceDetection</span> <span style=\"color: var(--jp-info-color0)\">INFO</span>: Detected 3632 positive peaks in 3125 footprints and 154 negative peaks in 153 footprints to 4 +ve and 4 -ve sigma</pre>"
      ],
      "text/plain": [
       "<IPython.core.display.HTML object>"
      ]
     },
     "metadata": {},
     "output_type": "display_data"
    },
    {
     "data": {
      "text/html": [
       "<pre style=\"margin: 0.1em;\n",
       "padding-left: 0.25em;\n",
       "border-left-style: solid;\n",
       "font-family: var(--jp-code-font-family);\n",
       "font-size: var(--jp-code-font-size);\n",
       "line-height: var(--jp-code-line-height);\n",
       "\"><span style=\"color: var(--jp-warn-color2)\">lsst.sourceDetection</span> <span style=\"color: var(--jp-info-color0)\">INFO</span>: Resubtracting the background after object detection</pre>"
      ],
      "text/plain": [
       "<IPython.core.display.HTML object>"
      ]
     },
     "metadata": {},
     "output_type": "display_data"
    },
    {
     "data": {
      "text/html": [
       "<pre style=\"margin: 0.1em;\n",
       "padding-left: 0.25em;\n",
       "border-left-style: solid;\n",
       "font-family: var(--jp-code-font-family);\n",
       "font-size: var(--jp-code-font-size);\n",
       "line-height: var(--jp-code-line-height);\n",
       "\"><span style=\"color: var(--jp-warn-color2)\">lsst.measurement</span> <span style=\"color: var(--jp-info-color0)\">INFO</span>: Measuring 3125 sources (3125 parents, 0 children) </pre>"
      ],
      "text/plain": [
       "<IPython.core.display.HTML object>"
      ]
     },
     "metadata": {},
     "output_type": "display_data"
    },
    {
     "name": "stdout",
     "output_type": "stream",
     "text": [
      "Searching in lc 0\n",
      "Searching in lc 2\n",
      "Searching in lc 5\n",
      "Searching in lc 9\n",
      "ra = 57.59451632893858, dec = -32.481152201226145\n",
      "Measured  22.032642858850654 0.04378346434256096\n",
      "Injected  17.999526457030296\n",
      "ra = 57.55907861582008, dec = -32.361870580075546\n",
      "Measured  22.032642858850654 0.04378346434256096\n",
      "Injected  18.666193123696964\n",
      "ra = 57.45089048485629, dec = -32.631481438320925\n",
      "Measured  22.032642858850654 0.04378346434256096\n",
      "Injected  19.332859790363628\n",
      "ra = 57.73893256463617, dec = -32.40121681291804\n",
      "Measured  22.032642858850654 0.04378346434256096\n",
      "Injected  19.999526457030296\n",
      " ------ CALEXP 3 ------\n",
      "Points injected: 1\n",
      "[8]\n"
     ]
    },
    {
     "data": {
      "text/html": [
       "<pre style=\"margin: 0.1em;\n",
       "padding-left: 0.25em;\n",
       "border-left-style: solid;\n",
       "font-family: var(--jp-code-font-family);\n",
       "font-size: var(--jp-code-font-size);\n",
       "line-height: var(--jp-code-line-height);\n",
       "\"><span style=\"color: var(--jp-warn-color2)\">lsst.visitInjectTask</span> <span style=\"color: var(--jp-info-color0)\">INFO</span>: Retrieved 1 injection source from 1 HTM trixel.</pre>"
      ],
      "text/plain": [
       "<IPython.core.display.HTML object>"
      ]
     },
     "metadata": {},
     "output_type": "display_data"
    },
    {
     "data": {
      "text/html": [
       "<pre style=\"margin: 0.1em;\n",
       "padding-left: 0.25em;\n",
       "border-left-style: solid;\n",
       "font-family: var(--jp-code-font-family);\n",
       "font-size: var(--jp-code-font-size);\n",
       "line-height: var(--jp-code-line-height);\n",
       "\"><span style=\"color: var(--jp-warn-color2)\">lsst.visitInjectTask</span> <span style=\"color: var(--jp-info-color0)\">INFO</span>: Catalog cleaning removed 0 of 1 source; 1 remaining for catalog checking.</pre>"
      ],
      "text/plain": [
       "<IPython.core.display.HTML object>"
      ]
     },
     "metadata": {},
     "output_type": "display_data"
    },
    {
     "data": {
      "text/html": [
       "<pre style=\"margin: 0.1em;\n",
       "padding-left: 0.25em;\n",
       "border-left-style: solid;\n",
       "font-family: var(--jp-code-font-family);\n",
       "font-size: var(--jp-code-font-size);\n",
       "line-height: var(--jp-code-line-height);\n",
       "\"><span style=\"color: var(--jp-warn-color2)\">lsst.visitInjectTask</span> <span style=\"color: var(--jp-info-color0)\">INFO</span>: Catalog checking flagged 0 of 1 source; 1 remaining for source generation.</pre>"
      ],
      "text/plain": [
       "<IPython.core.display.HTML object>"
      ]
     },
     "metadata": {},
     "output_type": "display_data"
    },
    {
     "data": {
      "text/html": [
       "<pre style=\"margin: 0.1em;\n",
       "padding-left: 0.25em;\n",
       "border-left-style: solid;\n",
       "font-family: var(--jp-code-font-family);\n",
       "font-size: var(--jp-code-font-size);\n",
       "line-height: var(--jp-code-line-height);\n",
       "\"><span style=\"color: var(--jp-warn-color2)\">lsst.visitInjectTask</span> <span style=\"color: var(--jp-info-color0)\">INFO</span>: Adding INJECTED and INJECTED_CORE mask planes to the exposure.</pre>"
      ],
      "text/plain": [
       "<IPython.core.display.HTML object>"
      ]
     },
     "metadata": {},
     "output_type": "display_data"
    },
    {
     "data": {
      "text/html": [
       "<pre style=\"margin: 0.1em;\n",
       "padding-left: 0.25em;\n",
       "border-left-style: solid;\n",
       "font-family: var(--jp-code-font-family);\n",
       "font-size: var(--jp-code-font-size);\n",
       "line-height: var(--jp-code-line-height);\n",
       "\"><span style=\"color: var(--jp-warn-color2)\">lsst.visitInjectTask</span> <span style=\"color: var(--jp-info-color0)\">INFO</span>: Generating 1 injection source consisting of 1 unique type: DeltaFunction(1).</pre>"
      ],
      "text/plain": [
       "<IPython.core.display.HTML object>"
      ]
     },
     "metadata": {},
     "output_type": "display_data"
    },
    {
     "data": {
      "text/html": [
       "<pre style=\"margin: 0.1em;\n",
       "padding-left: 0.25em;\n",
       "border-left-style: solid;\n",
       "font-family: var(--jp-code-font-family);\n",
       "font-size: var(--jp-code-font-size);\n",
       "line-height: var(--jp-code-line-height);\n",
       "\"><span style=\"color: var(--jp-warn-color2)\">lsst.visitInjectTask</span> <span style=\"color: var(--jp-info-color0)\">INFO</span>: Injected 1 of 1 potential source. 0 sources flagged and skipped.</pre>"
      ],
      "text/plain": [
       "<IPython.core.display.HTML object>"
      ]
     },
     "metadata": {},
     "output_type": "display_data"
    },
    {
     "data": {
      "text/html": [
       "<pre style=\"margin: 0.1em;\n",
       "padding-left: 0.25em;\n",
       "border-left-style: solid;\n",
       "font-family: var(--jp-code-font-family);\n",
       "font-size: var(--jp-code-font-size);\n",
       "line-height: var(--jp-code-line-height);\n",
       "\"><span style=\"color: var(--jp-warn-color2)\">lsst.sourceDetection</span> <span style=\"color: var(--jp-info-color0)\">INFO</span>: Setting factor for negative detections equal to that for positive detections: 1.000000</pre>"
      ],
      "text/plain": [
       "<IPython.core.display.HTML object>"
      ]
     },
     "metadata": {},
     "output_type": "display_data"
    },
    {
     "data": {
      "text/html": [
       "<pre style=\"margin: 0.1em;\n",
       "padding-left: 0.25em;\n",
       "border-left-style: solid;\n",
       "font-family: var(--jp-code-font-family);\n",
       "font-size: var(--jp-code-font-size);\n",
       "line-height: var(--jp-code-line-height);\n",
       "\"><span style=\"color: var(--jp-warn-color2)\">lsst.sourceDetection</span> <span style=\"color: var(--jp-info-color0)\">INFO</span>: Detected 3321 positive peaks in 2780 footprints and 140 negative peaks in 139 footprints to 4 +ve and 4 -ve sigma</pre>"
      ],
      "text/plain": [
       "<IPython.core.display.HTML object>"
      ]
     },
     "metadata": {},
     "output_type": "display_data"
    },
    {
     "data": {
      "text/html": [
       "<pre style=\"margin: 0.1em;\n",
       "padding-left: 0.25em;\n",
       "border-left-style: solid;\n",
       "font-family: var(--jp-code-font-family);\n",
       "font-size: var(--jp-code-font-size);\n",
       "line-height: var(--jp-code-line-height);\n",
       "\"><span style=\"color: var(--jp-warn-color2)\">lsst.sourceDetection</span> <span style=\"color: var(--jp-info-color0)\">INFO</span>: Resubtracting the background after object detection</pre>"
      ],
      "text/plain": [
       "<IPython.core.display.HTML object>"
      ]
     },
     "metadata": {},
     "output_type": "display_data"
    },
    {
     "data": {
      "text/html": [
       "<pre style=\"margin: 0.1em;\n",
       "padding-left: 0.25em;\n",
       "border-left-style: solid;\n",
       "font-family: var(--jp-code-font-family);\n",
       "font-size: var(--jp-code-font-size);\n",
       "line-height: var(--jp-code-line-height);\n",
       "\"><span style=\"color: var(--jp-warn-color2)\">lsst.measurement</span> <span style=\"color: var(--jp-info-color0)\">INFO</span>: Measuring 2780 sources (2780 parents, 0 children) </pre>"
      ],
      "text/plain": [
       "<IPython.core.display.HTML object>"
      ]
     },
     "metadata": {},
     "output_type": "display_data"
    },
    {
     "name": "stdout",
     "output_type": "stream",
     "text": [
      "Searching in lc 8\n",
      "ra = 57.59451632893858, dec = -32.481152201226145\n",
      "Measured  23.53355383879826 0.16574650929404497\n",
      "Injected  17.999526457030296\n",
      " ------ CALEXP 4 ------\n",
      "Points injected: 2\n",
      "[4, 8]\n"
     ]
    },
    {
     "data": {
      "text/html": [
       "<pre style=\"margin: 0.1em;\n",
       "padding-left: 0.25em;\n",
       "border-left-style: solid;\n",
       "font-family: var(--jp-code-font-family);\n",
       "font-size: var(--jp-code-font-size);\n",
       "line-height: var(--jp-code-line-height);\n",
       "\"><span style=\"color: var(--jp-warn-color2)\">lsst.visitInjectTask</span> <span style=\"color: var(--jp-info-color0)\">INFO</span>: Retrieved 2 injection sources from 1 HTM trixel.</pre>"
      ],
      "text/plain": [
       "<IPython.core.display.HTML object>"
      ]
     },
     "metadata": {},
     "output_type": "display_data"
    },
    {
     "data": {
      "text/html": [
       "<pre style=\"margin: 0.1em;\n",
       "padding-left: 0.25em;\n",
       "border-left-style: solid;\n",
       "font-family: var(--jp-code-font-family);\n",
       "font-size: var(--jp-code-font-size);\n",
       "line-height: var(--jp-code-line-height);\n",
       "\"><span style=\"color: var(--jp-warn-color2)\">lsst.visitInjectTask</span> <span style=\"color: var(--jp-info-color0)\">INFO</span>: Catalog cleaning removed 0 of 2 sources; 2 remaining for catalog checking.</pre>"
      ],
      "text/plain": [
       "<IPython.core.display.HTML object>"
      ]
     },
     "metadata": {},
     "output_type": "display_data"
    },
    {
     "data": {
      "text/html": [
       "<pre style=\"margin: 0.1em;\n",
       "padding-left: 0.25em;\n",
       "border-left-style: solid;\n",
       "font-family: var(--jp-code-font-family);\n",
       "font-size: var(--jp-code-font-size);\n",
       "line-height: var(--jp-code-line-height);\n",
       "\"><span style=\"color: var(--jp-warn-color2)\">lsst.visitInjectTask</span> <span style=\"color: var(--jp-info-color0)\">INFO</span>: Catalog checking flagged 0 of 2 sources; 2 remaining for source generation.</pre>"
      ],
      "text/plain": [
       "<IPython.core.display.HTML object>"
      ]
     },
     "metadata": {},
     "output_type": "display_data"
    },
    {
     "data": {
      "text/html": [
       "<pre style=\"margin: 0.1em;\n",
       "padding-left: 0.25em;\n",
       "border-left-style: solid;\n",
       "font-family: var(--jp-code-font-family);\n",
       "font-size: var(--jp-code-font-size);\n",
       "line-height: var(--jp-code-line-height);\n",
       "\"><span style=\"color: var(--jp-warn-color2)\">lsst.visitInjectTask</span> <span style=\"color: var(--jp-info-color0)\">INFO</span>: Adding INJECTED and INJECTED_CORE mask planes to the exposure.</pre>"
      ],
      "text/plain": [
       "<IPython.core.display.HTML object>"
      ]
     },
     "metadata": {},
     "output_type": "display_data"
    },
    {
     "data": {
      "text/html": [
       "<pre style=\"margin: 0.1em;\n",
       "padding-left: 0.25em;\n",
       "border-left-style: solid;\n",
       "font-family: var(--jp-code-font-family);\n",
       "font-size: var(--jp-code-font-size);\n",
       "line-height: var(--jp-code-line-height);\n",
       "\"><span style=\"color: var(--jp-warn-color2)\">lsst.visitInjectTask</span> <span style=\"color: var(--jp-info-color0)\">INFO</span>: Generating 2 injection sources consisting of 1 unique type: DeltaFunction(2).</pre>"
      ],
      "text/plain": [
       "<IPython.core.display.HTML object>"
      ]
     },
     "metadata": {},
     "output_type": "display_data"
    },
    {
     "data": {
      "text/html": [
       "<pre style=\"margin: 0.1em;\n",
       "padding-left: 0.25em;\n",
       "border-left-style: solid;\n",
       "font-family: var(--jp-code-font-family);\n",
       "font-size: var(--jp-code-font-size);\n",
       "line-height: var(--jp-code-line-height);\n",
       "\"><span style=\"color: var(--jp-warn-color2)\">lsst.visitInjectTask</span> <span style=\"color: var(--jp-info-color0)\">INFO</span>: Injected 2 of 2 potential sources. 0 sources flagged and skipped.</pre>"
      ],
      "text/plain": [
       "<IPython.core.display.HTML object>"
      ]
     },
     "metadata": {},
     "output_type": "display_data"
    },
    {
     "data": {
      "text/html": [
       "<pre style=\"margin: 0.1em;\n",
       "padding-left: 0.25em;\n",
       "border-left-style: solid;\n",
       "font-family: var(--jp-code-font-family);\n",
       "font-size: var(--jp-code-font-size);\n",
       "line-height: var(--jp-code-line-height);\n",
       "\"><span style=\"color: var(--jp-warn-color2)\">lsst.sourceDetection</span> <span style=\"color: var(--jp-info-color0)\">INFO</span>: Setting factor for negative detections equal to that for positive detections: 1.000000</pre>"
      ],
      "text/plain": [
       "<IPython.core.display.HTML object>"
      ]
     },
     "metadata": {},
     "output_type": "display_data"
    },
    {
     "data": {
      "text/html": [
       "<pre style=\"margin: 0.1em;\n",
       "padding-left: 0.25em;\n",
       "border-left-style: solid;\n",
       "font-family: var(--jp-code-font-family);\n",
       "font-size: var(--jp-code-font-size);\n",
       "line-height: var(--jp-code-line-height);\n",
       "\"><span style=\"color: var(--jp-warn-color2)\">lsst.sourceDetection</span> <span style=\"color: var(--jp-info-color0)\">INFO</span>: Detected 3557 positive peaks in 2867 footprints and 147 negative peaks in 147 footprints to 4 +ve and 4 -ve sigma</pre>"
      ],
      "text/plain": [
       "<IPython.core.display.HTML object>"
      ]
     },
     "metadata": {},
     "output_type": "display_data"
    },
    {
     "data": {
      "text/html": [
       "<pre style=\"margin: 0.1em;\n",
       "padding-left: 0.25em;\n",
       "border-left-style: solid;\n",
       "font-family: var(--jp-code-font-family);\n",
       "font-size: var(--jp-code-font-size);\n",
       "line-height: var(--jp-code-line-height);\n",
       "\"><span style=\"color: var(--jp-warn-color2)\">lsst.sourceDetection</span> <span style=\"color: var(--jp-info-color0)\">INFO</span>: Resubtracting the background after object detection</pre>"
      ],
      "text/plain": [
       "<IPython.core.display.HTML object>"
      ]
     },
     "metadata": {},
     "output_type": "display_data"
    },
    {
     "data": {
      "text/html": [
       "<pre style=\"margin: 0.1em;\n",
       "padding-left: 0.25em;\n",
       "border-left-style: solid;\n",
       "font-family: var(--jp-code-font-family);\n",
       "font-size: var(--jp-code-font-size);\n",
       "line-height: var(--jp-code-line-height);\n",
       "\"><span style=\"color: var(--jp-warn-color2)\">lsst.measurement</span> <span style=\"color: var(--jp-info-color0)\">INFO</span>: Measuring 2867 sources (2867 parents, 0 children) </pre>"
      ],
      "text/plain": [
       "<IPython.core.display.HTML object>"
      ]
     },
     "metadata": {},
     "output_type": "display_data"
    },
    {
     "name": "stdout",
     "output_type": "stream",
     "text": [
      "Searching in lc 4\n",
      "Searching in lc 8\n",
      "ra = 57.59451632893858, dec = -32.481152201226145\n",
      "Measured  23.630244089749652 0.18140619683650505\n",
      "Injected  17.999526450553148\n",
      "ra = 57.55907861582008, dec = -32.361870580075546\n",
      "Measured  23.630244089749652 0.18140619683650505\n",
      "Injected  18.666193117219816\n",
      " ------ CALEXP 5 ------\n",
      "Points injected: 1\n",
      "[4]\n"
     ]
    },
    {
     "data": {
      "text/html": [
       "<pre style=\"margin: 0.1em;\n",
       "padding-left: 0.25em;\n",
       "border-left-style: solid;\n",
       "font-family: var(--jp-code-font-family);\n",
       "font-size: var(--jp-code-font-size);\n",
       "line-height: var(--jp-code-line-height);\n",
       "\"><span style=\"color: var(--jp-warn-color2)\">lsst.visitInjectTask</span> <span style=\"color: var(--jp-info-color0)\">INFO</span>: Retrieved 1 injection source from 1 HTM trixel.</pre>"
      ],
      "text/plain": [
       "<IPython.core.display.HTML object>"
      ]
     },
     "metadata": {},
     "output_type": "display_data"
    },
    {
     "data": {
      "text/html": [
       "<pre style=\"margin: 0.1em;\n",
       "padding-left: 0.25em;\n",
       "border-left-style: solid;\n",
       "font-family: var(--jp-code-font-family);\n",
       "font-size: var(--jp-code-font-size);\n",
       "line-height: var(--jp-code-line-height);\n",
       "\"><span style=\"color: var(--jp-warn-color2)\">lsst.visitInjectTask</span> <span style=\"color: var(--jp-info-color0)\">INFO</span>: Catalog cleaning removed 0 of 1 source; 1 remaining for catalog checking.</pre>"
      ],
      "text/plain": [
       "<IPython.core.display.HTML object>"
      ]
     },
     "metadata": {},
     "output_type": "display_data"
    },
    {
     "data": {
      "text/html": [
       "<pre style=\"margin: 0.1em;\n",
       "padding-left: 0.25em;\n",
       "border-left-style: solid;\n",
       "font-family: var(--jp-code-font-family);\n",
       "font-size: var(--jp-code-font-size);\n",
       "line-height: var(--jp-code-line-height);\n",
       "\"><span style=\"color: var(--jp-warn-color2)\">lsst.visitInjectTask</span> <span style=\"color: var(--jp-info-color0)\">INFO</span>: Catalog checking flagged 0 of 1 source; 1 remaining for source generation.</pre>"
      ],
      "text/plain": [
       "<IPython.core.display.HTML object>"
      ]
     },
     "metadata": {},
     "output_type": "display_data"
    },
    {
     "data": {
      "text/html": [
       "<pre style=\"margin: 0.1em;\n",
       "padding-left: 0.25em;\n",
       "border-left-style: solid;\n",
       "font-family: var(--jp-code-font-family);\n",
       "font-size: var(--jp-code-font-size);\n",
       "line-height: var(--jp-code-line-height);\n",
       "\"><span style=\"color: var(--jp-warn-color2)\">lsst.visitInjectTask</span> <span style=\"color: var(--jp-info-color0)\">INFO</span>: Adding INJECTED and INJECTED_CORE mask planes to the exposure.</pre>"
      ],
      "text/plain": [
       "<IPython.core.display.HTML object>"
      ]
     },
     "metadata": {},
     "output_type": "display_data"
    },
    {
     "data": {
      "text/html": [
       "<pre style=\"margin: 0.1em;\n",
       "padding-left: 0.25em;\n",
       "border-left-style: solid;\n",
       "font-family: var(--jp-code-font-family);\n",
       "font-size: var(--jp-code-font-size);\n",
       "line-height: var(--jp-code-line-height);\n",
       "\"><span style=\"color: var(--jp-warn-color2)\">lsst.visitInjectTask</span> <span style=\"color: var(--jp-info-color0)\">INFO</span>: Generating 1 injection source consisting of 1 unique type: DeltaFunction(1).</pre>"
      ],
      "text/plain": [
       "<IPython.core.display.HTML object>"
      ]
     },
     "metadata": {},
     "output_type": "display_data"
    },
    {
     "data": {
      "text/html": [
       "<pre style=\"margin: 0.1em;\n",
       "padding-left: 0.25em;\n",
       "border-left-style: solid;\n",
       "font-family: var(--jp-code-font-family);\n",
       "font-size: var(--jp-code-font-size);\n",
       "line-height: var(--jp-code-line-height);\n",
       "\"><span style=\"color: var(--jp-warn-color2)\">lsst.visitInjectTask</span> <span style=\"color: var(--jp-info-color0)\">INFO</span>: Injected 1 of 1 potential source. 0 sources flagged and skipped.</pre>"
      ],
      "text/plain": [
       "<IPython.core.display.HTML object>"
      ]
     },
     "metadata": {},
     "output_type": "display_data"
    },
    {
     "data": {
      "text/html": [
       "<pre style=\"margin: 0.1em;\n",
       "padding-left: 0.25em;\n",
       "border-left-style: solid;\n",
       "font-family: var(--jp-code-font-family);\n",
       "font-size: var(--jp-code-font-size);\n",
       "line-height: var(--jp-code-line-height);\n",
       "\"><span style=\"color: var(--jp-warn-color2)\">lsst.sourceDetection</span> <span style=\"color: var(--jp-info-color0)\">INFO</span>: Setting factor for negative detections equal to that for positive detections: 1.000000</pre>"
      ],
      "text/plain": [
       "<IPython.core.display.HTML object>"
      ]
     },
     "metadata": {},
     "output_type": "display_data"
    },
    {
     "data": {
      "text/html": [
       "<pre style=\"margin: 0.1em;\n",
       "padding-left: 0.25em;\n",
       "border-left-style: solid;\n",
       "font-family: var(--jp-code-font-family);\n",
       "font-size: var(--jp-code-font-size);\n",
       "line-height: var(--jp-code-line-height);\n",
       "\"><span style=\"color: var(--jp-warn-color2)\">lsst.sourceDetection</span> <span style=\"color: var(--jp-info-color0)\">INFO</span>: Detected 3995 positive peaks in 3098 footprints and 127 negative peaks in 127 footprints to 4 +ve and 4 -ve sigma</pre>"
      ],
      "text/plain": [
       "<IPython.core.display.HTML object>"
      ]
     },
     "metadata": {},
     "output_type": "display_data"
    },
    {
     "data": {
      "text/html": [
       "<pre style=\"margin: 0.1em;\n",
       "padding-left: 0.25em;\n",
       "border-left-style: solid;\n",
       "font-family: var(--jp-code-font-family);\n",
       "font-size: var(--jp-code-font-size);\n",
       "line-height: var(--jp-code-line-height);\n",
       "\"><span style=\"color: var(--jp-warn-color2)\">lsst.sourceDetection</span> <span style=\"color: var(--jp-info-color0)\">INFO</span>: Resubtracting the background after object detection</pre>"
      ],
      "text/plain": [
       "<IPython.core.display.HTML object>"
      ]
     },
     "metadata": {},
     "output_type": "display_data"
    },
    {
     "data": {
      "text/html": [
       "<pre style=\"margin: 0.1em;\n",
       "padding-left: 0.25em;\n",
       "border-left-style: solid;\n",
       "font-family: var(--jp-code-font-family);\n",
       "font-size: var(--jp-code-font-size);\n",
       "line-height: var(--jp-code-line-height);\n",
       "\"><span style=\"color: var(--jp-warn-color2)\">lsst.measurement</span> <span style=\"color: var(--jp-info-color0)\">INFO</span>: Measuring 3098 sources (3098 parents, 0 children) </pre>"
      ],
      "text/plain": [
       "<IPython.core.display.HTML object>"
      ]
     },
     "metadata": {},
     "output_type": "display_data"
    },
    {
     "name": "stdout",
     "output_type": "stream",
     "text": [
      "Searching in lc 4\n",
      "ra = 57.59451632893858, dec = -32.481152201226145\n",
      "Measured  24.024577139928493 0.2219310298799725\n",
      "Injected  17.999520247493123\n",
      " ------ CALEXP 6 ------\n",
      "Points injected: 4\n",
      "[0, 2, 8, 9]\n"
     ]
    },
    {
     "data": {
      "text/html": [
       "<pre style=\"margin: 0.1em;\n",
       "padding-left: 0.25em;\n",
       "border-left-style: solid;\n",
       "font-family: var(--jp-code-font-family);\n",
       "font-size: var(--jp-code-font-size);\n",
       "line-height: var(--jp-code-line-height);\n",
       "\"><span style=\"color: var(--jp-warn-color2)\">lsst.visitInjectTask</span> <span style=\"color: var(--jp-info-color0)\">INFO</span>: Retrieved 4 injection sources from 1 HTM trixel.</pre>"
      ],
      "text/plain": [
       "<IPython.core.display.HTML object>"
      ]
     },
     "metadata": {},
     "output_type": "display_data"
    },
    {
     "data": {
      "text/html": [
       "<pre style=\"margin: 0.1em;\n",
       "padding-left: 0.25em;\n",
       "border-left-style: solid;\n",
       "font-family: var(--jp-code-font-family);\n",
       "font-size: var(--jp-code-font-size);\n",
       "line-height: var(--jp-code-line-height);\n",
       "\"><span style=\"color: var(--jp-warn-color2)\">lsst.visitInjectTask</span> <span style=\"color: var(--jp-info-color0)\">INFO</span>: Catalog cleaning removed 0 of 4 sources; 4 remaining for catalog checking.</pre>"
      ],
      "text/plain": [
       "<IPython.core.display.HTML object>"
      ]
     },
     "metadata": {},
     "output_type": "display_data"
    },
    {
     "data": {
      "text/html": [
       "<pre style=\"margin: 0.1em;\n",
       "padding-left: 0.25em;\n",
       "border-left-style: solid;\n",
       "font-family: var(--jp-code-font-family);\n",
       "font-size: var(--jp-code-font-size);\n",
       "line-height: var(--jp-code-line-height);\n",
       "\"><span style=\"color: var(--jp-warn-color2)\">lsst.visitInjectTask</span> <span style=\"color: var(--jp-info-color0)\">INFO</span>: Catalog checking flagged 0 of 4 sources; 4 remaining for source generation.</pre>"
      ],
      "text/plain": [
       "<IPython.core.display.HTML object>"
      ]
     },
     "metadata": {},
     "output_type": "display_data"
    },
    {
     "data": {
      "text/html": [
       "<pre style=\"margin: 0.1em;\n",
       "padding-left: 0.25em;\n",
       "border-left-style: solid;\n",
       "font-family: var(--jp-code-font-family);\n",
       "font-size: var(--jp-code-font-size);\n",
       "line-height: var(--jp-code-line-height);\n",
       "\"><span style=\"color: var(--jp-warn-color2)\">lsst.visitInjectTask</span> <span style=\"color: var(--jp-info-color0)\">INFO</span>: Adding INJECTED and INJECTED_CORE mask planes to the exposure.</pre>"
      ],
      "text/plain": [
       "<IPython.core.display.HTML object>"
      ]
     },
     "metadata": {},
     "output_type": "display_data"
    },
    {
     "data": {
      "text/html": [
       "<pre style=\"margin: 0.1em;\n",
       "padding-left: 0.25em;\n",
       "border-left-style: solid;\n",
       "font-family: var(--jp-code-font-family);\n",
       "font-size: var(--jp-code-font-size);\n",
       "line-height: var(--jp-code-line-height);\n",
       "\"><span style=\"color: var(--jp-warn-color2)\">lsst.visitInjectTask</span> <span style=\"color: var(--jp-info-color0)\">INFO</span>: Generating 4 injection sources consisting of 1 unique type: DeltaFunction(4).</pre>"
      ],
      "text/plain": [
       "<IPython.core.display.HTML object>"
      ]
     },
     "metadata": {},
     "output_type": "display_data"
    },
    {
     "data": {
      "text/html": [
       "<pre style=\"margin: 0.1em;\n",
       "padding-left: 0.25em;\n",
       "border-left-style: solid;\n",
       "font-family: var(--jp-code-font-family);\n",
       "font-size: var(--jp-code-font-size);\n",
       "line-height: var(--jp-code-line-height);\n",
       "\"><span style=\"color: var(--jp-warn-color2)\">lsst.visitInjectTask</span> <span style=\"color: var(--jp-info-color0)\">INFO</span>: Injected 4 of 4 potential sources. 0 sources flagged and skipped.</pre>"
      ],
      "text/plain": [
       "<IPython.core.display.HTML object>"
      ]
     },
     "metadata": {},
     "output_type": "display_data"
    },
    {
     "data": {
      "text/html": [
       "<pre style=\"margin: 0.1em;\n",
       "padding-left: 0.25em;\n",
       "border-left-style: solid;\n",
       "font-family: var(--jp-code-font-family);\n",
       "font-size: var(--jp-code-font-size);\n",
       "line-height: var(--jp-code-line-height);\n",
       "\"><span style=\"color: var(--jp-warn-color2)\">lsst.sourceDetection</span> <span style=\"color: var(--jp-info-color0)\">INFO</span>: Setting factor for negative detections equal to that for positive detections: 1.000000</pre>"
      ],
      "text/plain": [
       "<IPython.core.display.HTML object>"
      ]
     },
     "metadata": {},
     "output_type": "display_data"
    },
    {
     "data": {
      "text/html": [
       "<pre style=\"margin: 0.1em;\n",
       "padding-left: 0.25em;\n",
       "border-left-style: solid;\n",
       "font-family: var(--jp-code-font-family);\n",
       "font-size: var(--jp-code-font-size);\n",
       "line-height: var(--jp-code-line-height);\n",
       "\"><span style=\"color: var(--jp-warn-color2)\">lsst.sourceDetection</span> <span style=\"color: var(--jp-info-color0)\">INFO</span>: Detected 3847 positive peaks in 3275 footprints and 131 negative peaks in 131 footprints to 4 +ve and 4 -ve sigma</pre>"
      ],
      "text/plain": [
       "<IPython.core.display.HTML object>"
      ]
     },
     "metadata": {},
     "output_type": "display_data"
    },
    {
     "data": {
      "text/html": [
       "<pre style=\"margin: 0.1em;\n",
       "padding-left: 0.25em;\n",
       "border-left-style: solid;\n",
       "font-family: var(--jp-code-font-family);\n",
       "font-size: var(--jp-code-font-size);\n",
       "line-height: var(--jp-code-line-height);\n",
       "\"><span style=\"color: var(--jp-warn-color2)\">lsst.sourceDetection</span> <span style=\"color: var(--jp-info-color0)\">INFO</span>: Resubtracting the background after object detection</pre>"
      ],
      "text/plain": [
       "<IPython.core.display.HTML object>"
      ]
     },
     "metadata": {},
     "output_type": "display_data"
    },
    {
     "data": {
      "text/html": [
       "<pre style=\"margin: 0.1em;\n",
       "padding-left: 0.25em;\n",
       "border-left-style: solid;\n",
       "font-family: var(--jp-code-font-family);\n",
       "font-size: var(--jp-code-font-size);\n",
       "line-height: var(--jp-code-line-height);\n",
       "\"><span style=\"color: var(--jp-warn-color2)\">lsst.measurement</span> <span style=\"color: var(--jp-info-color0)\">INFO</span>: Measuring 3275 sources (3275 parents, 0 children) </pre>"
      ],
      "text/plain": [
       "<IPython.core.display.HTML object>"
      ]
     },
     "metadata": {},
     "output_type": "display_data"
    },
    {
     "name": "stdout",
     "output_type": "stream",
     "text": [
      "Searching in lc 0\n",
      "Searching in lc 2\n",
      "Searching in lc 8\n",
      "Searching in lc 9\n",
      "ra = 57.59451632893858, dec = -32.481152201226145\n",
      "Measured  23.66223332599954 0.16068452531758992\n",
      "Injected  17.999520247493123\n",
      "ra = 57.55907861582008, dec = -32.361870580075546\n",
      "Measured  23.66223332599954 0.16068452531758992\n",
      "Injected  18.66618691415979\n",
      "ra = 57.45089048485629, dec = -32.631481438320925\n",
      "Measured  23.66223332599954 0.16068452531758992\n",
      "Injected  19.332853580826455\n",
      "ra = 57.73893256463617, dec = -32.40121681291804\n",
      "Measured  23.66223332599954 0.16068452531758992\n",
      "Injected  19.999520247493123\n",
      " ------ CALEXP 7 ------\n",
      "Points injected: 2\n",
      "[5, 6]\n"
     ]
    },
    {
     "data": {
      "text/html": [
       "<pre style=\"margin: 0.1em;\n",
       "padding-left: 0.25em;\n",
       "border-left-style: solid;\n",
       "font-family: var(--jp-code-font-family);\n",
       "font-size: var(--jp-code-font-size);\n",
       "line-height: var(--jp-code-line-height);\n",
       "\"><span style=\"color: var(--jp-warn-color2)\">lsst.visitInjectTask</span> <span style=\"color: var(--jp-info-color0)\">INFO</span>: Retrieved 2 injection sources from 1 HTM trixel.</pre>"
      ],
      "text/plain": [
       "<IPython.core.display.HTML object>"
      ]
     },
     "metadata": {},
     "output_type": "display_data"
    },
    {
     "data": {
      "text/html": [
       "<pre style=\"margin: 0.1em;\n",
       "padding-left: 0.25em;\n",
       "border-left-style: solid;\n",
       "font-family: var(--jp-code-font-family);\n",
       "font-size: var(--jp-code-font-size);\n",
       "line-height: var(--jp-code-line-height);\n",
       "\"><span style=\"color: var(--jp-warn-color2)\">lsst.visitInjectTask</span> <span style=\"color: var(--jp-info-color0)\">INFO</span>: Catalog cleaning removed 0 of 2 sources; 2 remaining for catalog checking.</pre>"
      ],
      "text/plain": [
       "<IPython.core.display.HTML object>"
      ]
     },
     "metadata": {},
     "output_type": "display_data"
    },
    {
     "data": {
      "text/html": [
       "<pre style=\"margin: 0.1em;\n",
       "padding-left: 0.25em;\n",
       "border-left-style: solid;\n",
       "font-family: var(--jp-code-font-family);\n",
       "font-size: var(--jp-code-font-size);\n",
       "line-height: var(--jp-code-line-height);\n",
       "\"><span style=\"color: var(--jp-warn-color2)\">lsst.visitInjectTask</span> <span style=\"color: var(--jp-info-color0)\">INFO</span>: Catalog checking flagged 0 of 2 sources; 2 remaining for source generation.</pre>"
      ],
      "text/plain": [
       "<IPython.core.display.HTML object>"
      ]
     },
     "metadata": {},
     "output_type": "display_data"
    },
    {
     "data": {
      "text/html": [
       "<pre style=\"margin: 0.1em;\n",
       "padding-left: 0.25em;\n",
       "border-left-style: solid;\n",
       "font-family: var(--jp-code-font-family);\n",
       "font-size: var(--jp-code-font-size);\n",
       "line-height: var(--jp-code-line-height);\n",
       "\"><span style=\"color: var(--jp-warn-color2)\">lsst.visitInjectTask</span> <span style=\"color: var(--jp-info-color0)\">INFO</span>: Adding INJECTED and INJECTED_CORE mask planes to the exposure.</pre>"
      ],
      "text/plain": [
       "<IPython.core.display.HTML object>"
      ]
     },
     "metadata": {},
     "output_type": "display_data"
    },
    {
     "data": {
      "text/html": [
       "<pre style=\"margin: 0.1em;\n",
       "padding-left: 0.25em;\n",
       "border-left-style: solid;\n",
       "font-family: var(--jp-code-font-family);\n",
       "font-size: var(--jp-code-font-size);\n",
       "line-height: var(--jp-code-line-height);\n",
       "\"><span style=\"color: var(--jp-warn-color2)\">lsst.visitInjectTask</span> <span style=\"color: var(--jp-info-color0)\">INFO</span>: Generating 2 injection sources consisting of 1 unique type: DeltaFunction(2).</pre>"
      ],
      "text/plain": [
       "<IPython.core.display.HTML object>"
      ]
     },
     "metadata": {},
     "output_type": "display_data"
    },
    {
     "data": {
      "text/html": [
       "<pre style=\"margin: 0.1em;\n",
       "padding-left: 0.25em;\n",
       "border-left-style: solid;\n",
       "font-family: var(--jp-code-font-family);\n",
       "font-size: var(--jp-code-font-size);\n",
       "line-height: var(--jp-code-line-height);\n",
       "\"><span style=\"color: var(--jp-warn-color2)\">lsst.visitInjectTask</span> <span style=\"color: var(--jp-info-color0)\">INFO</span>: Injected 2 of 2 potential sources. 0 sources flagged and skipped.</pre>"
      ],
      "text/plain": [
       "<IPython.core.display.HTML object>"
      ]
     },
     "metadata": {},
     "output_type": "display_data"
    },
    {
     "data": {
      "text/html": [
       "<pre style=\"margin: 0.1em;\n",
       "padding-left: 0.25em;\n",
       "border-left-style: solid;\n",
       "font-family: var(--jp-code-font-family);\n",
       "font-size: var(--jp-code-font-size);\n",
       "line-height: var(--jp-code-line-height);\n",
       "\"><span style=\"color: var(--jp-warn-color2)\">lsst.sourceDetection</span> <span style=\"color: var(--jp-info-color0)\">INFO</span>: Setting factor for negative detections equal to that for positive detections: 1.000000</pre>"
      ],
      "text/plain": [
       "<IPython.core.display.HTML object>"
      ]
     },
     "metadata": {},
     "output_type": "display_data"
    },
    {
     "data": {
      "text/html": [
       "<pre style=\"margin: 0.1em;\n",
       "padding-left: 0.25em;\n",
       "border-left-style: solid;\n",
       "font-family: var(--jp-code-font-family);\n",
       "font-size: var(--jp-code-font-size);\n",
       "line-height: var(--jp-code-line-height);\n",
       "\"><span style=\"color: var(--jp-warn-color2)\">lsst.sourceDetection</span> <span style=\"color: var(--jp-info-color0)\">INFO</span>: Detected 4353 positive peaks in 3675 footprints and 109 negative peaks in 109 footprints to 4 +ve and 4 -ve sigma</pre>"
      ],
      "text/plain": [
       "<IPython.core.display.HTML object>"
      ]
     },
     "metadata": {},
     "output_type": "display_data"
    },
    {
     "data": {
      "text/html": [
       "<pre style=\"margin: 0.1em;\n",
       "padding-left: 0.25em;\n",
       "border-left-style: solid;\n",
       "font-family: var(--jp-code-font-family);\n",
       "font-size: var(--jp-code-font-size);\n",
       "line-height: var(--jp-code-line-height);\n",
       "\"><span style=\"color: var(--jp-warn-color2)\">lsst.sourceDetection</span> <span style=\"color: var(--jp-info-color0)\">INFO</span>: Resubtracting the background after object detection</pre>"
      ],
      "text/plain": [
       "<IPython.core.display.HTML object>"
      ]
     },
     "metadata": {},
     "output_type": "display_data"
    },
    {
     "data": {
      "text/html": [
       "<pre style=\"margin: 0.1em;\n",
       "padding-left: 0.25em;\n",
       "border-left-style: solid;\n",
       "font-family: var(--jp-code-font-family);\n",
       "font-size: var(--jp-code-font-size);\n",
       "line-height: var(--jp-code-line-height);\n",
       "\"><span style=\"color: var(--jp-warn-color2)\">lsst.measurement</span> <span style=\"color: var(--jp-info-color0)\">INFO</span>: Measuring 3675 sources (3675 parents, 0 children) </pre>"
      ],
      "text/plain": [
       "<IPython.core.display.HTML object>"
      ]
     },
     "metadata": {},
     "output_type": "display_data"
    },
    {
     "name": "stdout",
     "output_type": "stream",
     "text": [
      "Searching in lc 5\n",
      "Searching in lc 6\n",
      "ra = 57.59451632893858, dec = -32.481152201226145\n",
      "Measured  24.19551322093813 0.26239352766604507\n",
      "Injected  17.999520247493123\n",
      "ra = 57.55907861582008, dec = -32.361870580075546\n",
      "Measured  24.19551322093813 0.26239352766604507\n",
      "Injected  18.66618691415979\n",
      " ------ CALEXP 8 ------\n",
      "Points injected: 5\n",
      "[0, 2, 5, 6, 9]\n"
     ]
    },
    {
     "data": {
      "text/html": [
       "<pre style=\"margin: 0.1em;\n",
       "padding-left: 0.25em;\n",
       "border-left-style: solid;\n",
       "font-family: var(--jp-code-font-family);\n",
       "font-size: var(--jp-code-font-size);\n",
       "line-height: var(--jp-code-line-height);\n",
       "\"><span style=\"color: var(--jp-warn-color2)\">lsst.visitInjectTask</span> <span style=\"color: var(--jp-info-color0)\">INFO</span>: Retrieved 5 injection sources from 1 HTM trixel.</pre>"
      ],
      "text/plain": [
       "<IPython.core.display.HTML object>"
      ]
     },
     "metadata": {},
     "output_type": "display_data"
    },
    {
     "data": {
      "text/html": [
       "<pre style=\"margin: 0.1em;\n",
       "padding-left: 0.25em;\n",
       "border-left-style: solid;\n",
       "font-family: var(--jp-code-font-family);\n",
       "font-size: var(--jp-code-font-size);\n",
       "line-height: var(--jp-code-line-height);\n",
       "\"><span style=\"color: var(--jp-warn-color2)\">lsst.visitInjectTask</span> <span style=\"color: var(--jp-info-color0)\">INFO</span>: Catalog cleaning removed 0 of 5 sources; 5 remaining for catalog checking.</pre>"
      ],
      "text/plain": [
       "<IPython.core.display.HTML object>"
      ]
     },
     "metadata": {},
     "output_type": "display_data"
    },
    {
     "data": {
      "text/html": [
       "<pre style=\"margin: 0.1em;\n",
       "padding-left: 0.25em;\n",
       "border-left-style: solid;\n",
       "font-family: var(--jp-code-font-family);\n",
       "font-size: var(--jp-code-font-size);\n",
       "line-height: var(--jp-code-line-height);\n",
       "\"><span style=\"color: var(--jp-warn-color2)\">lsst.visitInjectTask</span> <span style=\"color: var(--jp-info-color0)\">INFO</span>: Catalog checking flagged 0 of 5 sources; 5 remaining for source generation.</pre>"
      ],
      "text/plain": [
       "<IPython.core.display.HTML object>"
      ]
     },
     "metadata": {},
     "output_type": "display_data"
    },
    {
     "data": {
      "text/html": [
       "<pre style=\"margin: 0.1em;\n",
       "padding-left: 0.25em;\n",
       "border-left-style: solid;\n",
       "font-family: var(--jp-code-font-family);\n",
       "font-size: var(--jp-code-font-size);\n",
       "line-height: var(--jp-code-line-height);\n",
       "\"><span style=\"color: var(--jp-warn-color2)\">lsst.visitInjectTask</span> <span style=\"color: var(--jp-info-color0)\">INFO</span>: Adding INJECTED and INJECTED_CORE mask planes to the exposure.</pre>"
      ],
      "text/plain": [
       "<IPython.core.display.HTML object>"
      ]
     },
     "metadata": {},
     "output_type": "display_data"
    },
    {
     "data": {
      "text/html": [
       "<pre style=\"margin: 0.1em;\n",
       "padding-left: 0.25em;\n",
       "border-left-style: solid;\n",
       "font-family: var(--jp-code-font-family);\n",
       "font-size: var(--jp-code-font-size);\n",
       "line-height: var(--jp-code-line-height);\n",
       "\"><span style=\"color: var(--jp-warn-color2)\">lsst.visitInjectTask</span> <span style=\"color: var(--jp-info-color0)\">INFO</span>: Generating 5 injection sources consisting of 1 unique type: DeltaFunction(5).</pre>"
      ],
      "text/plain": [
       "<IPython.core.display.HTML object>"
      ]
     },
     "metadata": {},
     "output_type": "display_data"
    },
    {
     "data": {
      "text/html": [
       "<pre style=\"margin: 0.1em;\n",
       "padding-left: 0.25em;\n",
       "border-left-style: solid;\n",
       "font-family: var(--jp-code-font-family);\n",
       "font-size: var(--jp-code-font-size);\n",
       "line-height: var(--jp-code-line-height);\n",
       "\"><span style=\"color: var(--jp-warn-color2)\">lsst.visitInjectTask</span> <span style=\"color: var(--jp-info-color0)\">INFO</span>: Injected 5 of 5 potential sources. 0 sources flagged and skipped.</pre>"
      ],
      "text/plain": [
       "<IPython.core.display.HTML object>"
      ]
     },
     "metadata": {},
     "output_type": "display_data"
    },
    {
     "data": {
      "text/html": [
       "<pre style=\"margin: 0.1em;\n",
       "padding-left: 0.25em;\n",
       "border-left-style: solid;\n",
       "font-family: var(--jp-code-font-family);\n",
       "font-size: var(--jp-code-font-size);\n",
       "line-height: var(--jp-code-line-height);\n",
       "\"><span style=\"color: var(--jp-warn-color2)\">lsst.sourceDetection</span> <span style=\"color: var(--jp-info-color0)\">INFO</span>: Setting factor for negative detections equal to that for positive detections: 1.000000</pre>"
      ],
      "text/plain": [
       "<IPython.core.display.HTML object>"
      ]
     },
     "metadata": {},
     "output_type": "display_data"
    },
    {
     "data": {
      "text/html": [
       "<pre style=\"margin: 0.1em;\n",
       "padding-left: 0.25em;\n",
       "border-left-style: solid;\n",
       "font-family: var(--jp-code-font-family);\n",
       "font-size: var(--jp-code-font-size);\n",
       "line-height: var(--jp-code-line-height);\n",
       "\"><span style=\"color: var(--jp-warn-color2)\">lsst.sourceDetection</span> <span style=\"color: var(--jp-info-color0)\">INFO</span>: Detected 4250 positive peaks in 3619 footprints and 133 negative peaks in 131 footprints to 4 +ve and 4 -ve sigma</pre>"
      ],
      "text/plain": [
       "<IPython.core.display.HTML object>"
      ]
     },
     "metadata": {},
     "output_type": "display_data"
    },
    {
     "data": {
      "text/html": [
       "<pre style=\"margin: 0.1em;\n",
       "padding-left: 0.25em;\n",
       "border-left-style: solid;\n",
       "font-family: var(--jp-code-font-family);\n",
       "font-size: var(--jp-code-font-size);\n",
       "line-height: var(--jp-code-line-height);\n",
       "\"><span style=\"color: var(--jp-warn-color2)\">lsst.sourceDetection</span> <span style=\"color: var(--jp-info-color0)\">INFO</span>: Resubtracting the background after object detection</pre>"
      ],
      "text/plain": [
       "<IPython.core.display.HTML object>"
      ]
     },
     "metadata": {},
     "output_type": "display_data"
    },
    {
     "data": {
      "text/html": [
       "<pre style=\"margin: 0.1em;\n",
       "padding-left: 0.25em;\n",
       "border-left-style: solid;\n",
       "font-family: var(--jp-code-font-family);\n",
       "font-size: var(--jp-code-font-size);\n",
       "line-height: var(--jp-code-line-height);\n",
       "\"><span style=\"color: var(--jp-warn-color2)\">lsst.measurement</span> <span style=\"color: var(--jp-info-color0)\">INFO</span>: Measuring 3619 sources (3619 parents, 0 children) </pre>"
      ],
      "text/plain": [
       "<IPython.core.display.HTML object>"
      ]
     },
     "metadata": {},
     "output_type": "display_data"
    },
    {
     "name": "stdout",
     "output_type": "stream",
     "text": [
      "Searching in lc 0\n",
      "Searching in lc 2\n",
      "Searching in lc 5\n",
      "Searching in lc 6\n",
      "Searching in lc 9\n",
      "ra = 57.59451632893858, dec = -32.481152201226145\n",
      "Measured  23.520955208632977 0.13691979742257188\n",
      "Injected  17.999520246553935\n",
      "ra = 57.55907861582008, dec = -32.361870580075546\n",
      "Measured  23.520955208632977 0.13691979742257188\n",
      "Injected  18.666186913220603\n",
      "ra = 57.45089048485629, dec = -32.631481438320925\n",
      "Measured  23.520955208632977 0.13691979742257188\n",
      "Injected  19.332853579887267\n",
      "ra = 57.73893256463617, dec = -32.40121681291804\n",
      "Measured  23.520955208632977 0.13691979742257188\n",
      "Injected  19.999520246553935\n",
      "ra = 57.72435139129702, dec = -32.44243934613211\n",
      "Measured  23.520955208632977 0.13691979742257188\n",
      "Injected  20.666186913220603\n",
      " ------ CALEXP 9 ------\n",
      "No point is contained in the calexp\n",
      "(ra,dec) = (57.59451632893858, -32.481152201226145)/nHTM_ID = 2353633 - HTM_level=9 (bounded by a circle of radius ~561.27 arcsec.)\n"
     ]
    },
    {
     "name": "stderr",
     "output_type": "stream",
     "text": [
      "/opt/lsst/software/stack/conda/envs/lsst-scipipe-9.0.0/share/eups/Linux64/daf_butler/g588e17ab67+fac83bd63d/python/lsst/daf/butler/registry/queries/_structs.py:401: FutureWarning: Dimension 'htm20' should no longer be used in data IDs. Use the region 'OVERLAPS' operator in the where clause instead. Will be removed after v28.\n",
      "  warnings.warn(\n"
     ]
    },
    {
     "name": "stdout",
     "output_type": "stream",
     "text": [
      "Found 514 calexps\n"
     ]
    },
    {
     "name": "stderr",
     "output_type": "stream",
     "text": [
      "/home/karennowo/DP0_microlensing/light_curves.py:107: FutureWarning: The behavior of DataFrame concatenation with empty or all-NA entries is deprecated. In a future version, this will no longer exclude empty or all-NA columns when determining the result dtypes. To retain the old behavior, exclude the relevant entries before the concat operation.\n",
      "  self.data = pd.concat([self.data, new_data], ignore_index=True)\n"
     ]
    },
    {
     "name": "stdout",
     "output_type": "stream",
     "text": [
      " ------ CALEXP 0 ------\n",
      "No point is contained in the calexp\n",
      " ------ CALEXP 1 ------\n",
      "Points injected: 6\n",
      "[0, 2, 3, 4, 6, 9]\n"
     ]
    },
    {
     "data": {
      "text/html": [
       "<pre style=\"margin: 0.1em;\n",
       "padding-left: 0.25em;\n",
       "border-left-style: solid;\n",
       "font-family: var(--jp-code-font-family);\n",
       "font-size: var(--jp-code-font-size);\n",
       "line-height: var(--jp-code-line-height);\n",
       "\"><span style=\"color: var(--jp-warn-color2)\">lsst.visitInjectTask</span> <span style=\"color: var(--jp-info-color0)\">INFO</span>: Retrieved 6 injection sources from 1 HTM trixel.</pre>"
      ],
      "text/plain": [
       "<IPython.core.display.HTML object>"
      ]
     },
     "metadata": {},
     "output_type": "display_data"
    },
    {
     "data": {
      "text/html": [
       "<pre style=\"margin: 0.1em;\n",
       "padding-left: 0.25em;\n",
       "border-left-style: solid;\n",
       "font-family: var(--jp-code-font-family);\n",
       "font-size: var(--jp-code-font-size);\n",
       "line-height: var(--jp-code-line-height);\n",
       "\"><span style=\"color: var(--jp-warn-color2)\">lsst.visitInjectTask</span> <span style=\"color: var(--jp-info-color0)\">INFO</span>: Catalog cleaning removed 0 of 6 sources; 6 remaining for catalog checking.</pre>"
      ],
      "text/plain": [
       "<IPython.core.display.HTML object>"
      ]
     },
     "metadata": {},
     "output_type": "display_data"
    },
    {
     "data": {
      "text/html": [
       "<pre style=\"margin: 0.1em;\n",
       "padding-left: 0.25em;\n",
       "border-left-style: solid;\n",
       "font-family: var(--jp-code-font-family);\n",
       "font-size: var(--jp-code-font-size);\n",
       "line-height: var(--jp-code-line-height);\n",
       "\"><span style=\"color: var(--jp-warn-color2)\">lsst.visitInjectTask</span> <span style=\"color: var(--jp-info-color0)\">INFO</span>: Catalog checking flagged 0 of 6 sources; 6 remaining for source generation.</pre>"
      ],
      "text/plain": [
       "<IPython.core.display.HTML object>"
      ]
     },
     "metadata": {},
     "output_type": "display_data"
    },
    {
     "data": {
      "text/html": [
       "<pre style=\"margin: 0.1em;\n",
       "padding-left: 0.25em;\n",
       "border-left-style: solid;\n",
       "font-family: var(--jp-code-font-family);\n",
       "font-size: var(--jp-code-font-size);\n",
       "line-height: var(--jp-code-line-height);\n",
       "\"><span style=\"color: var(--jp-warn-color2)\">lsst.visitInjectTask</span> <span style=\"color: var(--jp-info-color0)\">INFO</span>: Adding INJECTED and INJECTED_CORE mask planes to the exposure.</pre>"
      ],
      "text/plain": [
       "<IPython.core.display.HTML object>"
      ]
     },
     "metadata": {},
     "output_type": "display_data"
    },
    {
     "data": {
      "text/html": [
       "<pre style=\"margin: 0.1em;\n",
       "padding-left: 0.25em;\n",
       "border-left-style: solid;\n",
       "font-family: var(--jp-code-font-family);\n",
       "font-size: var(--jp-code-font-size);\n",
       "line-height: var(--jp-code-line-height);\n",
       "\"><span style=\"color: var(--jp-warn-color2)\">lsst.visitInjectTask</span> <span style=\"color: var(--jp-info-color0)\">INFO</span>: Generating 6 injection sources consisting of 1 unique type: DeltaFunction(6).</pre>"
      ],
      "text/plain": [
       "<IPython.core.display.HTML object>"
      ]
     },
     "metadata": {},
     "output_type": "display_data"
    },
    {
     "data": {
      "text/html": [
       "<pre style=\"margin: 0.1em;\n",
       "padding-left: 0.25em;\n",
       "border-left-style: solid;\n",
       "font-family: var(--jp-code-font-family);\n",
       "font-size: var(--jp-code-font-size);\n",
       "line-height: var(--jp-code-line-height);\n",
       "\"><span style=\"color: var(--jp-warn-color2)\">lsst.visitInjectTask</span> <span style=\"color: var(--jp-info-color0)\">INFO</span>: Injected 6 of 6 potential sources. 0 sources flagged and skipped.</pre>"
      ],
      "text/plain": [
       "<IPython.core.display.HTML object>"
      ]
     },
     "metadata": {},
     "output_type": "display_data"
    },
    {
     "data": {
      "text/html": [
       "<pre style=\"margin: 0.1em;\n",
       "padding-left: 0.25em;\n",
       "border-left-style: solid;\n",
       "font-family: var(--jp-code-font-family);\n",
       "font-size: var(--jp-code-font-size);\n",
       "line-height: var(--jp-code-line-height);\n",
       "\"><span style=\"color: var(--jp-warn-color2)\">lsst.sourceDetection</span> <span style=\"color: var(--jp-info-color0)\">INFO</span>: Setting factor for negative detections equal to that for positive detections: 1.000000</pre>"
      ],
      "text/plain": [
       "<IPython.core.display.HTML object>"
      ]
     },
     "metadata": {},
     "output_type": "display_data"
    },
    {
     "data": {
      "text/html": [
       "<pre style=\"margin: 0.1em;\n",
       "padding-left: 0.25em;\n",
       "border-left-style: solid;\n",
       "font-family: var(--jp-code-font-family);\n",
       "font-size: var(--jp-code-font-size);\n",
       "line-height: var(--jp-code-line-height);\n",
       "\"><span style=\"color: var(--jp-warn-color2)\">lsst.sourceDetection</span> <span style=\"color: var(--jp-info-color0)\">INFO</span>: Detected 3070 positive peaks in 2615 footprints and 80 negative peaks in 80 footprints to 4 +ve and 4 -ve sigma</pre>"
      ],
      "text/plain": [
       "<IPython.core.display.HTML object>"
      ]
     },
     "metadata": {},
     "output_type": "display_data"
    },
    {
     "data": {
      "text/html": [
       "<pre style=\"margin: 0.1em;\n",
       "padding-left: 0.25em;\n",
       "border-left-style: solid;\n",
       "font-family: var(--jp-code-font-family);\n",
       "font-size: var(--jp-code-font-size);\n",
       "line-height: var(--jp-code-line-height);\n",
       "\"><span style=\"color: var(--jp-warn-color2)\">lsst.sourceDetection</span> <span style=\"color: var(--jp-info-color0)\">INFO</span>: Resubtracting the background after object detection</pre>"
      ],
      "text/plain": [
       "<IPython.core.display.HTML object>"
      ]
     },
     "metadata": {},
     "output_type": "display_data"
    },
    {
     "data": {
      "text/html": [
       "<pre style=\"margin: 0.1em;\n",
       "padding-left: 0.25em;\n",
       "border-left-style: solid;\n",
       "font-family: var(--jp-code-font-family);\n",
       "font-size: var(--jp-code-font-size);\n",
       "line-height: var(--jp-code-line-height);\n",
       "\"><span style=\"color: var(--jp-warn-color2)\">lsst.measurement</span> <span style=\"color: var(--jp-info-color0)\">INFO</span>: Measuring 2615 sources (2615 parents, 0 children) </pre>"
      ],
      "text/plain": [
       "<IPython.core.display.HTML object>"
      ]
     },
     "metadata": {},
     "output_type": "display_data"
    },
    {
     "name": "stdout",
     "output_type": "stream",
     "text": [
      "Searching in lc 0\n",
      "Searching in lc 2\n",
      "Searching in lc 3\n",
      "Searching in lc 4\n",
      "Searching in lc 6\n",
      "Searching in lc 9\n",
      "ra = 57.59451632893858, dec = -32.481152201226145\n",
      "Measured  19.65907508619509 0.0078102243037725325\n",
      "Injected  17.999800399179982\n",
      "ra = 57.39627438315968, dec = -32.32447911739932\n",
      "Measured  19.65907508619509 0.0078102243037725325\n",
      "Injected  18.66646706584665\n",
      "ra = 57.68398168998722, dec = -32.47058058361587\n",
      "Measured  19.65907508619509 0.0078102243037725325\n",
      "Injected  19.333133732513314\n",
      "ra = 57.77732297508722, dec = -32.54791892342759\n",
      "Measured  19.65907508619509 0.0078102243037725325\n",
      "Injected  19.999800399179982\n",
      "ra = 57.543355234152166, dec = -32.6202147841193\n",
      "Measured  19.65907508619509 0.0078102243037725325\n",
      "Injected  20.66646706584665\n",
      "ra = 57.553401179086165, dec = -32.543514582978915\n",
      "Measured  19.65907508619509 0.0078102243037725325\n",
      "Injected  21.333133732513314\n",
      " ------ CALEXP 2 ------\n",
      "Points injected: 2\n",
      "[4, 8]\n"
     ]
    },
    {
     "data": {
      "text/html": [
       "<pre style=\"margin: 0.1em;\n",
       "padding-left: 0.25em;\n",
       "border-left-style: solid;\n",
       "font-family: var(--jp-code-font-family);\n",
       "font-size: var(--jp-code-font-size);\n",
       "line-height: var(--jp-code-line-height);\n",
       "\"><span style=\"color: var(--jp-warn-color2)\">lsst.visitInjectTask</span> <span style=\"color: var(--jp-info-color0)\">INFO</span>: Retrieved 2 injection sources from 1 HTM trixel.</pre>"
      ],
      "text/plain": [
       "<IPython.core.display.HTML object>"
      ]
     },
     "metadata": {},
     "output_type": "display_data"
    },
    {
     "data": {
      "text/html": [
       "<pre style=\"margin: 0.1em;\n",
       "padding-left: 0.25em;\n",
       "border-left-style: solid;\n",
       "font-family: var(--jp-code-font-family);\n",
       "font-size: var(--jp-code-font-size);\n",
       "line-height: var(--jp-code-line-height);\n",
       "\"><span style=\"color: var(--jp-warn-color2)\">lsst.visitInjectTask</span> <span style=\"color: var(--jp-info-color0)\">INFO</span>: Catalog cleaning removed 0 of 2 sources; 2 remaining for catalog checking.</pre>"
      ],
      "text/plain": [
       "<IPython.core.display.HTML object>"
      ]
     },
     "metadata": {},
     "output_type": "display_data"
    },
    {
     "data": {
      "text/html": [
       "<pre style=\"margin: 0.1em;\n",
       "padding-left: 0.25em;\n",
       "border-left-style: solid;\n",
       "font-family: var(--jp-code-font-family);\n",
       "font-size: var(--jp-code-font-size);\n",
       "line-height: var(--jp-code-line-height);\n",
       "\"><span style=\"color: var(--jp-warn-color2)\">lsst.visitInjectTask</span> <span style=\"color: var(--jp-info-color0)\">INFO</span>: Catalog checking flagged 0 of 2 sources; 2 remaining for source generation.</pre>"
      ],
      "text/plain": [
       "<IPython.core.display.HTML object>"
      ]
     },
     "metadata": {},
     "output_type": "display_data"
    },
    {
     "data": {
      "text/html": [
       "<pre style=\"margin: 0.1em;\n",
       "padding-left: 0.25em;\n",
       "border-left-style: solid;\n",
       "font-family: var(--jp-code-font-family);\n",
       "font-size: var(--jp-code-font-size);\n",
       "line-height: var(--jp-code-line-height);\n",
       "\"><span style=\"color: var(--jp-warn-color2)\">lsst.visitInjectTask</span> <span style=\"color: var(--jp-info-color0)\">INFO</span>: Adding INJECTED and INJECTED_CORE mask planes to the exposure.</pre>"
      ],
      "text/plain": [
       "<IPython.core.display.HTML object>"
      ]
     },
     "metadata": {},
     "output_type": "display_data"
    },
    {
     "data": {
      "text/html": [
       "<pre style=\"margin: 0.1em;\n",
       "padding-left: 0.25em;\n",
       "border-left-style: solid;\n",
       "font-family: var(--jp-code-font-family);\n",
       "font-size: var(--jp-code-font-size);\n",
       "line-height: var(--jp-code-line-height);\n",
       "\"><span style=\"color: var(--jp-warn-color2)\">lsst.visitInjectTask</span> <span style=\"color: var(--jp-info-color0)\">INFO</span>: Generating 2 injection sources consisting of 1 unique type: DeltaFunction(2).</pre>"
      ],
      "text/plain": [
       "<IPython.core.display.HTML object>"
      ]
     },
     "metadata": {},
     "output_type": "display_data"
    },
    {
     "data": {
      "text/html": [
       "<pre style=\"margin: 0.1em;\n",
       "padding-left: 0.25em;\n",
       "border-left-style: solid;\n",
       "font-family: var(--jp-code-font-family);\n",
       "font-size: var(--jp-code-font-size);\n",
       "line-height: var(--jp-code-line-height);\n",
       "\"><span style=\"color: var(--jp-warn-color2)\">lsst.visitInjectTask</span> <span style=\"color: var(--jp-info-color0)\">INFO</span>: Injected 2 of 2 potential sources. 0 sources flagged and skipped.</pre>"
      ],
      "text/plain": [
       "<IPython.core.display.HTML object>"
      ]
     },
     "metadata": {},
     "output_type": "display_data"
    },
    {
     "data": {
      "text/html": [
       "<pre style=\"margin: 0.1em;\n",
       "padding-left: 0.25em;\n",
       "border-left-style: solid;\n",
       "font-family: var(--jp-code-font-family);\n",
       "font-size: var(--jp-code-font-size);\n",
       "line-height: var(--jp-code-line-height);\n",
       "\"><span style=\"color: var(--jp-warn-color2)\">lsst.sourceDetection</span> <span style=\"color: var(--jp-info-color0)\">INFO</span>: Setting factor for negative detections equal to that for positive detections: 1.000000</pre>"
      ],
      "text/plain": [
       "<IPython.core.display.HTML object>"
      ]
     },
     "metadata": {},
     "output_type": "display_data"
    },
    {
     "data": {
      "text/html": [
       "<pre style=\"margin: 0.1em;\n",
       "padding-left: 0.25em;\n",
       "border-left-style: solid;\n",
       "font-family: var(--jp-code-font-family);\n",
       "font-size: var(--jp-code-font-size);\n",
       "line-height: var(--jp-code-line-height);\n",
       "\"><span style=\"color: var(--jp-warn-color2)\">lsst.sourceDetection</span> <span style=\"color: var(--jp-info-color0)\">INFO</span>: Detected 2855 positive peaks in 2428 footprints and 103 negative peaks in 103 footprints to 4 +ve and 4 -ve sigma</pre>"
      ],
      "text/plain": [
       "<IPython.core.display.HTML object>"
      ]
     },
     "metadata": {},
     "output_type": "display_data"
    },
    {
     "data": {
      "text/html": [
       "<pre style=\"margin: 0.1em;\n",
       "padding-left: 0.25em;\n",
       "border-left-style: solid;\n",
       "font-family: var(--jp-code-font-family);\n",
       "font-size: var(--jp-code-font-size);\n",
       "line-height: var(--jp-code-line-height);\n",
       "\"><span style=\"color: var(--jp-warn-color2)\">lsst.sourceDetection</span> <span style=\"color: var(--jp-info-color0)\">INFO</span>: Resubtracting the background after object detection</pre>"
      ],
      "text/plain": [
       "<IPython.core.display.HTML object>"
      ]
     },
     "metadata": {},
     "output_type": "display_data"
    },
    {
     "data": {
      "text/html": [
       "<pre style=\"margin: 0.1em;\n",
       "padding-left: 0.25em;\n",
       "border-left-style: solid;\n",
       "font-family: var(--jp-code-font-family);\n",
       "font-size: var(--jp-code-font-size);\n",
       "line-height: var(--jp-code-line-height);\n",
       "\"><span style=\"color: var(--jp-warn-color2)\">lsst.measurement</span> <span style=\"color: var(--jp-info-color0)\">INFO</span>: Measuring 2428 sources (2428 parents, 0 children) </pre>"
      ],
      "text/plain": [
       "<IPython.core.display.HTML object>"
      ]
     },
     "metadata": {},
     "output_type": "display_data"
    },
    {
     "name": "stdout",
     "output_type": "stream",
     "text": [
      "Searching in lc 4\n",
      "Searching in lc 8\n",
      "ra = 57.59451632893858, dec = -32.481152201226145\n",
      "Measured  19.865657744638973 0.009239007818336179\n",
      "Injected  17.99952649985458\n",
      "ra = 57.39627438315968, dec = -32.32447911739932\n",
      "Measured  19.865657744638973 0.009239007818336179\n",
      "Injected  18.666193166521246\n",
      " ------ CALEXP 3 ------\n",
      "Points injected: 1\n",
      "[9]\n"
     ]
    },
    {
     "data": {
      "text/html": [
       "<pre style=\"margin: 0.1em;\n",
       "padding-left: 0.25em;\n",
       "border-left-style: solid;\n",
       "font-family: var(--jp-code-font-family);\n",
       "font-size: var(--jp-code-font-size);\n",
       "line-height: var(--jp-code-line-height);\n",
       "\"><span style=\"color: var(--jp-warn-color2)\">lsst.visitInjectTask</span> <span style=\"color: var(--jp-info-color0)\">INFO</span>: Retrieved 1 injection source from 1 HTM trixel.</pre>"
      ],
      "text/plain": [
       "<IPython.core.display.HTML object>"
      ]
     },
     "metadata": {},
     "output_type": "display_data"
    },
    {
     "data": {
      "text/html": [
       "<pre style=\"margin: 0.1em;\n",
       "padding-left: 0.25em;\n",
       "border-left-style: solid;\n",
       "font-family: var(--jp-code-font-family);\n",
       "font-size: var(--jp-code-font-size);\n",
       "line-height: var(--jp-code-line-height);\n",
       "\"><span style=\"color: var(--jp-warn-color2)\">lsst.visitInjectTask</span> <span style=\"color: var(--jp-info-color0)\">INFO</span>: Catalog cleaning removed 0 of 1 source; 1 remaining for catalog checking.</pre>"
      ],
      "text/plain": [
       "<IPython.core.display.HTML object>"
      ]
     },
     "metadata": {},
     "output_type": "display_data"
    },
    {
     "data": {
      "text/html": [
       "<pre style=\"margin: 0.1em;\n",
       "padding-left: 0.25em;\n",
       "border-left-style: solid;\n",
       "font-family: var(--jp-code-font-family);\n",
       "font-size: var(--jp-code-font-size);\n",
       "line-height: var(--jp-code-line-height);\n",
       "\"><span style=\"color: var(--jp-warn-color2)\">lsst.visitInjectTask</span> <span style=\"color: var(--jp-info-color0)\">INFO</span>: Catalog checking flagged 0 of 1 source; 1 remaining for source generation.</pre>"
      ],
      "text/plain": [
       "<IPython.core.display.HTML object>"
      ]
     },
     "metadata": {},
     "output_type": "display_data"
    },
    {
     "data": {
      "text/html": [
       "<pre style=\"margin: 0.1em;\n",
       "padding-left: 0.25em;\n",
       "border-left-style: solid;\n",
       "font-family: var(--jp-code-font-family);\n",
       "font-size: var(--jp-code-font-size);\n",
       "line-height: var(--jp-code-line-height);\n",
       "\"><span style=\"color: var(--jp-warn-color2)\">lsst.visitInjectTask</span> <span style=\"color: var(--jp-info-color0)\">INFO</span>: Adding INJECTED and INJECTED_CORE mask planes to the exposure.</pre>"
      ],
      "text/plain": [
       "<IPython.core.display.HTML object>"
      ]
     },
     "metadata": {},
     "output_type": "display_data"
    },
    {
     "data": {
      "text/html": [
       "<pre style=\"margin: 0.1em;\n",
       "padding-left: 0.25em;\n",
       "border-left-style: solid;\n",
       "font-family: var(--jp-code-font-family);\n",
       "font-size: var(--jp-code-font-size);\n",
       "line-height: var(--jp-code-line-height);\n",
       "\"><span style=\"color: var(--jp-warn-color2)\">lsst.visitInjectTask</span> <span style=\"color: var(--jp-info-color0)\">INFO</span>: Generating 1 injection source consisting of 1 unique type: DeltaFunction(1).</pre>"
      ],
      "text/plain": [
       "<IPython.core.display.HTML object>"
      ]
     },
     "metadata": {},
     "output_type": "display_data"
    },
    {
     "data": {
      "text/html": [
       "<pre style=\"margin: 0.1em;\n",
       "padding-left: 0.25em;\n",
       "border-left-style: solid;\n",
       "font-family: var(--jp-code-font-family);\n",
       "font-size: var(--jp-code-font-size);\n",
       "line-height: var(--jp-code-line-height);\n",
       "\"><span style=\"color: var(--jp-warn-color2)\">lsst.visitInjectTask</span> <span style=\"color: var(--jp-info-color0)\">INFO</span>: Injected 1 of 1 potential source. 0 sources flagged and skipped.</pre>"
      ],
      "text/plain": [
       "<IPython.core.display.HTML object>"
      ]
     },
     "metadata": {},
     "output_type": "display_data"
    },
    {
     "data": {
      "text/html": [
       "<pre style=\"margin: 0.1em;\n",
       "padding-left: 0.25em;\n",
       "border-left-style: solid;\n",
       "font-family: var(--jp-code-font-family);\n",
       "font-size: var(--jp-code-font-size);\n",
       "line-height: var(--jp-code-line-height);\n",
       "\"><span style=\"color: var(--jp-warn-color2)\">lsst.sourceDetection</span> <span style=\"color: var(--jp-info-color0)\">INFO</span>: Setting factor for negative detections equal to that for positive detections: 1.000000</pre>"
      ],
      "text/plain": [
       "<IPython.core.display.HTML object>"
      ]
     },
     "metadata": {},
     "output_type": "display_data"
    },
    {
     "data": {
      "text/html": [
       "<pre style=\"margin: 0.1em;\n",
       "padding-left: 0.25em;\n",
       "border-left-style: solid;\n",
       "font-family: var(--jp-code-font-family);\n",
       "font-size: var(--jp-code-font-size);\n",
       "line-height: var(--jp-code-line-height);\n",
       "\"><span style=\"color: var(--jp-warn-color2)\">lsst.sourceDetection</span> <span style=\"color: var(--jp-info-color0)\">INFO</span>: Detected 2814 positive peaks in 2351 footprints and 113 negative peaks in 109 footprints to 4 +ve and 4 -ve sigma</pre>"
      ],
      "text/plain": [
       "<IPython.core.display.HTML object>"
      ]
     },
     "metadata": {},
     "output_type": "display_data"
    },
    {
     "data": {
      "text/html": [
       "<pre style=\"margin: 0.1em;\n",
       "padding-left: 0.25em;\n",
       "border-left-style: solid;\n",
       "font-family: var(--jp-code-font-family);\n",
       "font-size: var(--jp-code-font-size);\n",
       "line-height: var(--jp-code-line-height);\n",
       "\"><span style=\"color: var(--jp-warn-color2)\">lsst.sourceDetection</span> <span style=\"color: var(--jp-info-color0)\">INFO</span>: Resubtracting the background after object detection</pre>"
      ],
      "text/plain": [
       "<IPython.core.display.HTML object>"
      ]
     },
     "metadata": {},
     "output_type": "display_data"
    },
    {
     "data": {
      "text/html": [
       "<pre style=\"margin: 0.1em;\n",
       "padding-left: 0.25em;\n",
       "border-left-style: solid;\n",
       "font-family: var(--jp-code-font-family);\n",
       "font-size: var(--jp-code-font-size);\n",
       "line-height: var(--jp-code-line-height);\n",
       "\"><span style=\"color: var(--jp-warn-color2)\">lsst.measurement</span> <span style=\"color: var(--jp-info-color0)\">INFO</span>: Measuring 2351 sources (2351 parents, 0 children) </pre>"
      ],
      "text/plain": [
       "<IPython.core.display.HTML object>"
      ]
     },
     "metadata": {},
     "output_type": "display_data"
    },
    {
     "name": "stdout",
     "output_type": "stream",
     "text": [
      "Searching in lc 9\n",
      "ra = 57.59451632893858, dec = -32.481152201226145\n",
      "Measured  22.619006492246566 0.09415165949590644\n",
      "Injected  17.99952649985458\n",
      " ------ CALEXP 4 ------\n",
      "No point is contained in the calexp\n",
      " ------ CALEXP 5 ------\n",
      "No point is contained in the calexp\n",
      " ------ CALEXP 6 ------\n",
      "Points injected: 5\n",
      "[0, 4, 5, 7, 8]\n"
     ]
    },
    {
     "data": {
      "text/html": [
       "<pre style=\"margin: 0.1em;\n",
       "padding-left: 0.25em;\n",
       "border-left-style: solid;\n",
       "font-family: var(--jp-code-font-family);\n",
       "font-size: var(--jp-code-font-size);\n",
       "line-height: var(--jp-code-line-height);\n",
       "\"><span style=\"color: var(--jp-warn-color2)\">lsst.visitInjectTask</span> <span style=\"color: var(--jp-info-color0)\">INFO</span>: Retrieved 5 injection sources from 1 HTM trixel.</pre>"
      ],
      "text/plain": [
       "<IPython.core.display.HTML object>"
      ]
     },
     "metadata": {},
     "output_type": "display_data"
    },
    {
     "data": {
      "text/html": [
       "<pre style=\"margin: 0.1em;\n",
       "padding-left: 0.25em;\n",
       "border-left-style: solid;\n",
       "font-family: var(--jp-code-font-family);\n",
       "font-size: var(--jp-code-font-size);\n",
       "line-height: var(--jp-code-line-height);\n",
       "\"><span style=\"color: var(--jp-warn-color2)\">lsst.visitInjectTask</span> <span style=\"color: var(--jp-info-color0)\">INFO</span>: Catalog cleaning removed 0 of 5 sources; 5 remaining for catalog checking.</pre>"
      ],
      "text/plain": [
       "<IPython.core.display.HTML object>"
      ]
     },
     "metadata": {},
     "output_type": "display_data"
    },
    {
     "data": {
      "text/html": [
       "<pre style=\"margin: 0.1em;\n",
       "padding-left: 0.25em;\n",
       "border-left-style: solid;\n",
       "font-family: var(--jp-code-font-family);\n",
       "font-size: var(--jp-code-font-size);\n",
       "line-height: var(--jp-code-line-height);\n",
       "\"><span style=\"color: var(--jp-warn-color2)\">lsst.visitInjectTask</span> <span style=\"color: var(--jp-info-color0)\">INFO</span>: Catalog checking flagged 0 of 5 sources; 5 remaining for source generation.</pre>"
      ],
      "text/plain": [
       "<IPython.core.display.HTML object>"
      ]
     },
     "metadata": {},
     "output_type": "display_data"
    },
    {
     "data": {
      "text/html": [
       "<pre style=\"margin: 0.1em;\n",
       "padding-left: 0.25em;\n",
       "border-left-style: solid;\n",
       "font-family: var(--jp-code-font-family);\n",
       "font-size: var(--jp-code-font-size);\n",
       "line-height: var(--jp-code-line-height);\n",
       "\"><span style=\"color: var(--jp-warn-color2)\">lsst.visitInjectTask</span> <span style=\"color: var(--jp-info-color0)\">INFO</span>: Adding INJECTED and INJECTED_CORE mask planes to the exposure.</pre>"
      ],
      "text/plain": [
       "<IPython.core.display.HTML object>"
      ]
     },
     "metadata": {},
     "output_type": "display_data"
    },
    {
     "data": {
      "text/html": [
       "<pre style=\"margin: 0.1em;\n",
       "padding-left: 0.25em;\n",
       "border-left-style: solid;\n",
       "font-family: var(--jp-code-font-family);\n",
       "font-size: var(--jp-code-font-size);\n",
       "line-height: var(--jp-code-line-height);\n",
       "\"><span style=\"color: var(--jp-warn-color2)\">lsst.visitInjectTask</span> <span style=\"color: var(--jp-info-color0)\">INFO</span>: Generating 5 injection sources consisting of 1 unique type: DeltaFunction(5).</pre>"
      ],
      "text/plain": [
       "<IPython.core.display.HTML object>"
      ]
     },
     "metadata": {},
     "output_type": "display_data"
    },
    {
     "data": {
      "text/html": [
       "<pre style=\"margin: 0.1em;\n",
       "padding-left: 0.25em;\n",
       "border-left-style: solid;\n",
       "font-family: var(--jp-code-font-family);\n",
       "font-size: var(--jp-code-font-size);\n",
       "line-height: var(--jp-code-line-height);\n",
       "\"><span style=\"color: var(--jp-warn-color2)\">lsst.visitInjectTask</span> <span style=\"color: var(--jp-info-color0)\">INFO</span>: Injected 5 of 5 potential sources. 0 sources flagged and skipped.</pre>"
      ],
      "text/plain": [
       "<IPython.core.display.HTML object>"
      ]
     },
     "metadata": {},
     "output_type": "display_data"
    },
    {
     "data": {
      "text/html": [
       "<pre style=\"margin: 0.1em;\n",
       "padding-left: 0.25em;\n",
       "border-left-style: solid;\n",
       "font-family: var(--jp-code-font-family);\n",
       "font-size: var(--jp-code-font-size);\n",
       "line-height: var(--jp-code-line-height);\n",
       "\"><span style=\"color: var(--jp-warn-color2)\">lsst.sourceDetection</span> <span style=\"color: var(--jp-info-color0)\">INFO</span>: Setting factor for negative detections equal to that for positive detections: 1.000000</pre>"
      ],
      "text/plain": [
       "<IPython.core.display.HTML object>"
      ]
     },
     "metadata": {},
     "output_type": "display_data"
    },
    {
     "data": {
      "text/html": [
       "<pre style=\"margin: 0.1em;\n",
       "padding-left: 0.25em;\n",
       "border-left-style: solid;\n",
       "font-family: var(--jp-code-font-family);\n",
       "font-size: var(--jp-code-font-size);\n",
       "line-height: var(--jp-code-line-height);\n",
       "\"><span style=\"color: var(--jp-warn-color2)\">lsst.sourceDetection</span> <span style=\"color: var(--jp-info-color0)\">INFO</span>: Detected 3634 positive peaks in 3125 footprints and 154 negative peaks in 153 footprints to 4 +ve and 4 -ve sigma</pre>"
      ],
      "text/plain": [
       "<IPython.core.display.HTML object>"
      ]
     },
     "metadata": {},
     "output_type": "display_data"
    },
    {
     "data": {
      "text/html": [
       "<pre style=\"margin: 0.1em;\n",
       "padding-left: 0.25em;\n",
       "border-left-style: solid;\n",
       "font-family: var(--jp-code-font-family);\n",
       "font-size: var(--jp-code-font-size);\n",
       "line-height: var(--jp-code-line-height);\n",
       "\"><span style=\"color: var(--jp-warn-color2)\">lsst.sourceDetection</span> <span style=\"color: var(--jp-info-color0)\">INFO</span>: Resubtracting the background after object detection</pre>"
      ],
      "text/plain": [
       "<IPython.core.display.HTML object>"
      ]
     },
     "metadata": {},
     "output_type": "display_data"
    },
    {
     "data": {
      "text/html": [
       "<pre style=\"margin: 0.1em;\n",
       "padding-left: 0.25em;\n",
       "border-left-style: solid;\n",
       "font-family: var(--jp-code-font-family);\n",
       "font-size: var(--jp-code-font-size);\n",
       "line-height: var(--jp-code-line-height);\n",
       "\"><span style=\"color: var(--jp-warn-color2)\">lsst.measurement</span> <span style=\"color: var(--jp-info-color0)\">INFO</span>: Measuring 3125 sources (3125 parents, 0 children) </pre>"
      ],
      "text/plain": [
       "<IPython.core.display.HTML object>"
      ]
     },
     "metadata": {},
     "output_type": "display_data"
    },
    {
     "name": "stdout",
     "output_type": "stream",
     "text": [
      "Searching in lc 0\n",
      "Searching in lc 4\n",
      "Searching in lc 5\n",
      "Searching in lc 7\n",
      "Searching in lc 8\n",
      "ra = 57.59451632893858, dec = -32.481152201226145\n",
      "Measured  22.032633773586806 0.043783098271577635\n",
      "Injected  17.999526457030296\n",
      "ra = 57.39627438315968, dec = -32.32447911739932\n",
      "Measured  22.032633773586806 0.043783098271577635\n",
      "Injected  18.666193123696964\n",
      "ra = 57.68398168998722, dec = -32.47058058361587\n",
      "Measured  22.032633773586806 0.043783098271577635\n",
      "Injected  19.332859790363628\n",
      "ra = 57.77732297508722, dec = -32.54791892342759\n",
      "Measured  22.032633773586806 0.043783098271577635\n",
      "Injected  19.999526457030296\n",
      "ra = 57.543355234152166, dec = -32.6202147841193\n",
      "Measured  22.032633773586806 0.043783098271577635\n",
      "Injected  20.666193123696964\n",
      " ------ CALEXP 7 ------\n",
      "Points injected: 3\n",
      "[3, 6, 9]\n"
     ]
    },
    {
     "data": {
      "text/html": [
       "<pre style=\"margin: 0.1em;\n",
       "padding-left: 0.25em;\n",
       "border-left-style: solid;\n",
       "font-family: var(--jp-code-font-family);\n",
       "font-size: var(--jp-code-font-size);\n",
       "line-height: var(--jp-code-line-height);\n",
       "\"><span style=\"color: var(--jp-warn-color2)\">lsst.visitInjectTask</span> <span style=\"color: var(--jp-info-color0)\">INFO</span>: Retrieved 3 injection sources from 1 HTM trixel.</pre>"
      ],
      "text/plain": [
       "<IPython.core.display.HTML object>"
      ]
     },
     "metadata": {},
     "output_type": "display_data"
    },
    {
     "data": {
      "text/html": [
       "<pre style=\"margin: 0.1em;\n",
       "padding-left: 0.25em;\n",
       "border-left-style: solid;\n",
       "font-family: var(--jp-code-font-family);\n",
       "font-size: var(--jp-code-font-size);\n",
       "line-height: var(--jp-code-line-height);\n",
       "\"><span style=\"color: var(--jp-warn-color2)\">lsst.visitInjectTask</span> <span style=\"color: var(--jp-info-color0)\">INFO</span>: Catalog cleaning removed 0 of 3 sources; 3 remaining for catalog checking.</pre>"
      ],
      "text/plain": [
       "<IPython.core.display.HTML object>"
      ]
     },
     "metadata": {},
     "output_type": "display_data"
    },
    {
     "data": {
      "text/html": [
       "<pre style=\"margin: 0.1em;\n",
       "padding-left: 0.25em;\n",
       "border-left-style: solid;\n",
       "font-family: var(--jp-code-font-family);\n",
       "font-size: var(--jp-code-font-size);\n",
       "line-height: var(--jp-code-line-height);\n",
       "\"><span style=\"color: var(--jp-warn-color2)\">lsst.visitInjectTask</span> <span style=\"color: var(--jp-info-color0)\">INFO</span>: Catalog checking flagged 0 of 3 sources; 3 remaining for source generation.</pre>"
      ],
      "text/plain": [
       "<IPython.core.display.HTML object>"
      ]
     },
     "metadata": {},
     "output_type": "display_data"
    },
    {
     "data": {
      "text/html": [
       "<pre style=\"margin: 0.1em;\n",
       "padding-left: 0.25em;\n",
       "border-left-style: solid;\n",
       "font-family: var(--jp-code-font-family);\n",
       "font-size: var(--jp-code-font-size);\n",
       "line-height: var(--jp-code-line-height);\n",
       "\"><span style=\"color: var(--jp-warn-color2)\">lsst.visitInjectTask</span> <span style=\"color: var(--jp-info-color0)\">INFO</span>: Adding INJECTED and INJECTED_CORE mask planes to the exposure.</pre>"
      ],
      "text/plain": [
       "<IPython.core.display.HTML object>"
      ]
     },
     "metadata": {},
     "output_type": "display_data"
    },
    {
     "data": {
      "text/html": [
       "<pre style=\"margin: 0.1em;\n",
       "padding-left: 0.25em;\n",
       "border-left-style: solid;\n",
       "font-family: var(--jp-code-font-family);\n",
       "font-size: var(--jp-code-font-size);\n",
       "line-height: var(--jp-code-line-height);\n",
       "\"><span style=\"color: var(--jp-warn-color2)\">lsst.visitInjectTask</span> <span style=\"color: var(--jp-info-color0)\">INFO</span>: Generating 3 injection sources consisting of 1 unique type: DeltaFunction(3).</pre>"
      ],
      "text/plain": [
       "<IPython.core.display.HTML object>"
      ]
     },
     "metadata": {},
     "output_type": "display_data"
    },
    {
     "data": {
      "text/html": [
       "<pre style=\"margin: 0.1em;\n",
       "padding-left: 0.25em;\n",
       "border-left-style: solid;\n",
       "font-family: var(--jp-code-font-family);\n",
       "font-size: var(--jp-code-font-size);\n",
       "line-height: var(--jp-code-line-height);\n",
       "\"><span style=\"color: var(--jp-warn-color2)\">lsst.visitInjectTask</span> <span style=\"color: var(--jp-info-color0)\">INFO</span>: Injected 3 of 3 potential sources. 0 sources flagged and skipped.</pre>"
      ],
      "text/plain": [
       "<IPython.core.display.HTML object>"
      ]
     },
     "metadata": {},
     "output_type": "display_data"
    },
    {
     "data": {
      "text/html": [
       "<pre style=\"margin: 0.1em;\n",
       "padding-left: 0.25em;\n",
       "border-left-style: solid;\n",
       "font-family: var(--jp-code-font-family);\n",
       "font-size: var(--jp-code-font-size);\n",
       "line-height: var(--jp-code-line-height);\n",
       "\"><span style=\"color: var(--jp-warn-color2)\">lsst.sourceDetection</span> <span style=\"color: var(--jp-info-color0)\">INFO</span>: Setting factor for negative detections equal to that for positive detections: 1.000000</pre>"
      ],
      "text/plain": [
       "<IPython.core.display.HTML object>"
      ]
     },
     "metadata": {},
     "output_type": "display_data"
    },
    {
     "data": {
      "text/html": [
       "<pre style=\"margin: 0.1em;\n",
       "padding-left: 0.25em;\n",
       "border-left-style: solid;\n",
       "font-family: var(--jp-code-font-family);\n",
       "font-size: var(--jp-code-font-size);\n",
       "line-height: var(--jp-code-line-height);\n",
       "\"><span style=\"color: var(--jp-warn-color2)\">lsst.sourceDetection</span> <span style=\"color: var(--jp-info-color0)\">INFO</span>: Detected 3323 positive peaks in 2782 footprints and 140 negative peaks in 139 footprints to 4 +ve and 4 -ve sigma</pre>"
      ],
      "text/plain": [
       "<IPython.core.display.HTML object>"
      ]
     },
     "metadata": {},
     "output_type": "display_data"
    },
    {
     "data": {
      "text/html": [
       "<pre style=\"margin: 0.1em;\n",
       "padding-left: 0.25em;\n",
       "border-left-style: solid;\n",
       "font-family: var(--jp-code-font-family);\n",
       "font-size: var(--jp-code-font-size);\n",
       "line-height: var(--jp-code-line-height);\n",
       "\"><span style=\"color: var(--jp-warn-color2)\">lsst.sourceDetection</span> <span style=\"color: var(--jp-info-color0)\">INFO</span>: Resubtracting the background after object detection</pre>"
      ],
      "text/plain": [
       "<IPython.core.display.HTML object>"
      ]
     },
     "metadata": {},
     "output_type": "display_data"
    },
    {
     "data": {
      "text/html": [
       "<pre style=\"margin: 0.1em;\n",
       "padding-left: 0.25em;\n",
       "border-left-style: solid;\n",
       "font-family: var(--jp-code-font-family);\n",
       "font-size: var(--jp-code-font-size);\n",
       "line-height: var(--jp-code-line-height);\n",
       "\"><span style=\"color: var(--jp-warn-color2)\">lsst.measurement</span> <span style=\"color: var(--jp-info-color0)\">INFO</span>: Measuring 2782 sources (2782 parents, 0 children) </pre>"
      ],
      "text/plain": [
       "<IPython.core.display.HTML object>"
      ]
     },
     "metadata": {},
     "output_type": "display_data"
    },
    {
     "name": "stdout",
     "output_type": "stream",
     "text": [
      "Searching in lc 3\n",
      "Searching in lc 6\n",
      "Searching in lc 9\n",
      "ra = 57.59451632893858, dec = -32.481152201226145\n",
      "Measured  23.53356144064073 0.1657476697753317\n",
      "Injected  17.999526457030296\n",
      "ra = 57.39627438315968, dec = -32.32447911739932\n",
      "Measured  23.53356144064073 0.1657476697753317\n",
      "Injected  18.666193123696964\n",
      "ra = 57.68398168998722, dec = -32.47058058361587\n",
      "Measured  23.53356144064073 0.1657476697753317\n",
      "Injected  19.332859790363628\n",
      " ------ CALEXP 8 ------\n",
      "Points injected: 3\n",
      "[2, 3, 6]\n"
     ]
    },
    {
     "data": {
      "text/html": [
       "<pre style=\"margin: 0.1em;\n",
       "padding-left: 0.25em;\n",
       "border-left-style: solid;\n",
       "font-family: var(--jp-code-font-family);\n",
       "font-size: var(--jp-code-font-size);\n",
       "line-height: var(--jp-code-line-height);\n",
       "\"><span style=\"color: var(--jp-warn-color2)\">lsst.visitInjectTask</span> <span style=\"color: var(--jp-info-color0)\">INFO</span>: Retrieved 3 injection sources from 1 HTM trixel.</pre>"
      ],
      "text/plain": [
       "<IPython.core.display.HTML object>"
      ]
     },
     "metadata": {},
     "output_type": "display_data"
    },
    {
     "data": {
      "text/html": [
       "<pre style=\"margin: 0.1em;\n",
       "padding-left: 0.25em;\n",
       "border-left-style: solid;\n",
       "font-family: var(--jp-code-font-family);\n",
       "font-size: var(--jp-code-font-size);\n",
       "line-height: var(--jp-code-line-height);\n",
       "\"><span style=\"color: var(--jp-warn-color2)\">lsst.visitInjectTask</span> <span style=\"color: var(--jp-info-color0)\">INFO</span>: Catalog cleaning removed 0 of 3 sources; 3 remaining for catalog checking.</pre>"
      ],
      "text/plain": [
       "<IPython.core.display.HTML object>"
      ]
     },
     "metadata": {},
     "output_type": "display_data"
    },
    {
     "data": {
      "text/html": [
       "<pre style=\"margin: 0.1em;\n",
       "padding-left: 0.25em;\n",
       "border-left-style: solid;\n",
       "font-family: var(--jp-code-font-family);\n",
       "font-size: var(--jp-code-font-size);\n",
       "line-height: var(--jp-code-line-height);\n",
       "\"><span style=\"color: var(--jp-warn-color2)\">lsst.visitInjectTask</span> <span style=\"color: var(--jp-info-color0)\">INFO</span>: Catalog checking flagged 0 of 3 sources; 3 remaining for source generation.</pre>"
      ],
      "text/plain": [
       "<IPython.core.display.HTML object>"
      ]
     },
     "metadata": {},
     "output_type": "display_data"
    },
    {
     "data": {
      "text/html": [
       "<pre style=\"margin: 0.1em;\n",
       "padding-left: 0.25em;\n",
       "border-left-style: solid;\n",
       "font-family: var(--jp-code-font-family);\n",
       "font-size: var(--jp-code-font-size);\n",
       "line-height: var(--jp-code-line-height);\n",
       "\"><span style=\"color: var(--jp-warn-color2)\">lsst.visitInjectTask</span> <span style=\"color: var(--jp-info-color0)\">INFO</span>: Adding INJECTED and INJECTED_CORE mask planes to the exposure.</pre>"
      ],
      "text/plain": [
       "<IPython.core.display.HTML object>"
      ]
     },
     "metadata": {},
     "output_type": "display_data"
    },
    {
     "data": {
      "text/html": [
       "<pre style=\"margin: 0.1em;\n",
       "padding-left: 0.25em;\n",
       "border-left-style: solid;\n",
       "font-family: var(--jp-code-font-family);\n",
       "font-size: var(--jp-code-font-size);\n",
       "line-height: var(--jp-code-line-height);\n",
       "\"><span style=\"color: var(--jp-warn-color2)\">lsst.visitInjectTask</span> <span style=\"color: var(--jp-info-color0)\">INFO</span>: Generating 3 injection sources consisting of 1 unique type: DeltaFunction(3).</pre>"
      ],
      "text/plain": [
       "<IPython.core.display.HTML object>"
      ]
     },
     "metadata": {},
     "output_type": "display_data"
    },
    {
     "data": {
      "text/html": [
       "<pre style=\"margin: 0.1em;\n",
       "padding-left: 0.25em;\n",
       "border-left-style: solid;\n",
       "font-family: var(--jp-code-font-family);\n",
       "font-size: var(--jp-code-font-size);\n",
       "line-height: var(--jp-code-line-height);\n",
       "\"><span style=\"color: var(--jp-warn-color2)\">lsst.visitInjectTask</span> <span style=\"color: var(--jp-info-color0)\">INFO</span>: Injected 3 of 3 potential sources. 0 sources flagged and skipped.</pre>"
      ],
      "text/plain": [
       "<IPython.core.display.HTML object>"
      ]
     },
     "metadata": {},
     "output_type": "display_data"
    },
    {
     "data": {
      "text/html": [
       "<pre style=\"margin: 0.1em;\n",
       "padding-left: 0.25em;\n",
       "border-left-style: solid;\n",
       "font-family: var(--jp-code-font-family);\n",
       "font-size: var(--jp-code-font-size);\n",
       "line-height: var(--jp-code-line-height);\n",
       "\"><span style=\"color: var(--jp-warn-color2)\">lsst.sourceDetection</span> <span style=\"color: var(--jp-info-color0)\">INFO</span>: Setting factor for negative detections equal to that for positive detections: 1.000000</pre>"
      ],
      "text/plain": [
       "<IPython.core.display.HTML object>"
      ]
     },
     "metadata": {},
     "output_type": "display_data"
    },
    {
     "data": {
      "text/html": [
       "<pre style=\"margin: 0.1em;\n",
       "padding-left: 0.25em;\n",
       "border-left-style: solid;\n",
       "font-family: var(--jp-code-font-family);\n",
       "font-size: var(--jp-code-font-size);\n",
       "line-height: var(--jp-code-line-height);\n",
       "\"><span style=\"color: var(--jp-warn-color2)\">lsst.sourceDetection</span> <span style=\"color: var(--jp-info-color0)\">INFO</span>: Detected 3559 positive peaks in 2868 footprints and 147 negative peaks in 147 footprints to 4 +ve and 4 -ve sigma</pre>"
      ],
      "text/plain": [
       "<IPython.core.display.HTML object>"
      ]
     },
     "metadata": {},
     "output_type": "display_data"
    },
    {
     "data": {
      "text/html": [
       "<pre style=\"margin: 0.1em;\n",
       "padding-left: 0.25em;\n",
       "border-left-style: solid;\n",
       "font-family: var(--jp-code-font-family);\n",
       "font-size: var(--jp-code-font-size);\n",
       "line-height: var(--jp-code-line-height);\n",
       "\"><span style=\"color: var(--jp-warn-color2)\">lsst.sourceDetection</span> <span style=\"color: var(--jp-info-color0)\">INFO</span>: Resubtracting the background after object detection</pre>"
      ],
      "text/plain": [
       "<IPython.core.display.HTML object>"
      ]
     },
     "metadata": {},
     "output_type": "display_data"
    },
    {
     "data": {
      "text/html": [
       "<pre style=\"margin: 0.1em;\n",
       "padding-left: 0.25em;\n",
       "border-left-style: solid;\n",
       "font-family: var(--jp-code-font-family);\n",
       "font-size: var(--jp-code-font-size);\n",
       "line-height: var(--jp-code-line-height);\n",
       "\"><span style=\"color: var(--jp-warn-color2)\">lsst.measurement</span> <span style=\"color: var(--jp-info-color0)\">INFO</span>: Measuring 2868 sources (2868 parents, 0 children) </pre>"
      ],
      "text/plain": [
       "<IPython.core.display.HTML object>"
      ]
     },
     "metadata": {},
     "output_type": "display_data"
    },
    {
     "name": "stdout",
     "output_type": "stream",
     "text": [
      "Searching in lc 2\n",
      "Searching in lc 3\n",
      "Searching in lc 6\n",
      "ra = 57.59451632893858, dec = -32.481152201226145\n",
      "Measured  23.630235313831072 0.18140472767643404\n",
      "Injected  17.999526450553148\n",
      "ra = 57.39627438315968, dec = -32.32447911739932\n",
      "Measured  23.630235313831072 0.18140472767643404\n",
      "Injected  18.666193117219816\n",
      "ra = 57.68398168998722, dec = -32.47058058361587\n",
      "Measured  23.630235313831072 0.18140472767643404\n",
      "Injected  19.33285978388648\n",
      " ------ CALEXP 9 ------\n",
      "Points injected: 3\n",
      "[2, 3, 6]\n"
     ]
    },
    {
     "data": {
      "text/html": [
       "<pre style=\"margin: 0.1em;\n",
       "padding-left: 0.25em;\n",
       "border-left-style: solid;\n",
       "font-family: var(--jp-code-font-family);\n",
       "font-size: var(--jp-code-font-size);\n",
       "line-height: var(--jp-code-line-height);\n",
       "\"><span style=\"color: var(--jp-warn-color2)\">lsst.visitInjectTask</span> <span style=\"color: var(--jp-info-color0)\">INFO</span>: Retrieved 3 injection sources from 1 HTM trixel.</pre>"
      ],
      "text/plain": [
       "<IPython.core.display.HTML object>"
      ]
     },
     "metadata": {},
     "output_type": "display_data"
    },
    {
     "data": {
      "text/html": [
       "<pre style=\"margin: 0.1em;\n",
       "padding-left: 0.25em;\n",
       "border-left-style: solid;\n",
       "font-family: var(--jp-code-font-family);\n",
       "font-size: var(--jp-code-font-size);\n",
       "line-height: var(--jp-code-line-height);\n",
       "\"><span style=\"color: var(--jp-warn-color2)\">lsst.visitInjectTask</span> <span style=\"color: var(--jp-info-color0)\">INFO</span>: Catalog cleaning removed 0 of 3 sources; 3 remaining for catalog checking.</pre>"
      ],
      "text/plain": [
       "<IPython.core.display.HTML object>"
      ]
     },
     "metadata": {},
     "output_type": "display_data"
    },
    {
     "data": {
      "text/html": [
       "<pre style=\"margin: 0.1em;\n",
       "padding-left: 0.25em;\n",
       "border-left-style: solid;\n",
       "font-family: var(--jp-code-font-family);\n",
       "font-size: var(--jp-code-font-size);\n",
       "line-height: var(--jp-code-line-height);\n",
       "\"><span style=\"color: var(--jp-warn-color2)\">lsst.visitInjectTask</span> <span style=\"color: var(--jp-info-color0)\">INFO</span>: Catalog checking flagged 0 of 3 sources; 3 remaining for source generation.</pre>"
      ],
      "text/plain": [
       "<IPython.core.display.HTML object>"
      ]
     },
     "metadata": {},
     "output_type": "display_data"
    },
    {
     "data": {
      "text/html": [
       "<pre style=\"margin: 0.1em;\n",
       "padding-left: 0.25em;\n",
       "border-left-style: solid;\n",
       "font-family: var(--jp-code-font-family);\n",
       "font-size: var(--jp-code-font-size);\n",
       "line-height: var(--jp-code-line-height);\n",
       "\"><span style=\"color: var(--jp-warn-color2)\">lsst.visitInjectTask</span> <span style=\"color: var(--jp-info-color0)\">INFO</span>: Adding INJECTED and INJECTED_CORE mask planes to the exposure.</pre>"
      ],
      "text/plain": [
       "<IPython.core.display.HTML object>"
      ]
     },
     "metadata": {},
     "output_type": "display_data"
    },
    {
     "data": {
      "text/html": [
       "<pre style=\"margin: 0.1em;\n",
       "padding-left: 0.25em;\n",
       "border-left-style: solid;\n",
       "font-family: var(--jp-code-font-family);\n",
       "font-size: var(--jp-code-font-size);\n",
       "line-height: var(--jp-code-line-height);\n",
       "\"><span style=\"color: var(--jp-warn-color2)\">lsst.visitInjectTask</span> <span style=\"color: var(--jp-info-color0)\">INFO</span>: Generating 3 injection sources consisting of 1 unique type: DeltaFunction(3).</pre>"
      ],
      "text/plain": [
       "<IPython.core.display.HTML object>"
      ]
     },
     "metadata": {},
     "output_type": "display_data"
    },
    {
     "data": {
      "text/html": [
       "<pre style=\"margin: 0.1em;\n",
       "padding-left: 0.25em;\n",
       "border-left-style: solid;\n",
       "font-family: var(--jp-code-font-family);\n",
       "font-size: var(--jp-code-font-size);\n",
       "line-height: var(--jp-code-line-height);\n",
       "\"><span style=\"color: var(--jp-warn-color2)\">lsst.visitInjectTask</span> <span style=\"color: var(--jp-info-color0)\">INFO</span>: Injected 3 of 3 potential sources. 0 sources flagged and skipped.</pre>"
      ],
      "text/plain": [
       "<IPython.core.display.HTML object>"
      ]
     },
     "metadata": {},
     "output_type": "display_data"
    },
    {
     "data": {
      "text/html": [
       "<pre style=\"margin: 0.1em;\n",
       "padding-left: 0.25em;\n",
       "border-left-style: solid;\n",
       "font-family: var(--jp-code-font-family);\n",
       "font-size: var(--jp-code-font-size);\n",
       "line-height: var(--jp-code-line-height);\n",
       "\"><span style=\"color: var(--jp-warn-color2)\">lsst.sourceDetection</span> <span style=\"color: var(--jp-info-color0)\">INFO</span>: Setting factor for negative detections equal to that for positive detections: 1.000000</pre>"
      ],
      "text/plain": [
       "<IPython.core.display.HTML object>"
      ]
     },
     "metadata": {},
     "output_type": "display_data"
    },
    {
     "data": {
      "text/html": [
       "<pre style=\"margin: 0.1em;\n",
       "padding-left: 0.25em;\n",
       "border-left-style: solid;\n",
       "font-family: var(--jp-code-font-family);\n",
       "font-size: var(--jp-code-font-size);\n",
       "line-height: var(--jp-code-line-height);\n",
       "\"><span style=\"color: var(--jp-warn-color2)\">lsst.sourceDetection</span> <span style=\"color: var(--jp-info-color0)\">INFO</span>: Detected 3997 positive peaks in 3100 footprints and 127 negative peaks in 127 footprints to 4 +ve and 4 -ve sigma</pre>"
      ],
      "text/plain": [
       "<IPython.core.display.HTML object>"
      ]
     },
     "metadata": {},
     "output_type": "display_data"
    },
    {
     "data": {
      "text/html": [
       "<pre style=\"margin: 0.1em;\n",
       "padding-left: 0.25em;\n",
       "border-left-style: solid;\n",
       "font-family: var(--jp-code-font-family);\n",
       "font-size: var(--jp-code-font-size);\n",
       "line-height: var(--jp-code-line-height);\n",
       "\"><span style=\"color: var(--jp-warn-color2)\">lsst.sourceDetection</span> <span style=\"color: var(--jp-info-color0)\">INFO</span>: Resubtracting the background after object detection</pre>"
      ],
      "text/plain": [
       "<IPython.core.display.HTML object>"
      ]
     },
     "metadata": {},
     "output_type": "display_data"
    },
    {
     "data": {
      "text/html": [
       "<pre style=\"margin: 0.1em;\n",
       "padding-left: 0.25em;\n",
       "border-left-style: solid;\n",
       "font-family: var(--jp-code-font-family);\n",
       "font-size: var(--jp-code-font-size);\n",
       "line-height: var(--jp-code-line-height);\n",
       "\"><span style=\"color: var(--jp-warn-color2)\">lsst.measurement</span> <span style=\"color: var(--jp-info-color0)\">INFO</span>: Measuring 3100 sources (3100 parents, 0 children) </pre>"
      ],
      "text/plain": [
       "<IPython.core.display.HTML object>"
      ]
     },
     "metadata": {},
     "output_type": "display_data"
    },
    {
     "name": "stdout",
     "output_type": "stream",
     "text": [
      "Searching in lc 2\n",
      "Searching in lc 3\n",
      "Searching in lc 6\n",
      "ra = 57.59451632893858, dec = -32.481152201226145\n",
      "Measured  24.024570332465704 0.22192961253500648\n",
      "Injected  17.999520247493123\n",
      "ra = 57.39627438315968, dec = -32.32447911739932\n",
      "Measured  24.024570332465704 0.22192961253500648\n",
      "Injected  18.66618691415979\n",
      "ra = 57.68398168998722, dec = -32.47058058361587\n",
      "Measured  24.024570332465704 0.22192961253500648\n",
      "Injected  19.332853580826455\n",
      "(ra,dec) = (57.59451632893858, -32.481152201226145)/nHTM_ID = 9871854450032 - HTM_level=20 (bounded by a circle of radius ~0.27 arcsec.)\n"
     ]
    },
    {
     "name": "stderr",
     "output_type": "stream",
     "text": [
      "/opt/lsst/software/stack/conda/envs/lsst-scipipe-9.0.0/share/eups/Linux64/daf_butler/g588e17ab67+fac83bd63d/python/lsst/daf/butler/registry/queries/_structs.py:401: FutureWarning: Dimension 'htm20' should no longer be used in data IDs. Use the region 'OVERLAPS' operator in the where clause instead. Will be removed after v28.\n",
      "  warnings.warn(\n"
     ]
    },
    {
     "name": "stdout",
     "output_type": "stream",
     "text": [
      "Found 145 calexps\n"
     ]
    },
    {
     "name": "stderr",
     "output_type": "stream",
     "text": [
      "/home/karennowo/DP0_microlensing/light_curves.py:107: FutureWarning: The behavior of DataFrame concatenation with empty or all-NA entries is deprecated. In a future version, this will no longer exclude empty or all-NA columns when determining the result dtypes. To retain the old behavior, exclude the relevant entries before the concat operation.\n",
      "  self.data = pd.concat([self.data, new_data], ignore_index=True)\n"
     ]
    },
    {
     "name": "stdout",
     "output_type": "stream",
     "text": [
      " ------ CALEXP 0 ------\n",
      "Points injected: 13\n",
      "[0, 1, 4, 5, 6, 9, 11, 12, 17, 21, 22, 26, 29]\n"
     ]
    },
    {
     "data": {
      "text/html": [
       "<pre style=\"margin: 0.1em;\n",
       "padding-left: 0.25em;\n",
       "border-left-style: solid;\n",
       "font-family: var(--jp-code-font-family);\n",
       "font-size: var(--jp-code-font-size);\n",
       "line-height: var(--jp-code-line-height);\n",
       "\"><span style=\"color: var(--jp-warn-color2)\">lsst.visitInjectTask</span> <span style=\"color: var(--jp-info-color0)\">INFO</span>: Retrieved 13 injection sources from 1 HTM trixel.</pre>"
      ],
      "text/plain": [
       "<IPython.core.display.HTML object>"
      ]
     },
     "metadata": {},
     "output_type": "display_data"
    },
    {
     "data": {
      "text/html": [
       "<pre style=\"margin: 0.1em;\n",
       "padding-left: 0.25em;\n",
       "border-left-style: solid;\n",
       "font-family: var(--jp-code-font-family);\n",
       "font-size: var(--jp-code-font-size);\n",
       "line-height: var(--jp-code-line-height);\n",
       "\"><span style=\"color: var(--jp-warn-color2)\">lsst.visitInjectTask</span> <span style=\"color: var(--jp-info-color0)\">INFO</span>: Catalog cleaning removed 0 of 13 sources; 13 remaining for catalog checking.</pre>"
      ],
      "text/plain": [
       "<IPython.core.display.HTML object>"
      ]
     },
     "metadata": {},
     "output_type": "display_data"
    },
    {
     "data": {
      "text/html": [
       "<pre style=\"margin: 0.1em;\n",
       "padding-left: 0.25em;\n",
       "border-left-style: solid;\n",
       "font-family: var(--jp-code-font-family);\n",
       "font-size: var(--jp-code-font-size);\n",
       "line-height: var(--jp-code-line-height);\n",
       "\"><span style=\"color: var(--jp-warn-color2)\">lsst.visitInjectTask</span> <span style=\"color: var(--jp-info-color0)\">INFO</span>: Catalog checking flagged 0 of 13 sources; 13 remaining for source generation.</pre>"
      ],
      "text/plain": [
       "<IPython.core.display.HTML object>"
      ]
     },
     "metadata": {},
     "output_type": "display_data"
    },
    {
     "data": {
      "text/html": [
       "<pre style=\"margin: 0.1em;\n",
       "padding-left: 0.25em;\n",
       "border-left-style: solid;\n",
       "font-family: var(--jp-code-font-family);\n",
       "font-size: var(--jp-code-font-size);\n",
       "line-height: var(--jp-code-line-height);\n",
       "\"><span style=\"color: var(--jp-warn-color2)\">lsst.visitInjectTask</span> <span style=\"color: var(--jp-info-color0)\">INFO</span>: Adding INJECTED and INJECTED_CORE mask planes to the exposure.</pre>"
      ],
      "text/plain": [
       "<IPython.core.display.HTML object>"
      ]
     },
     "metadata": {},
     "output_type": "display_data"
    },
    {
     "data": {
      "text/html": [
       "<pre style=\"margin: 0.1em;\n",
       "padding-left: 0.25em;\n",
       "border-left-style: solid;\n",
       "font-family: var(--jp-code-font-family);\n",
       "font-size: var(--jp-code-font-size);\n",
       "line-height: var(--jp-code-line-height);\n",
       "\"><span style=\"color: var(--jp-warn-color2)\">lsst.visitInjectTask</span> <span style=\"color: var(--jp-info-color0)\">INFO</span>: Generating 13 injection sources consisting of 1 unique type: DeltaFunction(13).</pre>"
      ],
      "text/plain": [
       "<IPython.core.display.HTML object>"
      ]
     },
     "metadata": {},
     "output_type": "display_data"
    },
    {
     "data": {
      "text/html": [
       "<pre style=\"margin: 0.1em;\n",
       "padding-left: 0.25em;\n",
       "border-left-style: solid;\n",
       "font-family: var(--jp-code-font-family);\n",
       "font-size: var(--jp-code-font-size);\n",
       "line-height: var(--jp-code-line-height);\n",
       "\"><span style=\"color: var(--jp-warn-color2)\">lsst.visitInjectTask</span> <span style=\"color: var(--jp-info-color0)\">INFO</span>: Injected 12 of 13 potential sources. 1 source flagged and skipped: NO_OVERLAP(1).</pre>"
      ],
      "text/plain": [
       "<IPython.core.display.HTML object>"
      ]
     },
     "metadata": {},
     "output_type": "display_data"
    },
    {
     "data": {
      "text/html": [
       "<pre style=\"margin: 0.1em;\n",
       "padding-left: 0.25em;\n",
       "border-left-style: solid;\n",
       "font-family: var(--jp-code-font-family);\n",
       "font-size: var(--jp-code-font-size);\n",
       "line-height: var(--jp-code-line-height);\n",
       "\"><span style=\"color: var(--jp-warn-color2)\">lsst.sourceDetection</span> <span style=\"color: var(--jp-info-color0)\">INFO</span>: Setting factor for negative detections equal to that for positive detections: 1.000000</pre>"
      ],
      "text/plain": [
       "<IPython.core.display.HTML object>"
      ]
     },
     "metadata": {},
     "output_type": "display_data"
    },
    {
     "data": {
      "text/html": [
       "<pre style=\"margin: 0.1em;\n",
       "padding-left: 0.25em;\n",
       "border-left-style: solid;\n",
       "font-family: var(--jp-code-font-family);\n",
       "font-size: var(--jp-code-font-size);\n",
       "line-height: var(--jp-code-line-height);\n",
       "\"><span style=\"color: var(--jp-warn-color2)\">lsst.sourceDetection</span> <span style=\"color: var(--jp-info-color0)\">INFO</span>: Detected 3074 positive peaks in 2618 footprints and 80 negative peaks in 80 footprints to 4 +ve and 4 -ve sigma</pre>"
      ],
      "text/plain": [
       "<IPython.core.display.HTML object>"
      ]
     },
     "metadata": {},
     "output_type": "display_data"
    },
    {
     "data": {
      "text/html": [
       "<pre style=\"margin: 0.1em;\n",
       "padding-left: 0.25em;\n",
       "border-left-style: solid;\n",
       "font-family: var(--jp-code-font-family);\n",
       "font-size: var(--jp-code-font-size);\n",
       "line-height: var(--jp-code-line-height);\n",
       "\"><span style=\"color: var(--jp-warn-color2)\">lsst.sourceDetection</span> <span style=\"color: var(--jp-info-color0)\">INFO</span>: Resubtracting the background after object detection</pre>"
      ],
      "text/plain": [
       "<IPython.core.display.HTML object>"
      ]
     },
     "metadata": {},
     "output_type": "display_data"
    },
    {
     "data": {
      "text/html": [
       "<pre style=\"margin: 0.1em;\n",
       "padding-left: 0.25em;\n",
       "border-left-style: solid;\n",
       "font-family: var(--jp-code-font-family);\n",
       "font-size: var(--jp-code-font-size);\n",
       "line-height: var(--jp-code-line-height);\n",
       "\"><span style=\"color: var(--jp-warn-color2)\">lsst.measurement</span> <span style=\"color: var(--jp-info-color0)\">INFO</span>: Measuring 2618 sources (2618 parents, 0 children) </pre>"
      ],
      "text/plain": [
       "<IPython.core.display.HTML object>"
      ]
     },
     "metadata": {},
     "output_type": "display_data"
    },
    {
     "name": "stdout",
     "output_type": "stream",
     "text": [
      "Searching in lc 0\n",
      "Searching in lc 1\n",
      "Searching in lc 4\n",
      "Searching in lc 5\n",
      "Searching in lc 6\n",
      "Searching in lc 9\n",
      "Searching in lc 11\n",
      "Searching in lc 12\n",
      "Searching in lc 17\n",
      "Searching in lc 21\n",
      "Searching in lc 22\n",
      "Searching in lc 26\n",
      "Searching in lc 29\n",
      "ra = 57.59451632893858, dec = -32.481152201226145\n",
      "Measured  19.659078481078506 0.007810249578717634\n",
      "Injected  17.999800399179982\n",
      "ra = 57.62446150720413, dec = -32.53183612480216\n",
      "Measured  19.659078481078506 0.007810249578717634\n",
      "Injected  18.20669695090412\n",
      "ra = 57.4767742579741, dec = -32.39533350493608\n",
      "Measured  19.659078481078506 0.007810249578717634\n",
      "Injected  18.41359350262826\n",
      "ra = 57.74699613416302, dec = -32.44166473285289\n",
      "Measured  19.659078481078506 0.007810249578717634\n",
      "Injected  18.620490054352395\n",
      "ra = 57.62848615376141, dec = -32.66176785164887\n",
      "Measured  19.659078481078506 0.007810249578717634\n",
      "Injected  18.827386606076534\n",
      "ra = 57.634066347002154, dec = -32.4833523842323\n",
      "Measured  19.659078481078506 0.007810249578717634\n",
      "Injected  19.034283157800672\n",
      "ra = 57.65259795702472, dec = -32.518961733639564\n",
      "Measured  19.659078481078506 0.007810249578717634\n",
      "Injected  19.24117970952481\n",
      "ra = 57.62346236005405, dec = -32.39961956269881\n",
      "Measured  19.659078481078506 0.007810249578717634\n",
      "Injected  19.448076261248946\n",
      "ra = 57.46569560067433, dec = -32.57842533429563\n",
      "Measured  19.659078481078506 0.007810249578717634\n",
      "Injected  19.654972812973085\n",
      "ra = 57.79374220827203, dec = -32.53930608540646\n",
      "Measured  19.659078481078506 0.007810249578717634\n",
      "Injected  19.861869364697224\n",
      "ra = 57.58759166793971, dec = -32.31712558989721\n",
      "Measured  19.659078481078506 0.007810249578717634\n",
      "Injected  20.068765916421363\n",
      "ra = 57.578529780089234, dec = -32.665025009644125\n",
      "Measured  19.659078481078506 0.007810249578717634\n",
      "Injected  20.275662468145498\n",
      "ra = 57.57674652424224, dec = -32.60661587538439\n",
      "Measured  19.659078481078506 0.007810249578717634\n",
      "Injected  20.482559019869637\n",
      " ------ CALEXP 1 ------\n",
      "Points injected: 12\n",
      "[0, 1, 5, 6, 8, 11, 12, 15, 17, 19, 23, 26]\n"
     ]
    },
    {
     "data": {
      "text/html": [
       "<pre style=\"margin: 0.1em;\n",
       "padding-left: 0.25em;\n",
       "border-left-style: solid;\n",
       "font-family: var(--jp-code-font-family);\n",
       "font-size: var(--jp-code-font-size);\n",
       "line-height: var(--jp-code-line-height);\n",
       "\"><span style=\"color: var(--jp-warn-color2)\">lsst.visitInjectTask</span> <span style=\"color: var(--jp-info-color0)\">INFO</span>: Retrieved 12 injection sources from 1 HTM trixel.</pre>"
      ],
      "text/plain": [
       "<IPython.core.display.HTML object>"
      ]
     },
     "metadata": {},
     "output_type": "display_data"
    },
    {
     "data": {
      "text/html": [
       "<pre style=\"margin: 0.1em;\n",
       "padding-left: 0.25em;\n",
       "border-left-style: solid;\n",
       "font-family: var(--jp-code-font-family);\n",
       "font-size: var(--jp-code-font-size);\n",
       "line-height: var(--jp-code-line-height);\n",
       "\"><span style=\"color: var(--jp-warn-color2)\">lsst.visitInjectTask</span> <span style=\"color: var(--jp-info-color0)\">INFO</span>: Catalog cleaning removed 0 of 12 sources; 12 remaining for catalog checking.</pre>"
      ],
      "text/plain": [
       "<IPython.core.display.HTML object>"
      ]
     },
     "metadata": {},
     "output_type": "display_data"
    },
    {
     "data": {
      "text/html": [
       "<pre style=\"margin: 0.1em;\n",
       "padding-left: 0.25em;\n",
       "border-left-style: solid;\n",
       "font-family: var(--jp-code-font-family);\n",
       "font-size: var(--jp-code-font-size);\n",
       "line-height: var(--jp-code-line-height);\n",
       "\"><span style=\"color: var(--jp-warn-color2)\">lsst.visitInjectTask</span> <span style=\"color: var(--jp-info-color0)\">INFO</span>: Catalog checking flagged 0 of 12 sources; 12 remaining for source generation.</pre>"
      ],
      "text/plain": [
       "<IPython.core.display.HTML object>"
      ]
     },
     "metadata": {},
     "output_type": "display_data"
    },
    {
     "data": {
      "text/html": [
       "<pre style=\"margin: 0.1em;\n",
       "padding-left: 0.25em;\n",
       "border-left-style: solid;\n",
       "font-family: var(--jp-code-font-family);\n",
       "font-size: var(--jp-code-font-size);\n",
       "line-height: var(--jp-code-line-height);\n",
       "\"><span style=\"color: var(--jp-warn-color2)\">lsst.visitInjectTask</span> <span style=\"color: var(--jp-info-color0)\">INFO</span>: Adding INJECTED and INJECTED_CORE mask planes to the exposure.</pre>"
      ],
      "text/plain": [
       "<IPython.core.display.HTML object>"
      ]
     },
     "metadata": {},
     "output_type": "display_data"
    },
    {
     "data": {
      "text/html": [
       "<pre style=\"margin: 0.1em;\n",
       "padding-left: 0.25em;\n",
       "border-left-style: solid;\n",
       "font-family: var(--jp-code-font-family);\n",
       "font-size: var(--jp-code-font-size);\n",
       "line-height: var(--jp-code-line-height);\n",
       "\"><span style=\"color: var(--jp-warn-color2)\">lsst.visitInjectTask</span> <span style=\"color: var(--jp-info-color0)\">INFO</span>: Generating 12 injection sources consisting of 1 unique type: DeltaFunction(12).</pre>"
      ],
      "text/plain": [
       "<IPython.core.display.HTML object>"
      ]
     },
     "metadata": {},
     "output_type": "display_data"
    },
    {
     "data": {
      "text/html": [
       "<pre style=\"margin: 0.1em;\n",
       "padding-left: 0.25em;\n",
       "border-left-style: solid;\n",
       "font-family: var(--jp-code-font-family);\n",
       "font-size: var(--jp-code-font-size);\n",
       "line-height: var(--jp-code-line-height);\n",
       "\"><span style=\"color: var(--jp-warn-color2)\">lsst.visitInjectTask</span> <span style=\"color: var(--jp-info-color0)\">INFO</span>: Injected 11 of 12 potential sources. 1 source flagged and skipped: NO_OVERLAP(1).</pre>"
      ],
      "text/plain": [
       "<IPython.core.display.HTML object>"
      ]
     },
     "metadata": {},
     "output_type": "display_data"
    },
    {
     "data": {
      "text/html": [
       "<pre style=\"margin: 0.1em;\n",
       "padding-left: 0.25em;\n",
       "border-left-style: solid;\n",
       "font-family: var(--jp-code-font-family);\n",
       "font-size: var(--jp-code-font-size);\n",
       "line-height: var(--jp-code-line-height);\n",
       "\"><span style=\"color: var(--jp-warn-color2)\">lsst.sourceDetection</span> <span style=\"color: var(--jp-info-color0)\">INFO</span>: Setting factor for negative detections equal to that for positive detections: 1.000000</pre>"
      ],
      "text/plain": [
       "<IPython.core.display.HTML object>"
      ]
     },
     "metadata": {},
     "output_type": "display_data"
    },
    {
     "data": {
      "text/html": [
       "<pre style=\"margin: 0.1em;\n",
       "padding-left: 0.25em;\n",
       "border-left-style: solid;\n",
       "font-family: var(--jp-code-font-family);\n",
       "font-size: var(--jp-code-font-size);\n",
       "line-height: var(--jp-code-line-height);\n",
       "\"><span style=\"color: var(--jp-warn-color2)\">lsst.sourceDetection</span> <span style=\"color: var(--jp-info-color0)\">INFO</span>: Detected 3638 positive peaks in 3128 footprints and 154 negative peaks in 153 footprints to 4 +ve and 4 -ve sigma</pre>"
      ],
      "text/plain": [
       "<IPython.core.display.HTML object>"
      ]
     },
     "metadata": {},
     "output_type": "display_data"
    },
    {
     "data": {
      "text/html": [
       "<pre style=\"margin: 0.1em;\n",
       "padding-left: 0.25em;\n",
       "border-left-style: solid;\n",
       "font-family: var(--jp-code-font-family);\n",
       "font-size: var(--jp-code-font-size);\n",
       "line-height: var(--jp-code-line-height);\n",
       "\"><span style=\"color: var(--jp-warn-color2)\">lsst.sourceDetection</span> <span style=\"color: var(--jp-info-color0)\">INFO</span>: Resubtracting the background after object detection</pre>"
      ],
      "text/plain": [
       "<IPython.core.display.HTML object>"
      ]
     },
     "metadata": {},
     "output_type": "display_data"
    },
    {
     "data": {
      "text/html": [
       "<pre style=\"margin: 0.1em;\n",
       "padding-left: 0.25em;\n",
       "border-left-style: solid;\n",
       "font-family: var(--jp-code-font-family);\n",
       "font-size: var(--jp-code-font-size);\n",
       "line-height: var(--jp-code-line-height);\n",
       "\"><span style=\"color: var(--jp-warn-color2)\">lsst.measurement</span> <span style=\"color: var(--jp-info-color0)\">INFO</span>: Measuring 3128 sources (3128 parents, 0 children) </pre>"
      ],
      "text/plain": [
       "<IPython.core.display.HTML object>"
      ]
     },
     "metadata": {},
     "output_type": "display_data"
    },
    {
     "name": "stdout",
     "output_type": "stream",
     "text": [
      "Searching in lc 0\n",
      "Searching in lc 1\n",
      "Searching in lc 5\n",
      "Searching in lc 6\n",
      "Searching in lc 8\n",
      "Searching in lc 11\n",
      "Searching in lc 12\n",
      "Searching in lc 15\n",
      "Searching in lc 17\n",
      "Searching in lc 19\n",
      "Searching in lc 23\n",
      "Searching in lc 26\n",
      "ra = 57.59451632893858, dec = -32.481152201226145\n",
      "Measured  22.032641376261882 0.0437834048356687\n",
      "Injected  17.999526457030296\n",
      "ra = 57.62446150720413, dec = -32.53183612480216\n",
      "Measured  22.032641376261882 0.0437834048356687\n",
      "Injected  18.206423008754435\n",
      "ra = 57.4767742579741, dec = -32.39533350493608\n",
      "Measured  22.032641376261882 0.0437834048356687\n",
      "Injected  18.413319560478573\n",
      "ra = 57.74699613416302, dec = -32.44166473285289\n",
      "Measured  22.032641376261882 0.0437834048356687\n",
      "Injected  18.62021611220271\n",
      "ra = 57.62848615376141, dec = -32.66176785164887\n",
      "Measured  22.032641376261882 0.0437834048356687\n",
      "Injected  18.827112663926847\n",
      "ra = 57.634066347002154, dec = -32.4833523842323\n",
      "Measured  22.032641376261882 0.0437834048356687\n",
      "Injected  19.034009215650986\n",
      "ra = 57.65259795702472, dec = -32.518961733639564\n",
      "Measured  22.032641376261882 0.0437834048356687\n",
      "Injected  19.240905767375125\n",
      "ra = 57.62346236005405, dec = -32.39961956269881\n",
      "Measured  22.032641376261882 0.0437834048356687\n",
      "Injected  19.44780231909926\n",
      "ra = 57.46569560067433, dec = -32.57842533429563\n",
      "Measured  22.032641376261882 0.0437834048356687\n",
      "Injected  19.6546988708234\n",
      "ra = 57.79374220827203, dec = -32.53930608540646\n",
      "Measured  22.032641376261882 0.0437834048356687\n",
      "Injected  19.861595422547538\n",
      "ra = 57.58759166793971, dec = -32.31712558989721\n",
      "Measured  22.032641376261882 0.0437834048356687\n",
      "Injected  20.068491974271677\n",
      "ra = 57.578529780089234, dec = -32.665025009644125\n",
      "Measured  22.032641376261882 0.0437834048356687\n",
      "Injected  20.27538852599581\n",
      " ------ CALEXP 2 ------\n",
      "Points injected: 11\n",
      "[0, 1, 4, 8, 11, 12, 17, 21, 23, 26, 29]\n"
     ]
    },
    {
     "data": {
      "text/html": [
       "<pre style=\"margin: 0.1em;\n",
       "padding-left: 0.25em;\n",
       "border-left-style: solid;\n",
       "font-family: var(--jp-code-font-family);\n",
       "font-size: var(--jp-code-font-size);\n",
       "line-height: var(--jp-code-line-height);\n",
       "\"><span style=\"color: var(--jp-warn-color2)\">lsst.visitInjectTask</span> <span style=\"color: var(--jp-info-color0)\">INFO</span>: Retrieved 11 injection sources from 1 HTM trixel.</pre>"
      ],
      "text/plain": [
       "<IPython.core.display.HTML object>"
      ]
     },
     "metadata": {},
     "output_type": "display_data"
    },
    {
     "data": {
      "text/html": [
       "<pre style=\"margin: 0.1em;\n",
       "padding-left: 0.25em;\n",
       "border-left-style: solid;\n",
       "font-family: var(--jp-code-font-family);\n",
       "font-size: var(--jp-code-font-size);\n",
       "line-height: var(--jp-code-line-height);\n",
       "\"><span style=\"color: var(--jp-warn-color2)\">lsst.visitInjectTask</span> <span style=\"color: var(--jp-info-color0)\">INFO</span>: Catalog cleaning removed 0 of 11 sources; 11 remaining for catalog checking.</pre>"
      ],
      "text/plain": [
       "<IPython.core.display.HTML object>"
      ]
     },
     "metadata": {},
     "output_type": "display_data"
    },
    {
     "data": {
      "text/html": [
       "<pre style=\"margin: 0.1em;\n",
       "padding-left: 0.25em;\n",
       "border-left-style: solid;\n",
       "font-family: var(--jp-code-font-family);\n",
       "font-size: var(--jp-code-font-size);\n",
       "line-height: var(--jp-code-line-height);\n",
       "\"><span style=\"color: var(--jp-warn-color2)\">lsst.visitInjectTask</span> <span style=\"color: var(--jp-info-color0)\">INFO</span>: Catalog checking flagged 0 of 11 sources; 11 remaining for source generation.</pre>"
      ],
      "text/plain": [
       "<IPython.core.display.HTML object>"
      ]
     },
     "metadata": {},
     "output_type": "display_data"
    },
    {
     "data": {
      "text/html": [
       "<pre style=\"margin: 0.1em;\n",
       "padding-left: 0.25em;\n",
       "border-left-style: solid;\n",
       "font-family: var(--jp-code-font-family);\n",
       "font-size: var(--jp-code-font-size);\n",
       "line-height: var(--jp-code-line-height);\n",
       "\"><span style=\"color: var(--jp-warn-color2)\">lsst.visitInjectTask</span> <span style=\"color: var(--jp-info-color0)\">INFO</span>: Adding INJECTED and INJECTED_CORE mask planes to the exposure.</pre>"
      ],
      "text/plain": [
       "<IPython.core.display.HTML object>"
      ]
     },
     "metadata": {},
     "output_type": "display_data"
    },
    {
     "data": {
      "text/html": [
       "<pre style=\"margin: 0.1em;\n",
       "padding-left: 0.25em;\n",
       "border-left-style: solid;\n",
       "font-family: var(--jp-code-font-family);\n",
       "font-size: var(--jp-code-font-size);\n",
       "line-height: var(--jp-code-line-height);\n",
       "\"><span style=\"color: var(--jp-warn-color2)\">lsst.visitInjectTask</span> <span style=\"color: var(--jp-info-color0)\">INFO</span>: Generating 11 injection sources consisting of 1 unique type: DeltaFunction(11).</pre>"
      ],
      "text/plain": [
       "<IPython.core.display.HTML object>"
      ]
     },
     "metadata": {},
     "output_type": "display_data"
    },
    {
     "data": {
      "text/html": [
       "<pre style=\"margin: 0.1em;\n",
       "padding-left: 0.25em;\n",
       "border-left-style: solid;\n",
       "font-family: var(--jp-code-font-family);\n",
       "font-size: var(--jp-code-font-size);\n",
       "line-height: var(--jp-code-line-height);\n",
       "\"><span style=\"color: var(--jp-warn-color2)\">lsst.visitInjectTask</span> <span style=\"color: var(--jp-info-color0)\">INFO</span>: Injected 11 of 11 potential sources. 0 sources flagged and skipped.</pre>"
      ],
      "text/plain": [
       "<IPython.core.display.HTML object>"
      ]
     },
     "metadata": {},
     "output_type": "display_data"
    },
    {
     "data": {
      "text/html": [
       "<pre style=\"margin: 0.1em;\n",
       "padding-left: 0.25em;\n",
       "border-left-style: solid;\n",
       "font-family: var(--jp-code-font-family);\n",
       "font-size: var(--jp-code-font-size);\n",
       "line-height: var(--jp-code-line-height);\n",
       "\"><span style=\"color: var(--jp-warn-color2)\">lsst.sourceDetection</span> <span style=\"color: var(--jp-info-color0)\">INFO</span>: Setting factor for negative detections equal to that for positive detections: 1.000000</pre>"
      ],
      "text/plain": [
       "<IPython.core.display.HTML object>"
      ]
     },
     "metadata": {},
     "output_type": "display_data"
    },
    {
     "data": {
      "text/html": [
       "<pre style=\"margin: 0.1em;\n",
       "padding-left: 0.25em;\n",
       "border-left-style: solid;\n",
       "font-family: var(--jp-code-font-family);\n",
       "font-size: var(--jp-code-font-size);\n",
       "line-height: var(--jp-code-line-height);\n",
       "\"><span style=\"color: var(--jp-warn-color2)\">lsst.sourceDetection</span> <span style=\"color: var(--jp-info-color0)\">INFO</span>: Detected 3855 positive peaks in 3281 footprints and 131 negative peaks in 131 footprints to 4 +ve and 4 -ve sigma</pre>"
      ],
      "text/plain": [
       "<IPython.core.display.HTML object>"
      ]
     },
     "metadata": {},
     "output_type": "display_data"
    },
    {
     "data": {
      "text/html": [
       "<pre style=\"margin: 0.1em;\n",
       "padding-left: 0.25em;\n",
       "border-left-style: solid;\n",
       "font-family: var(--jp-code-font-family);\n",
       "font-size: var(--jp-code-font-size);\n",
       "line-height: var(--jp-code-line-height);\n",
       "\"><span style=\"color: var(--jp-warn-color2)\">lsst.sourceDetection</span> <span style=\"color: var(--jp-info-color0)\">INFO</span>: Resubtracting the background after object detection</pre>"
      ],
      "text/plain": [
       "<IPython.core.display.HTML object>"
      ]
     },
     "metadata": {},
     "output_type": "display_data"
    },
    {
     "data": {
      "text/html": [
       "<pre style=\"margin: 0.1em;\n",
       "padding-left: 0.25em;\n",
       "border-left-style: solid;\n",
       "font-family: var(--jp-code-font-family);\n",
       "font-size: var(--jp-code-font-size);\n",
       "line-height: var(--jp-code-line-height);\n",
       "\"><span style=\"color: var(--jp-warn-color2)\">lsst.measurement</span> <span style=\"color: var(--jp-info-color0)\">INFO</span>: Measuring 3281 sources (3281 parents, 0 children) </pre>"
      ],
      "text/plain": [
       "<IPython.core.display.HTML object>"
      ]
     },
     "metadata": {},
     "output_type": "display_data"
    },
    {
     "name": "stdout",
     "output_type": "stream",
     "text": [
      "Searching in lc 0\n",
      "Searching in lc 1\n",
      "Searching in lc 4\n",
      "Searching in lc 8\n",
      "Searching in lc 11\n",
      "Searching in lc 12\n",
      "Searching in lc 17\n",
      "Searching in lc 21\n",
      "Searching in lc 23\n",
      "Searching in lc 26\n",
      "Searching in lc 29\n",
      "ra = 57.59451632893858, dec = -32.481152201226145\n",
      "Measured  23.66221813075514 0.16068227759108902\n",
      "Injected  17.999520247493123\n",
      "ra = 57.62446150720413, dec = -32.53183612480216\n",
      "Measured  23.66221813075514 0.16068227759108902\n",
      "Injected  18.206416799217262\n",
      "ra = 57.4767742579741, dec = -32.39533350493608\n",
      "Measured  23.66221813075514 0.16068227759108902\n",
      "Injected  18.4133133509414\n",
      "ra = 57.74699613416302, dec = -32.44166473285289\n",
      "Measured  23.66221813075514 0.16068227759108902\n",
      "Injected  18.620209902665536\n",
      "ra = 57.62848615376141, dec = -32.66176785164887\n",
      "Measured  23.66221813075514 0.16068227759108902\n",
      "Injected  18.827106454389675\n",
      "ra = 57.634066347002154, dec = -32.4833523842323\n",
      "Measured  23.66221813075514 0.16068227759108902\n",
      "Injected  19.034003006113814\n",
      "ra = 57.65259795702472, dec = -32.518961733639564\n",
      "Measured  23.66221813075514 0.16068227759108902\n",
      "Injected  19.240899557837952\n",
      "ra = 57.62346236005405, dec = -32.39961956269881\n",
      "Measured  23.66221813075514 0.16068227759108902\n",
      "Injected  19.447796109562088\n",
      "ra = 57.46569560067433, dec = -32.57842533429563\n",
      "Measured  23.66221813075514 0.16068227759108902\n",
      "Injected  19.654692661286226\n",
      "ra = 57.79374220827203, dec = -32.53930608540646\n",
      "Measured  23.66221813075514 0.16068227759108902\n",
      "Injected  19.861589213010365\n",
      "ra = 57.58759166793971, dec = -32.31712558989721\n",
      "Measured  23.66221813075514 0.16068227759108902\n",
      "Injected  20.068485764734504\n",
      " ------ CALEXP 3 ------\n",
      "Points injected: 6\n",
      "[0, 1, 8, 14, 15, 23]\n"
     ]
    },
    {
     "data": {
      "text/html": [
       "<pre style=\"margin: 0.1em;\n",
       "padding-left: 0.25em;\n",
       "border-left-style: solid;\n",
       "font-family: var(--jp-code-font-family);\n",
       "font-size: var(--jp-code-font-size);\n",
       "line-height: var(--jp-code-line-height);\n",
       "\"><span style=\"color: var(--jp-warn-color2)\">lsst.visitInjectTask</span> <span style=\"color: var(--jp-info-color0)\">INFO</span>: Retrieved 6 injection sources from 1 HTM trixel.</pre>"
      ],
      "text/plain": [
       "<IPython.core.display.HTML object>"
      ]
     },
     "metadata": {},
     "output_type": "display_data"
    },
    {
     "data": {
      "text/html": [
       "<pre style=\"margin: 0.1em;\n",
       "padding-left: 0.25em;\n",
       "border-left-style: solid;\n",
       "font-family: var(--jp-code-font-family);\n",
       "font-size: var(--jp-code-font-size);\n",
       "line-height: var(--jp-code-line-height);\n",
       "\"><span style=\"color: var(--jp-warn-color2)\">lsst.visitInjectTask</span> <span style=\"color: var(--jp-info-color0)\">INFO</span>: Catalog cleaning removed 0 of 6 sources; 6 remaining for catalog checking.</pre>"
      ],
      "text/plain": [
       "<IPython.core.display.HTML object>"
      ]
     },
     "metadata": {},
     "output_type": "display_data"
    },
    {
     "data": {
      "text/html": [
       "<pre style=\"margin: 0.1em;\n",
       "padding-left: 0.25em;\n",
       "border-left-style: solid;\n",
       "font-family: var(--jp-code-font-family);\n",
       "font-size: var(--jp-code-font-size);\n",
       "line-height: var(--jp-code-line-height);\n",
       "\"><span style=\"color: var(--jp-warn-color2)\">lsst.visitInjectTask</span> <span style=\"color: var(--jp-info-color0)\">INFO</span>: Catalog checking flagged 0 of 6 sources; 6 remaining for source generation.</pre>"
      ],
      "text/plain": [
       "<IPython.core.display.HTML object>"
      ]
     },
     "metadata": {},
     "output_type": "display_data"
    },
    {
     "data": {
      "text/html": [
       "<pre style=\"margin: 0.1em;\n",
       "padding-left: 0.25em;\n",
       "border-left-style: solid;\n",
       "font-family: var(--jp-code-font-family);\n",
       "font-size: var(--jp-code-font-size);\n",
       "line-height: var(--jp-code-line-height);\n",
       "\"><span style=\"color: var(--jp-warn-color2)\">lsst.visitInjectTask</span> <span style=\"color: var(--jp-info-color0)\">INFO</span>: Adding INJECTED and INJECTED_CORE mask planes to the exposure.</pre>"
      ],
      "text/plain": [
       "<IPython.core.display.HTML object>"
      ]
     },
     "metadata": {},
     "output_type": "display_data"
    },
    {
     "data": {
      "text/html": [
       "<pre style=\"margin: 0.1em;\n",
       "padding-left: 0.25em;\n",
       "border-left-style: solid;\n",
       "font-family: var(--jp-code-font-family);\n",
       "font-size: var(--jp-code-font-size);\n",
       "line-height: var(--jp-code-line-height);\n",
       "\"><span style=\"color: var(--jp-warn-color2)\">lsst.visitInjectTask</span> <span style=\"color: var(--jp-info-color0)\">INFO</span>: Generating 6 injection sources consisting of 1 unique type: DeltaFunction(6).</pre>"
      ],
      "text/plain": [
       "<IPython.core.display.HTML object>"
      ]
     },
     "metadata": {},
     "output_type": "display_data"
    },
    {
     "data": {
      "text/html": [
       "<pre style=\"margin: 0.1em;\n",
       "padding-left: 0.25em;\n",
       "border-left-style: solid;\n",
       "font-family: var(--jp-code-font-family);\n",
       "font-size: var(--jp-code-font-size);\n",
       "line-height: var(--jp-code-line-height);\n",
       "\"><span style=\"color: var(--jp-warn-color2)\">lsst.visitInjectTask</span> <span style=\"color: var(--jp-info-color0)\">INFO</span>: Injected 6 of 6 potential sources. 0 sources flagged and skipped.</pre>"
      ],
      "text/plain": [
       "<IPython.core.display.HTML object>"
      ]
     },
     "metadata": {},
     "output_type": "display_data"
    },
    {
     "data": {
      "text/html": [
       "<pre style=\"margin: 0.1em;\n",
       "padding-left: 0.25em;\n",
       "border-left-style: solid;\n",
       "font-family: var(--jp-code-font-family);\n",
       "font-size: var(--jp-code-font-size);\n",
       "line-height: var(--jp-code-line-height);\n",
       "\"><span style=\"color: var(--jp-warn-color2)\">lsst.sourceDetection</span> <span style=\"color: var(--jp-info-color0)\">INFO</span>: Setting factor for negative detections equal to that for positive detections: 1.000000</pre>"
      ],
      "text/plain": [
       "<IPython.core.display.HTML object>"
      ]
     },
     "metadata": {},
     "output_type": "display_data"
    },
    {
     "data": {
      "text/html": [
       "<pre style=\"margin: 0.1em;\n",
       "padding-left: 0.25em;\n",
       "border-left-style: solid;\n",
       "font-family: var(--jp-code-font-family);\n",
       "font-size: var(--jp-code-font-size);\n",
       "line-height: var(--jp-code-line-height);\n",
       "\"><span style=\"color: var(--jp-warn-color2)\">lsst.sourceDetection</span> <span style=\"color: var(--jp-info-color0)\">INFO</span>: Detected 4251 positive peaks in 3617 footprints and 133 negative peaks in 131 footprints to 4 +ve and 4 -ve sigma</pre>"
      ],
      "text/plain": [
       "<IPython.core.display.HTML object>"
      ]
     },
     "metadata": {},
     "output_type": "display_data"
    },
    {
     "data": {
      "text/html": [
       "<pre style=\"margin: 0.1em;\n",
       "padding-left: 0.25em;\n",
       "border-left-style: solid;\n",
       "font-family: var(--jp-code-font-family);\n",
       "font-size: var(--jp-code-font-size);\n",
       "line-height: var(--jp-code-line-height);\n",
       "\"><span style=\"color: var(--jp-warn-color2)\">lsst.sourceDetection</span> <span style=\"color: var(--jp-info-color0)\">INFO</span>: Resubtracting the background after object detection</pre>"
      ],
      "text/plain": [
       "<IPython.core.display.HTML object>"
      ]
     },
     "metadata": {},
     "output_type": "display_data"
    },
    {
     "data": {
      "text/html": [
       "<pre style=\"margin: 0.1em;\n",
       "padding-left: 0.25em;\n",
       "border-left-style: solid;\n",
       "font-family: var(--jp-code-font-family);\n",
       "font-size: var(--jp-code-font-size);\n",
       "line-height: var(--jp-code-line-height);\n",
       "\"><span style=\"color: var(--jp-warn-color2)\">lsst.measurement</span> <span style=\"color: var(--jp-info-color0)\">INFO</span>: Measuring 3617 sources (3617 parents, 0 children) </pre>"
      ],
      "text/plain": [
       "<IPython.core.display.HTML object>"
      ]
     },
     "metadata": {},
     "output_type": "display_data"
    },
    {
     "name": "stdout",
     "output_type": "stream",
     "text": [
      "Searching in lc 0\n",
      "Searching in lc 1\n",
      "Searching in lc 8\n",
      "Searching in lc 14\n",
      "Searching in lc 15\n",
      "Searching in lc 23\n",
      "ra = 57.59451632893858, dec = -32.481152201226145\n",
      "Measured  23.52092645291946 0.13691616922852784\n",
      "Injected  17.999520246553935\n",
      "ra = 57.62446150720413, dec = -32.53183612480216\n",
      "Measured  23.52092645291946 0.13691616922852784\n",
      "Injected  18.206416798278074\n",
      "ra = 57.4767742579741, dec = -32.39533350493608\n",
      "Measured  23.52092645291946 0.13691616922852784\n",
      "Injected  18.413313350002213\n",
      "ra = 57.74699613416302, dec = -32.44166473285289\n",
      "Measured  23.52092645291946 0.13691616922852784\n",
      "Injected  18.620209901726348\n",
      "ra = 57.62848615376141, dec = -32.66176785164887\n",
      "Measured  23.52092645291946 0.13691616922852784\n",
      "Injected  18.827106453450487\n",
      "ra = 57.634066347002154, dec = -32.4833523842323\n",
      "Measured  23.52092645291946 0.13691616922852784\n",
      "Injected  19.034003005174625\n",
      " ------ CALEXP 4 ------\n",
      "Points injected: 13\n",
      "[0, 2, 5, 7, 10, 13, 14, 16, 20, 22, 25, 27, 28]\n"
     ]
    },
    {
     "data": {
      "text/html": [
       "<pre style=\"margin: 0.1em;\n",
       "padding-left: 0.25em;\n",
       "border-left-style: solid;\n",
       "font-family: var(--jp-code-font-family);\n",
       "font-size: var(--jp-code-font-size);\n",
       "line-height: var(--jp-code-line-height);\n",
       "\"><span style=\"color: var(--jp-warn-color2)\">lsst.visitInjectTask</span> <span style=\"color: var(--jp-info-color0)\">INFO</span>: Retrieved 13 injection sources from 1 HTM trixel.</pre>"
      ],
      "text/plain": [
       "<IPython.core.display.HTML object>"
      ]
     },
     "metadata": {},
     "output_type": "display_data"
    },
    {
     "data": {
      "text/html": [
       "<pre style=\"margin: 0.1em;\n",
       "padding-left: 0.25em;\n",
       "border-left-style: solid;\n",
       "font-family: var(--jp-code-font-family);\n",
       "font-size: var(--jp-code-font-size);\n",
       "line-height: var(--jp-code-line-height);\n",
       "\"><span style=\"color: var(--jp-warn-color2)\">lsst.visitInjectTask</span> <span style=\"color: var(--jp-info-color0)\">INFO</span>: Catalog cleaning removed 0 of 13 sources; 13 remaining for catalog checking.</pre>"
      ],
      "text/plain": [
       "<IPython.core.display.HTML object>"
      ]
     },
     "metadata": {},
     "output_type": "display_data"
    },
    {
     "data": {
      "text/html": [
       "<pre style=\"margin: 0.1em;\n",
       "padding-left: 0.25em;\n",
       "border-left-style: solid;\n",
       "font-family: var(--jp-code-font-family);\n",
       "font-size: var(--jp-code-font-size);\n",
       "line-height: var(--jp-code-line-height);\n",
       "\"><span style=\"color: var(--jp-warn-color2)\">lsst.visitInjectTask</span> <span style=\"color: var(--jp-info-color0)\">INFO</span>: Catalog checking flagged 0 of 13 sources; 13 remaining for source generation.</pre>"
      ],
      "text/plain": [
       "<IPython.core.display.HTML object>"
      ]
     },
     "metadata": {},
     "output_type": "display_data"
    },
    {
     "data": {
      "text/html": [
       "<pre style=\"margin: 0.1em;\n",
       "padding-left: 0.25em;\n",
       "border-left-style: solid;\n",
       "font-family: var(--jp-code-font-family);\n",
       "font-size: var(--jp-code-font-size);\n",
       "line-height: var(--jp-code-line-height);\n",
       "\"><span style=\"color: var(--jp-warn-color2)\">lsst.visitInjectTask</span> <span style=\"color: var(--jp-info-color0)\">INFO</span>: Adding INJECTED and INJECTED_CORE mask planes to the exposure.</pre>"
      ],
      "text/plain": [
       "<IPython.core.display.HTML object>"
      ]
     },
     "metadata": {},
     "output_type": "display_data"
    },
    {
     "data": {
      "text/html": [
       "<pre style=\"margin: 0.1em;\n",
       "padding-left: 0.25em;\n",
       "border-left-style: solid;\n",
       "font-family: var(--jp-code-font-family);\n",
       "font-size: var(--jp-code-font-size);\n",
       "line-height: var(--jp-code-line-height);\n",
       "\"><span style=\"color: var(--jp-warn-color2)\">lsst.visitInjectTask</span> <span style=\"color: var(--jp-info-color0)\">INFO</span>: Generating 13 injection sources consisting of 1 unique type: DeltaFunction(13).</pre>"
      ],
      "text/plain": [
       "<IPython.core.display.HTML object>"
      ]
     },
     "metadata": {},
     "output_type": "display_data"
    },
    {
     "data": {
      "text/html": [
       "<pre style=\"margin: 0.1em;\n",
       "padding-left: 0.25em;\n",
       "border-left-style: solid;\n",
       "font-family: var(--jp-code-font-family);\n",
       "font-size: var(--jp-code-font-size);\n",
       "line-height: var(--jp-code-line-height);\n",
       "\"><span style=\"color: var(--jp-warn-color2)\">lsst.visitInjectTask</span> <span style=\"color: var(--jp-info-color0)\">INFO</span>: Injected 13 of 13 potential sources. 0 sources flagged and skipped.</pre>"
      ],
      "text/plain": [
       "<IPython.core.display.HTML object>"
      ]
     },
     "metadata": {},
     "output_type": "display_data"
    },
    {
     "data": {
      "text/html": [
       "<pre style=\"margin: 0.1em;\n",
       "padding-left: 0.25em;\n",
       "border-left-style: solid;\n",
       "font-family: var(--jp-code-font-family);\n",
       "font-size: var(--jp-code-font-size);\n",
       "line-height: var(--jp-code-line-height);\n",
       "\"><span style=\"color: var(--jp-warn-color2)\">lsst.sourceDetection</span> <span style=\"color: var(--jp-info-color0)\">INFO</span>: Setting factor for negative detections equal to that for positive detections: 1.000000</pre>"
      ],
      "text/plain": [
       "<IPython.core.display.HTML object>"
      ]
     },
     "metadata": {},
     "output_type": "display_data"
    },
    {
     "data": {
      "text/html": [
       "<pre style=\"margin: 0.1em;\n",
       "padding-left: 0.25em;\n",
       "border-left-style: solid;\n",
       "font-family: var(--jp-code-font-family);\n",
       "font-size: var(--jp-code-font-size);\n",
       "line-height: var(--jp-code-line-height);\n",
       "\"><span style=\"color: var(--jp-warn-color2)\">lsst.sourceDetection</span> <span style=\"color: var(--jp-info-color0)\">INFO</span>: Detected 3951 positive peaks in 3343 footprints and 118 negative peaks in 118 footprints to 4 +ve and 4 -ve sigma</pre>"
      ],
      "text/plain": [
       "<IPython.core.display.HTML object>"
      ]
     },
     "metadata": {},
     "output_type": "display_data"
    },
    {
     "data": {
      "text/html": [
       "<pre style=\"margin: 0.1em;\n",
       "padding-left: 0.25em;\n",
       "border-left-style: solid;\n",
       "font-family: var(--jp-code-font-family);\n",
       "font-size: var(--jp-code-font-size);\n",
       "line-height: var(--jp-code-line-height);\n",
       "\"><span style=\"color: var(--jp-warn-color2)\">lsst.sourceDetection</span> <span style=\"color: var(--jp-info-color0)\">INFO</span>: Resubtracting the background after object detection</pre>"
      ],
      "text/plain": [
       "<IPython.core.display.HTML object>"
      ]
     },
     "metadata": {},
     "output_type": "display_data"
    },
    {
     "data": {
      "text/html": [
       "<pre style=\"margin: 0.1em;\n",
       "padding-left: 0.25em;\n",
       "border-left-style: solid;\n",
       "font-family: var(--jp-code-font-family);\n",
       "font-size: var(--jp-code-font-size);\n",
       "line-height: var(--jp-code-line-height);\n",
       "\"><span style=\"color: var(--jp-warn-color2)\">lsst.measurement</span> <span style=\"color: var(--jp-info-color0)\">INFO</span>: Measuring 3343 sources (3343 parents, 0 children) </pre>"
      ],
      "text/plain": [
       "<IPython.core.display.HTML object>"
      ]
     },
     "metadata": {},
     "output_type": "display_data"
    },
    {
     "name": "stdout",
     "output_type": "stream",
     "text": [
      "Searching in lc 0\n",
      "Searching in lc 2\n",
      "Searching in lc 5\n",
      "Searching in lc 7\n",
      "Searching in lc 10\n",
      "Searching in lc 13\n",
      "Searching in lc 14\n",
      "Searching in lc 16\n",
      "Searching in lc 20\n",
      "Searching in lc 22\n",
      "Searching in lc 25\n",
      "Searching in lc 27\n",
      "Searching in lc 28\n",
      "ra = 57.59451632893858, dec = -32.481152201226145\n",
      "Measured  21.141573419409383 0.020336173021582294\n",
      "Injected  17.999520173952803\n",
      "ra = 57.62446150720413, dec = -32.53183612480216\n",
      "Measured  21.141573419409383 0.020336173021582294\n",
      "Injected  18.20641672567694\n",
      "ra = 57.4767742579741, dec = -32.39533350493608\n",
      "Measured  21.141573419409383 0.020336173021582294\n",
      "Injected  18.41331327740108\n",
      "ra = 57.74699613416302, dec = -32.44166473285289\n",
      "Measured  21.141573419409383 0.020336173021582294\n",
      "Injected  18.620209829125216\n",
      "ra = 57.62848615376141, dec = -32.66176785164887\n",
      "Measured  21.141573419409383 0.020336173021582294\n",
      "Injected  18.827106380849354\n",
      "ra = 57.634066347002154, dec = -32.4833523842323\n",
      "Measured  21.141573419409383 0.020336173021582294\n",
      "Injected  19.034002932573493\n",
      "ra = 57.65259795702472, dec = -32.518961733639564\n",
      "Measured  21.141573419409383 0.020336173021582294\n",
      "Injected  19.240899484297632\n",
      "ra = 57.62346236005405, dec = -32.39961956269881\n",
      "Measured  21.141573419409383 0.020336173021582294\n",
      "Injected  19.447796036021767\n",
      "ra = 57.46569560067433, dec = -32.57842533429563\n",
      "Measured  21.141573419409383 0.020336173021582294\n",
      "Injected  19.654692587745906\n",
      "ra = 57.79374220827203, dec = -32.53930608540646\n",
      "Measured  21.141573419409383 0.020336173021582294\n",
      "Injected  19.861589139470045\n",
      "ra = 57.58759166793971, dec = -32.31712558989721\n",
      "Measured  21.141573419409383 0.020336173021582294\n",
      "Injected  20.068485691194184\n",
      "ra = 57.578529780089234, dec = -32.665025009644125\n",
      "Measured  21.141573419409383 0.020336173021582294\n",
      "Injected  20.27538224291832\n",
      "ra = 57.57674652424224, dec = -32.60661587538439\n",
      "Measured  21.141573419409383 0.020336173021582294\n",
      "Injected  20.482278794642458\n",
      " ------ CALEXP 5 ------\n",
      "Points injected: 12\n",
      "[0, 1, 3, 5, 6, 7, 9, 18, 22, 24, 27, 28]\n"
     ]
    },
    {
     "data": {
      "text/html": [
       "<pre style=\"margin: 0.1em;\n",
       "padding-left: 0.25em;\n",
       "border-left-style: solid;\n",
       "font-family: var(--jp-code-font-family);\n",
       "font-size: var(--jp-code-font-size);\n",
       "line-height: var(--jp-code-line-height);\n",
       "\"><span style=\"color: var(--jp-warn-color2)\">lsst.visitInjectTask</span> <span style=\"color: var(--jp-info-color0)\">INFO</span>: Retrieved 12 injection sources from 1 HTM trixel.</pre>"
      ],
      "text/plain": [
       "<IPython.core.display.HTML object>"
      ]
     },
     "metadata": {},
     "output_type": "display_data"
    },
    {
     "data": {
      "text/html": [
       "<pre style=\"margin: 0.1em;\n",
       "padding-left: 0.25em;\n",
       "border-left-style: solid;\n",
       "font-family: var(--jp-code-font-family);\n",
       "font-size: var(--jp-code-font-size);\n",
       "line-height: var(--jp-code-line-height);\n",
       "\"><span style=\"color: var(--jp-warn-color2)\">lsst.visitInjectTask</span> <span style=\"color: var(--jp-info-color0)\">INFO</span>: Catalog cleaning removed 0 of 12 sources; 12 remaining for catalog checking.</pre>"
      ],
      "text/plain": [
       "<IPython.core.display.HTML object>"
      ]
     },
     "metadata": {},
     "output_type": "display_data"
    },
    {
     "data": {
      "text/html": [
       "<pre style=\"margin: 0.1em;\n",
       "padding-left: 0.25em;\n",
       "border-left-style: solid;\n",
       "font-family: var(--jp-code-font-family);\n",
       "font-size: var(--jp-code-font-size);\n",
       "line-height: var(--jp-code-line-height);\n",
       "\"><span style=\"color: var(--jp-warn-color2)\">lsst.visitInjectTask</span> <span style=\"color: var(--jp-info-color0)\">INFO</span>: Catalog checking flagged 0 of 12 sources; 12 remaining for source generation.</pre>"
      ],
      "text/plain": [
       "<IPython.core.display.HTML object>"
      ]
     },
     "metadata": {},
     "output_type": "display_data"
    },
    {
     "data": {
      "text/html": [
       "<pre style=\"margin: 0.1em;\n",
       "padding-left: 0.25em;\n",
       "border-left-style: solid;\n",
       "font-family: var(--jp-code-font-family);\n",
       "font-size: var(--jp-code-font-size);\n",
       "line-height: var(--jp-code-line-height);\n",
       "\"><span style=\"color: var(--jp-warn-color2)\">lsst.visitInjectTask</span> <span style=\"color: var(--jp-info-color0)\">INFO</span>: Adding INJECTED and INJECTED_CORE mask planes to the exposure.</pre>"
      ],
      "text/plain": [
       "<IPython.core.display.HTML object>"
      ]
     },
     "metadata": {},
     "output_type": "display_data"
    },
    {
     "data": {
      "text/html": [
       "<pre style=\"margin: 0.1em;\n",
       "padding-left: 0.25em;\n",
       "border-left-style: solid;\n",
       "font-family: var(--jp-code-font-family);\n",
       "font-size: var(--jp-code-font-size);\n",
       "line-height: var(--jp-code-line-height);\n",
       "\"><span style=\"color: var(--jp-warn-color2)\">lsst.visitInjectTask</span> <span style=\"color: var(--jp-info-color0)\">INFO</span>: Generating 12 injection sources consisting of 1 unique type: DeltaFunction(12).</pre>"
      ],
      "text/plain": [
       "<IPython.core.display.HTML object>"
      ]
     },
     "metadata": {},
     "output_type": "display_data"
    },
    {
     "data": {
      "text/html": [
       "<pre style=\"margin: 0.1em;\n",
       "padding-left: 0.25em;\n",
       "border-left-style: solid;\n",
       "font-family: var(--jp-code-font-family);\n",
       "font-size: var(--jp-code-font-size);\n",
       "line-height: var(--jp-code-line-height);\n",
       "\"><span style=\"color: var(--jp-warn-color2)\">lsst.visitInjectTask</span> <span style=\"color: var(--jp-info-color0)\">INFO</span>: Injected 12 of 12 potential sources. 0 sources flagged and skipped.</pre>"
      ],
      "text/plain": [
       "<IPython.core.display.HTML object>"
      ]
     },
     "metadata": {},
     "output_type": "display_data"
    },
    {
     "data": {
      "text/html": [
       "<pre style=\"margin: 0.1em;\n",
       "padding-left: 0.25em;\n",
       "border-left-style: solid;\n",
       "font-family: var(--jp-code-font-family);\n",
       "font-size: var(--jp-code-font-size);\n",
       "line-height: var(--jp-code-line-height);\n",
       "\"><span style=\"color: var(--jp-warn-color2)\">lsst.sourceDetection</span> <span style=\"color: var(--jp-info-color0)\">INFO</span>: Setting factor for negative detections equal to that for positive detections: 1.000000</pre>"
      ],
      "text/plain": [
       "<IPython.core.display.HTML object>"
      ]
     },
     "metadata": {},
     "output_type": "display_data"
    },
    {
     "data": {
      "text/html": [
       "<pre style=\"margin: 0.1em;\n",
       "padding-left: 0.25em;\n",
       "border-left-style: solid;\n",
       "font-family: var(--jp-code-font-family);\n",
       "font-size: var(--jp-code-font-size);\n",
       "line-height: var(--jp-code-line-height);\n",
       "\"><span style=\"color: var(--jp-warn-color2)\">lsst.sourceDetection</span> <span style=\"color: var(--jp-info-color0)\">INFO</span>: Detected 3044 positive peaks in 2507 footprints and 180 negative peaks in 177 footprints to 4 +ve and 4 -ve sigma</pre>"
      ],
      "text/plain": [
       "<IPython.core.display.HTML object>"
      ]
     },
     "metadata": {},
     "output_type": "display_data"
    },
    {
     "data": {
      "text/html": [
       "<pre style=\"margin: 0.1em;\n",
       "padding-left: 0.25em;\n",
       "border-left-style: solid;\n",
       "font-family: var(--jp-code-font-family);\n",
       "font-size: var(--jp-code-font-size);\n",
       "line-height: var(--jp-code-line-height);\n",
       "\"><span style=\"color: var(--jp-warn-color2)\">lsst.sourceDetection</span> <span style=\"color: var(--jp-info-color0)\">INFO</span>: Resubtracting the background after object detection</pre>"
      ],
      "text/plain": [
       "<IPython.core.display.HTML object>"
      ]
     },
     "metadata": {},
     "output_type": "display_data"
    },
    {
     "data": {
      "text/html": [
       "<pre style=\"margin: 0.1em;\n",
       "padding-left: 0.25em;\n",
       "border-left-style: solid;\n",
       "font-family: var(--jp-code-font-family);\n",
       "font-size: var(--jp-code-font-size);\n",
       "line-height: var(--jp-code-line-height);\n",
       "\"><span style=\"color: var(--jp-warn-color2)\">lsst.measurement</span> <span style=\"color: var(--jp-info-color0)\">INFO</span>: Measuring 2507 sources (2507 parents, 0 children) </pre>"
      ],
      "text/plain": [
       "<IPython.core.display.HTML object>"
      ]
     },
     "metadata": {},
     "output_type": "display_data"
    },
    {
     "name": "stdout",
     "output_type": "stream",
     "text": [
      "Searching in lc 0\n",
      "Searching in lc 1\n",
      "Searching in lc 3\n",
      "Searching in lc 5\n",
      "Searching in lc 6\n",
      "Searching in lc 7\n",
      "Searching in lc 9\n",
      "Searching in lc 18\n",
      "Searching in lc 22\n",
      "Searching in lc 24\n",
      "Searching in lc 27\n",
      "Searching in lc 28\n",
      "ra = 57.59451632893858, dec = -32.481152201226145\n",
      "Measured  22.846677310419192 0.11819879002084258\n",
      "Injected  17.999466563033558\n",
      "ra = 57.62446150720413, dec = -32.53183612480216\n",
      "Measured  22.846677310419192 0.11819879002084258\n",
      "Injected  18.206363114757696\n",
      "ra = 57.4767742579741, dec = -32.39533350493608\n",
      "Measured  22.846677310419192 0.11819879002084258\n",
      "Injected  18.413259666481835\n",
      "ra = 57.74699613416302, dec = -32.44166473285289\n",
      "Measured  22.846677310419192 0.11819879002084258\n",
      "Injected  18.62015621820597\n",
      "ra = 57.62848615376141, dec = -32.66176785164887\n",
      "Measured  22.846677310419192 0.11819879002084258\n",
      "Injected  18.82705276993011\n",
      "ra = 57.634066347002154, dec = -32.4833523842323\n",
      "Measured  22.846677310419192 0.11819879002084258\n",
      "Injected  19.033949321654248\n",
      "ra = 57.65259795702472, dec = -32.518961733639564\n",
      "Measured  22.846677310419192 0.11819879002084258\n",
      "Injected  19.240845873378387\n",
      "ra = 57.62346236005405, dec = -32.39961956269881\n",
      "Measured  22.846677310419192 0.11819879002084258\n",
      "Injected  19.447742425102522\n",
      "ra = 57.46569560067433, dec = -32.57842533429563\n",
      "Measured  22.846677310419192 0.11819879002084258\n",
      "Injected  19.65463897682666\n",
      "ra = 57.79374220827203, dec = -32.53930608540646\n",
      "Measured  22.846677310419192 0.11819879002084258\n",
      "Injected  19.8615355285508\n",
      "ra = 57.58759166793971, dec = -32.31712558989721\n",
      "Measured  22.846677310419192 0.11819879002084258\n",
      "Injected  20.06843208027494\n",
      "ra = 57.578529780089234, dec = -32.665025009644125\n",
      "Measured  22.846677310419192 0.11819879002084258\n",
      "Injected  20.275328631999074\n",
      " ------ CALEXP 6 ------\n",
      "Points injected: 13\n",
      "[0, 3, 5, 6, 7, 10, 13, 14, 16, 22, 25, 27, 28]\n"
     ]
    },
    {
     "data": {
      "text/html": [
       "<pre style=\"margin: 0.1em;\n",
       "padding-left: 0.25em;\n",
       "border-left-style: solid;\n",
       "font-family: var(--jp-code-font-family);\n",
       "font-size: var(--jp-code-font-size);\n",
       "line-height: var(--jp-code-line-height);\n",
       "\"><span style=\"color: var(--jp-warn-color2)\">lsst.visitInjectTask</span> <span style=\"color: var(--jp-info-color0)\">INFO</span>: Retrieved 13 injection sources from 1 HTM trixel.</pre>"
      ],
      "text/plain": [
       "<IPython.core.display.HTML object>"
      ]
     },
     "metadata": {},
     "output_type": "display_data"
    },
    {
     "data": {
      "text/html": [
       "<pre style=\"margin: 0.1em;\n",
       "padding-left: 0.25em;\n",
       "border-left-style: solid;\n",
       "font-family: var(--jp-code-font-family);\n",
       "font-size: var(--jp-code-font-size);\n",
       "line-height: var(--jp-code-line-height);\n",
       "\"><span style=\"color: var(--jp-warn-color2)\">lsst.visitInjectTask</span> <span style=\"color: var(--jp-info-color0)\">INFO</span>: Catalog cleaning removed 0 of 13 sources; 13 remaining for catalog checking.</pre>"
      ],
      "text/plain": [
       "<IPython.core.display.HTML object>"
      ]
     },
     "metadata": {},
     "output_type": "display_data"
    },
    {
     "data": {
      "text/html": [
       "<pre style=\"margin: 0.1em;\n",
       "padding-left: 0.25em;\n",
       "border-left-style: solid;\n",
       "font-family: var(--jp-code-font-family);\n",
       "font-size: var(--jp-code-font-size);\n",
       "line-height: var(--jp-code-line-height);\n",
       "\"><span style=\"color: var(--jp-warn-color2)\">lsst.visitInjectTask</span> <span style=\"color: var(--jp-info-color0)\">INFO</span>: Catalog checking flagged 0 of 13 sources; 13 remaining for source generation.</pre>"
      ],
      "text/plain": [
       "<IPython.core.display.HTML object>"
      ]
     },
     "metadata": {},
     "output_type": "display_data"
    },
    {
     "data": {
      "text/html": [
       "<pre style=\"margin: 0.1em;\n",
       "padding-left: 0.25em;\n",
       "border-left-style: solid;\n",
       "font-family: var(--jp-code-font-family);\n",
       "font-size: var(--jp-code-font-size);\n",
       "line-height: var(--jp-code-line-height);\n",
       "\"><span style=\"color: var(--jp-warn-color2)\">lsst.visitInjectTask</span> <span style=\"color: var(--jp-info-color0)\">INFO</span>: Adding INJECTED and INJECTED_CORE mask planes to the exposure.</pre>"
      ],
      "text/plain": [
       "<IPython.core.display.HTML object>"
      ]
     },
     "metadata": {},
     "output_type": "display_data"
    },
    {
     "data": {
      "text/html": [
       "<pre style=\"margin: 0.1em;\n",
       "padding-left: 0.25em;\n",
       "border-left-style: solid;\n",
       "font-family: var(--jp-code-font-family);\n",
       "font-size: var(--jp-code-font-size);\n",
       "line-height: var(--jp-code-line-height);\n",
       "\"><span style=\"color: var(--jp-warn-color2)\">lsst.visitInjectTask</span> <span style=\"color: var(--jp-info-color0)\">INFO</span>: Generating 13 injection sources consisting of 1 unique type: DeltaFunction(13).</pre>"
      ],
      "text/plain": [
       "<IPython.core.display.HTML object>"
      ]
     },
     "metadata": {},
     "output_type": "display_data"
    },
    {
     "data": {
      "text/html": [
       "<pre style=\"margin: 0.1em;\n",
       "padding-left: 0.25em;\n",
       "border-left-style: solid;\n",
       "font-family: var(--jp-code-font-family);\n",
       "font-size: var(--jp-code-font-size);\n",
       "line-height: var(--jp-code-line-height);\n",
       "\"><span style=\"color: var(--jp-warn-color2)\">lsst.visitInjectTask</span> <span style=\"color: var(--jp-info-color0)\">INFO</span>: Injected 13 of 13 potential sources. 0 sources flagged and skipped.</pre>"
      ],
      "text/plain": [
       "<IPython.core.display.HTML object>"
      ]
     },
     "metadata": {},
     "output_type": "display_data"
    },
    {
     "data": {
      "text/html": [
       "<pre style=\"margin: 0.1em;\n",
       "padding-left: 0.25em;\n",
       "border-left-style: solid;\n",
       "font-family: var(--jp-code-font-family);\n",
       "font-size: var(--jp-code-font-size);\n",
       "line-height: var(--jp-code-line-height);\n",
       "\"><span style=\"color: var(--jp-warn-color2)\">lsst.sourceDetection</span> <span style=\"color: var(--jp-info-color0)\">INFO</span>: Setting factor for negative detections equal to that for positive detections: 1.000000</pre>"
      ],
      "text/plain": [
       "<IPython.core.display.HTML object>"
      ]
     },
     "metadata": {},
     "output_type": "display_data"
    },
    {
     "data": {
      "text/html": [
       "<pre style=\"margin: 0.1em;\n",
       "padding-left: 0.25em;\n",
       "border-left-style: solid;\n",
       "font-family: var(--jp-code-font-family);\n",
       "font-size: var(--jp-code-font-size);\n",
       "line-height: var(--jp-code-line-height);\n",
       "\"><span style=\"color: var(--jp-warn-color2)\">lsst.sourceDetection</span> <span style=\"color: var(--jp-info-color0)\">INFO</span>: Detected 2433 positive peaks in 2053 footprints and 98 negative peaks in 97 footprints to 4 +ve and 4 -ve sigma</pre>"
      ],
      "text/plain": [
       "<IPython.core.display.HTML object>"
      ]
     },
     "metadata": {},
     "output_type": "display_data"
    },
    {
     "data": {
      "text/html": [
       "<pre style=\"margin: 0.1em;\n",
       "padding-left: 0.25em;\n",
       "border-left-style: solid;\n",
       "font-family: var(--jp-code-font-family);\n",
       "font-size: var(--jp-code-font-size);\n",
       "line-height: var(--jp-code-line-height);\n",
       "\"><span style=\"color: var(--jp-warn-color2)\">lsst.sourceDetection</span> <span style=\"color: var(--jp-info-color0)\">INFO</span>: Resubtracting the background after object detection</pre>"
      ],
      "text/plain": [
       "<IPython.core.display.HTML object>"
      ]
     },
     "metadata": {},
     "output_type": "display_data"
    },
    {
     "data": {
      "text/html": [
       "<pre style=\"margin: 0.1em;\n",
       "padding-left: 0.25em;\n",
       "border-left-style: solid;\n",
       "font-family: var(--jp-code-font-family);\n",
       "font-size: var(--jp-code-font-size);\n",
       "line-height: var(--jp-code-line-height);\n",
       "\"><span style=\"color: var(--jp-warn-color2)\">lsst.measurement</span> <span style=\"color: var(--jp-info-color0)\">INFO</span>: Measuring 2053 sources (2053 parents, 0 children) </pre>"
      ],
      "text/plain": [
       "<IPython.core.display.HTML object>"
      ]
     },
     "metadata": {},
     "output_type": "display_data"
    },
    {
     "name": "stdout",
     "output_type": "stream",
     "text": [
      "Searching in lc 0\n",
      "Searching in lc 3\n",
      "Searching in lc 5\n",
      "Searching in lc 6\n",
      "Searching in lc 7\n",
      "Searching in lc 10\n",
      "Searching in lc 13\n",
      "Searching in lc 14\n",
      "Searching in lc 16\n",
      "Searching in lc 22\n",
      "Searching in lc 25\n",
      "Searching in lc 27\n",
      "Searching in lc 28\n",
      "ra = 57.59451632893858, dec = -32.481152201226145\n",
      "Measured  23.223005853723485 0.2235257846619836\n",
      "Injected  17.999392031847123\n",
      "ra = 57.62446150720413, dec = -32.53183612480216\n",
      "Measured  23.223005853723485 0.2235257846619836\n",
      "Injected  18.20628858357126\n",
      "ra = 57.4767742579741, dec = -32.39533350493608\n",
      "Measured  23.223005853723485 0.2235257846619836\n",
      "Injected  18.4131851352954\n",
      "ra = 57.74699613416302, dec = -32.44166473285289\n",
      "Measured  23.223005853723485 0.2235257846619836\n",
      "Injected  18.620081687019535\n",
      "ra = 57.62848615376141, dec = -32.66176785164887\n",
      "Measured  23.223005853723485 0.2235257846619836\n",
      "Injected  18.826978238743674\n",
      "ra = 57.634066347002154, dec = -32.4833523842323\n",
      "Measured  23.223005853723485 0.2235257846619836\n",
      "Injected  19.033874790467813\n",
      "ra = 57.65259795702472, dec = -32.518961733639564\n",
      "Measured  23.223005853723485 0.2235257846619836\n",
      "Injected  19.24077134219195\n",
      "ra = 57.62346236005405, dec = -32.39961956269881\n",
      "Measured  23.223005853723485 0.2235257846619836\n",
      "Injected  19.447667893916087\n",
      "ra = 57.46569560067433, dec = -32.57842533429563\n",
      "Measured  23.223005853723485 0.2235257846619836\n",
      "Injected  19.654564445640226\n",
      "ra = 57.79374220827203, dec = -32.53930608540646\n",
      "Measured  23.223005853723485 0.2235257846619836\n",
      "Injected  19.861460997364365\n",
      "ra = 57.58759166793971, dec = -32.31712558989721\n",
      "Measured  23.223005853723485 0.2235257846619836\n",
      "Injected  20.068357549088503\n",
      "ra = 57.578529780089234, dec = -32.665025009644125\n",
      "Measured  23.223005853723485 0.2235257846619836\n",
      "Injected  20.27525410081264\n",
      "ra = 57.57674652424224, dec = -32.60661587538439\n",
      "Measured  23.223005853723485 0.2235257846619836\n",
      "Injected  20.482150652536777\n",
      " ------ CALEXP 7 ------\n",
      "Points injected: 11\n",
      "[0, 1, 3, 5, 6, 7, 9, 22, 23, 24, 28]\n"
     ]
    },
    {
     "data": {
      "text/html": [
       "<pre style=\"margin: 0.1em;\n",
       "padding-left: 0.25em;\n",
       "border-left-style: solid;\n",
       "font-family: var(--jp-code-font-family);\n",
       "font-size: var(--jp-code-font-size);\n",
       "line-height: var(--jp-code-line-height);\n",
       "\"><span style=\"color: var(--jp-warn-color2)\">lsst.visitInjectTask</span> <span style=\"color: var(--jp-info-color0)\">INFO</span>: Retrieved 11 injection sources from 1 HTM trixel.</pre>"
      ],
      "text/plain": [
       "<IPython.core.display.HTML object>"
      ]
     },
     "metadata": {},
     "output_type": "display_data"
    },
    {
     "data": {
      "text/html": [
       "<pre style=\"margin: 0.1em;\n",
       "padding-left: 0.25em;\n",
       "border-left-style: solid;\n",
       "font-family: var(--jp-code-font-family);\n",
       "font-size: var(--jp-code-font-size);\n",
       "line-height: var(--jp-code-line-height);\n",
       "\"><span style=\"color: var(--jp-warn-color2)\">lsst.visitInjectTask</span> <span style=\"color: var(--jp-info-color0)\">INFO</span>: Catalog cleaning removed 0 of 11 sources; 11 remaining for catalog checking.</pre>"
      ],
      "text/plain": [
       "<IPython.core.display.HTML object>"
      ]
     },
     "metadata": {},
     "output_type": "display_data"
    },
    {
     "data": {
      "text/html": [
       "<pre style=\"margin: 0.1em;\n",
       "padding-left: 0.25em;\n",
       "border-left-style: solid;\n",
       "font-family: var(--jp-code-font-family);\n",
       "font-size: var(--jp-code-font-size);\n",
       "line-height: var(--jp-code-line-height);\n",
       "\"><span style=\"color: var(--jp-warn-color2)\">lsst.visitInjectTask</span> <span style=\"color: var(--jp-info-color0)\">INFO</span>: Catalog checking flagged 0 of 11 sources; 11 remaining for source generation.</pre>"
      ],
      "text/plain": [
       "<IPython.core.display.HTML object>"
      ]
     },
     "metadata": {},
     "output_type": "display_data"
    },
    {
     "data": {
      "text/html": [
       "<pre style=\"margin: 0.1em;\n",
       "padding-left: 0.25em;\n",
       "border-left-style: solid;\n",
       "font-family: var(--jp-code-font-family);\n",
       "font-size: var(--jp-code-font-size);\n",
       "line-height: var(--jp-code-line-height);\n",
       "\"><span style=\"color: var(--jp-warn-color2)\">lsst.visitInjectTask</span> <span style=\"color: var(--jp-info-color0)\">INFO</span>: Adding INJECTED and INJECTED_CORE mask planes to the exposure.</pre>"
      ],
      "text/plain": [
       "<IPython.core.display.HTML object>"
      ]
     },
     "metadata": {},
     "output_type": "display_data"
    },
    {
     "data": {
      "text/html": [
       "<pre style=\"margin: 0.1em;\n",
       "padding-left: 0.25em;\n",
       "border-left-style: solid;\n",
       "font-family: var(--jp-code-font-family);\n",
       "font-size: var(--jp-code-font-size);\n",
       "line-height: var(--jp-code-line-height);\n",
       "\"><span style=\"color: var(--jp-warn-color2)\">lsst.visitInjectTask</span> <span style=\"color: var(--jp-info-color0)\">INFO</span>: Generating 11 injection sources consisting of 1 unique type: DeltaFunction(11).</pre>"
      ],
      "text/plain": [
       "<IPython.core.display.HTML object>"
      ]
     },
     "metadata": {},
     "output_type": "display_data"
    },
    {
     "data": {
      "text/html": [
       "<pre style=\"margin: 0.1em;\n",
       "padding-left: 0.25em;\n",
       "border-left-style: solid;\n",
       "font-family: var(--jp-code-font-family);\n",
       "font-size: var(--jp-code-font-size);\n",
       "line-height: var(--jp-code-line-height);\n",
       "\"><span style=\"color: var(--jp-warn-color2)\">lsst.visitInjectTask</span> <span style=\"color: var(--jp-info-color0)\">INFO</span>: Injected 11 of 11 potential sources. 0 sources flagged and skipped.</pre>"
      ],
      "text/plain": [
       "<IPython.core.display.HTML object>"
      ]
     },
     "metadata": {},
     "output_type": "display_data"
    },
    {
     "data": {
      "text/html": [
       "<pre style=\"margin: 0.1em;\n",
       "padding-left: 0.25em;\n",
       "border-left-style: solid;\n",
       "font-family: var(--jp-code-font-family);\n",
       "font-size: var(--jp-code-font-size);\n",
       "line-height: var(--jp-code-line-height);\n",
       "\"><span style=\"color: var(--jp-warn-color2)\">lsst.sourceDetection</span> <span style=\"color: var(--jp-info-color0)\">INFO</span>: Setting factor for negative detections equal to that for positive detections: 1.000000</pre>"
      ],
      "text/plain": [
       "<IPython.core.display.HTML object>"
      ]
     },
     "metadata": {},
     "output_type": "display_data"
    },
    {
     "data": {
      "text/html": [
       "<pre style=\"margin: 0.1em;\n",
       "padding-left: 0.25em;\n",
       "border-left-style: solid;\n",
       "font-family: var(--jp-code-font-family);\n",
       "font-size: var(--jp-code-font-size);\n",
       "line-height: var(--jp-code-line-height);\n",
       "\"><span style=\"color: var(--jp-warn-color2)\">lsst.sourceDetection</span> <span style=\"color: var(--jp-info-color0)\">INFO</span>: Detected 2378 positive peaks in 1982 footprints and 105 negative peaks in 103 footprints to 4 +ve and 4 -ve sigma</pre>"
      ],
      "text/plain": [
       "<IPython.core.display.HTML object>"
      ]
     },
     "metadata": {},
     "output_type": "display_data"
    },
    {
     "data": {
      "text/html": [
       "<pre style=\"margin: 0.1em;\n",
       "padding-left: 0.25em;\n",
       "border-left-style: solid;\n",
       "font-family: var(--jp-code-font-family);\n",
       "font-size: var(--jp-code-font-size);\n",
       "line-height: var(--jp-code-line-height);\n",
       "\"><span style=\"color: var(--jp-warn-color2)\">lsst.sourceDetection</span> <span style=\"color: var(--jp-info-color0)\">INFO</span>: Resubtracting the background after object detection</pre>"
      ],
      "text/plain": [
       "<IPython.core.display.HTML object>"
      ]
     },
     "metadata": {},
     "output_type": "display_data"
    },
    {
     "data": {
      "text/html": [
       "<pre style=\"margin: 0.1em;\n",
       "padding-left: 0.25em;\n",
       "border-left-style: solid;\n",
       "font-family: var(--jp-code-font-family);\n",
       "font-size: var(--jp-code-font-size);\n",
       "line-height: var(--jp-code-line-height);\n",
       "\"><span style=\"color: var(--jp-warn-color2)\">lsst.measurement</span> <span style=\"color: var(--jp-info-color0)\">INFO</span>: Measuring 1982 sources (1982 parents, 0 children) </pre>"
      ],
      "text/plain": [
       "<IPython.core.display.HTML object>"
      ]
     },
     "metadata": {},
     "output_type": "display_data"
    },
    {
     "name": "stdout",
     "output_type": "stream",
     "text": [
      "Searching in lc 0\n",
      "Searching in lc 1\n",
      "Searching in lc 3\n",
      "Searching in lc 5\n",
      "Searching in lc 6\n",
      "Searching in lc 7\n",
      "Searching in lc 9\n",
      "Searching in lc 22\n",
      "Searching in lc 23\n",
      "Searching in lc 24\n",
      "Searching in lc 28\n",
      "ra = 57.59451632893858, dec = -32.481152201226145\n",
      "Measured  21.214860682735495 0.03604370130397168\n",
      "Injected  17.999392026419127\n",
      "ra = 57.62446150720413, dec = -32.53183612480216\n",
      "Measured  21.214860682735495 0.03604370130397168\n",
      "Injected  18.206288578143266\n",
      "ra = 57.4767742579741, dec = -32.39533350493608\n",
      "Measured  21.214860682735495 0.03604370130397168\n",
      "Injected  18.413185129867404\n",
      "ra = 57.74699613416302, dec = -32.44166473285289\n",
      "Measured  21.214860682735495 0.03604370130397168\n",
      "Injected  18.62008168159154\n",
      "ra = 57.62848615376141, dec = -32.66176785164887\n",
      "Measured  21.214860682735495 0.03604370130397168\n",
      "Injected  18.82697823331568\n",
      "ra = 57.634066347002154, dec = -32.4833523842323\n",
      "Measured  21.214860682735495 0.03604370130397168\n",
      "Injected  19.033874785039817\n",
      "ra = 57.65259795702472, dec = -32.518961733639564\n",
      "Measured  21.214860682735495 0.03604370130397168\n",
      "Injected  19.240771336763956\n",
      "ra = 57.62346236005405, dec = -32.39961956269881\n",
      "Measured  21.214860682735495 0.03604370130397168\n",
      "Injected  19.44766788848809\n",
      "ra = 57.46569560067433, dec = -32.57842533429563\n",
      "Measured  21.214860682735495 0.03604370130397168\n",
      "Injected  19.65456444021223\n",
      "ra = 57.79374220827203, dec = -32.53930608540646\n",
      "Measured  21.214860682735495 0.03604370130397168\n",
      "Injected  19.86146099193637\n",
      "ra = 57.58759166793971, dec = -32.31712558989721\n",
      "Measured  21.214860682735495 0.03604370130397168\n",
      "Injected  20.068357543660508\n",
      " ------ CALEXP 8 ------\n",
      "Points injected: 13\n",
      "[0, 1, 5, 6, 7, 9, 12, 17, 21, 22, 23, 24, 29]\n"
     ]
    },
    {
     "data": {
      "text/html": [
       "<pre style=\"margin: 0.1em;\n",
       "padding-left: 0.25em;\n",
       "border-left-style: solid;\n",
       "font-family: var(--jp-code-font-family);\n",
       "font-size: var(--jp-code-font-size);\n",
       "line-height: var(--jp-code-line-height);\n",
       "\"><span style=\"color: var(--jp-warn-color2)\">lsst.visitInjectTask</span> <span style=\"color: var(--jp-info-color0)\">INFO</span>: Retrieved 13 injection sources from 1 HTM trixel.</pre>"
      ],
      "text/plain": [
       "<IPython.core.display.HTML object>"
      ]
     },
     "metadata": {},
     "output_type": "display_data"
    },
    {
     "data": {
      "text/html": [
       "<pre style=\"margin: 0.1em;\n",
       "padding-left: 0.25em;\n",
       "border-left-style: solid;\n",
       "font-family: var(--jp-code-font-family);\n",
       "font-size: var(--jp-code-font-size);\n",
       "line-height: var(--jp-code-line-height);\n",
       "\"><span style=\"color: var(--jp-warn-color2)\">lsst.visitInjectTask</span> <span style=\"color: var(--jp-info-color0)\">INFO</span>: Catalog cleaning removed 0 of 13 sources; 13 remaining for catalog checking.</pre>"
      ],
      "text/plain": [
       "<IPython.core.display.HTML object>"
      ]
     },
     "metadata": {},
     "output_type": "display_data"
    },
    {
     "data": {
      "text/html": [
       "<pre style=\"margin: 0.1em;\n",
       "padding-left: 0.25em;\n",
       "border-left-style: solid;\n",
       "font-family: var(--jp-code-font-family);\n",
       "font-size: var(--jp-code-font-size);\n",
       "line-height: var(--jp-code-line-height);\n",
       "\"><span style=\"color: var(--jp-warn-color2)\">lsst.visitInjectTask</span> <span style=\"color: var(--jp-info-color0)\">INFO</span>: Catalog checking flagged 0 of 13 sources; 13 remaining for source generation.</pre>"
      ],
      "text/plain": [
       "<IPython.core.display.HTML object>"
      ]
     },
     "metadata": {},
     "output_type": "display_data"
    },
    {
     "data": {
      "text/html": [
       "<pre style=\"margin: 0.1em;\n",
       "padding-left: 0.25em;\n",
       "border-left-style: solid;\n",
       "font-family: var(--jp-code-font-family);\n",
       "font-size: var(--jp-code-font-size);\n",
       "line-height: var(--jp-code-line-height);\n",
       "\"><span style=\"color: var(--jp-warn-color2)\">lsst.visitInjectTask</span> <span style=\"color: var(--jp-info-color0)\">INFO</span>: Adding INJECTED and INJECTED_CORE mask planes to the exposure.</pre>"
      ],
      "text/plain": [
       "<IPython.core.display.HTML object>"
      ]
     },
     "metadata": {},
     "output_type": "display_data"
    },
    {
     "data": {
      "text/html": [
       "<pre style=\"margin: 0.1em;\n",
       "padding-left: 0.25em;\n",
       "border-left-style: solid;\n",
       "font-family: var(--jp-code-font-family);\n",
       "font-size: var(--jp-code-font-size);\n",
       "line-height: var(--jp-code-line-height);\n",
       "\"><span style=\"color: var(--jp-warn-color2)\">lsst.visitInjectTask</span> <span style=\"color: var(--jp-info-color0)\">INFO</span>: Generating 13 injection sources consisting of 1 unique type: DeltaFunction(13).</pre>"
      ],
      "text/plain": [
       "<IPython.core.display.HTML object>"
      ]
     },
     "metadata": {},
     "output_type": "display_data"
    },
    {
     "data": {
      "text/html": [
       "<pre style=\"margin: 0.1em;\n",
       "padding-left: 0.25em;\n",
       "border-left-style: solid;\n",
       "font-family: var(--jp-code-font-family);\n",
       "font-size: var(--jp-code-font-size);\n",
       "line-height: var(--jp-code-line-height);\n",
       "\"><span style=\"color: var(--jp-warn-color2)\">lsst.visitInjectTask</span> <span style=\"color: var(--jp-info-color0)\">INFO</span>: Injected 12 of 13 potential sources. 1 source flagged and skipped: NO_OVERLAP(1).</pre>"
      ],
      "text/plain": [
       "<IPython.core.display.HTML object>"
      ]
     },
     "metadata": {},
     "output_type": "display_data"
    },
    {
     "data": {
      "text/html": [
       "<pre style=\"margin: 0.1em;\n",
       "padding-left: 0.25em;\n",
       "border-left-style: solid;\n",
       "font-family: var(--jp-code-font-family);\n",
       "font-size: var(--jp-code-font-size);\n",
       "line-height: var(--jp-code-line-height);\n",
       "\"><span style=\"color: var(--jp-warn-color2)\">lsst.sourceDetection</span> <span style=\"color: var(--jp-info-color0)\">INFO</span>: Setting factor for negative detections equal to that for positive detections: 1.000000</pre>"
      ],
      "text/plain": [
       "<IPython.core.display.HTML object>"
      ]
     },
     "metadata": {},
     "output_type": "display_data"
    },
    {
     "data": {
      "text/html": [
       "<pre style=\"margin: 0.1em;\n",
       "padding-left: 0.25em;\n",
       "border-left-style: solid;\n",
       "font-family: var(--jp-code-font-family);\n",
       "font-size: var(--jp-code-font-size);\n",
       "line-height: var(--jp-code-line-height);\n",
       "\"><span style=\"color: var(--jp-warn-color2)\">lsst.sourceDetection</span> <span style=\"color: var(--jp-info-color0)\">INFO</span>: Detected 2432 positive peaks in 2120 footprints and 150 negative peaks in 147 footprints to 4 +ve and 4 -ve sigma</pre>"
      ],
      "text/plain": [
       "<IPython.core.display.HTML object>"
      ]
     },
     "metadata": {},
     "output_type": "display_data"
    },
    {
     "data": {
      "text/html": [
       "<pre style=\"margin: 0.1em;\n",
       "padding-left: 0.25em;\n",
       "border-left-style: solid;\n",
       "font-family: var(--jp-code-font-family);\n",
       "font-size: var(--jp-code-font-size);\n",
       "line-height: var(--jp-code-line-height);\n",
       "\"><span style=\"color: var(--jp-warn-color2)\">lsst.sourceDetection</span> <span style=\"color: var(--jp-info-color0)\">INFO</span>: Resubtracting the background after object detection</pre>"
      ],
      "text/plain": [
       "<IPython.core.display.HTML object>"
      ]
     },
     "metadata": {},
     "output_type": "display_data"
    },
    {
     "data": {
      "text/html": [
       "<pre style=\"margin: 0.1em;\n",
       "padding-left: 0.25em;\n",
       "border-left-style: solid;\n",
       "font-family: var(--jp-code-font-family);\n",
       "font-size: var(--jp-code-font-size);\n",
       "line-height: var(--jp-code-line-height);\n",
       "\"><span style=\"color: var(--jp-warn-color2)\">lsst.measurement</span> <span style=\"color: var(--jp-info-color0)\">INFO</span>: Measuring 2120 sources (2120 parents, 0 children) </pre>"
      ],
      "text/plain": [
       "<IPython.core.display.HTML object>"
      ]
     },
     "metadata": {},
     "output_type": "display_data"
    },
    {
     "name": "stdout",
     "output_type": "stream",
     "text": [
      "Searching in lc 0\n",
      "Searching in lc 1\n",
      "Searching in lc 5\n",
      "Searching in lc 6\n",
      "Searching in lc 7\n",
      "Searching in lc 9\n",
      "Searching in lc 12\n",
      "Searching in lc 17\n",
      "Searching in lc 21\n",
      "Searching in lc 22\n",
      "Searching in lc 23\n",
      "Searching in lc 24\n",
      "Searching in lc 29\n",
      "ra = 57.59451632893858, dec = -32.481152201226145\n",
      "Measured  23.42714735519784 0.250155635198904\n",
      "Injected  17.999391983509366\n",
      "ra = 57.62446150720413, dec = -32.53183612480216\n",
      "Measured  23.42714735519784 0.250155635198904\n",
      "Injected  18.206288535233504\n",
      "ra = 57.4767742579741, dec = -32.39533350493608\n",
      "Measured  23.42714735519784 0.250155635198904\n",
      "Injected  18.413185086957643\n",
      "ra = 57.74699613416302, dec = -32.44166473285289\n",
      "Measured  23.42714735519784 0.250155635198904\n",
      "Injected  18.62008163868178\n",
      "ra = 57.62848615376141, dec = -32.66176785164887\n",
      "Measured  23.42714735519784 0.250155635198904\n",
      "Injected  18.826978190405917\n",
      "ra = 57.634066347002154, dec = -32.4833523842323\n",
      "Measured  23.42714735519784 0.250155635198904\n",
      "Injected  19.033874742130056\n",
      "ra = 57.65259795702472, dec = -32.518961733639564\n",
      "Measured  23.42714735519784 0.250155635198904\n",
      "Injected  19.240771293854195\n",
      "ra = 57.62346236005405, dec = -32.39961956269881\n",
      "Measured  23.42714735519784 0.250155635198904\n",
      "Injected  19.44766784557833\n",
      "ra = 57.46569560067433, dec = -32.57842533429563\n",
      "Measured  23.42714735519784 0.250155635198904\n",
      "Injected  19.65456439730247\n",
      "ra = 57.79374220827203, dec = -32.53930608540646\n",
      "Measured  23.42714735519784 0.250155635198904\n",
      "Injected  19.861460949026608\n",
      "ra = 57.58759166793971, dec = -32.31712558989721\n",
      "Measured  23.42714735519784 0.250155635198904\n",
      "Injected  20.068357500750746\n",
      "ra = 57.578529780089234, dec = -32.665025009644125\n",
      "Measured  23.42714735519784 0.250155635198904\n",
      "Injected  20.27525405247488\n",
      "ra = 57.57674652424224, dec = -32.60661587538439\n",
      "Measured  23.42714735519784 0.250155635198904\n",
      "Injected  20.48215060419902\n",
      " ------ CALEXP 9 ------\n",
      "Points injected: 11\n",
      "[1, 4, 5, 6, 11, 12, 17, 21, 22, 26, 29]\n"
     ]
    },
    {
     "data": {
      "text/html": [
       "<pre style=\"margin: 0.1em;\n",
       "padding-left: 0.25em;\n",
       "border-left-style: solid;\n",
       "font-family: var(--jp-code-font-family);\n",
       "font-size: var(--jp-code-font-size);\n",
       "line-height: var(--jp-code-line-height);\n",
       "\"><span style=\"color: var(--jp-warn-color2)\">lsst.visitInjectTask</span> <span style=\"color: var(--jp-info-color0)\">INFO</span>: Retrieved 11 injection sources from 1 HTM trixel.</pre>"
      ],
      "text/plain": [
       "<IPython.core.display.HTML object>"
      ]
     },
     "metadata": {},
     "output_type": "display_data"
    },
    {
     "data": {
      "text/html": [
       "<pre style=\"margin: 0.1em;\n",
       "padding-left: 0.25em;\n",
       "border-left-style: solid;\n",
       "font-family: var(--jp-code-font-family);\n",
       "font-size: var(--jp-code-font-size);\n",
       "line-height: var(--jp-code-line-height);\n",
       "\"><span style=\"color: var(--jp-warn-color2)\">lsst.visitInjectTask</span> <span style=\"color: var(--jp-info-color0)\">INFO</span>: Catalog cleaning removed 0 of 11 sources; 11 remaining for catalog checking.</pre>"
      ],
      "text/plain": [
       "<IPython.core.display.HTML object>"
      ]
     },
     "metadata": {},
     "output_type": "display_data"
    },
    {
     "data": {
      "text/html": [
       "<pre style=\"margin: 0.1em;\n",
       "padding-left: 0.25em;\n",
       "border-left-style: solid;\n",
       "font-family: var(--jp-code-font-family);\n",
       "font-size: var(--jp-code-font-size);\n",
       "line-height: var(--jp-code-line-height);\n",
       "\"><span style=\"color: var(--jp-warn-color2)\">lsst.visitInjectTask</span> <span style=\"color: var(--jp-info-color0)\">INFO</span>: Catalog checking flagged 0 of 11 sources; 11 remaining for source generation.</pre>"
      ],
      "text/plain": [
       "<IPython.core.display.HTML object>"
      ]
     },
     "metadata": {},
     "output_type": "display_data"
    },
    {
     "data": {
      "text/html": [
       "<pre style=\"margin: 0.1em;\n",
       "padding-left: 0.25em;\n",
       "border-left-style: solid;\n",
       "font-family: var(--jp-code-font-family);\n",
       "font-size: var(--jp-code-font-size);\n",
       "line-height: var(--jp-code-line-height);\n",
       "\"><span style=\"color: var(--jp-warn-color2)\">lsst.visitInjectTask</span> <span style=\"color: var(--jp-info-color0)\">INFO</span>: Adding INJECTED and INJECTED_CORE mask planes to the exposure.</pre>"
      ],
      "text/plain": [
       "<IPython.core.display.HTML object>"
      ]
     },
     "metadata": {},
     "output_type": "display_data"
    },
    {
     "data": {
      "text/html": [
       "<pre style=\"margin: 0.1em;\n",
       "padding-left: 0.25em;\n",
       "border-left-style: solid;\n",
       "font-family: var(--jp-code-font-family);\n",
       "font-size: var(--jp-code-font-size);\n",
       "line-height: var(--jp-code-line-height);\n",
       "\"><span style=\"color: var(--jp-warn-color2)\">lsst.visitInjectTask</span> <span style=\"color: var(--jp-info-color0)\">INFO</span>: Generating 11 injection sources consisting of 1 unique type: DeltaFunction(11).</pre>"
      ],
      "text/plain": [
       "<IPython.core.display.HTML object>"
      ]
     },
     "metadata": {},
     "output_type": "display_data"
    },
    {
     "data": {
      "text/html": [
       "<pre style=\"margin: 0.1em;\n",
       "padding-left: 0.25em;\n",
       "border-left-style: solid;\n",
       "font-family: var(--jp-code-font-family);\n",
       "font-size: var(--jp-code-font-size);\n",
       "line-height: var(--jp-code-line-height);\n",
       "\"><span style=\"color: var(--jp-warn-color2)\">lsst.visitInjectTask</span> <span style=\"color: var(--jp-info-color0)\">INFO</span>: Injected 11 of 11 potential sources. 0 sources flagged and skipped.</pre>"
      ],
      "text/plain": [
       "<IPython.core.display.HTML object>"
      ]
     },
     "metadata": {},
     "output_type": "display_data"
    },
    {
     "data": {
      "text/html": [
       "<pre style=\"margin: 0.1em;\n",
       "padding-left: 0.25em;\n",
       "border-left-style: solid;\n",
       "font-family: var(--jp-code-font-family);\n",
       "font-size: var(--jp-code-font-size);\n",
       "line-height: var(--jp-code-line-height);\n",
       "\"><span style=\"color: var(--jp-warn-color2)\">lsst.sourceDetection</span> <span style=\"color: var(--jp-info-color0)\">INFO</span>: Setting factor for negative detections equal to that for positive detections: 1.000000</pre>"
      ],
      "text/plain": [
       "<IPython.core.display.HTML object>"
      ]
     },
     "metadata": {},
     "output_type": "display_data"
    },
    {
     "data": {
      "text/html": [
       "<pre style=\"margin: 0.1em;\n",
       "padding-left: 0.25em;\n",
       "border-left-style: solid;\n",
       "font-family: var(--jp-code-font-family);\n",
       "font-size: var(--jp-code-font-size);\n",
       "line-height: var(--jp-code-line-height);\n",
       "\"><span style=\"color: var(--jp-warn-color2)\">lsst.sourceDetection</span> <span style=\"color: var(--jp-info-color0)\">INFO</span>: Detected 2548 positive peaks in 2175 footprints and 204 negative peaks in 201 footprints to 4 +ve and 4 -ve sigma</pre>"
      ],
      "text/plain": [
       "<IPython.core.display.HTML object>"
      ]
     },
     "metadata": {},
     "output_type": "display_data"
    },
    {
     "data": {
      "text/html": [
       "<pre style=\"margin: 0.1em;\n",
       "padding-left: 0.25em;\n",
       "border-left-style: solid;\n",
       "font-family: var(--jp-code-font-family);\n",
       "font-size: var(--jp-code-font-size);\n",
       "line-height: var(--jp-code-line-height);\n",
       "\"><span style=\"color: var(--jp-warn-color2)\">lsst.sourceDetection</span> <span style=\"color: var(--jp-info-color0)\">INFO</span>: Resubtracting the background after object detection</pre>"
      ],
      "text/plain": [
       "<IPython.core.display.HTML object>"
      ]
     },
     "metadata": {},
     "output_type": "display_data"
    },
    {
     "data": {
      "text/html": [
       "<pre style=\"margin: 0.1em;\n",
       "padding-left: 0.25em;\n",
       "border-left-style: solid;\n",
       "font-family: var(--jp-code-font-family);\n",
       "font-size: var(--jp-code-font-size);\n",
       "line-height: var(--jp-code-line-height);\n",
       "\"><span style=\"color: var(--jp-warn-color2)\">lsst.measurement</span> <span style=\"color: var(--jp-info-color0)\">INFO</span>: Measuring 2175 sources (2175 parents, 0 children) </pre>"
      ],
      "text/plain": [
       "<IPython.core.display.HTML object>"
      ]
     },
     "metadata": {},
     "output_type": "display_data"
    },
    {
     "name": "stdout",
     "output_type": "stream",
     "text": [
      "Searching in lc 1\n",
      "Searching in lc 4\n",
      "Searching in lc 5\n",
      "Searching in lc 6\n",
      "Searching in lc 11\n",
      "Searching in lc 12\n",
      "Searching in lc 17\n",
      "Searching in lc 21\n",
      "Searching in lc 22\n",
      "Searching in lc 26\n",
      "Searching in lc 29\n",
      "ra = 57.59451632893858, dec = -32.481152201226145\n",
      "Measured  23.54011715364593 0.2543795115990901\n",
      "Injected  17.999391960315545\n",
      "ra = 57.62446150720413, dec = -32.53183612480216\n",
      "Measured  23.54011715364593 0.2543795115990901\n",
      "Injected  18.206288512039684\n",
      "ra = 57.4767742579741, dec = -32.39533350493608\n",
      "Measured  23.54011715364593 0.2543795115990901\n",
      "Injected  18.413185063763823\n",
      "ra = 57.74699613416302, dec = -32.44166473285289\n",
      "Measured  23.54011715364593 0.2543795115990901\n",
      "Injected  18.62008161548796\n",
      "ra = 57.62848615376141, dec = -32.66176785164887\n",
      "Measured  23.54011715364593 0.2543795115990901\n",
      "Injected  18.826978167212097\n",
      "ra = 57.634066347002154, dec = -32.4833523842323\n",
      "Measured  23.54011715364593 0.2543795115990901\n",
      "Injected  19.033874718936236\n",
      "ra = 57.65259795702472, dec = -32.518961733639564\n",
      "Measured  23.54011715364593 0.2543795115990901\n",
      "Injected  19.240771270660375\n",
      "ra = 57.62346236005405, dec = -32.39961956269881\n",
      "Measured  23.54011715364593 0.2543795115990901\n",
      "Injected  19.44766782238451\n",
      "ra = 57.46569560067433, dec = -32.57842533429563\n",
      "Measured  23.54011715364593 0.2543795115990901\n",
      "Injected  19.65456437410865\n",
      "ra = 57.79374220827203, dec = -32.53930608540646\n",
      "Measured  23.54011715364593 0.2543795115990901\n",
      "Injected  19.861460925832787\n",
      "ra = 57.58759166793971, dec = -32.31712558989721\n",
      "Measured  23.54011715364593 0.2543795115990901\n",
      "Injected  20.068357477556926\n",
      "(ra,dec) = (57.59451632893858, -32.481152201226145)/nHTM_ID = 37658136 - HTM_level=11 (bounded by a circle of radius ~140.32 arcsec.)\n"
     ]
    },
    {
     "name": "stderr",
     "output_type": "stream",
     "text": [
      "/opt/lsst/software/stack/conda/envs/lsst-scipipe-9.0.0/share/eups/Linux64/daf_butler/g588e17ab67+fac83bd63d/python/lsst/daf/butler/registry/queries/_structs.py:401: FutureWarning: Dimension 'htm20' should no longer be used in data IDs. Use the region 'OVERLAPS' operator in the where clause instead. Will be removed after v28.\n",
      "  warnings.warn(\n"
     ]
    },
    {
     "name": "stdout",
     "output_type": "stream",
     "text": [
      "Found 229 calexps\n"
     ]
    },
    {
     "name": "stderr",
     "output_type": "stream",
     "text": [
      "/home/karennowo/DP0_microlensing/light_curves.py:107: FutureWarning: The behavior of DataFrame concatenation with empty or all-NA entries is deprecated. In a future version, this will no longer exclude empty or all-NA columns when determining the result dtypes. To retain the old behavior, exclude the relevant entries before the concat operation.\n",
      "  self.data = pd.concat([self.data, new_data], ignore_index=True)\n"
     ]
    },
    {
     "name": "stdout",
     "output_type": "stream",
     "text": [
      " ------ CALEXP 0 ------\n",
      "Points injected: 12\n",
      "[0, 1, 6, 10, 15, 16, 18, 22, 24, 25, 26, 28]\n"
     ]
    },
    {
     "data": {
      "text/html": [
       "<pre style=\"margin: 0.1em;\n",
       "padding-left: 0.25em;\n",
       "border-left-style: solid;\n",
       "font-family: var(--jp-code-font-family);\n",
       "font-size: var(--jp-code-font-size);\n",
       "line-height: var(--jp-code-line-height);\n",
       "\"><span style=\"color: var(--jp-warn-color2)\">lsst.visitInjectTask</span> <span style=\"color: var(--jp-info-color0)\">INFO</span>: Retrieved 12 injection sources from 1 HTM trixel.</pre>"
      ],
      "text/plain": [
       "<IPython.core.display.HTML object>"
      ]
     },
     "metadata": {},
     "output_type": "display_data"
    },
    {
     "data": {
      "text/html": [
       "<pre style=\"margin: 0.1em;\n",
       "padding-left: 0.25em;\n",
       "border-left-style: solid;\n",
       "font-family: var(--jp-code-font-family);\n",
       "font-size: var(--jp-code-font-size);\n",
       "line-height: var(--jp-code-line-height);\n",
       "\"><span style=\"color: var(--jp-warn-color2)\">lsst.visitInjectTask</span> <span style=\"color: var(--jp-info-color0)\">INFO</span>: Catalog cleaning removed 0 of 12 sources; 12 remaining for catalog checking.</pre>"
      ],
      "text/plain": [
       "<IPython.core.display.HTML object>"
      ]
     },
     "metadata": {},
     "output_type": "display_data"
    },
    {
     "data": {
      "text/html": [
       "<pre style=\"margin: 0.1em;\n",
       "padding-left: 0.25em;\n",
       "border-left-style: solid;\n",
       "font-family: var(--jp-code-font-family);\n",
       "font-size: var(--jp-code-font-size);\n",
       "line-height: var(--jp-code-line-height);\n",
       "\"><span style=\"color: var(--jp-warn-color2)\">lsst.visitInjectTask</span> <span style=\"color: var(--jp-info-color0)\">INFO</span>: Catalog checking flagged 0 of 12 sources; 12 remaining for source generation.</pre>"
      ],
      "text/plain": [
       "<IPython.core.display.HTML object>"
      ]
     },
     "metadata": {},
     "output_type": "display_data"
    },
    {
     "data": {
      "text/html": [
       "<pre style=\"margin: 0.1em;\n",
       "padding-left: 0.25em;\n",
       "border-left-style: solid;\n",
       "font-family: var(--jp-code-font-family);\n",
       "font-size: var(--jp-code-font-size);\n",
       "line-height: var(--jp-code-line-height);\n",
       "\"><span style=\"color: var(--jp-warn-color2)\">lsst.visitInjectTask</span> <span style=\"color: var(--jp-info-color0)\">INFO</span>: Adding INJECTED and INJECTED_CORE mask planes to the exposure.</pre>"
      ],
      "text/plain": [
       "<IPython.core.display.HTML object>"
      ]
     },
     "metadata": {},
     "output_type": "display_data"
    },
    {
     "data": {
      "text/html": [
       "<pre style=\"margin: 0.1em;\n",
       "padding-left: 0.25em;\n",
       "border-left-style: solid;\n",
       "font-family: var(--jp-code-font-family);\n",
       "font-size: var(--jp-code-font-size);\n",
       "line-height: var(--jp-code-line-height);\n",
       "\"><span style=\"color: var(--jp-warn-color2)\">lsst.visitInjectTask</span> <span style=\"color: var(--jp-info-color0)\">INFO</span>: Generating 12 injection sources consisting of 1 unique type: DeltaFunction(12).</pre>"
      ],
      "text/plain": [
       "<IPython.core.display.HTML object>"
      ]
     },
     "metadata": {},
     "output_type": "display_data"
    },
    {
     "data": {
      "text/html": [
       "<pre style=\"margin: 0.1em;\n",
       "padding-left: 0.25em;\n",
       "border-left-style: solid;\n",
       "font-family: var(--jp-code-font-family);\n",
       "font-size: var(--jp-code-font-size);\n",
       "line-height: var(--jp-code-line-height);\n",
       "\"><span style=\"color: var(--jp-warn-color2)\">lsst.visitInjectTask</span> <span style=\"color: var(--jp-info-color0)\">INFO</span>: Injected 12 of 12 potential sources. 0 sources flagged and skipped.</pre>"
      ],
      "text/plain": [
       "<IPython.core.display.HTML object>"
      ]
     },
     "metadata": {},
     "output_type": "display_data"
    },
    {
     "data": {
      "text/html": [
       "<pre style=\"margin: 0.1em;\n",
       "padding-left: 0.25em;\n",
       "border-left-style: solid;\n",
       "font-family: var(--jp-code-font-family);\n",
       "font-size: var(--jp-code-font-size);\n",
       "line-height: var(--jp-code-line-height);\n",
       "\"><span style=\"color: var(--jp-warn-color2)\">lsst.sourceDetection</span> <span style=\"color: var(--jp-info-color0)\">INFO</span>: Setting factor for negative detections equal to that for positive detections: 1.000000</pre>"
      ],
      "text/plain": [
       "<IPython.core.display.HTML object>"
      ]
     },
     "metadata": {},
     "output_type": "display_data"
    },
    {
     "data": {
      "text/html": [
       "<pre style=\"margin: 0.1em;\n",
       "padding-left: 0.25em;\n",
       "border-left-style: solid;\n",
       "font-family: var(--jp-code-font-family);\n",
       "font-size: var(--jp-code-font-size);\n",
       "line-height: var(--jp-code-line-height);\n",
       "\"><span style=\"color: var(--jp-warn-color2)\">lsst.sourceDetection</span> <span style=\"color: var(--jp-info-color0)\">INFO</span>: Detected 3075 positive peaks in 2619 footprints and 80 negative peaks in 80 footprints to 4 +ve and 4 -ve sigma</pre>"
      ],
      "text/plain": [
       "<IPython.core.display.HTML object>"
      ]
     },
     "metadata": {},
     "output_type": "display_data"
    },
    {
     "data": {
      "text/html": [
       "<pre style=\"margin: 0.1em;\n",
       "padding-left: 0.25em;\n",
       "border-left-style: solid;\n",
       "font-family: var(--jp-code-font-family);\n",
       "font-size: var(--jp-code-font-size);\n",
       "line-height: var(--jp-code-line-height);\n",
       "\"><span style=\"color: var(--jp-warn-color2)\">lsst.sourceDetection</span> <span style=\"color: var(--jp-info-color0)\">INFO</span>: Resubtracting the background after object detection</pre>"
      ],
      "text/plain": [
       "<IPython.core.display.HTML object>"
      ]
     },
     "metadata": {},
     "output_type": "display_data"
    },
    {
     "data": {
      "text/html": [
       "<pre style=\"margin: 0.1em;\n",
       "padding-left: 0.25em;\n",
       "border-left-style: solid;\n",
       "font-family: var(--jp-code-font-family);\n",
       "font-size: var(--jp-code-font-size);\n",
       "line-height: var(--jp-code-line-height);\n",
       "\"><span style=\"color: var(--jp-warn-color2)\">lsst.measurement</span> <span style=\"color: var(--jp-info-color0)\">INFO</span>: Measuring 2619 sources (2619 parents, 0 children) </pre>"
      ],
      "text/plain": [
       "<IPython.core.display.HTML object>"
      ]
     },
     "metadata": {},
     "output_type": "display_data"
    },
    {
     "name": "stdout",
     "output_type": "stream",
     "text": [
      "Searching in lc 0\n",
      "Searching in lc 1\n",
      "Searching in lc 6\n",
      "Searching in lc 10\n",
      "Searching in lc 15\n",
      "Searching in lc 16\n",
      "Searching in lc 18\n",
      "Searching in lc 22\n",
      "Searching in lc 24\n",
      "Searching in lc 25\n",
      "Searching in lc 26\n",
      "Searching in lc 28\n",
      "ra = 57.59451632893858, dec = -32.481152201226145\n",
      "Measured  19.659075278381316 0.0078102266107436605\n",
      "Injected  17.999800399179982\n",
      "ra = 57.721693928416556, dec = -32.61193236702722\n",
      "Measured  19.659075278381316 0.0078102266107436605\n",
      "Injected  18.20669695090412\n",
      "ra = 57.68061138727324, dec = -32.30962597321138\n",
      "Measured  19.659075278381316 0.0078102266107436605\n",
      "Injected  18.41359350262826\n",
      "ra = 57.50916802459406, dec = -32.48486065570155\n",
      "Measured  19.659075278381316 0.0078102266107436605\n",
      "Injected  18.620490054352395\n",
      "ra = 57.50395607562979, dec = -32.64262458704941\n",
      "Measured  19.659075278381316 0.0078102266107436605\n",
      "Injected  18.827386606076534\n",
      "ra = 57.488692246461895, dec = -32.5547566553623\n",
      "Measured  19.659075278381316 0.0078102266107436605\n",
      "Injected  19.034283157800672\n",
      "ra = 57.63692147316318, dec = -32.66239828628203\n",
      "Measured  19.659075278381316 0.0078102266107436605\n",
      "Injected  19.24117970952481\n",
      "ra = 57.575040418888165, dec = -32.50160680552438\n",
      "Measured  19.659075278381316 0.0078102266107436605\n",
      "Injected  19.448076261248946\n",
      "ra = 57.53944959234475, dec = -32.51059524525427\n",
      "Measured  19.659075278381316 0.0078102266107436605\n",
      "Injected  19.654972812973085\n",
      "ra = 57.46743777172214, dec = -32.47293710288829\n",
      "Measured  19.659075278381316 0.0078102266107436605\n",
      "Injected  19.861869364697224\n",
      "ra = 57.61811198906094, dec = -32.44716315357896\n",
      "Measured  19.659075278381316 0.0078102266107436605\n",
      "Injected  20.068765916421363\n",
      "ra = 57.574764870556024, dec = -32.37203780370198\n",
      "Measured  19.659075278381316 0.0078102266107436605\n",
      "Injected  20.275662468145498\n",
      " ------ CALEXP 1 ------\n",
      "Points injected: 7\n",
      "[2, 10, 11, 14, 19, 21, 27]\n"
     ]
    },
    {
     "data": {
      "text/html": [
       "<pre style=\"margin: 0.1em;\n",
       "padding-left: 0.25em;\n",
       "border-left-style: solid;\n",
       "font-family: var(--jp-code-font-family);\n",
       "font-size: var(--jp-code-font-size);\n",
       "line-height: var(--jp-code-line-height);\n",
       "\"><span style=\"color: var(--jp-warn-color2)\">lsst.visitInjectTask</span> <span style=\"color: var(--jp-info-color0)\">INFO</span>: Retrieved 7 injection sources from 1 HTM trixel.</pre>"
      ],
      "text/plain": [
       "<IPython.core.display.HTML object>"
      ]
     },
     "metadata": {},
     "output_type": "display_data"
    },
    {
     "data": {
      "text/html": [
       "<pre style=\"margin: 0.1em;\n",
       "padding-left: 0.25em;\n",
       "border-left-style: solid;\n",
       "font-family: var(--jp-code-font-family);\n",
       "font-size: var(--jp-code-font-size);\n",
       "line-height: var(--jp-code-line-height);\n",
       "\"><span style=\"color: var(--jp-warn-color2)\">lsst.visitInjectTask</span> <span style=\"color: var(--jp-info-color0)\">INFO</span>: Catalog cleaning removed 0 of 7 sources; 7 remaining for catalog checking.</pre>"
      ],
      "text/plain": [
       "<IPython.core.display.HTML object>"
      ]
     },
     "metadata": {},
     "output_type": "display_data"
    },
    {
     "data": {
      "text/html": [
       "<pre style=\"margin: 0.1em;\n",
       "padding-left: 0.25em;\n",
       "border-left-style: solid;\n",
       "font-family: var(--jp-code-font-family);\n",
       "font-size: var(--jp-code-font-size);\n",
       "line-height: var(--jp-code-line-height);\n",
       "\"><span style=\"color: var(--jp-warn-color2)\">lsst.visitInjectTask</span> <span style=\"color: var(--jp-info-color0)\">INFO</span>: Catalog checking flagged 0 of 7 sources; 7 remaining for source generation.</pre>"
      ],
      "text/plain": [
       "<IPython.core.display.HTML object>"
      ]
     },
     "metadata": {},
     "output_type": "display_data"
    },
    {
     "data": {
      "text/html": [
       "<pre style=\"margin: 0.1em;\n",
       "padding-left: 0.25em;\n",
       "border-left-style: solid;\n",
       "font-family: var(--jp-code-font-family);\n",
       "font-size: var(--jp-code-font-size);\n",
       "line-height: var(--jp-code-line-height);\n",
       "\"><span style=\"color: var(--jp-warn-color2)\">lsst.visitInjectTask</span> <span style=\"color: var(--jp-info-color0)\">INFO</span>: Adding INJECTED and INJECTED_CORE mask planes to the exposure.</pre>"
      ],
      "text/plain": [
       "<IPython.core.display.HTML object>"
      ]
     },
     "metadata": {},
     "output_type": "display_data"
    },
    {
     "data": {
      "text/html": [
       "<pre style=\"margin: 0.1em;\n",
       "padding-left: 0.25em;\n",
       "border-left-style: solid;\n",
       "font-family: var(--jp-code-font-family);\n",
       "font-size: var(--jp-code-font-size);\n",
       "line-height: var(--jp-code-line-height);\n",
       "\"><span style=\"color: var(--jp-warn-color2)\">lsst.visitInjectTask</span> <span style=\"color: var(--jp-info-color0)\">INFO</span>: Generating 7 injection sources consisting of 1 unique type: DeltaFunction(7).</pre>"
      ],
      "text/plain": [
       "<IPython.core.display.HTML object>"
      ]
     },
     "metadata": {},
     "output_type": "display_data"
    },
    {
     "data": {
      "text/html": [
       "<pre style=\"margin: 0.1em;\n",
       "padding-left: 0.25em;\n",
       "border-left-style: solid;\n",
       "font-family: var(--jp-code-font-family);\n",
       "font-size: var(--jp-code-font-size);\n",
       "line-height: var(--jp-code-line-height);\n",
       "\"><span style=\"color: var(--jp-warn-color2)\">lsst.visitInjectTask</span> <span style=\"color: var(--jp-info-color0)\">INFO</span>: Injected 7 of 7 potential sources. 0 sources flagged and skipped.</pre>"
      ],
      "text/plain": [
       "<IPython.core.display.HTML object>"
      ]
     },
     "metadata": {},
     "output_type": "display_data"
    },
    {
     "data": {
      "text/html": [
       "<pre style=\"margin: 0.1em;\n",
       "padding-left: 0.25em;\n",
       "border-left-style: solid;\n",
       "font-family: var(--jp-code-font-family);\n",
       "font-size: var(--jp-code-font-size);\n",
       "line-height: var(--jp-code-line-height);\n",
       "\"><span style=\"color: var(--jp-warn-color2)\">lsst.sourceDetection</span> <span style=\"color: var(--jp-info-color0)\">INFO</span>: Setting factor for negative detections equal to that for positive detections: 1.000000</pre>"
      ],
      "text/plain": [
       "<IPython.core.display.HTML object>"
      ]
     },
     "metadata": {},
     "output_type": "display_data"
    },
    {
     "data": {
      "text/html": [
       "<pre style=\"margin: 0.1em;\n",
       "padding-left: 0.25em;\n",
       "border-left-style: solid;\n",
       "font-family: var(--jp-code-font-family);\n",
       "font-size: var(--jp-code-font-size);\n",
       "line-height: var(--jp-code-line-height);\n",
       "\"><span style=\"color: var(--jp-warn-color2)\">lsst.sourceDetection</span> <span style=\"color: var(--jp-info-color0)\">INFO</span>: Detected 3787 positive peaks in 3151 footprints and 127 negative peaks in 127 footprints to 4 +ve and 4 -ve sigma</pre>"
      ],
      "text/plain": [
       "<IPython.core.display.HTML object>"
      ]
     },
     "metadata": {},
     "output_type": "display_data"
    },
    {
     "data": {
      "text/html": [
       "<pre style=\"margin: 0.1em;\n",
       "padding-left: 0.25em;\n",
       "border-left-style: solid;\n",
       "font-family: var(--jp-code-font-family);\n",
       "font-size: var(--jp-code-font-size);\n",
       "line-height: var(--jp-code-line-height);\n",
       "\"><span style=\"color: var(--jp-warn-color2)\">lsst.sourceDetection</span> <span style=\"color: var(--jp-info-color0)\">INFO</span>: Resubtracting the background after object detection</pre>"
      ],
      "text/plain": [
       "<IPython.core.display.HTML object>"
      ]
     },
     "metadata": {},
     "output_type": "display_data"
    },
    {
     "data": {
      "text/html": [
       "<pre style=\"margin: 0.1em;\n",
       "padding-left: 0.25em;\n",
       "border-left-style: solid;\n",
       "font-family: var(--jp-code-font-family);\n",
       "font-size: var(--jp-code-font-size);\n",
       "line-height: var(--jp-code-line-height);\n",
       "\"><span style=\"color: var(--jp-warn-color2)\">lsst.measurement</span> <span style=\"color: var(--jp-info-color0)\">INFO</span>: Measuring 3151 sources (3151 parents, 0 children) </pre>"
      ],
      "text/plain": [
       "<IPython.core.display.HTML object>"
      ]
     },
     "metadata": {},
     "output_type": "display_data"
    },
    {
     "name": "stdout",
     "output_type": "stream",
     "text": [
      "Searching in lc 2\n",
      "Searching in lc 10\n",
      "Searching in lc 11\n",
      "Searching in lc 14\n",
      "Searching in lc 19\n",
      "Searching in lc 21\n",
      "Searching in lc 27\n",
      "ra = 57.59451632893858, dec = -32.481152201226145\n",
      "Measured  23.761271407563687 0.20302582554986037\n",
      "Injected  17.999526457030296\n",
      "ra = 57.721693928416556, dec = -32.61193236702722\n",
      "Measured  23.761271407563687 0.20302582554986037\n",
      "Injected  18.206423008754435\n",
      "ra = 57.68061138727324, dec = -32.30962597321138\n",
      "Measured  23.761271407563687 0.20302582554986037\n",
      "Injected  18.413319560478573\n",
      "ra = 57.50916802459406, dec = -32.48486065570155\n",
      "Measured  23.761271407563687 0.20302582554986037\n",
      "Injected  18.62021611220271\n",
      "ra = 57.50395607562979, dec = -32.64262458704941\n",
      "Measured  23.761271407563687 0.20302582554986037\n",
      "Injected  18.827112663926847\n",
      "ra = 57.488692246461895, dec = -32.5547566553623\n",
      "Measured  23.761271407563687 0.20302582554986037\n",
      "Injected  19.034009215650986\n",
      "ra = 57.63692147316318, dec = -32.66239828628203\n",
      "Measured  23.761271407563687 0.20302582554986037\n",
      "Injected  19.240905767375125\n",
      " ------ CALEXP 2 ------\n",
      "Points injected: 14\n",
      "[0, 3, 4, 5, 7, 8, 9, 12, 13, 15, 20, 24, 25, 28]\n"
     ]
    },
    {
     "data": {
      "text/html": [
       "<pre style=\"margin: 0.1em;\n",
       "padding-left: 0.25em;\n",
       "border-left-style: solid;\n",
       "font-family: var(--jp-code-font-family);\n",
       "font-size: var(--jp-code-font-size);\n",
       "line-height: var(--jp-code-line-height);\n",
       "\"><span style=\"color: var(--jp-warn-color2)\">lsst.visitInjectTask</span> <span style=\"color: var(--jp-info-color0)\">INFO</span>: Retrieved 14 injection sources from 1 HTM trixel.</pre>"
      ],
      "text/plain": [
       "<IPython.core.display.HTML object>"
      ]
     },
     "metadata": {},
     "output_type": "display_data"
    },
    {
     "data": {
      "text/html": [
       "<pre style=\"margin: 0.1em;\n",
       "padding-left: 0.25em;\n",
       "border-left-style: solid;\n",
       "font-family: var(--jp-code-font-family);\n",
       "font-size: var(--jp-code-font-size);\n",
       "line-height: var(--jp-code-line-height);\n",
       "\"><span style=\"color: var(--jp-warn-color2)\">lsst.visitInjectTask</span> <span style=\"color: var(--jp-info-color0)\">INFO</span>: Catalog cleaning removed 0 of 14 sources; 14 remaining for catalog checking.</pre>"
      ],
      "text/plain": [
       "<IPython.core.display.HTML object>"
      ]
     },
     "metadata": {},
     "output_type": "display_data"
    },
    {
     "data": {
      "text/html": [
       "<pre style=\"margin: 0.1em;\n",
       "padding-left: 0.25em;\n",
       "border-left-style: solid;\n",
       "font-family: var(--jp-code-font-family);\n",
       "font-size: var(--jp-code-font-size);\n",
       "line-height: var(--jp-code-line-height);\n",
       "\"><span style=\"color: var(--jp-warn-color2)\">lsst.visitInjectTask</span> <span style=\"color: var(--jp-info-color0)\">INFO</span>: Catalog checking flagged 0 of 14 sources; 14 remaining for source generation.</pre>"
      ],
      "text/plain": [
       "<IPython.core.display.HTML object>"
      ]
     },
     "metadata": {},
     "output_type": "display_data"
    },
    {
     "data": {
      "text/html": [
       "<pre style=\"margin: 0.1em;\n",
       "padding-left: 0.25em;\n",
       "border-left-style: solid;\n",
       "font-family: var(--jp-code-font-family);\n",
       "font-size: var(--jp-code-font-size);\n",
       "line-height: var(--jp-code-line-height);\n",
       "\"><span style=\"color: var(--jp-warn-color2)\">lsst.visitInjectTask</span> <span style=\"color: var(--jp-info-color0)\">INFO</span>: Adding INJECTED and INJECTED_CORE mask planes to the exposure.</pre>"
      ],
      "text/plain": [
       "<IPython.core.display.HTML object>"
      ]
     },
     "metadata": {},
     "output_type": "display_data"
    },
    {
     "data": {
      "text/html": [
       "<pre style=\"margin: 0.1em;\n",
       "padding-left: 0.25em;\n",
       "border-left-style: solid;\n",
       "font-family: var(--jp-code-font-family);\n",
       "font-size: var(--jp-code-font-size);\n",
       "line-height: var(--jp-code-line-height);\n",
       "\"><span style=\"color: var(--jp-warn-color2)\">lsst.visitInjectTask</span> <span style=\"color: var(--jp-info-color0)\">INFO</span>: Generating 14 injection sources consisting of 1 unique type: DeltaFunction(14).</pre>"
      ],
      "text/plain": [
       "<IPython.core.display.HTML object>"
      ]
     },
     "metadata": {},
     "output_type": "display_data"
    },
    {
     "data": {
      "text/html": [
       "<pre style=\"margin: 0.1em;\n",
       "padding-left: 0.25em;\n",
       "border-left-style: solid;\n",
       "font-family: var(--jp-code-font-family);\n",
       "font-size: var(--jp-code-font-size);\n",
       "line-height: var(--jp-code-line-height);\n",
       "\"><span style=\"color: var(--jp-warn-color2)\">lsst.visitInjectTask</span> <span style=\"color: var(--jp-info-color0)\">INFO</span>: Injected 14 of 14 potential sources. 0 sources flagged and skipped.</pre>"
      ],
      "text/plain": [
       "<IPython.core.display.HTML object>"
      ]
     },
     "metadata": {},
     "output_type": "display_data"
    },
    {
     "data": {
      "text/html": [
       "<pre style=\"margin: 0.1em;\n",
       "padding-left: 0.25em;\n",
       "border-left-style: solid;\n",
       "font-family: var(--jp-code-font-family);\n",
       "font-size: var(--jp-code-font-size);\n",
       "line-height: var(--jp-code-line-height);\n",
       "\"><span style=\"color: var(--jp-warn-color2)\">lsst.sourceDetection</span> <span style=\"color: var(--jp-info-color0)\">INFO</span>: Setting factor for negative detections equal to that for positive detections: 1.000000</pre>"
      ],
      "text/plain": [
       "<IPython.core.display.HTML object>"
      ]
     },
     "metadata": {},
     "output_type": "display_data"
    },
    {
     "data": {
      "text/html": [
       "<pre style=\"margin: 0.1em;\n",
       "padding-left: 0.25em;\n",
       "border-left-style: solid;\n",
       "font-family: var(--jp-code-font-family);\n",
       "font-size: var(--jp-code-font-size);\n",
       "line-height: var(--jp-code-line-height);\n",
       "\"><span style=\"color: var(--jp-warn-color2)\">lsst.sourceDetection</span> <span style=\"color: var(--jp-info-color0)\">INFO</span>: Detected 3639 positive peaks in 3131 footprints and 154 negative peaks in 153 footprints to 4 +ve and 4 -ve sigma</pre>"
      ],
      "text/plain": [
       "<IPython.core.display.HTML object>"
      ]
     },
     "metadata": {},
     "output_type": "display_data"
    },
    {
     "data": {
      "text/html": [
       "<pre style=\"margin: 0.1em;\n",
       "padding-left: 0.25em;\n",
       "border-left-style: solid;\n",
       "font-family: var(--jp-code-font-family);\n",
       "font-size: var(--jp-code-font-size);\n",
       "line-height: var(--jp-code-line-height);\n",
       "\"><span style=\"color: var(--jp-warn-color2)\">lsst.sourceDetection</span> <span style=\"color: var(--jp-info-color0)\">INFO</span>: Resubtracting the background after object detection</pre>"
      ],
      "text/plain": [
       "<IPython.core.display.HTML object>"
      ]
     },
     "metadata": {},
     "output_type": "display_data"
    },
    {
     "data": {
      "text/html": [
       "<pre style=\"margin: 0.1em;\n",
       "padding-left: 0.25em;\n",
       "border-left-style: solid;\n",
       "font-family: var(--jp-code-font-family);\n",
       "font-size: var(--jp-code-font-size);\n",
       "line-height: var(--jp-code-line-height);\n",
       "\"><span style=\"color: var(--jp-warn-color2)\">lsst.measurement</span> <span style=\"color: var(--jp-info-color0)\">INFO</span>: Measuring 3131 sources (3131 parents, 0 children) </pre>"
      ],
      "text/plain": [
       "<IPython.core.display.HTML object>"
      ]
     },
     "metadata": {},
     "output_type": "display_data"
    },
    {
     "name": "stdout",
     "output_type": "stream",
     "text": [
      "Searching in lc 0\n",
      "Searching in lc 3\n",
      "Searching in lc 4\n",
      "Searching in lc 5\n",
      "Searching in lc 7\n",
      "Searching in lc 8\n",
      "Searching in lc 9\n",
      "Searching in lc 12\n",
      "Searching in lc 13\n",
      "Searching in lc 15\n",
      "Searching in lc 20\n",
      "Searching in lc 24\n",
      "Searching in lc 25\n",
      "Searching in lc 28\n",
      "ra = 57.59451632893858, dec = -32.481152201226145\n",
      "Measured  22.032655432565285 0.043783976984466615\n",
      "Injected  17.999526457030296\n",
      "ra = 57.721693928416556, dec = -32.61193236702722\n",
      "Measured  22.032655432565285 0.043783976984466615\n",
      "Injected  18.206423008754435\n",
      "ra = 57.68061138727324, dec = -32.30962597321138\n",
      "Measured  22.032655432565285 0.043783976984466615\n",
      "Injected  18.413319560478573\n",
      "ra = 57.50916802459406, dec = -32.48486065570155\n",
      "Measured  22.032655432565285 0.043783976984466615\n",
      "Injected  18.62021611220271\n",
      "ra = 57.50395607562979, dec = -32.64262458704941\n",
      "Measured  22.032655432565285 0.043783976984466615\n",
      "Injected  18.827112663926847\n",
      "ra = 57.488692246461895, dec = -32.5547566553623\n",
      "Measured  22.032655432565285 0.043783976984466615\n",
      "Injected  19.034009215650986\n",
      "ra = 57.63692147316318, dec = -32.66239828628203\n",
      "Measured  22.032655432565285 0.043783976984466615\n",
      "Injected  19.240905767375125\n",
      "ra = 57.575040418888165, dec = -32.50160680552438\n",
      "Measured  22.032655432565285 0.043783976984466615\n",
      "Injected  19.44780231909926\n",
      "ra = 57.53944959234475, dec = -32.51059524525427\n",
      "Measured  22.032655432565285 0.043783976984466615\n",
      "Injected  19.6546988708234\n",
      "ra = 57.46743777172214, dec = -32.47293710288829\n",
      "Measured  22.032655432565285 0.043783976984466615\n",
      "Injected  19.861595422547538\n",
      "ra = 57.61811198906094, dec = -32.44716315357896\n",
      "Measured  22.032655432565285 0.043783976984466615\n",
      "Injected  20.068491974271677\n",
      "ra = 57.574764870556024, dec = -32.37203780370198\n",
      "Measured  22.032655432565285 0.043783976984466615\n",
      "Injected  20.27538852599581\n",
      "ra = 57.48755159293299, dec = -32.5050887378749\n",
      "Measured  22.032655432565285 0.043783976984466615\n",
      "Injected  20.48228507771995\n",
      "ra = 57.465911503531004, dec = -32.47168167627407\n",
      "Measured  22.032655432565285 0.043783976984466615\n",
      "Injected  20.68918162944409\n",
      " ------ CALEXP 3 ------\n",
      "Points injected: 8\n",
      "[1, 16, 17, 18, 22, 25, 26, 29]\n"
     ]
    },
    {
     "data": {
      "text/html": [
       "<pre style=\"margin: 0.1em;\n",
       "padding-left: 0.25em;\n",
       "border-left-style: solid;\n",
       "font-family: var(--jp-code-font-family);\n",
       "font-size: var(--jp-code-font-size);\n",
       "line-height: var(--jp-code-line-height);\n",
       "\"><span style=\"color: var(--jp-warn-color2)\">lsst.visitInjectTask</span> <span style=\"color: var(--jp-info-color0)\">INFO</span>: Retrieved 8 injection sources from 1 HTM trixel.</pre>"
      ],
      "text/plain": [
       "<IPython.core.display.HTML object>"
      ]
     },
     "metadata": {},
     "output_type": "display_data"
    },
    {
     "data": {
      "text/html": [
       "<pre style=\"margin: 0.1em;\n",
       "padding-left: 0.25em;\n",
       "border-left-style: solid;\n",
       "font-family: var(--jp-code-font-family);\n",
       "font-size: var(--jp-code-font-size);\n",
       "line-height: var(--jp-code-line-height);\n",
       "\"><span style=\"color: var(--jp-warn-color2)\">lsst.visitInjectTask</span> <span style=\"color: var(--jp-info-color0)\">INFO</span>: Catalog cleaning removed 0 of 8 sources; 8 remaining for catalog checking.</pre>"
      ],
      "text/plain": [
       "<IPython.core.display.HTML object>"
      ]
     },
     "metadata": {},
     "output_type": "display_data"
    },
    {
     "data": {
      "text/html": [
       "<pre style=\"margin: 0.1em;\n",
       "padding-left: 0.25em;\n",
       "border-left-style: solid;\n",
       "font-family: var(--jp-code-font-family);\n",
       "font-size: var(--jp-code-font-size);\n",
       "line-height: var(--jp-code-line-height);\n",
       "\"><span style=\"color: var(--jp-warn-color2)\">lsst.visitInjectTask</span> <span style=\"color: var(--jp-info-color0)\">INFO</span>: Catalog checking flagged 0 of 8 sources; 8 remaining for source generation.</pre>"
      ],
      "text/plain": [
       "<IPython.core.display.HTML object>"
      ]
     },
     "metadata": {},
     "output_type": "display_data"
    },
    {
     "data": {
      "text/html": [
       "<pre style=\"margin: 0.1em;\n",
       "padding-left: 0.25em;\n",
       "border-left-style: solid;\n",
       "font-family: var(--jp-code-font-family);\n",
       "font-size: var(--jp-code-font-size);\n",
       "line-height: var(--jp-code-line-height);\n",
       "\"><span style=\"color: var(--jp-warn-color2)\">lsst.visitInjectTask</span> <span style=\"color: var(--jp-info-color0)\">INFO</span>: Adding INJECTED and INJECTED_CORE mask planes to the exposure.</pre>"
      ],
      "text/plain": [
       "<IPython.core.display.HTML object>"
      ]
     },
     "metadata": {},
     "output_type": "display_data"
    },
    {
     "data": {
      "text/html": [
       "<pre style=\"margin: 0.1em;\n",
       "padding-left: 0.25em;\n",
       "border-left-style: solid;\n",
       "font-family: var(--jp-code-font-family);\n",
       "font-size: var(--jp-code-font-size);\n",
       "line-height: var(--jp-code-line-height);\n",
       "\"><span style=\"color: var(--jp-warn-color2)\">lsst.visitInjectTask</span> <span style=\"color: var(--jp-info-color0)\">INFO</span>: Generating 8 injection sources consisting of 1 unique type: DeltaFunction(8).</pre>"
      ],
      "text/plain": [
       "<IPython.core.display.HTML object>"
      ]
     },
     "metadata": {},
     "output_type": "display_data"
    },
    {
     "data": {
      "text/html": [
       "<pre style=\"margin: 0.1em;\n",
       "padding-left: 0.25em;\n",
       "border-left-style: solid;\n",
       "font-family: var(--jp-code-font-family);\n",
       "font-size: var(--jp-code-font-size);\n",
       "line-height: var(--jp-code-line-height);\n",
       "\"><span style=\"color: var(--jp-warn-color2)\">lsst.visitInjectTask</span> <span style=\"color: var(--jp-info-color0)\">INFO</span>: Injected 8 of 8 potential sources. 0 sources flagged and skipped.</pre>"
      ],
      "text/plain": [
       "<IPython.core.display.HTML object>"
      ]
     },
     "metadata": {},
     "output_type": "display_data"
    },
    {
     "data": {
      "text/html": [
       "<pre style=\"margin: 0.1em;\n",
       "padding-left: 0.25em;\n",
       "border-left-style: solid;\n",
       "font-family: var(--jp-code-font-family);\n",
       "font-size: var(--jp-code-font-size);\n",
       "line-height: var(--jp-code-line-height);\n",
       "\"><span style=\"color: var(--jp-warn-color2)\">lsst.sourceDetection</span> <span style=\"color: var(--jp-info-color0)\">INFO</span>: Setting factor for negative detections equal to that for positive detections: 1.000000</pre>"
      ],
      "text/plain": [
       "<IPython.core.display.HTML object>"
      ]
     },
     "metadata": {},
     "output_type": "display_data"
    },
    {
     "data": {
      "text/html": [
       "<pre style=\"margin: 0.1em;\n",
       "padding-left: 0.25em;\n",
       "border-left-style: solid;\n",
       "font-family: var(--jp-code-font-family);\n",
       "font-size: var(--jp-code-font-size);\n",
       "line-height: var(--jp-code-line-height);\n",
       "\"><span style=\"color: var(--jp-warn-color2)\">lsst.sourceDetection</span> <span style=\"color: var(--jp-info-color0)\">INFO</span>: Detected 3564 positive peaks in 2871 footprints and 147 negative peaks in 147 footprints to 4 +ve and 4 -ve sigma</pre>"
      ],
      "text/plain": [
       "<IPython.core.display.HTML object>"
      ]
     },
     "metadata": {},
     "output_type": "display_data"
    },
    {
     "data": {
      "text/html": [
       "<pre style=\"margin: 0.1em;\n",
       "padding-left: 0.25em;\n",
       "border-left-style: solid;\n",
       "font-family: var(--jp-code-font-family);\n",
       "font-size: var(--jp-code-font-size);\n",
       "line-height: var(--jp-code-line-height);\n",
       "\"><span style=\"color: var(--jp-warn-color2)\">lsst.sourceDetection</span> <span style=\"color: var(--jp-info-color0)\">INFO</span>: Resubtracting the background after object detection</pre>"
      ],
      "text/plain": [
       "<IPython.core.display.HTML object>"
      ]
     },
     "metadata": {},
     "output_type": "display_data"
    },
    {
     "data": {
      "text/html": [
       "<pre style=\"margin: 0.1em;\n",
       "padding-left: 0.25em;\n",
       "border-left-style: solid;\n",
       "font-family: var(--jp-code-font-family);\n",
       "font-size: var(--jp-code-font-size);\n",
       "line-height: var(--jp-code-line-height);\n",
       "\"><span style=\"color: var(--jp-warn-color2)\">lsst.measurement</span> <span style=\"color: var(--jp-info-color0)\">INFO</span>: Measuring 2871 sources (2871 parents, 0 children) </pre>"
      ],
      "text/plain": [
       "<IPython.core.display.HTML object>"
      ]
     },
     "metadata": {},
     "output_type": "display_data"
    },
    {
     "name": "stdout",
     "output_type": "stream",
     "text": [
      "Searching in lc 1\n",
      "Searching in lc 16\n",
      "Searching in lc 17\n",
      "Searching in lc 18\n",
      "Searching in lc 22\n",
      "Searching in lc 25\n",
      "Searching in lc 26\n",
      "Searching in lc 29\n",
      "ra = 57.59451632893858, dec = -32.481152201226145\n",
      "Measured  23.630383816643523 0.1814315053372724\n",
      "Injected  17.999526450553148\n",
      "ra = 57.721693928416556, dec = -32.61193236702722\n",
      "Measured  23.630383816643523 0.1814315053372724\n",
      "Injected  18.206423002277287\n",
      "ra = 57.68061138727324, dec = -32.30962597321138\n",
      "Measured  23.630383816643523 0.1814315053372724\n",
      "Injected  18.413319554001426\n",
      "ra = 57.50916802459406, dec = -32.48486065570155\n",
      "Measured  23.630383816643523 0.1814315053372724\n",
      "Injected  18.62021610572556\n",
      "ra = 57.50395607562979, dec = -32.64262458704941\n",
      "Measured  23.630383816643523 0.1814315053372724\n",
      "Injected  18.8271126574497\n",
      "ra = 57.488692246461895, dec = -32.5547566553623\n",
      "Measured  23.630383816643523 0.1814315053372724\n",
      "Injected  19.03400920917384\n",
      "ra = 57.63692147316318, dec = -32.66239828628203\n",
      "Measured  23.630383816643523 0.1814315053372724\n",
      "Injected  19.240905760897977\n",
      "ra = 57.575040418888165, dec = -32.50160680552438\n",
      "Measured  23.630383816643523 0.1814315053372724\n",
      "Injected  19.447802312622112\n",
      " ------ CALEXP 4 ------\n",
      "Points injected: 11\n",
      "[0, 4, 5, 6, 7, 8, 15, 20, 22, 24, 28]\n"
     ]
    },
    {
     "data": {
      "text/html": [
       "<pre style=\"margin: 0.1em;\n",
       "padding-left: 0.25em;\n",
       "border-left-style: solid;\n",
       "font-family: var(--jp-code-font-family);\n",
       "font-size: var(--jp-code-font-size);\n",
       "line-height: var(--jp-code-line-height);\n",
       "\"><span style=\"color: var(--jp-warn-color2)\">lsst.visitInjectTask</span> <span style=\"color: var(--jp-info-color0)\">INFO</span>: Retrieved 11 injection sources from 1 HTM trixel.</pre>"
      ],
      "text/plain": [
       "<IPython.core.display.HTML object>"
      ]
     },
     "metadata": {},
     "output_type": "display_data"
    },
    {
     "data": {
      "text/html": [
       "<pre style=\"margin: 0.1em;\n",
       "padding-left: 0.25em;\n",
       "border-left-style: solid;\n",
       "font-family: var(--jp-code-font-family);\n",
       "font-size: var(--jp-code-font-size);\n",
       "line-height: var(--jp-code-line-height);\n",
       "\"><span style=\"color: var(--jp-warn-color2)\">lsst.visitInjectTask</span> <span style=\"color: var(--jp-info-color0)\">INFO</span>: Catalog cleaning removed 0 of 11 sources; 11 remaining for catalog checking.</pre>"
      ],
      "text/plain": [
       "<IPython.core.display.HTML object>"
      ]
     },
     "metadata": {},
     "output_type": "display_data"
    },
    {
     "data": {
      "text/html": [
       "<pre style=\"margin: 0.1em;\n",
       "padding-left: 0.25em;\n",
       "border-left-style: solid;\n",
       "font-family: var(--jp-code-font-family);\n",
       "font-size: var(--jp-code-font-size);\n",
       "line-height: var(--jp-code-line-height);\n",
       "\"><span style=\"color: var(--jp-warn-color2)\">lsst.visitInjectTask</span> <span style=\"color: var(--jp-info-color0)\">INFO</span>: Catalog checking flagged 0 of 11 sources; 11 remaining for source generation.</pre>"
      ],
      "text/plain": [
       "<IPython.core.display.HTML object>"
      ]
     },
     "metadata": {},
     "output_type": "display_data"
    },
    {
     "data": {
      "text/html": [
       "<pre style=\"margin: 0.1em;\n",
       "padding-left: 0.25em;\n",
       "border-left-style: solid;\n",
       "font-family: var(--jp-code-font-family);\n",
       "font-size: var(--jp-code-font-size);\n",
       "line-height: var(--jp-code-line-height);\n",
       "\"><span style=\"color: var(--jp-warn-color2)\">lsst.visitInjectTask</span> <span style=\"color: var(--jp-info-color0)\">INFO</span>: Adding INJECTED and INJECTED_CORE mask planes to the exposure.</pre>"
      ],
      "text/plain": [
       "<IPython.core.display.HTML object>"
      ]
     },
     "metadata": {},
     "output_type": "display_data"
    },
    {
     "data": {
      "text/html": [
       "<pre style=\"margin: 0.1em;\n",
       "padding-left: 0.25em;\n",
       "border-left-style: solid;\n",
       "font-family: var(--jp-code-font-family);\n",
       "font-size: var(--jp-code-font-size);\n",
       "line-height: var(--jp-code-line-height);\n",
       "\"><span style=\"color: var(--jp-warn-color2)\">lsst.visitInjectTask</span> <span style=\"color: var(--jp-info-color0)\">INFO</span>: Generating 11 injection sources consisting of 1 unique type: DeltaFunction(11).</pre>"
      ],
      "text/plain": [
       "<IPython.core.display.HTML object>"
      ]
     },
     "metadata": {},
     "output_type": "display_data"
    },
    {
     "data": {
      "text/html": [
       "<pre style=\"margin: 0.1em;\n",
       "padding-left: 0.25em;\n",
       "border-left-style: solid;\n",
       "font-family: var(--jp-code-font-family);\n",
       "font-size: var(--jp-code-font-size);\n",
       "line-height: var(--jp-code-line-height);\n",
       "\"><span style=\"color: var(--jp-warn-color2)\">lsst.visitInjectTask</span> <span style=\"color: var(--jp-info-color0)\">INFO</span>: Injected 11 of 11 potential sources. 0 sources flagged and skipped.</pre>"
      ],
      "text/plain": [
       "<IPython.core.display.HTML object>"
      ]
     },
     "metadata": {},
     "output_type": "display_data"
    },
    {
     "data": {
      "text/html": [
       "<pre style=\"margin: 0.1em;\n",
       "padding-left: 0.25em;\n",
       "border-left-style: solid;\n",
       "font-family: var(--jp-code-font-family);\n",
       "font-size: var(--jp-code-font-size);\n",
       "line-height: var(--jp-code-line-height);\n",
       "\"><span style=\"color: var(--jp-warn-color2)\">lsst.sourceDetection</span> <span style=\"color: var(--jp-info-color0)\">INFO</span>: Setting factor for negative detections equal to that for positive detections: 1.000000</pre>"
      ],
      "text/plain": [
       "<IPython.core.display.HTML object>"
      ]
     },
     "metadata": {},
     "output_type": "display_data"
    },
    {
     "data": {
      "text/html": [
       "<pre style=\"margin: 0.1em;\n",
       "padding-left: 0.25em;\n",
       "border-left-style: solid;\n",
       "font-family: var(--jp-code-font-family);\n",
       "font-size: var(--jp-code-font-size);\n",
       "line-height: var(--jp-code-line-height);\n",
       "\"><span style=\"color: var(--jp-warn-color2)\">lsst.sourceDetection</span> <span style=\"color: var(--jp-info-color0)\">INFO</span>: Detected 3855 positive peaks in 3282 footprints and 131 negative peaks in 131 footprints to 4 +ve and 4 -ve sigma</pre>"
      ],
      "text/plain": [
       "<IPython.core.display.HTML object>"
      ]
     },
     "metadata": {},
     "output_type": "display_data"
    },
    {
     "data": {
      "text/html": [
       "<pre style=\"margin: 0.1em;\n",
       "padding-left: 0.25em;\n",
       "border-left-style: solid;\n",
       "font-family: var(--jp-code-font-family);\n",
       "font-size: var(--jp-code-font-size);\n",
       "line-height: var(--jp-code-line-height);\n",
       "\"><span style=\"color: var(--jp-warn-color2)\">lsst.sourceDetection</span> <span style=\"color: var(--jp-info-color0)\">INFO</span>: Resubtracting the background after object detection</pre>"
      ],
      "text/plain": [
       "<IPython.core.display.HTML object>"
      ]
     },
     "metadata": {},
     "output_type": "display_data"
    },
    {
     "data": {
      "text/html": [
       "<pre style=\"margin: 0.1em;\n",
       "padding-left: 0.25em;\n",
       "border-left-style: solid;\n",
       "font-family: var(--jp-code-font-family);\n",
       "font-size: var(--jp-code-font-size);\n",
       "line-height: var(--jp-code-line-height);\n",
       "\"><span style=\"color: var(--jp-warn-color2)\">lsst.measurement</span> <span style=\"color: var(--jp-info-color0)\">INFO</span>: Measuring 3282 sources (3282 parents, 0 children) </pre>"
      ],
      "text/plain": [
       "<IPython.core.display.HTML object>"
      ]
     },
     "metadata": {},
     "output_type": "display_data"
    },
    {
     "name": "stdout",
     "output_type": "stream",
     "text": [
      "Searching in lc 0\n",
      "Searching in lc 4\n",
      "Searching in lc 5\n",
      "Searching in lc 6\n",
      "Searching in lc 7\n",
      "Searching in lc 8\n",
      "Searching in lc 15\n",
      "Searching in lc 20\n",
      "Searching in lc 22\n",
      "Searching in lc 24\n",
      "Searching in lc 28\n",
      "ra = 57.59451632893858, dec = -32.481152201226145\n",
      "Measured  23.66222447815353 0.16068322335122615\n",
      "Injected  17.999520247493123\n",
      "ra = 57.721693928416556, dec = -32.61193236702722\n",
      "Measured  23.66222447815353 0.16068322335122615\n",
      "Injected  18.206416799217262\n",
      "ra = 57.68061138727324, dec = -32.30962597321138\n",
      "Measured  23.66222447815353 0.16068322335122615\n",
      "Injected  18.4133133509414\n",
      "ra = 57.50916802459406, dec = -32.48486065570155\n",
      "Measured  23.66222447815353 0.16068322335122615\n",
      "Injected  18.620209902665536\n",
      "ra = 57.50395607562979, dec = -32.64262458704941\n",
      "Measured  23.66222447815353 0.16068322335122615\n",
      "Injected  18.827106454389675\n",
      "ra = 57.488692246461895, dec = -32.5547566553623\n",
      "Measured  23.66222447815353 0.16068322335122615\n",
      "Injected  19.034003006113814\n",
      "ra = 57.63692147316318, dec = -32.66239828628203\n",
      "Measured  23.66222447815353 0.16068322335122615\n",
      "Injected  19.240899557837952\n",
      "ra = 57.575040418888165, dec = -32.50160680552438\n",
      "Measured  23.66222447815353 0.16068322335122615\n",
      "Injected  19.447796109562088\n",
      "ra = 57.53944959234475, dec = -32.51059524525427\n",
      "Measured  23.66222447815353 0.16068322335122615\n",
      "Injected  19.654692661286226\n",
      "ra = 57.46743777172214, dec = -32.47293710288829\n",
      "Measured  23.66222447815353 0.16068322335122615\n",
      "Injected  19.861589213010365\n",
      "ra = 57.61811198906094, dec = -32.44716315357896\n",
      "Measured  23.66222447815353 0.16068322335122615\n",
      "Injected  20.068485764734504\n",
      " ------ CALEXP 5 ------\n",
      "Points injected: 5\n",
      "[3, 9, 12, 13, 23]\n"
     ]
    },
    {
     "data": {
      "text/html": [
       "<pre style=\"margin: 0.1em;\n",
       "padding-left: 0.25em;\n",
       "border-left-style: solid;\n",
       "font-family: var(--jp-code-font-family);\n",
       "font-size: var(--jp-code-font-size);\n",
       "line-height: var(--jp-code-line-height);\n",
       "\"><span style=\"color: var(--jp-warn-color2)\">lsst.visitInjectTask</span> <span style=\"color: var(--jp-info-color0)\">INFO</span>: Retrieved 5 injection sources from 1 HTM trixel.</pre>"
      ],
      "text/plain": [
       "<IPython.core.display.HTML object>"
      ]
     },
     "metadata": {},
     "output_type": "display_data"
    },
    {
     "data": {
      "text/html": [
       "<pre style=\"margin: 0.1em;\n",
       "padding-left: 0.25em;\n",
       "border-left-style: solid;\n",
       "font-family: var(--jp-code-font-family);\n",
       "font-size: var(--jp-code-font-size);\n",
       "line-height: var(--jp-code-line-height);\n",
       "\"><span style=\"color: var(--jp-warn-color2)\">lsst.visitInjectTask</span> <span style=\"color: var(--jp-info-color0)\">INFO</span>: Catalog cleaning removed 0 of 5 sources; 5 remaining for catalog checking.</pre>"
      ],
      "text/plain": [
       "<IPython.core.display.HTML object>"
      ]
     },
     "metadata": {},
     "output_type": "display_data"
    },
    {
     "data": {
      "text/html": [
       "<pre style=\"margin: 0.1em;\n",
       "padding-left: 0.25em;\n",
       "border-left-style: solid;\n",
       "font-family: var(--jp-code-font-family);\n",
       "font-size: var(--jp-code-font-size);\n",
       "line-height: var(--jp-code-line-height);\n",
       "\"><span style=\"color: var(--jp-warn-color2)\">lsst.visitInjectTask</span> <span style=\"color: var(--jp-info-color0)\">INFO</span>: Catalog checking flagged 0 of 5 sources; 5 remaining for source generation.</pre>"
      ],
      "text/plain": [
       "<IPython.core.display.HTML object>"
      ]
     },
     "metadata": {},
     "output_type": "display_data"
    },
    {
     "data": {
      "text/html": [
       "<pre style=\"margin: 0.1em;\n",
       "padding-left: 0.25em;\n",
       "border-left-style: solid;\n",
       "font-family: var(--jp-code-font-family);\n",
       "font-size: var(--jp-code-font-size);\n",
       "line-height: var(--jp-code-line-height);\n",
       "\"><span style=\"color: var(--jp-warn-color2)\">lsst.visitInjectTask</span> <span style=\"color: var(--jp-info-color0)\">INFO</span>: Adding INJECTED and INJECTED_CORE mask planes to the exposure.</pre>"
      ],
      "text/plain": [
       "<IPython.core.display.HTML object>"
      ]
     },
     "metadata": {},
     "output_type": "display_data"
    },
    {
     "data": {
      "text/html": [
       "<pre style=\"margin: 0.1em;\n",
       "padding-left: 0.25em;\n",
       "border-left-style: solid;\n",
       "font-family: var(--jp-code-font-family);\n",
       "font-size: var(--jp-code-font-size);\n",
       "line-height: var(--jp-code-line-height);\n",
       "\"><span style=\"color: var(--jp-warn-color2)\">lsst.visitInjectTask</span> <span style=\"color: var(--jp-info-color0)\">INFO</span>: Generating 5 injection sources consisting of 1 unique type: DeltaFunction(5).</pre>"
      ],
      "text/plain": [
       "<IPython.core.display.HTML object>"
      ]
     },
     "metadata": {},
     "output_type": "display_data"
    },
    {
     "data": {
      "text/html": [
       "<pre style=\"margin: 0.1em;\n",
       "padding-left: 0.25em;\n",
       "border-left-style: solid;\n",
       "font-family: var(--jp-code-font-family);\n",
       "font-size: var(--jp-code-font-size);\n",
       "line-height: var(--jp-code-line-height);\n",
       "\"><span style=\"color: var(--jp-warn-color2)\">lsst.visitInjectTask</span> <span style=\"color: var(--jp-info-color0)\">INFO</span>: Injected 5 of 5 potential sources. 0 sources flagged and skipped.</pre>"
      ],
      "text/plain": [
       "<IPython.core.display.HTML object>"
      ]
     },
     "metadata": {},
     "output_type": "display_data"
    },
    {
     "data": {
      "text/html": [
       "<pre style=\"margin: 0.1em;\n",
       "padding-left: 0.25em;\n",
       "border-left-style: solid;\n",
       "font-family: var(--jp-code-font-family);\n",
       "font-size: var(--jp-code-font-size);\n",
       "line-height: var(--jp-code-line-height);\n",
       "\"><span style=\"color: var(--jp-warn-color2)\">lsst.sourceDetection</span> <span style=\"color: var(--jp-info-color0)\">INFO</span>: Setting factor for negative detections equal to that for positive detections: 1.000000</pre>"
      ],
      "text/plain": [
       "<IPython.core.display.HTML object>"
      ]
     },
     "metadata": {},
     "output_type": "display_data"
    },
    {
     "data": {
      "text/html": [
       "<pre style=\"margin: 0.1em;\n",
       "padding-left: 0.25em;\n",
       "border-left-style: solid;\n",
       "font-family: var(--jp-code-font-family);\n",
       "font-size: var(--jp-code-font-size);\n",
       "line-height: var(--jp-code-line-height);\n",
       "\"><span style=\"color: var(--jp-warn-color2)\">lsst.sourceDetection</span> <span style=\"color: var(--jp-info-color0)\">INFO</span>: Detected 4355 positive peaks in 3677 footprints and 109 negative peaks in 109 footprints to 4 +ve and 4 -ve sigma</pre>"
      ],
      "text/plain": [
       "<IPython.core.display.HTML object>"
      ]
     },
     "metadata": {},
     "output_type": "display_data"
    },
    {
     "data": {
      "text/html": [
       "<pre style=\"margin: 0.1em;\n",
       "padding-left: 0.25em;\n",
       "border-left-style: solid;\n",
       "font-family: var(--jp-code-font-family);\n",
       "font-size: var(--jp-code-font-size);\n",
       "line-height: var(--jp-code-line-height);\n",
       "\"><span style=\"color: var(--jp-warn-color2)\">lsst.sourceDetection</span> <span style=\"color: var(--jp-info-color0)\">INFO</span>: Resubtracting the background after object detection</pre>"
      ],
      "text/plain": [
       "<IPython.core.display.HTML object>"
      ]
     },
     "metadata": {},
     "output_type": "display_data"
    },
    {
     "data": {
      "text/html": [
       "<pre style=\"margin: 0.1em;\n",
       "padding-left: 0.25em;\n",
       "border-left-style: solid;\n",
       "font-family: var(--jp-code-font-family);\n",
       "font-size: var(--jp-code-font-size);\n",
       "line-height: var(--jp-code-line-height);\n",
       "\"><span style=\"color: var(--jp-warn-color2)\">lsst.measurement</span> <span style=\"color: var(--jp-info-color0)\">INFO</span>: Measuring 3677 sources (3677 parents, 0 children) </pre>"
      ],
      "text/plain": [
       "<IPython.core.display.HTML object>"
      ]
     },
     "metadata": {},
     "output_type": "display_data"
    },
    {
     "name": "stdout",
     "output_type": "stream",
     "text": [
      "Searching in lc 3\n",
      "Searching in lc 9\n",
      "Searching in lc 12\n",
      "Searching in lc 13\n",
      "Searching in lc 23\n",
      "ra = 57.59451632893858, dec = -32.481152201226145\n",
      "Measured  24.195586373736916 0.2624112728228713\n",
      "Injected  17.999520247493123\n",
      "ra = 57.721693928416556, dec = -32.61193236702722\n",
      "Measured  24.195586373736916 0.2624112728228713\n",
      "Injected  18.206416799217262\n",
      "ra = 57.68061138727324, dec = -32.30962597321138\n",
      "Measured  24.195586373736916 0.2624112728228713\n",
      "Injected  18.4133133509414\n",
      "ra = 57.50916802459406, dec = -32.48486065570155\n",
      "Measured  24.195586373736916 0.2624112728228713\n",
      "Injected  18.620209902665536\n",
      "ra = 57.50395607562979, dec = -32.64262458704941\n",
      "Measured  24.195586373736916 0.2624112728228713\n",
      "Injected  18.827106454389675\n",
      " ------ CALEXP 6 ------\n",
      "Points injected: 11\n",
      "[0, 3, 5, 7, 8, 9, 12, 13, 20, 25, 28]\n"
     ]
    },
    {
     "data": {
      "text/html": [
       "<pre style=\"margin: 0.1em;\n",
       "padding-left: 0.25em;\n",
       "border-left-style: solid;\n",
       "font-family: var(--jp-code-font-family);\n",
       "font-size: var(--jp-code-font-size);\n",
       "line-height: var(--jp-code-line-height);\n",
       "\"><span style=\"color: var(--jp-warn-color2)\">lsst.visitInjectTask</span> <span style=\"color: var(--jp-info-color0)\">INFO</span>: Retrieved 11 injection sources from 1 HTM trixel.</pre>"
      ],
      "text/plain": [
       "<IPython.core.display.HTML object>"
      ]
     },
     "metadata": {},
     "output_type": "display_data"
    },
    {
     "data": {
      "text/html": [
       "<pre style=\"margin: 0.1em;\n",
       "padding-left: 0.25em;\n",
       "border-left-style: solid;\n",
       "font-family: var(--jp-code-font-family);\n",
       "font-size: var(--jp-code-font-size);\n",
       "line-height: var(--jp-code-line-height);\n",
       "\"><span style=\"color: var(--jp-warn-color2)\">lsst.visitInjectTask</span> <span style=\"color: var(--jp-info-color0)\">INFO</span>: Catalog cleaning removed 0 of 11 sources; 11 remaining for catalog checking.</pre>"
      ],
      "text/plain": [
       "<IPython.core.display.HTML object>"
      ]
     },
     "metadata": {},
     "output_type": "display_data"
    },
    {
     "data": {
      "text/html": [
       "<pre style=\"margin: 0.1em;\n",
       "padding-left: 0.25em;\n",
       "border-left-style: solid;\n",
       "font-family: var(--jp-code-font-family);\n",
       "font-size: var(--jp-code-font-size);\n",
       "line-height: var(--jp-code-line-height);\n",
       "\"><span style=\"color: var(--jp-warn-color2)\">lsst.visitInjectTask</span> <span style=\"color: var(--jp-info-color0)\">INFO</span>: Catalog checking flagged 0 of 11 sources; 11 remaining for source generation.</pre>"
      ],
      "text/plain": [
       "<IPython.core.display.HTML object>"
      ]
     },
     "metadata": {},
     "output_type": "display_data"
    },
    {
     "data": {
      "text/html": [
       "<pre style=\"margin: 0.1em;\n",
       "padding-left: 0.25em;\n",
       "border-left-style: solid;\n",
       "font-family: var(--jp-code-font-family);\n",
       "font-size: var(--jp-code-font-size);\n",
       "line-height: var(--jp-code-line-height);\n",
       "\"><span style=\"color: var(--jp-warn-color2)\">lsst.visitInjectTask</span> <span style=\"color: var(--jp-info-color0)\">INFO</span>: Adding INJECTED and INJECTED_CORE mask planes to the exposure.</pre>"
      ],
      "text/plain": [
       "<IPython.core.display.HTML object>"
      ]
     },
     "metadata": {},
     "output_type": "display_data"
    },
    {
     "data": {
      "text/html": [
       "<pre style=\"margin: 0.1em;\n",
       "padding-left: 0.25em;\n",
       "border-left-style: solid;\n",
       "font-family: var(--jp-code-font-family);\n",
       "font-size: var(--jp-code-font-size);\n",
       "line-height: var(--jp-code-line-height);\n",
       "\"><span style=\"color: var(--jp-warn-color2)\">lsst.visitInjectTask</span> <span style=\"color: var(--jp-info-color0)\">INFO</span>: Generating 11 injection sources consisting of 1 unique type: DeltaFunction(11).</pre>"
      ],
      "text/plain": [
       "<IPython.core.display.HTML object>"
      ]
     },
     "metadata": {},
     "output_type": "display_data"
    },
    {
     "data": {
      "text/html": [
       "<pre style=\"margin: 0.1em;\n",
       "padding-left: 0.25em;\n",
       "border-left-style: solid;\n",
       "font-family: var(--jp-code-font-family);\n",
       "font-size: var(--jp-code-font-size);\n",
       "line-height: var(--jp-code-line-height);\n",
       "\"><span style=\"color: var(--jp-warn-color2)\">lsst.visitInjectTask</span> <span style=\"color: var(--jp-info-color0)\">INFO</span>: Injected 11 of 11 potential sources. 0 sources flagged and skipped.</pre>"
      ],
      "text/plain": [
       "<IPython.core.display.HTML object>"
      ]
     },
     "metadata": {},
     "output_type": "display_data"
    },
    {
     "data": {
      "text/html": [
       "<pre style=\"margin: 0.1em;\n",
       "padding-left: 0.25em;\n",
       "border-left-style: solid;\n",
       "font-family: var(--jp-code-font-family);\n",
       "font-size: var(--jp-code-font-size);\n",
       "line-height: var(--jp-code-line-height);\n",
       "\"><span style=\"color: var(--jp-warn-color2)\">lsst.sourceDetection</span> <span style=\"color: var(--jp-info-color0)\">INFO</span>: Setting factor for negative detections equal to that for positive detections: 1.000000</pre>"
      ],
      "text/plain": [
       "<IPython.core.display.HTML object>"
      ]
     },
     "metadata": {},
     "output_type": "display_data"
    },
    {
     "data": {
      "text/html": [
       "<pre style=\"margin: 0.1em;\n",
       "padding-left: 0.25em;\n",
       "border-left-style: solid;\n",
       "font-family: var(--jp-code-font-family);\n",
       "font-size: var(--jp-code-font-size);\n",
       "line-height: var(--jp-code-line-height);\n",
       "\"><span style=\"color: var(--jp-warn-color2)\">lsst.sourceDetection</span> <span style=\"color: var(--jp-info-color0)\">INFO</span>: Detected 4254 positive peaks in 3622 footprints and 133 negative peaks in 131 footprints to 4 +ve and 4 -ve sigma</pre>"
      ],
      "text/plain": [
       "<IPython.core.display.HTML object>"
      ]
     },
     "metadata": {},
     "output_type": "display_data"
    },
    {
     "data": {
      "text/html": [
       "<pre style=\"margin: 0.1em;\n",
       "padding-left: 0.25em;\n",
       "border-left-style: solid;\n",
       "font-family: var(--jp-code-font-family);\n",
       "font-size: var(--jp-code-font-size);\n",
       "line-height: var(--jp-code-line-height);\n",
       "\"><span style=\"color: var(--jp-warn-color2)\">lsst.sourceDetection</span> <span style=\"color: var(--jp-info-color0)\">INFO</span>: Resubtracting the background after object detection</pre>"
      ],
      "text/plain": [
       "<IPython.core.display.HTML object>"
      ]
     },
     "metadata": {},
     "output_type": "display_data"
    },
    {
     "data": {
      "text/html": [
       "<pre style=\"margin: 0.1em;\n",
       "padding-left: 0.25em;\n",
       "border-left-style: solid;\n",
       "font-family: var(--jp-code-font-family);\n",
       "font-size: var(--jp-code-font-size);\n",
       "line-height: var(--jp-code-line-height);\n",
       "\"><span style=\"color: var(--jp-warn-color2)\">lsst.measurement</span> <span style=\"color: var(--jp-info-color0)\">INFO</span>: Measuring 3622 sources (3622 parents, 0 children) </pre>"
      ],
      "text/plain": [
       "<IPython.core.display.HTML object>"
      ]
     },
     "metadata": {},
     "output_type": "display_data"
    },
    {
     "name": "stdout",
     "output_type": "stream",
     "text": [
      "Searching in lc 0\n",
      "Searching in lc 3\n",
      "Searching in lc 5\n",
      "Searching in lc 7\n",
      "Searching in lc 8\n",
      "Searching in lc 9\n",
      "Searching in lc 12\n",
      "Searching in lc 13\n",
      "Searching in lc 20\n",
      "Searching in lc 25\n",
      "Searching in lc 28\n",
      "ra = 57.59451632893858, dec = -32.481152201226145\n",
      "Measured  23.520986148518265 0.13692369796301931\n",
      "Injected  17.999520246553935\n",
      "ra = 57.721693928416556, dec = -32.61193236702722\n",
      "Measured  23.520986148518265 0.13692369796301931\n",
      "Injected  18.206416798278074\n",
      "ra = 57.68061138727324, dec = -32.30962597321138\n",
      "Measured  23.520986148518265 0.13692369796301931\n",
      "Injected  18.413313350002213\n",
      "ra = 57.50916802459406, dec = -32.48486065570155\n",
      "Measured  23.520986148518265 0.13692369796301931\n",
      "Injected  18.620209901726348\n",
      "ra = 57.50395607562979, dec = -32.64262458704941\n",
      "Measured  23.520986148518265 0.13692369796301931\n",
      "Injected  18.827106453450487\n",
      "ra = 57.488692246461895, dec = -32.5547566553623\n",
      "Measured  23.520986148518265 0.13692369796301931\n",
      "Injected  19.034003005174625\n",
      "ra = 57.63692147316318, dec = -32.66239828628203\n",
      "Measured  23.520986148518265 0.13692369796301931\n",
      "Injected  19.240899556898764\n",
      "ra = 57.575040418888165, dec = -32.50160680552438\n",
      "Measured  23.520986148518265 0.13692369796301931\n",
      "Injected  19.4477961086229\n",
      "ra = 57.53944959234475, dec = -32.51059524525427\n",
      "Measured  23.520986148518265 0.13692369796301931\n",
      "Injected  19.654692660347038\n",
      "ra = 57.46743777172214, dec = -32.47293710288829\n",
      "Measured  23.520986148518265 0.13692369796301931\n",
      "Injected  19.861589212071177\n",
      "ra = 57.61811198906094, dec = -32.44716315357896\n",
      "Measured  23.520986148518265 0.13692369796301931\n",
      "Injected  20.068485763795316\n",
      " ------ CALEXP 7 ------\n",
      "Points injected: 11\n",
      "[0, 3, 7, 8, 10, 11, 14, 19, 21, 23, 27]\n"
     ]
    },
    {
     "data": {
      "text/html": [
       "<pre style=\"margin: 0.1em;\n",
       "padding-left: 0.25em;\n",
       "border-left-style: solid;\n",
       "font-family: var(--jp-code-font-family);\n",
       "font-size: var(--jp-code-font-size);\n",
       "line-height: var(--jp-code-line-height);\n",
       "\"><span style=\"color: var(--jp-warn-color2)\">lsst.visitInjectTask</span> <span style=\"color: var(--jp-info-color0)\">INFO</span>: Retrieved 11 injection sources from 1 HTM trixel.</pre>"
      ],
      "text/plain": [
       "<IPython.core.display.HTML object>"
      ]
     },
     "metadata": {},
     "output_type": "display_data"
    },
    {
     "data": {
      "text/html": [
       "<pre style=\"margin: 0.1em;\n",
       "padding-left: 0.25em;\n",
       "border-left-style: solid;\n",
       "font-family: var(--jp-code-font-family);\n",
       "font-size: var(--jp-code-font-size);\n",
       "line-height: var(--jp-code-line-height);\n",
       "\"><span style=\"color: var(--jp-warn-color2)\">lsst.visitInjectTask</span> <span style=\"color: var(--jp-info-color0)\">INFO</span>: Catalog cleaning removed 0 of 11 sources; 11 remaining for catalog checking.</pre>"
      ],
      "text/plain": [
       "<IPython.core.display.HTML object>"
      ]
     },
     "metadata": {},
     "output_type": "display_data"
    },
    {
     "data": {
      "text/html": [
       "<pre style=\"margin: 0.1em;\n",
       "padding-left: 0.25em;\n",
       "border-left-style: solid;\n",
       "font-family: var(--jp-code-font-family);\n",
       "font-size: var(--jp-code-font-size);\n",
       "line-height: var(--jp-code-line-height);\n",
       "\"><span style=\"color: var(--jp-warn-color2)\">lsst.visitInjectTask</span> <span style=\"color: var(--jp-info-color0)\">INFO</span>: Catalog checking flagged 0 of 11 sources; 11 remaining for source generation.</pre>"
      ],
      "text/plain": [
       "<IPython.core.display.HTML object>"
      ]
     },
     "metadata": {},
     "output_type": "display_data"
    },
    {
     "data": {
      "text/html": [
       "<pre style=\"margin: 0.1em;\n",
       "padding-left: 0.25em;\n",
       "border-left-style: solid;\n",
       "font-family: var(--jp-code-font-family);\n",
       "font-size: var(--jp-code-font-size);\n",
       "line-height: var(--jp-code-line-height);\n",
       "\"><span style=\"color: var(--jp-warn-color2)\">lsst.visitInjectTask</span> <span style=\"color: var(--jp-info-color0)\">INFO</span>: Adding INJECTED and INJECTED_CORE mask planes to the exposure.</pre>"
      ],
      "text/plain": [
       "<IPython.core.display.HTML object>"
      ]
     },
     "metadata": {},
     "output_type": "display_data"
    },
    {
     "data": {
      "text/html": [
       "<pre style=\"margin: 0.1em;\n",
       "padding-left: 0.25em;\n",
       "border-left-style: solid;\n",
       "font-family: var(--jp-code-font-family);\n",
       "font-size: var(--jp-code-font-size);\n",
       "line-height: var(--jp-code-line-height);\n",
       "\"><span style=\"color: var(--jp-warn-color2)\">lsst.visitInjectTask</span> <span style=\"color: var(--jp-info-color0)\">INFO</span>: Generating 11 injection sources consisting of 1 unique type: DeltaFunction(11).</pre>"
      ],
      "text/plain": [
       "<IPython.core.display.HTML object>"
      ]
     },
     "metadata": {},
     "output_type": "display_data"
    },
    {
     "data": {
      "text/html": [
       "<pre style=\"margin: 0.1em;\n",
       "padding-left: 0.25em;\n",
       "border-left-style: solid;\n",
       "font-family: var(--jp-code-font-family);\n",
       "font-size: var(--jp-code-font-size);\n",
       "line-height: var(--jp-code-line-height);\n",
       "\"><span style=\"color: var(--jp-warn-color2)\">lsst.visitInjectTask</span> <span style=\"color: var(--jp-info-color0)\">INFO</span>: Injected 11 of 11 potential sources. 0 sources flagged and skipped.</pre>"
      ],
      "text/plain": [
       "<IPython.core.display.HTML object>"
      ]
     },
     "metadata": {},
     "output_type": "display_data"
    },
    {
     "data": {
      "text/html": [
       "<pre style=\"margin: 0.1em;\n",
       "padding-left: 0.25em;\n",
       "border-left-style: solid;\n",
       "font-family: var(--jp-code-font-family);\n",
       "font-size: var(--jp-code-font-size);\n",
       "line-height: var(--jp-code-line-height);\n",
       "\"><span style=\"color: var(--jp-warn-color2)\">lsst.sourceDetection</span> <span style=\"color: var(--jp-info-color0)\">INFO</span>: Setting factor for negative detections equal to that for positive detections: 1.000000</pre>"
      ],
      "text/plain": [
       "<IPython.core.display.HTML object>"
      ]
     },
     "metadata": {},
     "output_type": "display_data"
    },
    {
     "data": {
      "text/html": [
       "<pre style=\"margin: 0.1em;\n",
       "padding-left: 0.25em;\n",
       "border-left-style: solid;\n",
       "font-family: var(--jp-code-font-family);\n",
       "font-size: var(--jp-code-font-size);\n",
       "line-height: var(--jp-code-line-height);\n",
       "\"><span style=\"color: var(--jp-warn-color2)\">lsst.sourceDetection</span> <span style=\"color: var(--jp-info-color0)\">INFO</span>: Detected 3951 positive peaks in 3347 footprints and 118 negative peaks in 118 footprints to 4 +ve and 4 -ve sigma</pre>"
      ],
      "text/plain": [
       "<IPython.core.display.HTML object>"
      ]
     },
     "metadata": {},
     "output_type": "display_data"
    },
    {
     "data": {
      "text/html": [
       "<pre style=\"margin: 0.1em;\n",
       "padding-left: 0.25em;\n",
       "border-left-style: solid;\n",
       "font-family: var(--jp-code-font-family);\n",
       "font-size: var(--jp-code-font-size);\n",
       "line-height: var(--jp-code-line-height);\n",
       "\"><span style=\"color: var(--jp-warn-color2)\">lsst.sourceDetection</span> <span style=\"color: var(--jp-info-color0)\">INFO</span>: Resubtracting the background after object detection</pre>"
      ],
      "text/plain": [
       "<IPython.core.display.HTML object>"
      ]
     },
     "metadata": {},
     "output_type": "display_data"
    },
    {
     "data": {
      "text/html": [
       "<pre style=\"margin: 0.1em;\n",
       "padding-left: 0.25em;\n",
       "border-left-style: solid;\n",
       "font-family: var(--jp-code-font-family);\n",
       "font-size: var(--jp-code-font-size);\n",
       "line-height: var(--jp-code-line-height);\n",
       "\"><span style=\"color: var(--jp-warn-color2)\">lsst.measurement</span> <span style=\"color: var(--jp-info-color0)\">INFO</span>: Measuring 3347 sources (3347 parents, 0 children) </pre>"
      ],
      "text/plain": [
       "<IPython.core.display.HTML object>"
      ]
     },
     "metadata": {},
     "output_type": "display_data"
    }
   ],
   "source": [
    "n_points = [10,30,50,70,100]\n",
    "levels = [20,11,10,9]\n",
    "\n",
    "\n",
    "for n in n_points:\n",
    "    for lvl in levels:\n",
    "        process = Run(name = f\"run_{n}pts_{lvl}lvl\", htm_level=lvl)\n",
    "        process.inject_task()\n",
    "        schema = process.measure_task()\n",
    "        params = [{\"t_0\": 60700.5, \"t_E\": 110, \"u_0\": 0.5, \"m_base\": m} for m in np.linspace(18,24,n)]\n",
    "        process.add_lc(params[0], ra=57.59451632893858, dec=-32.481152201226145)\n",
    "        for p in params[1:]:\n",
    "            process.add_lc(p, dist=0.2)\n",
    "        process.log_task(\"Add and simulate light curves\")\n",
    "        for j, dataId in enumerate(process.calexp_dataIds[:10]):\n",
    "            print(f\" ------ CALEXP {j} ------\")\n",
    "            calexp = Calexp(dataId)\n",
    "            injected_exp, injected_points = process.inject_calexp(calexp, save_fit=f\"calexp_{j}.fit\")\n",
    "            if injected_exp != None:\n",
    "                sources = process.measure_calexp(injected_exp, schema)\n",
    "                flux, flux_err = process.find_flux(sources, injected_points, save=dataId)\n",
    "                for f, ferr, lc in zip(flux, flux_err, process.inj_lc):\n",
    "                    mag, mag_err = calexp.get_mag(f, ferr)\n",
    "                    lc.add_mag(f, ferr, dataId)\n",
    "                    print(f\"ra = {lc.ra}, dec = {lc.dec}\")\n",
    "                    print(\"Measured \", mag, mag_err)\n",
    "                    print(\"Injected \", lc.data[\"mag_sim\"][j])\n",
    "        process.save_lc()\n",
    "        process.save_time_log()\n",
    "        process.time_analysis()"
   ]
  },
  {
   "cell_type": "code",
   "execution_count": 11,
   "id": "07b173bd-4f03-413a-a9e5-e95cf3434cc1",
   "metadata": {
    "execution": {
     "iopub.execute_input": "2024-11-07T19:42:03.938706Z",
     "iopub.status.busy": "2024-11-07T19:42:03.938404Z",
     "iopub.status.idle": "2024-11-07T19:42:03.943852Z",
     "shell.execute_reply": "2024-11-07T19:42:03.943273Z",
     "shell.execute_reply.started": "2024-11-07T19:42:03.938685Z"
    }
   },
   "outputs": [
    {
     "data": {
      "text/plain": [
       "(1.0026102138055069, -0.5674241482716905)"
      ]
     },
     "execution_count": 11,
     "metadata": {},
     "output_type": "execute_result"
    }
   ],
   "source": [
    "lc = process.inj_lc[6]\n",
    "ra= lc.ra*np.pi/180; dec =  lc.dec*np.pi/180\n",
    "ra,dec"
   ]
  },
  {
   "cell_type": "code",
   "execution_count": 33,
   "id": "fabbe36e-2a91-41ef-bdfc-213d666414c5",
   "metadata": {
    "execution": {
     "iopub.execute_input": "2024-11-07T19:54:19.781201Z",
     "iopub.status.busy": "2024-11-07T19:54:19.780491Z",
     "iopub.status.idle": "2024-11-07T19:54:19.785219Z",
     "shell.execute_reply": "2024-11-07T19:54:19.784690Z",
     "shell.execute_reply.started": "2024-11-07T19:54:19.781172Z"
    }
   },
   "outputs": [
    {
     "data": {
      "text/plain": [
       "(Angle(57.445333125118566, degrees), Angle(57.445335357060969, degrees))"
      ]
     },
     "execution_count": 33,
     "metadata": {},
     "output_type": "execute_result"
    }
   ],
   "source": [
    "sources[i_ra][\"coord_ra\"],sources[i_dec][\"coord_ra\"]"
   ]
  },
  {
   "cell_type": "code",
   "execution_count": 48,
   "id": "828a3c93-b438-471f-9b4a-b2e2c14d0d7b",
   "metadata": {
    "execution": {
     "iopub.execute_input": "2024-11-07T20:05:24.311407Z",
     "iopub.status.busy": "2024-11-07T20:05:24.310752Z",
     "iopub.status.idle": "2024-11-07T20:05:24.314661Z",
     "shell.execute_reply": "2024-11-07T20:05:24.314148Z",
     "shell.execute_reply.started": "2024-11-07T20:05:24.311381Z"
    },
    "scrolled": true
   },
   "outputs": [],
   "source": [
    "s = sources\n",
    "i_ra = np.argmin(np.abs(s[\"coord_ra\"] - ra))\n",
    "point = s[i_dec]\n",
    "# coord_ra: 1.00261 rad\n",
    "# coord_dec: -0.566496 rad"
   ]
  },
  {
   "cell_type": "code",
   "execution_count": 51,
   "id": "5cc68ba1-6e69-41a2-b3cf-201b3a86bb6f",
   "metadata": {
    "collapsed": true,
    "execution": {
     "iopub.execute_input": "2024-11-07T20:07:43.326567Z",
     "iopub.status.busy": "2024-11-07T20:07:43.325848Z",
     "iopub.status.idle": "2024-11-07T20:07:43.342657Z",
     "shell.execute_reply": "2024-11-07T20:07:43.342134Z",
     "shell.execute_reply.started": "2024-11-07T20:07:43.326544Z"
    },
    "jupyter": {
     "outputs_hidden": true
    },
    "scrolled": true
   },
   "outputs": [
    {
     "name": "stdout",
     "output_type": "stream",
     "text": [
      "El punto más cercano a (1.0026102138055069, -0.5674241482716905) tiene coordenadas:\n",
      "RA: 1.0003741766902436, DEC: -0.5667706642386247\n",
      "Fila completa:  id       coord_ra           coord_dec      parent coord_raErr coord_decErr base_SdssCentroid_x slot_Centroid_x base_SdssCentroid_y slot_Centroid_y base_SdssCentroid_xErr slot_Centroid_xErr base_SdssCentroid_yErr slot_Centroid_yErr base_SdssCentroid_flag base_CircularApertureFlux_flag_badCentroid base_GaussianFlux_flag_badCentroid base_LocalBackground_flag_badCentroid base_PsfFlux_flag_badCentroid base_SdssShape_flag_badCentroid base_Variance_flag_badCentroid slot_Centroid_flag base_SdssCentroid_flag_edge base_CircularApertureFlux_flag_badCentroid_edge base_GaussianFlux_flag_badCentroid_edge base_LocalBackground_flag_badCentroid_edge base_PsfFlux_flag_badCentroid_edge base_SdssShape_flag_badCentroid_edge base_Variance_flag_badCentroid_edge slot_Centroid_flag_edge base_SdssCentroid_flag_noSecondDerivative base_CircularApertureFlux_flag_badCentroid_noSecondDerivative base_GaussianFlux_flag_badCentroid_noSecondDerivative base_LocalBackground_flag_badCentroid_noSecondDerivative base_PsfFlux_flag_badCentroid_noSecondDerivative base_SdssShape_flag_badCentroid_noSecondDerivative base_Variance_flag_badCentroid_noSecondDerivative slot_Centroid_flag_noSecondDerivative base_SdssCentroid_flag_almostNoSecondDerivative base_CircularApertureFlux_flag_badCentroid_almostNoSecondDerivative base_GaussianFlux_flag_badCentroid_almostNoSecondDerivative base_LocalBackground_flag_badCentroid_almostNoSecondDerivative base_PsfFlux_flag_badCentroid_almostNoSecondDerivative base_SdssShape_flag_badCentroid_almostNoSecondDerivative base_Variance_flag_badCentroid_almostNoSecondDerivative slot_Centroid_flag_almostNoSecondDerivative base_SdssCentroid_flag_notAtMaximum base_CircularApertureFlux_flag_badCentroid_notAtMaximum base_GaussianFlux_flag_badCentroid_notAtMaximum base_LocalBackground_flag_badCentroid_notAtMaximum base_PsfFlux_flag_badCentroid_notAtMaximum base_SdssShape_flag_badCentroid_notAtMaximum base_Variance_flag_badCentroid_notAtMaximum slot_Centroid_flag_notAtMaximum base_SdssCentroid_flag_near_edge base_CircularApertureFlux_flag_badCentroid_near_edge base_GaussianFlux_flag_badCentroid_near_edge base_LocalBackground_flag_badCentroid_near_edge base_PsfFlux_flag_badCentroid_near_edge base_SdssShape_flag_badCentroid_near_edge base_Variance_flag_badCentroid_near_edge slot_Centroid_flag_near_edge base_SdssCentroid_flag_resetToPeak base_CircularApertureFlux_flag_badCentroid_resetToPeak base_GaussianFlux_flag_badCentroid_resetToPeak base_LocalBackground_flag_badCentroid_resetToPeak base_PsfFlux_flag_badCentroid_resetToPeak base_SdssShape_flag_badCentroid_resetToPeak base_Variance_flag_badCentroid_resetToPeak slot_Centroid_flag_resetToPeak base_SdssCentroid_flag_badError base_CircularApertureFlux_flag_badCentroid_badError base_GaussianFlux_flag_badCentroid_badError base_LocalBackground_flag_badCentroid_badError base_PsfFlux_flag_badCentroid_badError base_SdssShape_flag_badCentroid_badError base_Variance_flag_badCentroid_badError slot_Centroid_flag_badError base_Blendedness_old base_Blendedness_raw base_Blendedness_raw_child_instFlux base_Blendedness_raw_parent_instFlux base_Blendedness_abs base_Blendedness_abs_child_instFlux base_Blendedness_abs_parent_instFlux base_Blendedness_raw_child_xx base_Blendedness_raw_child_yy base_Blendedness_raw_child_xy base_Blendedness_raw_parent_xx base_Blendedness_raw_parent_yy base_Blendedness_raw_parent_xy base_Blendedness_abs_child_xx base_Blendedness_abs_child_yy base_Blendedness_abs_child_xy base_Blendedness_abs_parent_xx base_Blendedness_abs_parent_yy base_Blendedness_abs_parent_xy base_Blendedness_flag base_Blendedness_flag_noCentroid base_Blendedness_flag_noShape base_SdssShape_xx    slot_Shape_xx    base_SdssShape_yy   slot_Shape_yy   base_SdssShape_xy    slot_Shape_xy    base_SdssShape_xxErr slot_Shape_xxErr base_SdssShape_yyErr slot_Shape_yyErr base_SdssShape_xyErr slot_Shape_xyErr  base_SdssShape_x    slot_Shape_x    base_SdssShape_y    slot_Shape_y   base_SdssShape_instFlux slot_Shape_instFlux base_SdssShape_instFluxErr slot_Shape_instFluxErr base_SdssShape_psf_xx  slot_PsfShape_xx  slot_Shape_psf_xx  base_SdssShape_psf_yy  slot_PsfShape_yy  slot_Shape_psf_yy  base_SdssShape_psf_xy   slot_PsfShape_xy    slot_Shape_psf_xy   base_SdssShape_instFlux_xx_Cov slot_Shape_instFlux_xx_Cov base_SdssShape_instFlux_yy_Cov slot_Shape_instFlux_yy_Cov base_SdssShape_instFlux_xy_Cov slot_Shape_instFlux_xy_Cov base_SdssShape_flag base_GaussianFlux_flag_badShape slot_Shape_flag base_SdssShape_flag_unweightedBad base_GaussianFlux_flag_badShape_unweightedBad slot_Shape_flag_unweightedBad base_SdssShape_flag_unweighted base_GaussianFlux_flag_badShape_unweighted slot_Shape_flag_unweighted base_SdssShape_flag_shift base_GaussianFlux_flag_badShape_shift slot_Shape_flag_shift base_SdssShape_flag_maxIter base_GaussianFlux_flag_badShape_maxIter slot_Shape_flag_maxIter base_SdssShape_flag_psf base_GaussianFlux_flag_badShape_psf slot_Shape_flag_psf base_CircularApertureFlux_3_0_instFlux base_CircularApertureFlux_3_0_instFluxErr base_CircularApertureFlux_3_0_flag base_CircularApertureFlux_3_0_flag_apertureTruncated base_CircularApertureFlux_3_0_flag_sincCoeffsTruncated base_CircularApertureFlux_4_5_instFlux base_CircularApertureFlux_4_5_instFluxErr base_CircularApertureFlux_4_5_flag base_CircularApertureFlux_4_5_flag_apertureTruncated base_CircularApertureFlux_4_5_flag_sincCoeffsTruncated base_CircularApertureFlux_6_0_instFlux base_CircularApertureFlux_6_0_instFluxErr base_CircularApertureFlux_6_0_flag base_CircularApertureFlux_6_0_flag_apertureTruncated base_CircularApertureFlux_6_0_flag_sincCoeffsTruncated base_CircularApertureFlux_9_0_instFlux base_CircularApertureFlux_9_0_instFluxErr base_CircularApertureFlux_9_0_flag base_CircularApertureFlux_9_0_flag_apertureTruncated base_CircularApertureFlux_9_0_flag_sincCoeffsTruncated base_CircularApertureFlux_12_0_instFlux slot_ApFlux_instFlux slot_CalibFlux_instFlux base_CircularApertureFlux_12_0_instFluxErr slot_ApFlux_instFluxErr slot_CalibFlux_instFluxErr base_CircularApertureFlux_12_0_flag slot_ApFlux_flag slot_CalibFlux_flag base_CircularApertureFlux_12_0_flag_apertureTruncated slot_ApFlux_flag_apertureTruncated slot_CalibFlux_flag_apertureTruncated base_CircularApertureFlux_17_0_instFlux base_CircularApertureFlux_17_0_instFluxErr base_CircularApertureFlux_17_0_flag base_CircularApertureFlux_17_0_flag_apertureTruncated base_CircularApertureFlux_25_0_instFlux base_CircularApertureFlux_25_0_instFluxErr base_CircularApertureFlux_25_0_flag base_CircularApertureFlux_25_0_flag_apertureTruncated base_CircularApertureFlux_35_0_instFlux base_CircularApertureFlux_35_0_instFluxErr base_CircularApertureFlux_35_0_flag base_CircularApertureFlux_35_0_flag_apertureTruncated base_CircularApertureFlux_50_0_instFlux base_CircularApertureFlux_50_0_instFluxErr base_CircularApertureFlux_50_0_flag base_CircularApertureFlux_50_0_flag_apertureTruncated base_CircularApertureFlux_70_0_instFlux base_CircularApertureFlux_70_0_instFluxErr base_CircularApertureFlux_70_0_flag base_CircularApertureFlux_70_0_flag_apertureTruncated base_ClassificationSizeExtendedness_value base_ClassificationSizeExtendedness_flag base_CompensatedTophatFlux_12_instFlux base_CompensatedTophatFlux_12_instFluxErr base_CompensatedTophatFlux_12_mask_bits base_CompensatedTophatFlux_12_flag base_CompensatedTophatFlux_12_flag_bounds base_GaussianFlux_instFlux slot_GaussianFlux_instFlux slot_ModelFlux_instFlux base_GaussianFlux_instFluxErr slot_GaussianFlux_instFluxErr slot_ModelFlux_instFluxErr base_GaussianFlux_flag slot_GaussianFlux_flag slot_ModelFlux_flag base_LocalBackground_instFlux base_LocalBackground_instFluxErr base_LocalBackground_flag base_LocalBackground_flag_noGoodPixels base_LocalBackground_flag_noPsf base_PixelFlags_flag base_PixelFlags_flag_offimage base_PixelFlags_flag_edge base_PixelFlags_flag_interpolated base_PixelFlags_flag_saturated base_PixelFlags_flag_cr base_PixelFlags_flag_bad base_PixelFlags_flag_suspect base_PixelFlags_flag_edgeCenter base_PixelFlags_flag_interpolatedCenter base_PixelFlags_flag_saturatedCenter base_PixelFlags_flag_crCenter base_PixelFlags_flag_badCenter base_PixelFlags_flag_suspectCenter base_PixelFlags_flag_edgeCenterAll base_PixelFlags_flag_interpolatedCenterAll base_PixelFlags_flag_saturatedCenterAll base_PixelFlags_flag_crCenterAll base_PixelFlags_flag_badCenterAll base_PixelFlags_flag_suspectCenterAll base_PsfFlux_instFlux slot_PsfFlux_instFlux base_PsfFlux_instFluxErr slot_PsfFlux_instFluxErr base_PsfFlux_area slot_PsfFlux_area base_PsfFlux_chi2 slot_PsfFlux_chi2 base_PsfFlux_npixels slot_PsfFlux_npixels base_PsfFlux_flag slot_PsfFlux_flag base_PsfFlux_flag_noGoodPixels slot_PsfFlux_flag_noGoodPixels base_PsfFlux_flag_edge slot_PsfFlux_flag_edge base_Variance_flag base_Variance_value base_Variance_flag_emptyFootprint base_InvalidPsf_flag\n",
      "            rad                 rad                                                 pix               pix               pix               pix                pix                  pix                  pix                  pix                                                                                                                                                                                                                                                                                                                                                                                                                                                                                                                                                                                                                                                                                                                                                                                                                                                                                                                                                                                                                                                                                                                                                                                                                                                                                                                                                                                                                                                                                                                                                                                                                                                                                                                                                                                                                                                                                                                                                                                                                                                                                                                                                                                                                                                                                                                                                                                                                                                                                                                                                                                                                                                                                                                                                                                                                                                                                                                                    ct                                  ct                                                        ct                                  ct                               pix2                          pix2                          pix2                          pix2                           pix2                           pix2                           pix2                          pix2                          pix2                          pix2                           pix2                           pix2                                                                                                          pix2               pix2               pix2              pix2              pix2               pix2                pix2               pix2               pix2               pix2               pix2               pix2              pix               pix               pix               pix                   ct                    ct                     ct                       ct                    pix2                pix2               pix2                 pix2                pix2               pix2                 pix2                 pix2                 pix2                    pix2 ct                      pix2 ct                      pix2 ct                      pix2 ct                      pix2 ct                      pix2 ct                                                                                                                                                                                                                                                                                                                                                                                                                                                                                                                                                                                      ct                                       ct                                                                                                                                                                                     ct                                       ct                                                                                                                                                                                     ct                                       ct                                                                                                                                                                                     ct                                       ct                                                                                                                                                                                      ct                            ct                     ct                               ct                                ct                       ct                                                                                                                                                                                                                                        ct                                       ct                                                                                                                                  ct                                       ct                                                                                                                                  ct                                       ct                                                                                                                                  ct                                       ct                                                                                                                                  ct                                       ct                                                                                                                                                                                                                    ct                                       ct                                                                                                                                                     ct                         ct                        ct                         ct                            ct                          ct                                                                                             ct                             ct                                                                                                                                                                                                                                                                                                                                                                                                                                                                                                                                                                                                                                                                                                                                                                                                   ct                    ct                     ct                       ct                   pix               pix                                                    pix                  pix                                                                                                                                                                                                                                                       \n",
      "---- ------------------ ------------------- ------ ----------- ------------ ------------------- --------------- ------------------- --------------- ---------------------- ------------------ ---------------------- ------------------ ---------------------- ------------------------------------------ ---------------------------------- ------------------------------------- ----------------------------- ------------------------------- ------------------------------ ------------------ --------------------------- ----------------------------------------------- --------------------------------------- ------------------------------------------ ---------------------------------- ------------------------------------ ----------------------------------- ----------------------- ----------------------------------------- ------------------------------------------------------------- ----------------------------------------------------- -------------------------------------------------------- ------------------------------------------------ -------------------------------------------------- ------------------------------------------------- ------------------------------------- ----------------------------------------------- ------------------------------------------------------------------- ----------------------------------------------------------- -------------------------------------------------------------- ------------------------------------------------------ -------------------------------------------------------- ------------------------------------------------------- ------------------------------------------- ----------------------------------- ------------------------------------------------------- ----------------------------------------------- -------------------------------------------------- ------------------------------------------ -------------------------------------------- ------------------------------------------- ------------------------------- -------------------------------- ---------------------------------------------------- -------------------------------------------- ----------------------------------------------- --------------------------------------- ----------------------------------------- ---------------------------------------- ---------------------------- ---------------------------------- ------------------------------------------------------ ---------------------------------------------- ------------------------------------------------- ----------------------------------------- ------------------------------------------- ------------------------------------------ ------------------------------ ------------------------------- --------------------------------------------------- ------------------------------------------- ---------------------------------------------- -------------------------------------- ---------------------------------------- --------------------------------------- --------------------------- -------------------- -------------------- ----------------------------------- ------------------------------------ -------------------- ----------------------------------- ------------------------------------ ----------------------------- ----------------------------- ----------------------------- ------------------------------ ------------------------------ ------------------------------ ----------------------------- ----------------------------- ----------------------------- ------------------------------ ------------------------------ ------------------------------ --------------------- -------------------------------- ----------------------------- ------------------ ------------------ ----------------- ----------------- ------------------ ------------------ -------------------- ---------------- -------------------- ---------------- -------------------- ---------------- ----------------- ----------------- ----------------- ----------------- ----------------------- ------------------- -------------------------- ---------------------- --------------------- ------------------ ------------------ --------------------- ------------------ ------------------ --------------------- -------------------- -------------------- ------------------------------ -------------------------- ------------------------------ -------------------------- ------------------------------ -------------------------- ------------------- ------------------------------- --------------- --------------------------------- --------------------------------------------- ----------------------------- ------------------------------ ------------------------------------------ -------------------------- ------------------------- ------------------------------------- --------------------- --------------------------- --------------------------------------- ----------------------- ----------------------- ----------------------------------- ------------------- -------------------------------------- ----------------------------------------- ---------------------------------- ---------------------------------------------------- ------------------------------------------------------ -------------------------------------- ----------------------------------------- ---------------------------------- ---------------------------------------------------- ------------------------------------------------------ -------------------------------------- ----------------------------------------- ---------------------------------- ---------------------------------------------------- ------------------------------------------------------ -------------------------------------- ----------------------------------------- ---------------------------------- ---------------------------------------------------- ------------------------------------------------------ --------------------------------------- -------------------- ----------------------- ------------------------------------------ ----------------------- -------------------------- ----------------------------------- ---------------- ------------------- ----------------------------------------------------- ---------------------------------- ------------------------------------- --------------------------------------- ------------------------------------------ ----------------------------------- ----------------------------------------------------- --------------------------------------- ------------------------------------------ ----------------------------------- ----------------------------------------------------- --------------------------------------- ------------------------------------------ ----------------------------------- ----------------------------------------------------- --------------------------------------- ------------------------------------------ ----------------------------------- ----------------------------------------------------- --------------------------------------- ------------------------------------------ ----------------------------------- ----------------------------------------------------- ----------------------------------------- ---------------------------------------- -------------------------------------- ----------------------------------------- --------------------------------------- ---------------------------------- ----------------------------------------- -------------------------- -------------------------- ----------------------- ----------------------------- ----------------------------- -------------------------- ---------------------- ---------------------- ------------------- ----------------------------- -------------------------------- ------------------------- -------------------------------------- ------------------------------- -------------------- ----------------------------- ------------------------- --------------------------------- ------------------------------ ----------------------- ------------------------ ---------------------------- ------------------------------- --------------------------------------- ------------------------------------ ----------------------------- ------------------------------ ---------------------------------- ---------------------------------- ------------------------------------------ --------------------------------------- -------------------------------- --------------------------------- ------------------------------------- --------------------- --------------------- ------------------------ ------------------------ ----------------- ----------------- ----------------- ----------------- -------------------- -------------------- ----------------- ----------------- ------------------------------ ------------------------------ ---------------------- ---------------------- ------------------ ------------------- --------------------------------- --------------------\n",
      "3569 1.0003741766902436 -0.5667706642386247      0         nan          nan              4053.0          4053.0              3952.0          3952.0                    nan                nan                    nan                nan                   True                                       True                               True                                  True                          True                            True                           True               True                       False                                           False                                   False                                      False                              False                                False                               False                   False                                     False                                                         False                                                 False                                                    False                                            False                                              False                                             False                                 False                                           False                                                               False                                                       False                                                          False                                                  False                                                    False                                                   False                                       False                                True                                                    True                                            True                                               True                                       True                                         True                                        True                            True                             True                                                 True                                         True                                            True                                    True                                      True                                     True                         True                              False                                                  False                                          False                                             False                                     False                                       False                                      False                          False                           False                                               False                                       False                                          False                                  False                                    False                                   False                       False                  0.0                  0.0                   10861.72415683227                    10861.72415683227                  0.0                  11068.187943882938                   11068.187943882938            14.552869829890799             8.169679945162986             1.560432028174916             14.552869829890799              8.169679945162986              1.560432028174916             16.29475476748584             9.041721033742643             1.761434148375974              16.29475476748584              9.041721033742643              1.761434148375974                 False                             True                         False 14.509757371415253 14.509757371415253 8.300071501536486 8.300071501536486 1.5828412252658997 1.5828412252658997             2.155739         2.155739            1.2331556        1.2331556            1.1648314        1.1648314 4053.222053272915 4053.222053272915 3951.860902969349 3951.860902969349      10986.086175932438  10986.086175932438          816.1106063077206      816.1106063077206    2.3222764525972357 2.3222764525972357 2.3222764525972357    2.3453876670682785 2.3453876670682785 2.3453876670682785  0.011737503993259542 0.011737503993259542 0.011737503993259542                      -879.6607                  -879.6607                     -503.19568                 -503.19568                      -95.96048                  -95.96048               False                           False           False                             False                                         False                         False                          False                                      False                      False                     False                                 False                 False                       False                                   False                   False                   False                               False               False                           3971.5859375                         248.4430389404297                               True                                                False                                                  False                          6415.88671875                        371.65631103515625                               True                                                False                                                  False                       8184.04931640625                        493.57293701171875                               True                                                False                                                  False                       11397.4443359375                         737.3286743164062                               True                                                False                                                   True                       12961.89683264494    12961.89683264494       12961.89683264494                          975.4591135346137       975.4591135346137          975.4591135346137                                True             True                True                                                 False                              False                                 False                      14708.425417006016                         1388.2378941246322                                True                                                 False                                     nan                                        nan                                True                                                  True                                     nan                                        nan                                True                                                  True                                     nan                                        nan                                True                                                  True                                     nan                                        nan                                True                                                  True                        0.9999999999999996                                    False                                    nan                                       nan                                       0                               True                                      True         10986.086175932433         10986.086175932433      10986.086175932433             577.0773408900559             577.0773408900559          577.0773408900559                  False                  False               False            0.7860890566760041                46.58303630797272                      True                                  False                           False                False                         False                      True                             False                          False                   False                    False                        False                           False                                   False                                False                         False                          False                              False                              False                                      False                                   False                            False                             False                                 False     4690.384370045882     4690.384370045882       281.98579558364054       281.98579558364054         33.643467         33.643467         1752.1793         1752.1793                 1599                 1599              True              True                          False                          False                   True                   True              False   2120.016357421875                             False                False\n"
     ]
    }
   ],
   "source": [
    "from astropy.coordinates import SkyCoord\n",
    "import numpy as np\n",
    "\n",
    "target_coord = SkyCoord(ra=ra, dec=dec, unit=\"deg\")\n",
    "source_coords = SkyCoord(ra=s[\"coord_ra\"], dec=s[\"coord_dec\"], unit=\"deg\")\n",
    "distances = source_coords.separation(target_coord)\n",
    "closest_index = np.argmin(distances)\n",
    "point = s[closest_index]\n",
    "\n",
    "\n",
    "print(f\"El punto más cercano a ({ra}, {dec}) tiene coordenadas:\")\n",
    "print(f\"RA: {closest_ra}, DEC: {closest_dec}\")\n",
    "print(f\"Fila completa: {closest_row}\")\n"
   ]
  },
  {
   "cell_type": "code",
   "execution_count": 52,
   "id": "29470f58-659b-4977-86ac-0ef754e78383",
   "metadata": {
    "execution": {
     "iopub.execute_input": "2024-11-07T20:07:52.733744Z",
     "iopub.status.busy": "2024-11-07T20:07:52.732898Z",
     "iopub.status.idle": "2024-11-07T20:07:52.737901Z",
     "shell.execute_reply": "2024-11-07T20:07:52.737351Z",
     "shell.execute_reply.started": "2024-11-07T20:07:52.733708Z"
    }
   },
   "outputs": [
    {
     "data": {
      "text/plain": [
       "(21.97602885934537, 0.0363816896447421)"
      ]
     },
     "execution_count": 52,
     "metadata": {},
     "output_type": "execute_result"
    }
   ],
   "source": [
    "flux = point[\"base_PsfFlux_instFlux\"]; flux_err = point[\"base_PsfFlux_instFluxErr\"]\n",
    "photoCalib = calexp.expF.getPhotoCalib()\n",
    "measure = photoCalib.instFluxToMagnitude(flux, flux_err)\n",
    "measure.value, measure.error"
   ]
  },
  {
   "cell_type": "code",
   "execution_count": 50,
   "id": "d8312e2c-0d4a-47d8-85f6-f6127a9de0de",
   "metadata": {
    "execution": {
     "iopub.execute_input": "2024-11-07T20:06:20.107307Z",
     "iopub.status.busy": "2024-11-07T20:06:20.106556Z",
     "iopub.status.idle": "2024-11-07T20:06:20.117626Z",
     "shell.execute_reply": "2024-11-07T20:06:20.117133Z",
     "shell.execute_reply.started": "2024-11-07T20:06:20.107272Z"
    }
   },
   "outputs": [
    {
     "data": {
      "text/html": [
       "<div>\n",
       "<style scoped>\n",
       "    .dataframe tbody tr th:only-of-type {\n",
       "        vertical-align: middle;\n",
       "    }\n",
       "\n",
       "    .dataframe tbody tr th {\n",
       "        vertical-align: top;\n",
       "    }\n",
       "\n",
       "    .dataframe thead th {\n",
       "        text-align: right;\n",
       "    }\n",
       "</style>\n",
       "<table border=\"1\" class=\"dataframe\">\n",
       "  <thead>\n",
       "    <tr style=\"text-align: right;\">\n",
       "      <th></th>\n",
       "      <th>detector</th>\n",
       "      <th>visit</th>\n",
       "      <th>mjd</th>\n",
       "      <th>mag_sim</th>\n",
       "      <th>flux</th>\n",
       "      <th>flux_err</th>\n",
       "      <th>mag</th>\n",
       "      <th>mag_err</th>\n",
       "    </tr>\n",
       "  </thead>\n",
       "  <tbody>\n",
       "    <tr>\n",
       "      <th>3</th>\n",
       "      <td>185</td>\n",
       "      <td>177423</td>\n",
       "      <td>59813.364525</td>\n",
       "      <td>21.99952</td>\n",
       "      <td>NaN</td>\n",
       "      <td>NaN</td>\n",
       "      <td>NaN</td>\n",
       "      <td>NaN</td>\n",
       "    </tr>\n",
       "  </tbody>\n",
       "</table>\n",
       "</div>"
      ],
      "text/plain": [
       "  detector   visit           mjd   mag_sim flux flux_err  mag mag_err\n",
       "3      185  177423  59813.364525  21.99952  NaN      NaN  NaN     NaN"
      ]
     },
     "execution_count": 50,
     "metadata": {},
     "output_type": "execute_result"
    }
   ],
   "source": [
    "lc.data[lc.data[\"detector\"] == calexp.calexp_data[\"detector\"]]\n",
    "lc.data[lc.data[\"visit\"] == calexp.calexp_data[\"visit\"]]"
   ]
  },
  {
   "cell_type": "code",
   "execution_count": 29,
   "id": "248cf173-e971-4c80-a3ef-7175da6f4a40",
   "metadata": {
    "execution": {
     "iopub.execute_input": "2024-11-07T19:52:40.202195Z",
     "iopub.status.busy": "2024-11-07T19:52:40.201468Z",
     "iopub.status.idle": "2024-11-07T19:52:40.207160Z",
     "shell.execute_reply": "2024-11-07T19:52:40.206634Z",
     "shell.execute_reply.started": "2024-11-07T19:52:40.202168Z"
    }
   },
   "outputs": [
    {
     "data": {
      "text/plain": [
       "(array([2975]),)"
      ]
     },
     "execution_count": 29,
     "metadata": {},
     "output_type": "execute_result"
    }
   ],
   "source": [
    "differences = np.abs(s[\"coord_ra\"] - ra)\n",
    "min_difference = np.min(differences)\n",
    "np.where(differences == min_difference)\n"
   ]
  },
  {
   "cell_type": "code",
   "execution_count": 18,
   "id": "f5351914-1160-4ec7-b267-4d7a08a8f63b",
   "metadata": {
    "execution": {
     "iopub.execute_input": "2024-11-07T19:45:03.469877Z",
     "iopub.status.busy": "2024-11-07T19:45:03.469214Z",
     "iopub.status.idle": "2024-11-07T19:45:03.474571Z",
     "shell.execute_reply": "2024-11-07T19:45:03.474092Z",
     "shell.execute_reply.started": "2024-11-07T19:45:03.469854Z"
    },
    "scrolled": true
   },
   "outputs": [
    {
     "data": {
      "text/plain": [
       "<class 'lsst.afw.table.SourceRecord'>\n",
       "id: 2189\n",
       "coord_ra: 1.00261 rad\n",
       "coord_dec: -0.567424 rad\n",
       "parent: 0\n",
       "coord_raErr: 7.59855e-08\n",
       "coord_decErr: 8.26985e-08\n",
       "base_SdssCentroid_x: 2637.31\n",
       "base_SdssCentroid_y: 2448.52\n",
       "base_SdssCentroid_xErr: 0.0959159\n",
       "base_SdssCentroid_yErr: 0.0822788\n",
       "base_SdssCentroid_flag: 0\n",
       "base_SdssCentroid_flag_edge: 0\n",
       "base_SdssCentroid_flag_noSecondDerivative: 0\n",
       "base_SdssCentroid_flag_almostNoSecondDerivative: 0\n",
       "base_SdssCentroid_flag_notAtMaximum: 0\n",
       "base_SdssCentroid_flag_near_edge: 0\n",
       "base_SdssCentroid_flag_resetToPeak: 0\n",
       "base_SdssCentroid_flag_badError: 0\n",
       "base_Blendedness_old: 0\n",
       "base_Blendedness_raw: 0\n",
       "base_Blendedness_raw_child_instFlux: 8232.28\n",
       "base_Blendedness_raw_parent_instFlux: 8232.28\n",
       "base_Blendedness_abs: 0\n",
       "base_Blendedness_abs_child_instFlux: 8263.58\n",
       "base_Blendedness_abs_parent_instFlux: 8263.58\n",
       "base_Blendedness_raw_child_xx: 2.72413\n",
       "base_Blendedness_raw_child_yy: 1.93772\n",
       "base_Blendedness_raw_child_xy: 0.0426744\n",
       "base_Blendedness_raw_parent_xx: 2.72413\n",
       "base_Blendedness_raw_parent_yy: 1.93772\n",
       "base_Blendedness_raw_parent_xy: 0.0426744\n",
       "base_Blendedness_abs_child_xx: 2.81185\n",
       "base_Blendedness_abs_child_yy: 1.97448\n",
       "base_Blendedness_abs_child_xy: 0.0309931\n",
       "base_Blendedness_abs_parent_xx: 2.81185\n",
       "base_Blendedness_abs_parent_yy: 1.97448\n",
       "base_Blendedness_abs_parent_xy: 0.0309931\n",
       "base_Blendedness_flag: 0\n",
       "base_Blendedness_flag_noCentroid: 0\n",
       "base_Blendedness_flag_noShape: 0\n",
       "base_SdssShape_xx: 2.72905\n",
       "base_SdssShape_yy: 1.94365\n",
       "base_SdssShape_xy: 0.0446084\n",
       "base_SdssShape_xxErr: 0.268665\n",
       "base_SdssShape_yyErr: 0.191346\n",
       "base_SdssShape_xyErr: 0.160355\n",
       "base_SdssShape_x: 2637.31\n",
       "base_SdssShape_y: 2448.51\n",
       "base_SdssShape_instFlux: 8322.74\n",
       "base_SdssShape_instFluxErr: 409.672\n",
       "base_SdssShape_psf_xx: 2.30592\n",
       "base_SdssShape_psf_yy: 2.32892\n",
       "base_SdssShape_psf_xy: 0.00685918\n",
       "base_SdssShape_instFlux_xx_Cov: -55.0323\n",
       "base_SdssShape_instFlux_yy_Cov: -39.1945\n",
       "base_SdssShape_instFlux_xy_Cov: -0.899544\n",
       "base_SdssShape_flag: 0\n",
       "base_SdssShape_flag_unweightedBad: 0\n",
       "base_SdssShape_flag_unweighted: 0\n",
       "base_SdssShape_flag_shift: 0\n",
       "base_SdssShape_flag_maxIter: 0\n",
       "base_SdssShape_flag_psf: 0\n",
       "base_CircularApertureFlux_3_0_instFlux: 7208.59\n",
       "base_CircularApertureFlux_3_0_instFluxErr: 259.492\n",
       "base_CircularApertureFlux_3_0_flag: 0\n",
       "base_CircularApertureFlux_3_0_flag_apertureTruncated: 0\n",
       "base_CircularApertureFlux_3_0_flag_sincCoeffsTruncated: 0\n",
       "base_CircularApertureFlux_4_5_instFlux: 8292.52\n",
       "base_CircularApertureFlux_4_5_instFluxErr: 374.782\n",
       "base_CircularApertureFlux_4_5_flag: 0\n",
       "base_CircularApertureFlux_4_5_flag_apertureTruncated: 0\n",
       "base_CircularApertureFlux_4_5_flag_sincCoeffsTruncated: 0\n",
       "base_CircularApertureFlux_6_0_instFlux: 8473.37\n",
       "base_CircularApertureFlux_6_0_instFluxErr: 493.304\n",
       "base_CircularApertureFlux_6_0_flag: 0\n",
       "base_CircularApertureFlux_6_0_flag_apertureTruncated: 0\n",
       "base_CircularApertureFlux_6_0_flag_sincCoeffsTruncated: 0\n",
       "base_CircularApertureFlux_9_0_instFlux: 8328.27\n",
       "base_CircularApertureFlux_9_0_instFluxErr: 733.61\n",
       "base_CircularApertureFlux_9_0_flag: 0\n",
       "base_CircularApertureFlux_9_0_flag_apertureTruncated: 0\n",
       "base_CircularApertureFlux_9_0_flag_sincCoeffsTruncated: 0\n",
       "base_CircularApertureFlux_12_0_instFlux: 7280.26\n",
       "base_CircularApertureFlux_12_0_instFluxErr: 987.32\n",
       "base_CircularApertureFlux_12_0_flag: 0\n",
       "base_CircularApertureFlux_12_0_flag_apertureTruncated: 0\n",
       "base_CircularApertureFlux_17_0_instFlux: 9372.42\n",
       "base_CircularApertureFlux_17_0_instFluxErr: 1393.58\n",
       "base_CircularApertureFlux_17_0_flag: 0\n",
       "base_CircularApertureFlux_17_0_flag_apertureTruncated: 0\n",
       "base_CircularApertureFlux_25_0_instFlux: 9636.98\n",
       "base_CircularApertureFlux_25_0_instFluxErr: 2043.34\n",
       "base_CircularApertureFlux_25_0_flag: 0\n",
       "base_CircularApertureFlux_25_0_flag_apertureTruncated: 0\n",
       "base_CircularApertureFlux_35_0_instFlux: 9699.42\n",
       "base_CircularApertureFlux_35_0_instFluxErr: 2857.06\n",
       "base_CircularApertureFlux_35_0_flag: 0\n",
       "base_CircularApertureFlux_35_0_flag_apertureTruncated: 0\n",
       "base_CircularApertureFlux_50_0_instFlux: 8738.15\n",
       "base_CircularApertureFlux_50_0_instFluxErr: 4076.56\n",
       "base_CircularApertureFlux_50_0_flag: 0\n",
       "base_CircularApertureFlux_50_0_flag_apertureTruncated: 0\n",
       "base_CircularApertureFlux_70_0_instFlux: 7816.1\n",
       "base_CircularApertureFlux_70_0_instFluxErr: 5708.06\n",
       "base_CircularApertureFlux_70_0_flag: 0\n",
       "base_CircularApertureFlux_70_0_flag_apertureTruncated: 0\n",
       "base_ClassificationSizeExtendedness_value: 0.000154672\n",
       "base_ClassificationSizeExtendedness_flag: 0\n",
       "base_CompensatedTophatFlux_12_instFlux: 5334.82\n",
       "base_CompensatedTophatFlux_12_instFluxErr: 1215.35\n",
       "base_CompensatedTophatFlux_12_mask_bits: 28704\n",
       "base_CompensatedTophatFlux_12_flag: 0\n",
       "base_CompensatedTophatFlux_12_flag_bounds: 0\n",
       "base_GaussianFlux_instFlux: 8322.74\n",
       "base_GaussianFlux_instFluxErr: 283.402\n",
       "base_GaussianFlux_flag: 0\n",
       "base_LocalBackground_instFlux: 2.01677\n",
       "base_LocalBackground_instFluxErr: 47.4194\n",
       "base_LocalBackground_flag: 0\n",
       "base_LocalBackground_flag_noGoodPixels: 0\n",
       "base_LocalBackground_flag_noPsf: 0\n",
       "base_PixelFlags_flag: 0\n",
       "base_PixelFlags_flag_offimage: 0\n",
       "base_PixelFlags_flag_edge: 0\n",
       "base_PixelFlags_flag_interpolated: 0\n",
       "base_PixelFlags_flag_saturated: 0\n",
       "base_PixelFlags_flag_cr: 0\n",
       "base_PixelFlags_flag_bad: 0\n",
       "base_PixelFlags_flag_suspect: 0\n",
       "base_PixelFlags_flag_edgeCenter: 0\n",
       "base_PixelFlags_flag_interpolatedCenter: 0\n",
       "base_PixelFlags_flag_saturatedCenter: 0\n",
       "base_PixelFlags_flag_crCenter: 0\n",
       "base_PixelFlags_flag_badCenter: 0\n",
       "base_PixelFlags_flag_suspectCenter: 0\n",
       "base_PixelFlags_flag_edgeCenterAll: 0\n",
       "base_PixelFlags_flag_interpolatedCenterAll: 0\n",
       "base_PixelFlags_flag_saturatedCenterAll: 0\n",
       "base_PixelFlags_flag_crCenterAll: 0\n",
       "base_PixelFlags_flag_badCenterAll: 0\n",
       "base_PixelFlags_flag_suspectCenterAll: 0\n",
       "base_PsfFlux_instFlux: 8910.71\n",
       "base_PsfFlux_instFluxErr: 298.579\n",
       "base_PsfFlux_area: 33.4458\n",
       "base_PsfFlux_chi2: 1842.13\n",
       "base_PsfFlux_npixels: 1681\n",
       "base_PsfFlux_flag: 0\n",
       "base_PsfFlux_flag_noGoodPixels: 0\n",
       "base_PsfFlux_flag_edge: 0\n",
       "base_Variance_flag: 1\n",
       "base_Variance_value: nan\n",
       "base_Variance_flag_emptyFootprint: 1\n",
       "base_InvalidPsf_flag: 0"
      ]
     },
     "execution_count": 18,
     "metadata": {},
     "output_type": "execute_result"
    }
   ],
   "source": [
    "i_dec = np.argmin(np.abs(s[\"coord_dec\"] - dec))\n",
    "s[i_dec]"
   ]
  },
  {
   "cell_type": "code",
   "execution_count": null,
   "id": "48a947ff-589d-4415-a561-d5ddf9d71945",
   "metadata": {},
   "outputs": [],
   "source": []
  }
 ],
 "metadata": {
  "kernelspec": {
   "display_name": "LSST",
   "language": "python",
   "name": "lsst"
  },
  "language_info": {
   "codemirror_mode": {
    "name": "ipython",
    "version": 3
   },
   "file_extension": ".py",
   "mimetype": "text/x-python",
   "name": "python",
   "nbconvert_exporter": "python",
   "pygments_lexer": "ipython3",
   "version": "3.11.9"
  }
 },
 "nbformat": 4,
 "nbformat_minor": 5
}
