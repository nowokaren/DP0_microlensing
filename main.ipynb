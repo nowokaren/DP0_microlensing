{
 "cells": [
  {
   "cell_type": "code",
   "execution_count": 1,
   "id": "859f9477-60a4-4b3d-80db-5787e04e14f6",
   "metadata": {
    "execution": {
     "iopub.execute_input": "2024-11-03T22:10:24.994618Z",
     "iopub.status.busy": "2024-11-03T22:10:24.994447Z",
     "iopub.status.idle": "2024-11-03T22:10:31.315287Z",
     "shell.execute_reply": "2024-11-03T22:10:31.314626Z",
     "shell.execute_reply.started": "2024-11-03T22:10:24.994601Z"
    }
   },
   "outputs": [],
   "source": [
    "from light_curves import LightCurve\n",
    "from exposures import Calexp\n",
    "from task import Run"
   ]
  },
  {
   "cell_type": "code",
   "execution_count": 2,
   "id": "38b45437-df3e-4f1e-af01-f6d185f31813",
   "metadata": {
    "execution": {
     "iopub.execute_input": "2024-11-03T22:10:31.317084Z",
     "iopub.status.busy": "2024-11-03T22:10:31.316304Z",
     "iopub.status.idle": "2024-11-03T22:10:31.321367Z",
     "shell.execute_reply": "2024-11-03T22:10:31.320890Z",
     "shell.execute_reply.started": "2024-11-03T22:10:31.317060Z"
    }
   },
   "outputs": [],
   "source": [
    "process = Run()"
   ]
  },
  {
   "cell_type": "code",
   "execution_count": 3,
   "id": "26e2a747-0359-47e2-bd7b-0e3e0ce00daf",
   "metadata": {
    "execution": {
     "iopub.execute_input": "2024-11-03T22:10:31.322167Z",
     "iopub.status.busy": "2024-11-03T22:10:31.321978Z",
     "iopub.status.idle": "2024-11-03T22:10:35.999258Z",
     "shell.execute_reply": "2024-11-03T22:10:35.998594Z",
     "shell.execute_reply.started": "2024-11-03T22:10:31.322151Z"
    }
   },
   "outputs": [
    {
     "name": "stdout",
     "output_type": "stream",
     "text": [
      "(ra,dec) = (56.25334802209018, -40.0733556764073)/nHTM_ID = 9663691577133 - HTM_level=20 (bounded by a circle of radius ~0.26 arcsec.)\n",
      "                    Found 140 calexps\n"
     ]
    },
    {
     "name": "stderr",
     "output_type": "stream",
     "text": [
      "/home/karennowo/DP0_microlensing/light_curves.py:110: FutureWarning: The behavior of DataFrame concatenation with empty or all-NA entries is deprecated. In a future version, this will no longer exclude empty or all-NA columns when determining the result dtypes. To retain the old behavior, exclude the relevant entries before the concat operation.\n",
      "  self.data = pd.concat([self.data, new_data], ignore_index=True)\n"
     ]
    },
    {
     "data": {
      "text/plain": [
       "[LightCurve (56.25334802209018, -40.0733556764073) - Band i - Points: 140,\n",
       " LightCurve (56.229963912332266, -39.94773939109021) - Band i - Points: 140]"
      ]
     },
     "execution_count": 3,
     "metadata": {},
     "output_type": "execute_result"
    }
   ],
   "source": [
    "params = [{\"t_0\": 60700.5, \"t_E\": 30, \"u_0\": 0.5, \"m_base\": 19.5},\n",
    "          {\"t_0\": 61000.5, \"t_E\": 4, \"u_0\": 0.5, \"m_base\": 22.5}]\n",
    "for p in params:\n",
    "    process.add_lc(p, dist=0.2)\n",
    "process.log_task(\"Add and simulate light curves\")\n",
    "process.inj_lc"
   ]
  },
  {
   "cell_type": "code",
   "execution_count": 4,
   "id": "873c6617-fb50-405f-9885-6524755d6336",
   "metadata": {
    "execution": {
     "iopub.execute_input": "2024-11-03T22:10:36.000322Z",
     "iopub.status.busy": "2024-11-03T22:10:36.000086Z",
     "iopub.status.idle": "2024-11-03T22:10:43.825281Z",
     "shell.execute_reply": "2024-11-03T22:10:43.824301Z",
     "shell.execute_reply.started": "2024-11-03T22:10:36.000303Z"
    }
   },
   "outputs": [
    {
     "name": "stdout",
     "output_type": "stream",
     "text": [
      "Points injected: 1\n"
     ]
    },
    {
     "data": {
      "text/html": [
       "<pre style=\"margin: 0.1em;\n",
       "padding-left: 0.25em;\n",
       "border-left-style: solid;\n",
       "font-family: var(--jp-code-font-family);\n",
       "font-size: var(--jp-code-font-size);\n",
       "line-height: var(--jp-code-line-height);\n",
       "\"><span style=\"color: var(--jp-warn-color2)\">lsst.visitInjectTask</span> <span style=\"color: var(--jp-info-color0)\">INFO</span>: Retrieved 1 injection source from 1 HTM trixel.</pre>"
      ],
      "text/plain": [
       "<IPython.core.display.HTML object>"
      ]
     },
     "metadata": {},
     "output_type": "display_data"
    },
    {
     "data": {
      "text/html": [
       "<pre style=\"margin: 0.1em;\n",
       "padding-left: 0.25em;\n",
       "border-left-style: solid;\n",
       "font-family: var(--jp-code-font-family);\n",
       "font-size: var(--jp-code-font-size);\n",
       "line-height: var(--jp-code-line-height);\n",
       "\"><span style=\"color: var(--jp-warn-color2)\">lsst.visitInjectTask</span> <span style=\"color: var(--jp-info-color0)\">INFO</span>: Catalog cleaning removed 0 of 1 source; 1 remaining for catalog checking.</pre>"
      ],
      "text/plain": [
       "<IPython.core.display.HTML object>"
      ]
     },
     "metadata": {},
     "output_type": "display_data"
    },
    {
     "data": {
      "text/html": [
       "<pre style=\"margin: 0.1em;\n",
       "padding-left: 0.25em;\n",
       "border-left-style: solid;\n",
       "font-family: var(--jp-code-font-family);\n",
       "font-size: var(--jp-code-font-size);\n",
       "line-height: var(--jp-code-line-height);\n",
       "\"><span style=\"color: var(--jp-warn-color2)\">lsst.visitInjectTask</span> <span style=\"color: var(--jp-info-color0)\">INFO</span>: Catalog checking flagged 0 of 1 source; 1 remaining for source generation.</pre>"
      ],
      "text/plain": [
       "<IPython.core.display.HTML object>"
      ]
     },
     "metadata": {},
     "output_type": "display_data"
    },
    {
     "data": {
      "text/html": [
       "<pre style=\"margin: 0.1em;\n",
       "padding-left: 0.25em;\n",
       "border-left-style: solid;\n",
       "font-family: var(--jp-code-font-family);\n",
       "font-size: var(--jp-code-font-size);\n",
       "line-height: var(--jp-code-line-height);\n",
       "\"><span style=\"color: var(--jp-warn-color2)\">lsst.visitInjectTask</span> <span style=\"color: var(--jp-info-color0)\">INFO</span>: Adding INJECTED and INJECTED_CORE mask planes to the exposure.</pre>"
      ],
      "text/plain": [
       "<IPython.core.display.HTML object>"
      ]
     },
     "metadata": {},
     "output_type": "display_data"
    },
    {
     "data": {
      "text/html": [
       "<pre style=\"margin: 0.1em;\n",
       "padding-left: 0.25em;\n",
       "border-left-style: solid;\n",
       "font-family: var(--jp-code-font-family);\n",
       "font-size: var(--jp-code-font-size);\n",
       "line-height: var(--jp-code-line-height);\n",
       "\"><span style=\"color: var(--jp-warn-color2)\">lsst.visitInjectTask</span> <span style=\"color: var(--jp-info-color0)\">INFO</span>: Generating 1 injection source consisting of 1 unique type: DeltaFunction(1).</pre>"
      ],
      "text/plain": [
       "<IPython.core.display.HTML object>"
      ]
     },
     "metadata": {},
     "output_type": "display_data"
    },
    {
     "data": {
      "text/html": [
       "<pre style=\"margin: 0.1em;\n",
       "padding-left: 0.25em;\n",
       "border-left-style: solid;\n",
       "font-family: var(--jp-code-font-family);\n",
       "font-size: var(--jp-code-font-size);\n",
       "line-height: var(--jp-code-line-height);\n",
       "\"><span style=\"color: var(--jp-warn-color2)\">lsst.visitInjectTask</span> <span style=\"color: var(--jp-info-color0)\">INFO</span>: Injected 1 of 1 potential source. 0 sources flagged and skipped.</pre>"
      ],
      "text/plain": [
       "<IPython.core.display.HTML object>"
      ]
     },
     "metadata": {},
     "output_type": "display_data"
    },
    {
     "name": "stdout",
     "output_type": "stream",
     "text": [
      "injection_id injection_flag ...    exp_midpoint           mag        \n",
      "------------ -------------- ... ------------------ ------------------\n",
      "           0              0 ... 59837.381965221066 19.499996847885264\n",
      "<class 'astropy.table.table.Table'>\n"
     ]
    },
    {
     "data": {
      "text/html": [
       "<pre style=\"margin: 0.1em;\n",
       "padding-left: 0.25em;\n",
       "border-left-style: solid;\n",
       "font-family: var(--jp-code-font-family);\n",
       "font-size: var(--jp-code-font-size);\n",
       "line-height: var(--jp-code-line-height);\n",
       "\"><span style=\"color: var(--jp-warn-color2)\">lsst.sourceDetection</span> <span style=\"color: var(--jp-info-color0)\">INFO</span>: Setting factor for negative detections equal to that for positive detections: 1.000000</pre>"
      ],
      "text/plain": [
       "<IPython.core.display.HTML object>"
      ]
     },
     "metadata": {},
     "output_type": "display_data"
    },
    {
     "data": {
      "text/html": [
       "<pre style=\"margin: 0.1em;\n",
       "padding-left: 0.25em;\n",
       "border-left-style: solid;\n",
       "font-family: var(--jp-code-font-family);\n",
       "font-size: var(--jp-code-font-size);\n",
       "line-height: var(--jp-code-line-height);\n",
       "\"><span style=\"color: var(--jp-warn-color2)\">lsst.sourceDetection</span> <span style=\"color: var(--jp-info-color0)\">INFO</span>: Detected 2030 positive peaks in 1819 footprints and 10 negative peaks in 10 footprints to 5 +ve and 5 -ve sigma</pre>"
      ],
      "text/plain": [
       "<IPython.core.display.HTML object>"
      ]
     },
     "metadata": {},
     "output_type": "display_data"
    },
    {
     "data": {
      "text/html": [
       "<pre style=\"margin: 0.1em;\n",
       "padding-left: 0.25em;\n",
       "border-left-style: solid;\n",
       "font-family: var(--jp-code-font-family);\n",
       "font-size: var(--jp-code-font-size);\n",
       "line-height: var(--jp-code-line-height);\n",
       "\"><span style=\"color: var(--jp-warn-color2)\">lsst.sourceDetection</span> <span style=\"color: var(--jp-info-color0)\">INFO</span>: Resubtracting the background after object detection</pre>"
      ],
      "text/plain": [
       "<IPython.core.display.HTML object>"
      ]
     },
     "metadata": {},
     "output_type": "display_data"
    },
    {
     "ename": "AssertionError",
     "evalue": "",
     "output_type": "error",
     "traceback": [
      "\u001b[0;31m---------------------------------------------------------------------------\u001b[0m",
      "\u001b[0;31mAssertionError\u001b[0m                            Traceback (most recent call last)",
      "Cell \u001b[0;32mIn[4], line 7\u001b[0m\n\u001b[1;32m      5\u001b[0m calexp \u001b[38;5;241m=\u001b[39m Calexp(dataId)\n\u001b[1;32m      6\u001b[0m injected_exposure \u001b[38;5;241m=\u001b[39m process\u001b[38;5;241m.\u001b[39minj_calexp(calexp)\n\u001b[0;32m----> 7\u001b[0m \u001b[43mprocess\u001b[49m\u001b[38;5;241;43m.\u001b[39;49m\u001b[43mdetect_measure_calexp\u001b[49m\u001b[43m(\u001b[49m\u001b[43minjected_exposure\u001b[49m\u001b[43m)\u001b[49m\n",
      "File \u001b[0;32m~/DP0_microlensing/task.py:137\u001b[0m, in \u001b[0;36mRun.detect_measure_calexp\u001b[0;34m(self, exposure)\u001b[0m\n\u001b[1;32m    135\u001b[0m \u001b[38;5;28;01mdef\u001b[39;00m \u001b[38;5;21mdetect_measure_calexp\u001b[39m(\u001b[38;5;28mself\u001b[39m, exposure):\n\u001b[1;32m    136\u001b[0m     detect_result \u001b[38;5;241m=\u001b[39m \u001b[38;5;28mself\u001b[39m\u001b[38;5;241m.\u001b[39mtasks[\u001b[38;5;124m\"\u001b[39m\u001b[38;5;124mDetection\u001b[39m\u001b[38;5;124m\"\u001b[39m]\u001b[38;5;241m.\u001b[39mrun(\u001b[38;5;28mself\u001b[39m\u001b[38;5;241m.\u001b[39mtab, exposure)\n\u001b[0;32m--> 137\u001b[0m     \u001b[38;5;28;43mself\u001b[39;49m\u001b[38;5;241;43m.\u001b[39;49m\u001b[43mtasks\u001b[49m\u001b[43m[\u001b[49m\u001b[38;5;124;43m\"\u001b[39;49m\u001b[38;5;124;43mMeasurement\u001b[39;49m\u001b[38;5;124;43m\"\u001b[39;49m\u001b[43m]\u001b[49m\u001b[38;5;241;43m.\u001b[39;49m\u001b[43mrun\u001b[49m\u001b[43m(\u001b[49m\u001b[43mmeasCat\u001b[49m\u001b[38;5;241;43m=\u001b[39;49m\u001b[43mdetect_result\u001b[49m\u001b[38;5;241;43m.\u001b[39;49m\u001b[43msources\u001b[49m\u001b[43m,\u001b[49m\u001b[43m \u001b[49m\u001b[43mexposure\u001b[49m\u001b[38;5;241;43m=\u001b[39;49m\u001b[43mexposure\u001b[49m\u001b[43m)\u001b[49m\n",
      "File \u001b[0;32m/opt/lsst/software/stack/conda/envs/lsst-scipipe-9.0.0/share/eups/Linux64/utils/gd9002e5406+34a971ddd9/python/lsst/utils/timer.py:300\u001b[0m, in \u001b[0;36mtimeMethod.<locals>.decorator_timer.<locals>.timeMethod_wrapper\u001b[0;34m(self, *args, **keyArgs)\u001b[0m\n\u001b[1;32m    291\u001b[0m logInfo(\n\u001b[1;32m    292\u001b[0m     obj\u001b[38;5;241m=\u001b[39m\u001b[38;5;28mself\u001b[39m,\n\u001b[1;32m    293\u001b[0m     prefix\u001b[38;5;241m=\u001b[39mfunc\u001b[38;5;241m.\u001b[39m\u001b[38;5;18m__name__\u001b[39m \u001b[38;5;241m+\u001b[39m \u001b[38;5;124m\"\u001b[39m\u001b[38;5;124mStart\u001b[39m\u001b[38;5;124m\"\u001b[39m,\n\u001b[0;32m   (...)\u001b[0m\n\u001b[1;32m    297\u001b[0m     stacklevel\u001b[38;5;241m=\u001b[39mstacklevel,\n\u001b[1;32m    298\u001b[0m )\n\u001b[1;32m    299\u001b[0m \u001b[38;5;28;01mtry\u001b[39;00m:\n\u001b[0;32m--> 300\u001b[0m     res \u001b[38;5;241m=\u001b[39m \u001b[43mfunc\u001b[49m\u001b[43m(\u001b[49m\u001b[38;5;28;43mself\u001b[39;49m\u001b[43m,\u001b[49m\u001b[43m \u001b[49m\u001b[38;5;241;43m*\u001b[39;49m\u001b[43margs\u001b[49m\u001b[43m,\u001b[49m\u001b[43m \u001b[49m\u001b[38;5;241;43m*\u001b[39;49m\u001b[38;5;241;43m*\u001b[39;49m\u001b[43mkeyArgs\u001b[49m\u001b[43m)\u001b[49m\n\u001b[1;32m    301\u001b[0m \u001b[38;5;28;01mfinally\u001b[39;00m:\n\u001b[1;32m    302\u001b[0m     logInfo(\n\u001b[1;32m    303\u001b[0m         obj\u001b[38;5;241m=\u001b[39m\u001b[38;5;28mself\u001b[39m,\n\u001b[1;32m    304\u001b[0m         prefix\u001b[38;5;241m=\u001b[39mfunc\u001b[38;5;241m.\u001b[39m\u001b[38;5;18m__name__\u001b[39m \u001b[38;5;241m+\u001b[39m \u001b[38;5;124m\"\u001b[39m\u001b[38;5;124mEnd\u001b[39m\u001b[38;5;124m\"\u001b[39m,\n\u001b[0;32m   (...)\u001b[0m\n\u001b[1;32m    308\u001b[0m         stacklevel\u001b[38;5;241m=\u001b[39mstacklevel,\n\u001b[1;32m    309\u001b[0m     )\n",
      "File \u001b[0;32m/opt/lsst/software/stack/conda/envs/lsst-scipipe-9.0.0/share/eups/Linux64/meas_base/g5a97de2502+f00ed83ec6/python/lsst/meas/base/sfm.py:249\u001b[0m, in \u001b[0;36mSingleFrameMeasurementTask.run\u001b[0;34m(self, measCat, exposure, noiseImage, exposureId, beginOrder, endOrder, footprints)\u001b[0m\n\u001b[1;32m    208\u001b[0m \u001b[38;5;129m@timeMethod\u001b[39m\n\u001b[1;32m    209\u001b[0m \u001b[38;5;28;01mdef\u001b[39;00m \u001b[38;5;21mrun\u001b[39m(\n\u001b[1;32m    210\u001b[0m     \u001b[38;5;28mself\u001b[39m,\n\u001b[0;32m   (...)\u001b[0m\n\u001b[1;32m    217\u001b[0m     footprints\u001b[38;5;241m=\u001b[39m\u001b[38;5;28;01mNone\u001b[39;00m,\n\u001b[1;32m    218\u001b[0m ):\n\u001b[1;32m    219\u001b[0m \u001b[38;5;250m    \u001b[39m\u001b[38;5;124mr\u001b[39m\u001b[38;5;124;03m\"\"\"Run single frame measurement over an exposure and source catalog.\u001b[39;00m\n\u001b[1;32m    220\u001b[0m \n\u001b[1;32m    221\u001b[0m \u001b[38;5;124;03m    Parameters\u001b[39;00m\n\u001b[0;32m   (...)\u001b[0m\n\u001b[1;32m    247\u001b[0m \u001b[38;5;124;03m        supplied then the footprints from the measCat are used.\u001b[39;00m\n\u001b[1;32m    248\u001b[0m \u001b[38;5;124;03m    \"\"\"\u001b[39;00m\n\u001b[0;32m--> 249\u001b[0m     \u001b[38;5;28;01massert\u001b[39;00m measCat\u001b[38;5;241m.\u001b[39mgetSchema()\u001b[38;5;241m.\u001b[39mcontains(\u001b[38;5;28mself\u001b[39m\u001b[38;5;241m.\u001b[39mschema)\n\u001b[1;32m    250\u001b[0m     \u001b[38;5;28;01mif\u001b[39;00m footprints \u001b[38;5;129;01mis\u001b[39;00m \u001b[38;5;28;01mNone\u001b[39;00m:\n\u001b[1;32m    251\u001b[0m         footprints \u001b[38;5;241m=\u001b[39m \u001b[38;5;28mself\u001b[39m\u001b[38;5;241m.\u001b[39mgetFootprintsFromCatalog(measCat)\n",
      "\u001b[0;31mAssertionError\u001b[0m: "
     ]
    }
   ],
   "source": [
    "process.inject_task()\n",
    "process.detection_task()\n",
    "process.measure_task()\n",
    "for dataId in process.calexp_dataIds[:10]:\n",
    "    calexp = Calexp(dataId)\n",
    "    injected_exposure = process.inj_calexp(calexp)\n",
    "    process.detect_measure_calexp(injected_exposure)"
   ]
  },
  {
   "cell_type": "code",
   "execution_count": 5,
   "id": "fe7ac122-e38a-4149-84a6-e9edeff71e7a",
   "metadata": {
    "execution": {
     "iopub.execute_input": "2024-11-03T22:12:35.773048Z",
     "iopub.status.busy": "2024-11-03T22:12:35.772482Z",
     "iopub.status.idle": "2024-11-03T22:12:35.777826Z",
     "shell.execute_reply": "2024-11-03T22:12:35.777307Z",
     "shell.execute_reply.started": "2024-11-03T22:12:35.773023Z"
    }
   },
   "outputs": [
    {
     "data": {
      "text/plain": [
       "Schema(\n",
       "    (Field['L'](name=\"id\", doc=\"unique ID\"), Key<L>(offset=0, nElements=1)),\n",
       "    (Field['Angle'](name=\"coord_ra\", doc=\"position in ra/dec\"), Key<Angle>(offset=8, nElements=1)),\n",
       "    (Field['Angle'](name=\"coord_dec\", doc=\"position in ra/dec\"), Key<Angle>(offset=16, nElements=1)),\n",
       "    (Field['L'](name=\"parent\", doc=\"unique ID of parent source\"), Key<L>(offset=24, nElements=1)),\n",
       "    (Field['F'](name=\"coord_raErr\", doc=\"Error in RA coordinate\"), Key<F>(offset=32, nElements=1)),\n",
       "    (Field['F'](name=\"coord_decErr\", doc=\"Error in Dec coordinate\"), Key<F>(offset=36, nElements=1)),\n",
       "    (Field['D'](name=\"base_SdssCentroid_x\", doc=\"centroid from Sdss Centroid algorithm\", units=\"pixel\"), Key<D>(offset=40, nElements=1)),\n",
       "    (Field['D'](name=\"base_SdssCentroid_y\", doc=\"centroid from Sdss Centroid algorithm\", units=\"pixel\"), Key<D>(offset=48, nElements=1)),\n",
       "    (Field['F'](name=\"base_SdssCentroid_xErr\", doc=\"1-sigma uncertainty on x position\", units=\"pixel\"), Key<F>(offset=56, nElements=1)),\n",
       "    (Field['F'](name=\"base_SdssCentroid_yErr\", doc=\"1-sigma uncertainty on y position\", units=\"pixel\"), Key<F>(offset=60, nElements=1)),\n",
       "    (Field['Flag'](name=\"base_SdssCentroid_flag\", doc=\"General Failure Flag\"), Key['Flag'](offset=64, bit=0)),\n",
       "    (Field['Flag'](name=\"base_SdssCentroid_flag_edge\", doc=\"Object too close to edge; peak used.\"), Key['Flag'](offset=64, bit=1)),\n",
       "    (Field['Flag'](name=\"base_SdssCentroid_flag_noSecondDerivative\", doc=\"Vanishing second derivative\"), Key['Flag'](offset=64, bit=2)),\n",
       "    (Field['Flag'](name=\"base_SdssCentroid_flag_almostNoSecondDerivative\", doc=\"Almost vanishing second derivative\"), Key['Flag'](offset=64, bit=3)),\n",
       "    (Field['Flag'](name=\"base_SdssCentroid_flag_notAtMaximum\", doc=\"Object is not at a maximum\"), Key['Flag'](offset=64, bit=4)),\n",
       "    (Field['Flag'](name=\"base_SdssCentroid_flag_near_edge\", doc=\"Object close to edge; fallback kernel used.\"), Key['Flag'](offset=64, bit=5)),\n",
       "    (Field['Flag'](name=\"base_SdssCentroid_flag_resetToPeak\", doc=\"set if CentroidChecker reset the centroid\"), Key['Flag'](offset=64, bit=6)),\n",
       "    (Field['Flag'](name=\"base_SdssCentroid_flag_badError\", doc=\"Error on x and/or y position is NaN\"), Key['Flag'](offset=64, bit=7)),\n",
       "    (Field['D'](name=\"base_Blendedness_old\", doc=\"Blendedness from dot products: (child.dot(parent)/child.dot(child) - 1)\"), Key<D>(offset=72, nElements=1)),\n",
       "    (Field['D'](name=\"base_Blendedness_raw\", doc=\"Measure of how much the flux is affected by neighbors: (1 - child_instFlux/parent_instFlux).  Operates on the \"raw\" pixel values.\"), Key<D>(offset=80, nElements=1)),\n",
       "    (Field['D'](name=\"base_Blendedness_raw_child_instFlux\", doc=\"Instrumental flux of the child, measured with a Gaussian weight matched to the child.  Operates on the \"raw\" pixel values.\", units=\"count\"), Key<D>(offset=88, nElements=1)),\n",
       "    (Field['D'](name=\"base_Blendedness_raw_parent_instFlux\", doc=\"Instrumental flux of the parent, measured with a Gaussian weight matched to the child.  Operates on the \"raw\" pixel values.\", units=\"count\"), Key<D>(offset=96, nElements=1)),\n",
       "    (Field['D'](name=\"base_Blendedness_abs\", doc=\"Measure of how much the flux is affected by neighbors: (1 - child_instFlux/parent_instFlux).  Operates on the absolute value of the pixels to try to obtain a \"de-noised\" value.  See section 4.9.11 of Bosch et al. 2018, PASJ, 70, S5 for details.\"), Key<D>(offset=104, nElements=1)),\n",
       "    (Field['D'](name=\"base_Blendedness_abs_child_instFlux\", doc=\"Instrumental flux of the child, measured with a Gaussian weight matched to the child.  Operates on the absolute value of the pixels to try to obtain a \"de-noised\" value.  See section 4.9.11 of Bosch et al. 2018, PASJ, 70, S5 for details.\", units=\"count\"), Key<D>(offset=112, nElements=1)),\n",
       "    (Field['D'](name=\"base_Blendedness_abs_parent_instFlux\", doc=\"Instrumental flux of the parent, measured with a Gaussian weight matched to the child.  Operates on the absolute value of the pixels to try to obtain a \"de-noised\" value.  See section 4.9.11 of Bosch et al. 2018, PASJ, 70, S5 for details.\", units=\"count\"), Key<D>(offset=120, nElements=1)),\n",
       "    (Field['D'](name=\"base_Blendedness_raw_child_xx\", doc=\"Shape of the child, measured with a Gaussian weight matched to the child.  Operates on the \"raw\" pixel values.\", units=\"pixel^2\"), Key<D>(offset=128, nElements=1)),\n",
       "    (Field['D'](name=\"base_Blendedness_raw_child_yy\", doc=\"Shape of the child, measured with a Gaussian weight matched to the child.  Operates on the \"raw\" pixel values.\", units=\"pixel^2\"), Key<D>(offset=136, nElements=1)),\n",
       "    (Field['D'](name=\"base_Blendedness_raw_child_xy\", doc=\"Shape of the child, measured with a Gaussian weight matched to the child.  Operates on the \"raw\" pixel values.\", units=\"pixel^2\"), Key<D>(offset=144, nElements=1)),\n",
       "    (Field['D'](name=\"base_Blendedness_raw_parent_xx\", doc=\"Shape of the parent, measured with a Gaussian weight matched to the child.  Operates on the \"raw\" pixel values.\", units=\"pixel^2\"), Key<D>(offset=152, nElements=1)),\n",
       "    (Field['D'](name=\"base_Blendedness_raw_parent_yy\", doc=\"Shape of the parent, measured with a Gaussian weight matched to the child.  Operates on the \"raw\" pixel values.\", units=\"pixel^2\"), Key<D>(offset=160, nElements=1)),\n",
       "    (Field['D'](name=\"base_Blendedness_raw_parent_xy\", doc=\"Shape of the parent, measured with a Gaussian weight matched to the child.  Operates on the \"raw\" pixel values.\", units=\"pixel^2\"), Key<D>(offset=168, nElements=1)),\n",
       "    (Field['D'](name=\"base_Blendedness_abs_child_xx\", doc=\"Shape of the child, measured with a Gaussian weight matched to the child.  Operates on the absolute value of the pixels to try to obtain a \"de-noised\" value.  See section 4.9.11 of Bosch et al. 2018, PASJ, 70, S5 for details.\", units=\"pixel^2\"), Key<D>(offset=176, nElements=1)),\n",
       "    (Field['D'](name=\"base_Blendedness_abs_child_yy\", doc=\"Shape of the child, measured with a Gaussian weight matched to the child.  Operates on the absolute value of the pixels to try to obtain a \"de-noised\" value.  See section 4.9.11 of Bosch et al. 2018, PASJ, 70, S5 for details.\", units=\"pixel^2\"), Key<D>(offset=184, nElements=1)),\n",
       "    (Field['D'](name=\"base_Blendedness_abs_child_xy\", doc=\"Shape of the child, measured with a Gaussian weight matched to the child.  Operates on the absolute value of the pixels to try to obtain a \"de-noised\" value.  See section 4.9.11 of Bosch et al. 2018, PASJ, 70, S5 for details.\", units=\"pixel^2\"), Key<D>(offset=192, nElements=1)),\n",
       "    (Field['D'](name=\"base_Blendedness_abs_parent_xx\", doc=\"Shape of the parent, measured with a Gaussian weight matched to the child.  Operates on the absolute value of the pixels to try to obtain a \"de-noised\" value.  See section 4.9.11 of Bosch et al. 2018, PASJ, 70, S5 for details.\", units=\"pixel^2\"), Key<D>(offset=200, nElements=1)),\n",
       "    (Field['D'](name=\"base_Blendedness_abs_parent_yy\", doc=\"Shape of the parent, measured with a Gaussian weight matched to the child.  Operates on the absolute value of the pixels to try to obtain a \"de-noised\" value.  See section 4.9.11 of Bosch et al. 2018, PASJ, 70, S5 for details.\", units=\"pixel^2\"), Key<D>(offset=208, nElements=1)),\n",
       "    (Field['D'](name=\"base_Blendedness_abs_parent_xy\", doc=\"Shape of the parent, measured with a Gaussian weight matched to the child.  Operates on the absolute value of the pixels to try to obtain a \"de-noised\" value.  See section 4.9.11 of Bosch et al. 2018, PASJ, 70, S5 for details.\", units=\"pixel^2\"), Key<D>(offset=216, nElements=1)),\n",
       "    (Field['Flag'](name=\"base_Blendedness_flag\", doc=\"General Failure Flag\"), Key['Flag'](offset=64, bit=8)),\n",
       "    (Field['Flag'](name=\"base_Blendedness_flag_noCentroid\", doc=\"Object has no centroid\"), Key['Flag'](offset=64, bit=9)),\n",
       "    (Field['Flag'](name=\"base_Blendedness_flag_noShape\", doc=\"Object has no shape\"), Key['Flag'](offset=64, bit=10)),\n",
       "    (Field['D'](name=\"base_SdssShape_xx\", doc=\"elliptical Gaussian adaptive moments\", units=\"pixel^2\"), Key<D>(offset=224, nElements=1)),\n",
       "    (Field['D'](name=\"base_SdssShape_yy\", doc=\"elliptical Gaussian adaptive moments\", units=\"pixel^2\"), Key<D>(offset=232, nElements=1)),\n",
       "    (Field['D'](name=\"base_SdssShape_xy\", doc=\"elliptical Gaussian adaptive moments\", units=\"pixel^2\"), Key<D>(offset=240, nElements=1)),\n",
       "    (Field['F'](name=\"base_SdssShape_xxErr\", doc=\"Standard deviation of xx moment\", units=\"pixel^2\"), Key<F>(offset=248, nElements=1)),\n",
       "    (Field['F'](name=\"base_SdssShape_yyErr\", doc=\"Standard deviation of yy moment\", units=\"pixel^2\"), Key<F>(offset=252, nElements=1)),\n",
       "    (Field['F'](name=\"base_SdssShape_xyErr\", doc=\"Standard deviation of xy moment\", units=\"pixel^2\"), Key<F>(offset=256, nElements=1)),\n",
       "    (Field['D'](name=\"base_SdssShape_x\", doc=\"elliptical Gaussian adaptive moments\", units=\"pixel\"), Key<D>(offset=264, nElements=1)),\n",
       "    (Field['D'](name=\"base_SdssShape_y\", doc=\"elliptical Gaussian adaptive moments\", units=\"pixel\"), Key<D>(offset=272, nElements=1)),\n",
       "    (Field['D'](name=\"base_SdssShape_instFlux\", doc=\"elliptical Gaussian adaptive moments\", units=\"count\"), Key<D>(offset=280, nElements=1)),\n",
       "    (Field['D'](name=\"base_SdssShape_instFluxErr\", doc=\"1-sigma instFlux uncertainty\", units=\"count\"), Key<D>(offset=288, nElements=1)),\n",
       "    (Field['D'](name=\"base_SdssShape_psf_xx\", doc=\"adaptive moments of the PSF model at the object position\", units=\"pixel^2\"), Key<D>(offset=296, nElements=1)),\n",
       "    (Field['D'](name=\"base_SdssShape_psf_yy\", doc=\"adaptive moments of the PSF model at the object position\", units=\"pixel^2\"), Key<D>(offset=304, nElements=1)),\n",
       "    (Field['D'](name=\"base_SdssShape_psf_xy\", doc=\"adaptive moments of the PSF model at the object position\", units=\"pixel^2\"), Key<D>(offset=312, nElements=1)),\n",
       "    (Field['F'](name=\"base_SdssShape_instFlux_xx_Cov\", doc=\"uncertainty covariance between base_SdssShape_instFlux and base_SdssShape_xx\", units=\"count*pixel^2\"), Key<F>(offset=320, nElements=1)),\n",
       "    (Field['F'](name=\"base_SdssShape_instFlux_yy_Cov\", doc=\"uncertainty covariance between base_SdssShape_instFlux and base_SdssShape_yy\", units=\"count*pixel^2\"), Key<F>(offset=324, nElements=1)),\n",
       "    (Field['F'](name=\"base_SdssShape_instFlux_xy_Cov\", doc=\"uncertainty covariance between base_SdssShape_instFlux and base_SdssShape_xy\", units=\"count*pixel^2\"), Key<F>(offset=328, nElements=1)),\n",
       "    (Field['Flag'](name=\"base_SdssShape_flag\", doc=\"General Failure Flag\"), Key['Flag'](offset=64, bit=11)),\n",
       "    (Field['Flag'](name=\"base_SdssShape_flag_unweightedBad\", doc=\"Both weighted and unweighted moments were invalid\"), Key['Flag'](offset=64, bit=12)),\n",
       "    (Field['Flag'](name=\"base_SdssShape_flag_unweighted\", doc=\"Weighted moments converged to an invalid value; using unweighted moments\"), Key['Flag'](offset=64, bit=13)),\n",
       "    (Field['Flag'](name=\"base_SdssShape_flag_shift\", doc=\"centroid shifted by more than the maximum allowed amount\"), Key['Flag'](offset=64, bit=14)),\n",
       "    (Field['Flag'](name=\"base_SdssShape_flag_maxIter\", doc=\"Too many iterations in adaptive moments\"), Key['Flag'](offset=64, bit=15)),\n",
       "    (Field['Flag'](name=\"base_SdssShape_flag_psf\", doc=\"Failure in measuring PSF model shape\"), Key['Flag'](offset=64, bit=16)),\n",
       "    (Field['D'](name=\"base_CircularApertureFlux_3_0_instFlux\", doc=\"instFlux within 3.000000-pixel aperture\", units=\"count\"), Key<D>(offset=336, nElements=1)),\n",
       "    (Field['D'](name=\"base_CircularApertureFlux_3_0_instFluxErr\", doc=\"1-sigma instFlux uncertainty\", units=\"count\"), Key<D>(offset=344, nElements=1)),\n",
       "    (Field['Flag'](name=\"base_CircularApertureFlux_3_0_flag\", doc=\"General Failure Flag\"), Key['Flag'](offset=64, bit=17)),\n",
       "    (Field['Flag'](name=\"base_CircularApertureFlux_3_0_flag_apertureTruncated\", doc=\"aperture did not fit within measurement image\"), Key['Flag'](offset=64, bit=18)),\n",
       "    (Field['Flag'](name=\"base_CircularApertureFlux_3_0_flag_sincCoeffsTruncated\", doc=\"full sinc coefficient image did not fit within measurement image\"), Key['Flag'](offset=64, bit=19)),\n",
       "    (Field['D'](name=\"base_CircularApertureFlux_4_5_instFlux\", doc=\"instFlux within 4.500000-pixel aperture\", units=\"count\"), Key<D>(offset=352, nElements=1)),\n",
       "    (Field['D'](name=\"base_CircularApertureFlux_4_5_instFluxErr\", doc=\"1-sigma instFlux uncertainty\", units=\"count\"), Key<D>(offset=360, nElements=1)),\n",
       "    (Field['Flag'](name=\"base_CircularApertureFlux_4_5_flag\", doc=\"General Failure Flag\"), Key['Flag'](offset=64, bit=20)),\n",
       "    (Field['Flag'](name=\"base_CircularApertureFlux_4_5_flag_apertureTruncated\", doc=\"aperture did not fit within measurement image\"), Key['Flag'](offset=64, bit=21)),\n",
       "    (Field['Flag'](name=\"base_CircularApertureFlux_4_5_flag_sincCoeffsTruncated\", doc=\"full sinc coefficient image did not fit within measurement image\"), Key['Flag'](offset=64, bit=22)),\n",
       "    (Field['D'](name=\"base_CircularApertureFlux_6_0_instFlux\", doc=\"instFlux within 6.000000-pixel aperture\", units=\"count\"), Key<D>(offset=368, nElements=1)),\n",
       "    (Field['D'](name=\"base_CircularApertureFlux_6_0_instFluxErr\", doc=\"1-sigma instFlux uncertainty\", units=\"count\"), Key<D>(offset=376, nElements=1)),\n",
       "    (Field['Flag'](name=\"base_CircularApertureFlux_6_0_flag\", doc=\"General Failure Flag\"), Key['Flag'](offset=64, bit=23)),\n",
       "    (Field['Flag'](name=\"base_CircularApertureFlux_6_0_flag_apertureTruncated\", doc=\"aperture did not fit within measurement image\"), Key['Flag'](offset=64, bit=24)),\n",
       "    (Field['Flag'](name=\"base_CircularApertureFlux_6_0_flag_sincCoeffsTruncated\", doc=\"full sinc coefficient image did not fit within measurement image\"), Key['Flag'](offset=64, bit=25)),\n",
       "    (Field['D'](name=\"base_CircularApertureFlux_9_0_instFlux\", doc=\"instFlux within 9.000000-pixel aperture\", units=\"count\"), Key<D>(offset=384, nElements=1)),\n",
       "    (Field['D'](name=\"base_CircularApertureFlux_9_0_instFluxErr\", doc=\"1-sigma instFlux uncertainty\", units=\"count\"), Key<D>(offset=392, nElements=1)),\n",
       "    (Field['Flag'](name=\"base_CircularApertureFlux_9_0_flag\", doc=\"General Failure Flag\"), Key['Flag'](offset=64, bit=26)),\n",
       "    (Field['Flag'](name=\"base_CircularApertureFlux_9_0_flag_apertureTruncated\", doc=\"aperture did not fit within measurement image\"), Key['Flag'](offset=64, bit=27)),\n",
       "    (Field['Flag'](name=\"base_CircularApertureFlux_9_0_flag_sincCoeffsTruncated\", doc=\"full sinc coefficient image did not fit within measurement image\"), Key['Flag'](offset=64, bit=28)),\n",
       "    (Field['D'](name=\"base_CircularApertureFlux_12_0_instFlux\", doc=\"instFlux within 12.000000-pixel aperture\", units=\"count\"), Key<D>(offset=400, nElements=1)),\n",
       "    (Field['D'](name=\"base_CircularApertureFlux_12_0_instFluxErr\", doc=\"1-sigma instFlux uncertainty\", units=\"count\"), Key<D>(offset=408, nElements=1)),\n",
       "    (Field['Flag'](name=\"base_CircularApertureFlux_12_0_flag\", doc=\"General Failure Flag\"), Key['Flag'](offset=64, bit=29)),\n",
       "    (Field['Flag'](name=\"base_CircularApertureFlux_12_0_flag_apertureTruncated\", doc=\"aperture did not fit within measurement image\"), Key['Flag'](offset=64, bit=30)),\n",
       "    (Field['D'](name=\"base_CircularApertureFlux_17_0_instFlux\", doc=\"instFlux within 17.000000-pixel aperture\", units=\"count\"), Key<D>(offset=416, nElements=1)),\n",
       "    (Field['D'](name=\"base_CircularApertureFlux_17_0_instFluxErr\", doc=\"1-sigma instFlux uncertainty\", units=\"count\"), Key<D>(offset=424, nElements=1)),\n",
       "    (Field['Flag'](name=\"base_CircularApertureFlux_17_0_flag\", doc=\"General Failure Flag\"), Key['Flag'](offset=64, bit=31)),\n",
       "    (Field['Flag'](name=\"base_CircularApertureFlux_17_0_flag_apertureTruncated\", doc=\"aperture did not fit within measurement image\"), Key['Flag'](offset=64, bit=32)),\n",
       "    (Field['D'](name=\"base_CircularApertureFlux_25_0_instFlux\", doc=\"instFlux within 25.000000-pixel aperture\", units=\"count\"), Key<D>(offset=432, nElements=1)),\n",
       "    (Field['D'](name=\"base_CircularApertureFlux_25_0_instFluxErr\", doc=\"1-sigma instFlux uncertainty\", units=\"count\"), Key<D>(offset=440, nElements=1)),\n",
       "    (Field['Flag'](name=\"base_CircularApertureFlux_25_0_flag\", doc=\"General Failure Flag\"), Key['Flag'](offset=64, bit=33)),\n",
       "    (Field['Flag'](name=\"base_CircularApertureFlux_25_0_flag_apertureTruncated\", doc=\"aperture did not fit within measurement image\"), Key['Flag'](offset=64, bit=34)),\n",
       "    (Field['D'](name=\"base_CircularApertureFlux_35_0_instFlux\", doc=\"instFlux within 35.000000-pixel aperture\", units=\"count\"), Key<D>(offset=448, nElements=1)),\n",
       "    (Field['D'](name=\"base_CircularApertureFlux_35_0_instFluxErr\", doc=\"1-sigma instFlux uncertainty\", units=\"count\"), Key<D>(offset=456, nElements=1)),\n",
       "    (Field['Flag'](name=\"base_CircularApertureFlux_35_0_flag\", doc=\"General Failure Flag\"), Key['Flag'](offset=64, bit=35)),\n",
       "    (Field['Flag'](name=\"base_CircularApertureFlux_35_0_flag_apertureTruncated\", doc=\"aperture did not fit within measurement image\"), Key['Flag'](offset=64, bit=36)),\n",
       "    (Field['D'](name=\"base_CircularApertureFlux_50_0_instFlux\", doc=\"instFlux within 50.000000-pixel aperture\", units=\"count\"), Key<D>(offset=464, nElements=1)),\n",
       "    (Field['D'](name=\"base_CircularApertureFlux_50_0_instFluxErr\", doc=\"1-sigma instFlux uncertainty\", units=\"count\"), Key<D>(offset=472, nElements=1)),\n",
       "    (Field['Flag'](name=\"base_CircularApertureFlux_50_0_flag\", doc=\"General Failure Flag\"), Key['Flag'](offset=64, bit=37)),\n",
       "    (Field['Flag'](name=\"base_CircularApertureFlux_50_0_flag_apertureTruncated\", doc=\"aperture did not fit within measurement image\"), Key['Flag'](offset=64, bit=38)),\n",
       "    (Field['D'](name=\"base_CircularApertureFlux_70_0_instFlux\", doc=\"instFlux within 70.000000-pixel aperture\", units=\"count\"), Key<D>(offset=480, nElements=1)),\n",
       "    (Field['D'](name=\"base_CircularApertureFlux_70_0_instFluxErr\", doc=\"1-sigma instFlux uncertainty\", units=\"count\"), Key<D>(offset=488, nElements=1)),\n",
       "    (Field['Flag'](name=\"base_CircularApertureFlux_70_0_flag\", doc=\"General Failure Flag\"), Key['Flag'](offset=64, bit=39)),\n",
       "    (Field['Flag'](name=\"base_CircularApertureFlux_70_0_flag_apertureTruncated\", doc=\"aperture did not fit within measurement image\"), Key['Flag'](offset=64, bit=40)),\n",
       "    (Field['D'](name=\"base_ClassificationSizeExtendedness_value\", doc=\"Measure of being a galaxy based on trace of second order moments\"), Key<D>(offset=496, nElements=1)),\n",
       "    (Field['Flag'](name=\"base_ClassificationSizeExtendedness_flag\", doc=\"Moments-based classification failed\"), Key['Flag'](offset=64, bit=41)),\n",
       "    (Field['D'](name=\"base_CompensatedGaussianFlux_3_instFlux\", doc=\"Compensated Gaussian flux measurement.\", units=\"count\"), Key<D>(offset=504, nElements=1)),\n",
       "    (Field['D'](name=\"base_CompensatedGaussianFlux_3_instFluxErr\", doc=\"Compensated Gaussian flux error.\", units=\"count\"), Key<D>(offset=512, nElements=1)),\n",
       "    (Field['I'](name=\"base_CompensatedGaussianFlux_3_mask_bits\", doc=\"Mask bits set within aperture.\"), Key<I>(offset=520, nElements=1)),\n",
       "    (Field['D'](name=\"base_CompensatedGaussianFlux_5_instFlux\", doc=\"Compensated Gaussian flux measurement.\", units=\"count\"), Key<D>(offset=528, nElements=1)),\n",
       "    (Field['D'](name=\"base_CompensatedGaussianFlux_5_instFluxErr\", doc=\"Compensated Gaussian flux error.\", units=\"count\"), Key<D>(offset=536, nElements=1)),\n",
       "    (Field['I'](name=\"base_CompensatedGaussianFlux_5_mask_bits\", doc=\"Mask bits set within aperture.\"), Key<I>(offset=544, nElements=1)),\n",
       "    (Field['Flag'](name=\"base_CompensatedGaussianFlux_3_flag\", doc=\"Compensated Gaussian measurement failed\"), Key['Flag'](offset=64, bit=42)),\n",
       "    (Field['Flag'](name=\"base_CompensatedGaussianFlux_3_flag_bounds\", doc=\"Compensated Gaussian out-of-bounds\"), Key['Flag'](offset=64, bit=43)),\n",
       "    (Field['Flag'](name=\"base_CompensatedGaussianFlux_5_flag\", doc=\"Compensated Gaussian measurement failed\"), Key['Flag'](offset=64, bit=44)),\n",
       "    (Field['Flag'](name=\"base_CompensatedGaussianFlux_5_flag_bounds\", doc=\"Compensated Gaussian out-of-bounds\"), Key['Flag'](offset=64, bit=45)),\n",
       "    (Field['D'](name=\"base_GaussianFlux_instFlux\", doc=\"instFlux from Gaussian Flux algorithm\", units=\"count\"), Key<D>(offset=552, nElements=1)),\n",
       "    (Field['D'](name=\"base_GaussianFlux_instFluxErr\", doc=\"1-sigma instFlux uncertainty\", units=\"count\"), Key<D>(offset=560, nElements=1)),\n",
       "    (Field['Flag'](name=\"base_GaussianFlux_flag\", doc=\"General Failure Flag\"), Key['Flag'](offset=64, bit=46)),\n",
       "    (Field['D'](name=\"base_LocalBackground_instFlux\", doc=\"background in annulus around source\", units=\"count\"), Key<D>(offset=568, nElements=1)),\n",
       "    (Field['D'](name=\"base_LocalBackground_instFluxErr\", doc=\"1-sigma instFlux uncertainty\", units=\"count\"), Key<D>(offset=576, nElements=1)),\n",
       "    (Field['Flag'](name=\"base_LocalBackground_flag\", doc=\"General Failure Flag\"), Key['Flag'](offset=64, bit=47)),\n",
       "    (Field['Flag'](name=\"base_LocalBackground_flag_noGoodPixels\", doc=\"no good pixels in the annulus\"), Key['Flag'](offset=64, bit=48)),\n",
       "    (Field['Flag'](name=\"base_LocalBackground_flag_noPsf\", doc=\"no PSF provided\"), Key['Flag'](offset=64, bit=49)),\n",
       "    (Field['Flag'](name=\"base_PixelFlags_flag\", doc=\"General failure flag, set if anything went wrong\"), Key['Flag'](offset=64, bit=50)),\n",
       "    (Field['Flag'](name=\"base_PixelFlags_flag_offimage\", doc=\"Source center is off image\"), Key['Flag'](offset=64, bit=51)),\n",
       "    (Field['Flag'](name=\"base_PixelFlags_flag_edge\", doc=\"Source is outside usable exposure region (masked EDGE or NO_DATA, or centroid off image).\"), Key['Flag'](offset=64, bit=52)),\n",
       "    (Field['Flag'](name=\"base_PixelFlags_flag_interpolated\", doc=\"Interpolated pixel in the Source footprint\"), Key['Flag'](offset=64, bit=53)),\n",
       "    (Field['Flag'](name=\"base_PixelFlags_flag_saturated\", doc=\"Saturated pixel in the Source footprint\"), Key['Flag'](offset=64, bit=54)),\n",
       "    (Field['Flag'](name=\"base_PixelFlags_flag_cr\", doc=\"Cosmic ray in the Source footprint\"), Key['Flag'](offset=64, bit=55)),\n",
       "    (Field['Flag'](name=\"base_PixelFlags_flag_bad\", doc=\"Bad pixel in the Source footprint\"), Key['Flag'](offset=64, bit=56)),\n",
       "    (Field['Flag'](name=\"base_PixelFlags_flag_suspect\", doc=\"Source's footprint includes suspect pixels\"), Key['Flag'](offset=64, bit=57)),\n",
       "    (Field['Flag'](name=\"base_PixelFlags_flag_edgeCenter\", doc=\"EDGE or NO_DATA Pixel in the 3x3 region around the centroid.\"), Key['Flag'](offset=64, bit=58)),\n",
       "    (Field['Flag'](name=\"base_PixelFlags_flag_interpolatedCenter\", doc=\"Interpolated pixel in the 3x3 region around the centroid.\"), Key['Flag'](offset=64, bit=59)),\n",
       "    (Field['Flag'](name=\"base_PixelFlags_flag_saturatedCenter\", doc=\"Saturated pixel in the 3x3 region around the centroid.\"), Key['Flag'](offset=64, bit=60)),\n",
       "    (Field['Flag'](name=\"base_PixelFlags_flag_crCenter\", doc=\"Cosmic ray in the 3x3 region around the centroid.\"), Key['Flag'](offset=64, bit=61)),\n",
       "    (Field['Flag'](name=\"base_PixelFlags_flag_badCenter\", doc=\"Bad pixel in the 3x3 region around the centroid\"), Key['Flag'](offset=64, bit=62)),\n",
       "    (Field['Flag'](name=\"base_PixelFlags_flag_suspectCenter\", doc=\"Suspect pixel in the 3x3 region around the centroid.\"), Key['Flag'](offset=64, bit=63)),\n",
       "    (Field['Flag'](name=\"base_PixelFlags_flag_edgeCenterAll\", doc=\"All pixels in the 3x3 region around the centroid are marked EDGE or NO_DATA.\"), Key['Flag'](offset=584, bit=0)),\n",
       "    (Field['Flag'](name=\"base_PixelFlags_flag_interpolatedCenterAll\", doc=\"All pixels in the 3x3 region around the centroid are interpolated.\"), Key['Flag'](offset=584, bit=1)),\n",
       "    (Field['Flag'](name=\"base_PixelFlags_flag_saturatedCenterAll\", doc=\"All pixels in the 3x3 region around the centroid are saturated.\"), Key['Flag'](offset=584, bit=2)),\n",
       "    (Field['Flag'](name=\"base_PixelFlags_flag_crCenterAll\", doc=\"All pixels in the 3x3 region around the centroid have the cosmic ray mask bit.\"), Key['Flag'](offset=584, bit=3)),\n",
       "    (Field['Flag'](name=\"base_PixelFlags_flag_badCenterAll\", doc=\"All pixels in the 3x3 region around the centroid are bad.\"), Key['Flag'](offset=584, bit=4)),\n",
       "    (Field['Flag'](name=\"base_PixelFlags_flag_suspectCenterAll\", doc=\"All pixels in the 3x3 region around the centroid are suspect.\"), Key['Flag'](offset=584, bit=5)),\n",
       "    (Field['D'](name=\"base_PsfFlux_instFlux\", doc=\"instFlux derived from linear least-squares fit of PSF model\", units=\"count\"), Key<D>(offset=592, nElements=1)),\n",
       "    (Field['D'](name=\"base_PsfFlux_instFluxErr\", doc=\"1-sigma instFlux uncertainty\", units=\"count\"), Key<D>(offset=600, nElements=1)),\n",
       "    (Field['F'](name=\"base_PsfFlux_area\", doc=\"effective area of PSF\", units=\"pixel\"), Key<F>(offset=608, nElements=1)),\n",
       "    (Field['F'](name=\"base_PsfFlux_chi2\", doc=\"chi2 of the fitted PSF\"), Key<F>(offset=612, nElements=1)),\n",
       "    (Field['I'](name=\"base_PsfFlux_npixels\", doc=\"number of pixels that were included in the PSF fit\", units=\"pixel\"), Key<I>(offset=616, nElements=1)),\n",
       "    (Field['Flag'](name=\"base_PsfFlux_flag\", doc=\"General Failure Flag\"), Key['Flag'](offset=584, bit=6)),\n",
       "    (Field['Flag'](name=\"base_PsfFlux_flag_noGoodPixels\", doc=\"not enough non-rejected pixels in data to attempt the fit\"), Key['Flag'](offset=584, bit=7)),\n",
       "    (Field['Flag'](name=\"base_PsfFlux_flag_edge\", doc=\"object was too close to the edge of the image to use the full PSF model\"), Key['Flag'](offset=584, bit=8)),\n",
       "    (Field['Flag'](name=\"base_Variance_flag\", doc=\"Set for any fatal failure\"), Key['Flag'](offset=584, bit=9)),\n",
       "    (Field['D'](name=\"base_Variance_value\", doc=\"Variance at object position\"), Key<D>(offset=624, nElements=1)),\n",
       "    (Field['Flag'](name=\"base_Variance_flag_emptyFootprint\", doc=\"Set to True when the footprint has no usable pixels\"), Key['Flag'](offset=584, bit=10)),\n",
       "    (Field['Flag'](name=\"base_InvalidPsf_flag\", doc=\"Invalid PSF at this location.\"), Key['Flag'](offset=584, bit=11)),\n",
       "    'base_CircularApertureFlux_flag_badCentroid'->'base_SdssCentroid_flag'\n",
       "    'base_GaussianFlux_flag_badCentroid'->'base_SdssCentroid_flag'\n",
       "    'base_GaussianFlux_flag_badShape'->'base_SdssShape_flag'\n",
       "    'base_LocalBackground_flag_badCentroid'->'base_SdssCentroid_flag'\n",
       "    'base_PsfFlux_flag_badCentroid'->'base_SdssCentroid_flag'\n",
       "    'base_SdssShape_flag_badCentroid'->'base_SdssCentroid_flag'\n",
       "    'base_Variance_flag_badCentroid'->'base_SdssCentroid_flag'\n",
       "    'slot_ApFlux'->'base_CircularApertureFlux_12_0'\n",
       "    'slot_CalibFlux'->'base_CircularApertureFlux_12_0'\n",
       "    'slot_Centroid'->'base_SdssCentroid'\n",
       "    'slot_GaussianFlux'->'base_GaussianFlux'\n",
       "    'slot_ModelFlux'->'base_GaussianFlux'\n",
       "    'slot_PsfFlux'->'base_PsfFlux'\n",
       "    'slot_PsfShape'->'base_SdssShape_psf'\n",
       "    'slot_Shape'->'base_SdssShape'\n",
       ")"
      ]
     },
     "execution_count": 5,
     "metadata": {},
     "output_type": "execute_result"
    }
   ],
   "source": [
    "process.schema"
   ]
  },
  {
   "cell_type": "code",
   "execution_count": null,
   "id": "65cbdfc6-5ca0-4b01-bac8-7dd2da75a5c6",
   "metadata": {},
   "outputs": [],
   "source": []
  }
 ],
 "metadata": {
  "kernelspec": {
   "display_name": "LSST",
   "language": "python",
   "name": "lsst"
  },
  "language_info": {
   "codemirror_mode": {
    "name": "ipython",
    "version": 3
   },
   "file_extension": ".py",
   "mimetype": "text/x-python",
   "name": "python",
   "nbconvert_exporter": "python",
   "pygments_lexer": "ipython3",
   "version": "3.11.9"
  }
 },
 "nbformat": 4,
 "nbformat_minor": 5
}
