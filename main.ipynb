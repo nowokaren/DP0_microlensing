{
 "cells": [
  {
   "cell_type": "code",
   "execution_count": 1,
   "id": "859f9477-60a4-4b3d-80db-5787e04e14f6",
   "metadata": {
    "execution": {
     "iopub.execute_input": "2024-11-02T21:34:27.412268Z",
     "iopub.status.busy": "2024-11-02T21:34:27.412057Z",
     "iopub.status.idle": "2024-11-02T21:34:33.839018Z",
     "shell.execute_reply": "2024-11-02T21:34:33.838442Z",
     "shell.execute_reply.started": "2024-11-02T21:34:27.412248Z"
    }
   },
   "outputs": [],
   "source": [
    "from light_curves import LightCurve\n",
    "from exposures import Calexp\n",
    "from task import Run"
   ]
  },
  {
   "cell_type": "code",
   "execution_count": 2,
   "id": "38b45437-df3e-4f1e-af01-f6d185f31813",
   "metadata": {
    "execution": {
     "iopub.execute_input": "2024-11-02T21:34:33.854142Z",
     "iopub.status.busy": "2024-11-02T21:34:33.853931Z",
     "iopub.status.idle": "2024-11-02T21:34:33.858951Z",
     "shell.execute_reply": "2024-11-02T21:34:33.858442Z",
     "shell.execute_reply.started": "2024-11-02T21:34:33.854103Z"
    }
   },
   "outputs": [],
   "source": [
    "process = Run()\n",
    "process.inject_task()"
   ]
  },
  {
   "cell_type": "code",
   "execution_count": 3,
   "id": "26e2a747-0359-47e2-bd7b-0e3e0ce00daf",
   "metadata": {
    "execution": {
     "iopub.execute_input": "2024-11-02T21:34:33.859816Z",
     "iopub.status.busy": "2024-11-02T21:34:33.859624Z",
     "iopub.status.idle": "2024-11-02T21:34:33.870490Z",
     "shell.execute_reply": "2024-11-02T21:34:33.869718Z",
     "shell.execute_reply.started": "2024-11-02T21:34:33.859798Z"
    }
   },
   "outputs": [
    {
     "ename": "SyntaxError",
     "evalue": "expected ':' (3507581156.py, line 3)",
     "output_type": "error",
     "traceback": [
      "\u001b[0;36m  Cell \u001b[0;32mIn[3], line 3\u001b[0;36m\u001b[0m\n\u001b[0;31m    for p in params\u001b[0m\n\u001b[0m                   ^\u001b[0m\n\u001b[0;31mSyntaxError\u001b[0m\u001b[0;31m:\u001b[0m expected ':'\n"
     ]
    }
   ],
   "source": [
    "params = [{\"t_0\": 60700.5, \"t_E\": 30, \"u_0\": 0.5, \"m_base\": 19.5},\n",
    "          {\"t_0\": 61000.5, \"t_E\": 4, \"u_0\": 0.5, \"m_base\": 22.5}]\n",
    "for p in params:\n",
    "    process.add_lc(p, dist=0.2)\n",
    "    inj_calexp(self, calexp)"
   ]
  },
  {
   "cell_type": "code",
   "execution_count": null,
   "id": "2da1db04-e011-4b3b-a47f-86d6967d554c",
   "metadata": {},
   "outputs": [],
   "source": []
  }
 ],
 "metadata": {
  "kernelspec": {
   "display_name": "LSST",
   "language": "python",
   "name": "lsst"
  },
  "language_info": {
   "codemirror_mode": {
    "name": "ipython",
    "version": 3
   },
   "file_extension": ".py",
   "mimetype": "text/x-python",
   "name": "python",
   "nbconvert_exporter": "python",
   "pygments_lexer": "ipython3",
   "version": "3.11.9"
  }
 },
 "nbformat": 4,
 "nbformat_minor": 5
}
