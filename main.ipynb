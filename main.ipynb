{
 "cells": [
  {
   "cell_type": "code",
   "execution_count": 1,
   "id": "859f9477-60a4-4b3d-80db-5787e04e14f6",
   "metadata": {
    "execution": {
     "iopub.execute_input": "2024-11-04T19:57:06.732841Z",
     "iopub.status.busy": "2024-11-04T19:57:06.732666Z",
     "iopub.status.idle": "2024-11-04T19:57:13.548417Z",
     "shell.execute_reply": "2024-11-04T19:57:13.547819Z",
     "shell.execute_reply.started": "2024-11-04T19:57:06.732825Z"
    }
   },
   "outputs": [],
   "source": [
    "from light_curves import LightCurve\n",
    "from exposures import Calexp\n",
    "from task import Run"
   ]
  },
  {
   "cell_type": "code",
   "execution_count": 2,
   "id": "26e2a747-0359-47e2-bd7b-0e3e0ce00daf",
   "metadata": {
    "execution": {
     "iopub.execute_input": "2024-11-04T19:57:13.551803Z",
     "iopub.status.busy": "2024-11-04T19:57:13.551617Z",
     "iopub.status.idle": "2024-11-04T19:57:17.076927Z",
     "shell.execute_reply": "2024-11-04T19:57:17.076387Z",
     "shell.execute_reply.started": "2024-11-04T19:57:13.551786Z"
    }
   },
   "outputs": [
    {
     "name": "stdout",
     "output_type": "stream",
     "text": [
      "(ra,dec) = (57.67048780800139, -32.49757834967935)/nHTM_ID = 9871863798730 - HTM_level=20 (bounded by a circle of radius ~0.27 arcsec.)\n",
      "                    Found 150 calexps\n"
     ]
    },
    {
     "name": "stderr",
     "output_type": "stream",
     "text": [
      "/home/karennowo/DP0_microlensing/light_curves.py:113: FutureWarning: The behavior of DataFrame concatenation with empty or all-NA entries is deprecated. In a future version, this will no longer exclude empty or all-NA columns when determining the result dtypes. To retain the old behavior, exclude the relevant entries before the concat operation.\n",
      "  self.data = pd.concat([self.data, new_data], ignore_index=True)\n"
     ]
    },
    {
     "data": {
      "text/plain": [
       "[LightCurve (57.67048780800139, -32.49757834967935) - Band i - Points: 150,\n",
       " LightCurve (57.806160468725096, -32.63614307434996) - Band i - Points: 150]"
      ]
     },
     "execution_count": 2,
     "metadata": {},
     "output_type": "execute_result"
    }
   ],
   "source": [
    "process = Run()\n",
    "params = [{\"t_0\": 60700.5, \"t_E\": 30, \"u_0\": 0.5, \"m_base\": 19.5},\n",
    "          {\"t_0\": 61000.5, \"t_E\": 4, \"u_0\": 0.5, \"m_base\": 22.5}]\n",
    "# for p in params:\n",
    "#     process.add_lc(p, dist=0.2)\n",
    "process.add_lc(params[0], ra=57.67048780800139, dec=-32.49757834967935)\n",
    "process.add_lc(params[1], dist=0.2)\n",
    "process.log_task(\"Add and simulate light curves\")\n",
    "process.inj_lc"
   ]
  },
  {
   "cell_type": "code",
   "execution_count": 3,
   "id": "873c6617-fb50-405f-9885-6524755d6336",
   "metadata": {
    "execution": {
     "iopub.execute_input": "2024-11-04T19:57:17.096803Z",
     "iopub.status.busy": "2024-11-04T19:57:17.096631Z",
     "iopub.status.idle": "2024-11-04T19:57:35.480566Z",
     "shell.execute_reply": "2024-11-04T19:57:35.479520Z",
     "shell.execute_reply.started": "2024-11-04T19:57:17.096787Z"
    }
   },
   "outputs": [
    {
     "name": "stdout",
     "output_type": "stream",
     "text": [
      "Points injected: 2\n"
     ]
    },
    {
     "data": {
      "text/html": [
       "<pre style=\"margin: 0.1em;\n",
       "padding-left: 0.25em;\n",
       "border-left-style: solid;\n",
       "font-family: var(--jp-code-font-family);\n",
       "font-size: var(--jp-code-font-size);\n",
       "line-height: var(--jp-code-line-height);\n",
       "\"><span style=\"color: var(--jp-warn-color2)\">lsst.visitInjectTask</span> <span style=\"color: var(--jp-info-color0)\">INFO</span>: Retrieved 2 injection sources from 1 HTM trixel.</pre>"
      ],
      "text/plain": [
       "<IPython.core.display.HTML object>"
      ]
     },
     "metadata": {},
     "output_type": "display_data"
    },
    {
     "data": {
      "text/html": [
       "<pre style=\"margin: 0.1em;\n",
       "padding-left: 0.25em;\n",
       "border-left-style: solid;\n",
       "font-family: var(--jp-code-font-family);\n",
       "font-size: var(--jp-code-font-size);\n",
       "line-height: var(--jp-code-line-height);\n",
       "\"><span style=\"color: var(--jp-warn-color2)\">lsst.visitInjectTask</span> <span style=\"color: var(--jp-info-color0)\">INFO</span>: Catalog cleaning removed 0 of 2 sources; 2 remaining for catalog checking.</pre>"
      ],
      "text/plain": [
       "<IPython.core.display.HTML object>"
      ]
     },
     "metadata": {},
     "output_type": "display_data"
    },
    {
     "data": {
      "text/html": [
       "<pre style=\"margin: 0.1em;\n",
       "padding-left: 0.25em;\n",
       "border-left-style: solid;\n",
       "font-family: var(--jp-code-font-family);\n",
       "font-size: var(--jp-code-font-size);\n",
       "line-height: var(--jp-code-line-height);\n",
       "\"><span style=\"color: var(--jp-warn-color2)\">lsst.visitInjectTask</span> <span style=\"color: var(--jp-info-color0)\">INFO</span>: Catalog checking flagged 0 of 2 sources; 2 remaining for source generation.</pre>"
      ],
      "text/plain": [
       "<IPython.core.display.HTML object>"
      ]
     },
     "metadata": {},
     "output_type": "display_data"
    },
    {
     "data": {
      "text/html": [
       "<pre style=\"margin: 0.1em;\n",
       "padding-left: 0.25em;\n",
       "border-left-style: solid;\n",
       "font-family: var(--jp-code-font-family);\n",
       "font-size: var(--jp-code-font-size);\n",
       "line-height: var(--jp-code-line-height);\n",
       "\"><span style=\"color: var(--jp-warn-color2)\">lsst.visitInjectTask</span> <span style=\"color: var(--jp-info-color0)\">INFO</span>: Adding INJECTED and INJECTED_CORE mask planes to the exposure.</pre>"
      ],
      "text/plain": [
       "<IPython.core.display.HTML object>"
      ]
     },
     "metadata": {},
     "output_type": "display_data"
    },
    {
     "data": {
      "text/html": [
       "<pre style=\"margin: 0.1em;\n",
       "padding-left: 0.25em;\n",
       "border-left-style: solid;\n",
       "font-family: var(--jp-code-font-family);\n",
       "font-size: var(--jp-code-font-size);\n",
       "line-height: var(--jp-code-line-height);\n",
       "\"><span style=\"color: var(--jp-warn-color2)\">lsst.visitInjectTask</span> <span style=\"color: var(--jp-info-color0)\">INFO</span>: Generating 2 injection sources consisting of 1 unique type: DeltaFunction(2).</pre>"
      ],
      "text/plain": [
       "<IPython.core.display.HTML object>"
      ]
     },
     "metadata": {},
     "output_type": "display_data"
    },
    {
     "data": {
      "text/html": [
       "<pre style=\"margin: 0.1em;\n",
       "padding-left: 0.25em;\n",
       "border-left-style: solid;\n",
       "font-family: var(--jp-code-font-family);\n",
       "font-size: var(--jp-code-font-size);\n",
       "line-height: var(--jp-code-line-height);\n",
       "\"><span style=\"color: var(--jp-warn-color2)\">lsst.visitInjectTask</span> <span style=\"color: var(--jp-info-color0)\">INFO</span>: Injected 2 of 2 potential sources. 0 sources flagged and skipped.</pre>"
      ],
      "text/plain": [
       "<IPython.core.display.HTML object>"
      ]
     },
     "metadata": {},
     "output_type": "display_data"
    },
    {
     "data": {
      "text/html": [
       "<pre style=\"margin: 0.1em;\n",
       "padding-left: 0.25em;\n",
       "border-left-style: solid;\n",
       "font-family: var(--jp-code-font-family);\n",
       "font-size: var(--jp-code-font-size);\n",
       "line-height: var(--jp-code-line-height);\n",
       "\"><span style=\"color: var(--jp-warn-color2)\">lsst.sourceDetection</span> <span style=\"color: var(--jp-info-color0)\">INFO</span>: Setting factor for negative detections equal to that for positive detections: 1.000000</pre>"
      ],
      "text/plain": [
       "<IPython.core.display.HTML object>"
      ]
     },
     "metadata": {},
     "output_type": "display_data"
    },
    {
     "data": {
      "text/html": [
       "<pre style=\"margin: 0.1em;\n",
       "padding-left: 0.25em;\n",
       "border-left-style: solid;\n",
       "font-family: var(--jp-code-font-family);\n",
       "font-size: var(--jp-code-font-size);\n",
       "line-height: var(--jp-code-line-height);\n",
       "\"><span style=\"color: var(--jp-warn-color2)\">lsst.sourceDetection</span> <span style=\"color: var(--jp-info-color0)\">INFO</span>: Detected 3066 positive peaks in 2610 footprints and 80 negative peaks in 80 footprints to 4 +ve and 4 -ve sigma</pre>"
      ],
      "text/plain": [
       "<IPython.core.display.HTML object>"
      ]
     },
     "metadata": {},
     "output_type": "display_data"
    },
    {
     "data": {
      "text/html": [
       "<pre style=\"margin: 0.1em;\n",
       "padding-left: 0.25em;\n",
       "border-left-style: solid;\n",
       "font-family: var(--jp-code-font-family);\n",
       "font-size: var(--jp-code-font-size);\n",
       "line-height: var(--jp-code-line-height);\n",
       "\"><span style=\"color: var(--jp-warn-color2)\">lsst.sourceDetection</span> <span style=\"color: var(--jp-info-color0)\">INFO</span>: Resubtracting the background after object detection</pre>"
      ],
      "text/plain": [
       "<IPython.core.display.HTML object>"
      ]
     },
     "metadata": {},
     "output_type": "display_data"
    },
    {
     "data": {
      "text/html": [
       "<pre style=\"margin: 0.1em;\n",
       "padding-left: 0.25em;\n",
       "border-left-style: solid;\n",
       "font-family: var(--jp-code-font-family);\n",
       "font-size: var(--jp-code-font-size);\n",
       "line-height: var(--jp-code-line-height);\n",
       "\"><span style=\"color: var(--jp-warn-color2)\">lsst.measurement</span> <span style=\"color: var(--jp-info-color0)\">INFO</span>: Measuring 2610 sources (2610 parents, 0 children) </pre>"
      ],
      "text/plain": [
       "<IPython.core.display.HTML object>"
      ]
     },
     "metadata": {},
     "output_type": "display_data"
    },
    {
     "name": "stdout",
     "output_type": "stream",
     "text": [
      "[87301.42792527] [array([87301.42792527])] [558.70891799] [array([558.70891799])]\n",
      "0   NaN\n",
      "Name: flux, dtype: float64\n",
      "[8001.57496116 6720.87808071] [array([87301.42792527]), array([8001.57496116, 6720.87808071])] [378.14056184 377.39274254] [array([558.70891799]), array([378.14056184, 377.39274254])]\n",
      "Series([], Name: flux, dtype: object)\n"
     ]
    },
    {
     "ename": "ValueError",
     "evalue": "Must have equal len keys and value when setting with an iterable",
     "output_type": "error",
     "traceback": [
      "\u001b[0;31m---------------------------------------------------------------------------\u001b[0m",
      "\u001b[0;31mValueError\u001b[0m                                Traceback (most recent call last)",
      "Cell \u001b[0;32mIn[3], line 8\u001b[0m\n\u001b[1;32m      6\u001b[0m \u001b[38;5;28;01mif\u001b[39;00m injected_exp \u001b[38;5;241m!=\u001b[39m \u001b[38;5;28;01mNone\u001b[39;00m:\n\u001b[1;32m      7\u001b[0m     sources \u001b[38;5;241m=\u001b[39m process\u001b[38;5;241m.\u001b[39mmeasure_calexp(injected_exp, schema)\n\u001b[0;32m----> 8\u001b[0m     flux, flux_err \u001b[38;5;241m=\u001b[39m \u001b[43mprocess\u001b[49m\u001b[38;5;241;43m.\u001b[39;49m\u001b[43mfind_flux\u001b[49m\u001b[43m(\u001b[49m\u001b[43msources\u001b[49m\u001b[43m,\u001b[49m\u001b[43m \u001b[49m\u001b[43madd_to_calexp\u001b[49m\u001b[38;5;241;43m=\u001b[39;49m\u001b[43mdataId\u001b[49m\u001b[43m)\u001b[49m\n\u001b[1;32m      9\u001b[0m     mag, mag_err \u001b[38;5;241m=\u001b[39m add_mag(\u001b[38;5;28mself\u001b[39m, value, value_err, dataId, exposure \u001b[38;5;241m=\u001b[39m injected_exp)\n\u001b[1;32m     10\u001b[0m     \u001b[38;5;28mprint\u001b[39m(\u001b[38;5;124mf\u001b[39m\u001b[38;5;124m\"\u001b[39m\u001b[38;5;124mra = \u001b[39m\u001b[38;5;132;01m{\u001b[39;00mra_deg\u001b[38;5;132;01m}\u001b[39;00m\u001b[38;5;124m, dec = \u001b[39m\u001b[38;5;132;01m{\u001b[39;00mdec_deg\u001b[38;5;132;01m}\u001b[39;00m\u001b[38;5;124m\"\u001b[39m)\n",
      "File \u001b[0;32m~/DP0_microlensing/task.py:188\u001b[0m, in \u001b[0;36mRun.find_flux\u001b[0;34m(self, sources, add_to_calexp)\u001b[0m\n\u001b[1;32m    186\u001b[0m     \u001b[38;5;28mprint\u001b[39m(flux, fluxes, flux_err, fluxes_err)\n\u001b[1;32m    187\u001b[0m     \u001b[38;5;28;01mif\u001b[39;00m add_to_calexp \u001b[38;5;241m!=\u001b[39m \u001b[38;5;28;01mNone\u001b[39;00m:\n\u001b[0;32m--> 188\u001b[0m         \u001b[43mlc\u001b[49m\u001b[38;5;241;43m.\u001b[39;49m\u001b[43madd_flux\u001b[49m\u001b[43m(\u001b[49m\u001b[43mflux\u001b[49m\u001b[43m,\u001b[49m\u001b[43m \u001b[49m\u001b[43mflux_err\u001b[49m\u001b[43m,\u001b[49m\u001b[43m \u001b[49m\u001b[43madd_to_calexp\u001b[49m\u001b[43m)\u001b[49m\n\u001b[1;32m    189\u001b[0m \u001b[38;5;28;01mreturn\u001b[39;00m fluxes, fluxes_err\n",
      "File \u001b[0;32m~/DP0_microlensing/light_curves.py:157\u001b[0m, in \u001b[0;36mLightCurve.add_flux\u001b[0;34m(self, flux, flux_err, dataId)\u001b[0m\n\u001b[1;32m    155\u001b[0m \u001b[38;5;28;01mdef\u001b[39;00m \u001b[38;5;21madd_flux\u001b[39m(\u001b[38;5;28mself\u001b[39m, flux, flux_err, dataId):\n\u001b[1;32m    156\u001b[0m     \u001b[38;5;28mprint\u001b[39m(\u001b[38;5;28mself\u001b[39m\u001b[38;5;241m.\u001b[39mdata\u001b[38;5;241m.\u001b[39mloc[(\u001b[38;5;28mself\u001b[39m\u001b[38;5;241m.\u001b[39mdata[\u001b[38;5;124m\"\u001b[39m\u001b[38;5;124mvisit\u001b[39m\u001b[38;5;124m\"\u001b[39m] \u001b[38;5;241m==\u001b[39m dataId[\u001b[38;5;124m\"\u001b[39m\u001b[38;5;124mvisit\u001b[39m\u001b[38;5;124m\"\u001b[39m]) \u001b[38;5;241m&\u001b[39m (\u001b[38;5;28mself\u001b[39m\u001b[38;5;241m.\u001b[39mdata[\u001b[38;5;124m\"\u001b[39m\u001b[38;5;124mdetector\u001b[39m\u001b[38;5;124m\"\u001b[39m] \u001b[38;5;241m==\u001b[39m dataId[\u001b[38;5;124m\"\u001b[39m\u001b[38;5;124mdetector\u001b[39m\u001b[38;5;124m\"\u001b[39m]), \u001b[38;5;124m\"\u001b[39m\u001b[38;5;124mflux\u001b[39m\u001b[38;5;124m\"\u001b[39m])\n\u001b[0;32m--> 157\u001b[0m     \u001b[38;5;28;43mself\u001b[39;49m\u001b[38;5;241;43m.\u001b[39;49m\u001b[43mdata\u001b[49m\u001b[38;5;241;43m.\u001b[39;49m\u001b[43mloc\u001b[49m\u001b[43m[\u001b[49m\u001b[43m(\u001b[49m\u001b[38;5;28;43mself\u001b[39;49m\u001b[38;5;241;43m.\u001b[39;49m\u001b[43mdata\u001b[49m\u001b[43m[\u001b[49m\u001b[38;5;124;43m\"\u001b[39;49m\u001b[38;5;124;43mvisit\u001b[39;49m\u001b[38;5;124;43m\"\u001b[39;49m\u001b[43m]\u001b[49m\u001b[43m \u001b[49m\u001b[38;5;241;43m==\u001b[39;49m\u001b[43m \u001b[49m\u001b[43mdataId\u001b[49m\u001b[43m[\u001b[49m\u001b[38;5;124;43m\"\u001b[39;49m\u001b[38;5;124;43mvisit\u001b[39;49m\u001b[38;5;124;43m\"\u001b[39;49m\u001b[43m]\u001b[49m\u001b[43m)\u001b[49m\u001b[43m \u001b[49m\u001b[38;5;241;43m&\u001b[39;49m\u001b[43m \u001b[49m\u001b[43m(\u001b[49m\u001b[38;5;28;43mself\u001b[39;49m\u001b[38;5;241;43m.\u001b[39;49m\u001b[43mdata\u001b[49m\u001b[43m[\u001b[49m\u001b[38;5;124;43m\"\u001b[39;49m\u001b[38;5;124;43mdetector\u001b[39;49m\u001b[38;5;124;43m\"\u001b[39;49m\u001b[43m]\u001b[49m\u001b[43m \u001b[49m\u001b[38;5;241;43m==\u001b[39;49m\u001b[43m \u001b[49m\u001b[43mdataId\u001b[49m\u001b[43m[\u001b[49m\u001b[38;5;124;43m\"\u001b[39;49m\u001b[38;5;124;43mdetector\u001b[39;49m\u001b[38;5;124;43m\"\u001b[39;49m\u001b[43m]\u001b[49m\u001b[43m)\u001b[49m\u001b[43m,\u001b[49m\u001b[43m \u001b[49m\u001b[38;5;124;43m\"\u001b[39;49m\u001b[38;5;124;43mflux\u001b[39;49m\u001b[38;5;124;43m\"\u001b[39;49m\u001b[43m]\u001b[49m \u001b[38;5;241m=\u001b[39m flux\n\u001b[1;32m    158\u001b[0m     \u001b[38;5;28mself\u001b[39m\u001b[38;5;241m.\u001b[39mdata\u001b[38;5;241m.\u001b[39mloc[(\u001b[38;5;28mself\u001b[39m\u001b[38;5;241m.\u001b[39mdata[\u001b[38;5;124m\"\u001b[39m\u001b[38;5;124mvisit\u001b[39m\u001b[38;5;124m\"\u001b[39m] \u001b[38;5;241m==\u001b[39m dataId[\u001b[38;5;124m\"\u001b[39m\u001b[38;5;124mvisit\u001b[39m\u001b[38;5;124m\"\u001b[39m]) \u001b[38;5;241m&\u001b[39m (\u001b[38;5;28mself\u001b[39m\u001b[38;5;241m.\u001b[39mdata[\u001b[38;5;124m\"\u001b[39m\u001b[38;5;124mdetector\u001b[39m\u001b[38;5;124m\"\u001b[39m] \u001b[38;5;241m==\u001b[39m dataId[\u001b[38;5;124m\"\u001b[39m\u001b[38;5;124mdetector\u001b[39m\u001b[38;5;124m\"\u001b[39m]), \u001b[38;5;124m\"\u001b[39m\u001b[38;5;124mflux_err\u001b[39m\u001b[38;5;124m\"\u001b[39m] \u001b[38;5;241m=\u001b[39m flux_err\n",
      "File \u001b[0;32m/opt/lsst/software/stack/conda/envs/lsst-scipipe-9.0.0/lib/python3.11/site-packages/pandas/core/indexing.py:911\u001b[0m, in \u001b[0;36m_LocationIndexer.__setitem__\u001b[0;34m(self, key, value)\u001b[0m\n\u001b[1;32m    908\u001b[0m \u001b[38;5;28mself\u001b[39m\u001b[38;5;241m.\u001b[39m_has_valid_setitem_indexer(key)\n\u001b[1;32m    910\u001b[0m iloc \u001b[38;5;241m=\u001b[39m \u001b[38;5;28mself\u001b[39m \u001b[38;5;28;01mif\u001b[39;00m \u001b[38;5;28mself\u001b[39m\u001b[38;5;241m.\u001b[39mname \u001b[38;5;241m==\u001b[39m \u001b[38;5;124m\"\u001b[39m\u001b[38;5;124miloc\u001b[39m\u001b[38;5;124m\"\u001b[39m \u001b[38;5;28;01melse\u001b[39;00m \u001b[38;5;28mself\u001b[39m\u001b[38;5;241m.\u001b[39mobj\u001b[38;5;241m.\u001b[39miloc\n\u001b[0;32m--> 911\u001b[0m \u001b[43miloc\u001b[49m\u001b[38;5;241;43m.\u001b[39;49m\u001b[43m_setitem_with_indexer\u001b[49m\u001b[43m(\u001b[49m\u001b[43mindexer\u001b[49m\u001b[43m,\u001b[49m\u001b[43m \u001b[49m\u001b[43mvalue\u001b[49m\u001b[43m,\u001b[49m\u001b[43m \u001b[49m\u001b[38;5;28;43mself\u001b[39;49m\u001b[38;5;241;43m.\u001b[39;49m\u001b[43mname\u001b[49m\u001b[43m)\u001b[49m\n",
      "File \u001b[0;32m/opt/lsst/software/stack/conda/envs/lsst-scipipe-9.0.0/lib/python3.11/site-packages/pandas/core/indexing.py:1942\u001b[0m, in \u001b[0;36m_iLocIndexer._setitem_with_indexer\u001b[0;34m(self, indexer, value, name)\u001b[0m\n\u001b[1;32m   1939\u001b[0m \u001b[38;5;66;03m# align and set the values\u001b[39;00m\n\u001b[1;32m   1940\u001b[0m \u001b[38;5;28;01mif\u001b[39;00m take_split_path:\n\u001b[1;32m   1941\u001b[0m     \u001b[38;5;66;03m# We have to operate column-wise\u001b[39;00m\n\u001b[0;32m-> 1942\u001b[0m     \u001b[38;5;28;43mself\u001b[39;49m\u001b[38;5;241;43m.\u001b[39;49m\u001b[43m_setitem_with_indexer_split_path\u001b[49m\u001b[43m(\u001b[49m\u001b[43mindexer\u001b[49m\u001b[43m,\u001b[49m\u001b[43m \u001b[49m\u001b[43mvalue\u001b[49m\u001b[43m,\u001b[49m\u001b[43m \u001b[49m\u001b[43mname\u001b[49m\u001b[43m)\u001b[49m\n\u001b[1;32m   1943\u001b[0m \u001b[38;5;28;01melse\u001b[39;00m:\n\u001b[1;32m   1944\u001b[0m     \u001b[38;5;28mself\u001b[39m\u001b[38;5;241m.\u001b[39m_setitem_single_block(indexer, value, name)\n",
      "File \u001b[0;32m/opt/lsst/software/stack/conda/envs/lsst-scipipe-9.0.0/lib/python3.11/site-packages/pandas/core/indexing.py:2027\u001b[0m, in \u001b[0;36m_iLocIndexer._setitem_with_indexer_split_path\u001b[0;34m(self, indexer, value, name)\u001b[0m\n\u001b[1;32m   2024\u001b[0m         \u001b[38;5;28mself\u001b[39m\u001b[38;5;241m.\u001b[39m_setitem_single_column(ilocs[\u001b[38;5;241m0\u001b[39m], value, pi)\n\u001b[1;32m   2026\u001b[0m     \u001b[38;5;28;01melse\u001b[39;00m:\n\u001b[0;32m-> 2027\u001b[0m         \u001b[38;5;28;01mraise\u001b[39;00m \u001b[38;5;167;01mValueError\u001b[39;00m(\n\u001b[1;32m   2028\u001b[0m             \u001b[38;5;124m\"\u001b[39m\u001b[38;5;124mMust have equal len keys and value \u001b[39m\u001b[38;5;124m\"\u001b[39m\n\u001b[1;32m   2029\u001b[0m             \u001b[38;5;124m\"\u001b[39m\u001b[38;5;124mwhen setting with an iterable\u001b[39m\u001b[38;5;124m\"\u001b[39m\n\u001b[1;32m   2030\u001b[0m         )\n\u001b[1;32m   2032\u001b[0m \u001b[38;5;28;01melse\u001b[39;00m:\n\u001b[1;32m   2033\u001b[0m     \u001b[38;5;66;03m# scalar value\u001b[39;00m\n\u001b[1;32m   2034\u001b[0m     \u001b[38;5;28;01mfor\u001b[39;00m loc \u001b[38;5;129;01min\u001b[39;00m ilocs:\n",
      "\u001b[0;31mValueError\u001b[0m: Must have equal len keys and value when setting with an iterable"
     ]
    }
   ],
   "source": [
    "process.inject_task()\n",
    "schema = process.measure_task()\n",
    "for j, dataId in enumerate(process.calexp_dataIds[:10]):\n",
    "    calexp = Calexp(dataId)\n",
    "    injected_exp, injected_points = process.inj_calexp(calexp)\n",
    "    if injected_exp != None:\n",
    "        sources = process.measure_calexp(injected_exp, schema)\n",
    "        flux, flux_err = process.find_flux(sources, add_to_calexp=dataId)\n",
    "        mag, mag_err = add_mag(self, value, value_err, dataId, exposure = injected_exp)\n",
    "        print(f\"ra = {ra_deg}, dec = {dec_deg}\")\n",
    "        print(\"Measured \", mag, mag_err)\n",
    "        print(\"Injected \", lc.data[\"mag\"][j])\n"
   ]
  },
  {
   "cell_type": "code",
   "execution_count": null,
   "id": "ca89fabe-c5a7-4342-9b32-859c0d49bc05",
   "metadata": {
    "execution": {
     "iopub.status.busy": "2024-11-04T19:27:14.165339Z",
     "iopub.status.idle": "2024-11-04T19:27:14.165568Z",
     "shell.execute_reply": "2024-11-04T19:27:14.165468Z",
     "shell.execute_reply.started": "2024-11-04T19:27:14.165459Z"
    }
   },
   "outputs": [],
   "source": [
    "sources.asAstropy().columns\n",
    "flux = sources[abs(sources[\"coord_ra\"]-57.67048780800139*np.pi/180)< 0.0000001][\"base_PsfFlux_instFlux\"]\n",
    "flux_err = sources[abs(sources[\"coord_ra\"]-57.67048780800139*np.pi/180)< 0.0000001][\"base_PsfFlux_instFluxErr\"]"
   ]
  },
  {
   "cell_type": "code",
   "execution_count": 9,
   "id": "6ea3ddb6-84ae-4d23-812c-46aaa9d21905",
   "metadata": {
    "execution": {
     "iopub.execute_input": "2024-11-04T19:55:56.902206Z",
     "iopub.status.busy": "2024-11-04T19:55:56.901470Z",
     "iopub.status.idle": "2024-11-04T19:55:56.908054Z",
     "shell.execute_reply": "2024-11-04T19:55:56.907532Z",
     "shell.execute_reply.started": "2024-11-04T19:55:56.902177Z"
    }
   },
   "outputs": [
    {
     "data": {
      "text/plain": [
       "(array([5353.62071767, 1748.9515086 ]), array([], dtype=float64))"
      ]
     },
     "execution_count": 9,
     "metadata": {},
     "output_type": "execute_result"
    }
   ],
   "source": [
    "lc = process.inj_lc[1]\n",
    "import numpy as np\n",
    "flux = sources[abs(sources[\"coord_ra\"]-lc.ra*np.pi/180)< 0.0000001][\"base_PsfFlux_instFlux\"]\n",
    "\n",
    "flux_err = sources[abs(sources[\"coord_ra\"]-lc.ra*np.pi/180)< 0.0000001][\"base_PsfFlux_instFluxErr\"]\n",
    "flux, flux_err"
   ]
  },
  {
   "cell_type": "code",
   "execution_count": 12,
   "id": "d670e904-12e9-4698-b66f-37468cb7c247",
   "metadata": {
    "execution": {
     "iopub.execute_input": "2024-11-04T19:56:36.928538Z",
     "iopub.status.busy": "2024-11-04T19:56:36.927926Z",
     "iopub.status.idle": "2024-11-04T19:56:36.932897Z",
     "shell.execute_reply": "2024-11-04T19:56:36.932419Z",
     "shell.execute_reply.started": "2024-11-04T19:56:36.928512Z"
    }
   },
   "outputs": [
    {
     "data": {
      "text/plain": [
       "array([], dtype=float64)"
      ]
     },
     "execution_count": 12,
     "metadata": {},
     "output_type": "execute_result"
    }
   ],
   "source": [
    "sources[abs(sources[\"coord_ra\"]-lc.dec*np.pi/180)< 0.000001][\"base_PsfFlux_instFluxErr\"]"
   ]
  },
  {
   "cell_type": "code",
   "execution_count": 31,
   "id": "a10d7ca8-5aef-4f26-8d2a-2b9ce31abf5a",
   "metadata": {
    "execution": {
     "iopub.execute_input": "2024-11-04T18:10:10.037182Z",
     "iopub.status.busy": "2024-11-04T18:10:10.036585Z",
     "iopub.status.idle": "2024-11-04T18:10:10.057820Z",
     "shell.execute_reply": "2024-11-04T18:10:10.057151Z",
     "shell.execute_reply.started": "2024-11-04T18:10:10.037150Z"
    }
   },
   "outputs": [
    {
     "ename": "TypeError",
     "evalue": "instFluxToMagnitude(): incompatible function arguments. The following argument types are supported:\n    1. (self: lsst.afw.image.PhotoCalib, instFlux: float, point: lsst.geom.Point2D) -> float\n    2. (self: lsst.afw.image.PhotoCalib, instFlux: float) -> float\n    3. (self: lsst.afw.image.PhotoCalib, instFlux: float, instFluxErr: float, point: lsst.geom.Point2D) -> lsst.afw.image.Measurement\n    4. (self: lsst.afw.image.PhotoCalib, instFlux: float, instFluxErr: float) -> lsst.afw.image.Measurement\n    5. (self: lsst.afw.image.PhotoCalib, sourceRecord: lsst.afw.table.SourceRecord, instFluxField: str) -> lsst.afw.image.Measurement\n    6. (self: lsst.afw.image.PhotoCalib, sourceCatalog: lsst.afw.table.SourceCatalog, instFluxField: str) -> numpy.ndarray\n    7. (self: lsst.afw.image.PhotoCalib, sourceCatalog: lsst.afw.table.SourceCatalog, instFluxField: str, outField: str) -> None\n\nInvoked with: PhotoCalib(spatially constant with mean: 0.663395 error: 0.000191301), array([  2461.71788019,   4045.1511727 ,  86621.49341173,   1555.3560409 ,\n       190471.87429229,   1590.17693678,   1742.61653024,   2485.66688496,\n         1533.09955738,   2024.36485124,   1645.20600364]), array([364.87366365, 368.92062597, 557.12496064, 361.54029925,\n       730.17100428, 362.0646844 , 362.38617075, 363.94345942,\n       361.54666045, 364.79217286, 361.77673602])",
     "output_type": "error",
     "traceback": [
      "\u001b[0;31m---------------------------------------------------------------------------\u001b[0m",
      "\u001b[0;31mTypeError\u001b[0m                                 Traceback (most recent call last)",
      "Cell \u001b[0;32mIn[31], line 2\u001b[0m\n\u001b[1;32m      1\u001b[0m photoCalib \u001b[38;5;241m=\u001b[39m calexp\u001b[38;5;241m.\u001b[39mgetPhotoCalib()\n\u001b[0;32m----> 2\u001b[0m measure \u001b[38;5;241m=\u001b[39m \u001b[43mphotoCalib\u001b[49m\u001b[38;5;241;43m.\u001b[39;49m\u001b[43minstFluxToMagnitude\u001b[49m\u001b[43m(\u001b[49m\u001b[43mflux\u001b[49m\u001b[43m,\u001b[49m\u001b[43m \u001b[49m\u001b[43mflux_err\u001b[49m\u001b[43m)\u001b[49m\n\u001b[1;32m      3\u001b[0m measure\n",
      "\u001b[0;31mTypeError\u001b[0m: instFluxToMagnitude(): incompatible function arguments. The following argument types are supported:\n    1. (self: lsst.afw.image.PhotoCalib, instFlux: float, point: lsst.geom.Point2D) -> float\n    2. (self: lsst.afw.image.PhotoCalib, instFlux: float) -> float\n    3. (self: lsst.afw.image.PhotoCalib, instFlux: float, instFluxErr: float, point: lsst.geom.Point2D) -> lsst.afw.image.Measurement\n    4. (self: lsst.afw.image.PhotoCalib, instFlux: float, instFluxErr: float) -> lsst.afw.image.Measurement\n    5. (self: lsst.afw.image.PhotoCalib, sourceRecord: lsst.afw.table.SourceRecord, instFluxField: str) -> lsst.afw.image.Measurement\n    6. (self: lsst.afw.image.PhotoCalib, sourceCatalog: lsst.afw.table.SourceCatalog, instFluxField: str) -> numpy.ndarray\n    7. (self: lsst.afw.image.PhotoCalib, sourceCatalog: lsst.afw.table.SourceCatalog, instFluxField: str, outField: str) -> None\n\nInvoked with: PhotoCalib(spatially constant with mean: 0.663395 error: 0.000191301), array([  2461.71788019,   4045.1511727 ,  86621.49341173,   1555.3560409 ,\n       190471.87429229,   1590.17693678,   1742.61653024,   2485.66688496,\n         1533.09955738,   2024.36485124,   1645.20600364]), array([364.87366365, 368.92062597, 557.12496064, 361.54029925,\n       730.17100428, 362.0646844 , 362.38617075, 363.94345942,\n       361.54666045, 364.79217286, 361.77673602])"
     ]
    }
   ],
   "source": [
    "photoCalib = calexp.getPhotoCalib()\n",
    "measure = photoCalib.instFluxToMagnitude(flux, flux_err)\n",
    "measure"
   ]
  }
 ],
 "metadata": {
  "kernelspec": {
   "display_name": "LSST",
   "language": "python",
   "name": "lsst"
  },
  "language_info": {
   "codemirror_mode": {
    "name": "ipython",
    "version": 3
   },
   "file_extension": ".py",
   "mimetype": "text/x-python",
   "name": "python",
   "nbconvert_exporter": "python",
   "pygments_lexer": "ipython3",
   "version": "3.11.9"
  }
 },
 "nbformat": 4,
 "nbformat_minor": 5
}
