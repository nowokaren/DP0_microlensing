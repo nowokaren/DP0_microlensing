{
 "cells": [
  {
   "cell_type": "code",
   "execution_count": 1,
   "id": "859f9477-60a4-4b3d-80db-5787e04e14f6",
   "metadata": {
    "execution": {
     "iopub.execute_input": "2024-11-06T20:44:12.112871Z",
     "iopub.status.busy": "2024-11-06T20:44:12.112385Z",
     "iopub.status.idle": "2024-11-06T20:44:19.225527Z",
     "shell.execute_reply": "2024-11-06T20:44:19.224914Z",
     "shell.execute_reply.started": "2024-11-06T20:44:12.112845Z"
    }
   },
   "outputs": [],
   "source": [
    "from light_curves import LightCurve\n",
    "from exposures import Calexp\n",
    "from task import Run\n",
    "import numpy as np"
   ]
  },
  {
   "cell_type": "code",
   "execution_count": null,
   "id": "e241b8b0-7b1d-4ff4-a042-6e0db5bd7af8",
   "metadata": {
    "execution": {
     "iopub.execute_input": "2024-11-06T20:44:19.231660Z",
     "iopub.status.busy": "2024-11-06T20:44:19.231459Z"
    }
   },
   "outputs": [
    {
     "name": "stdout",
     "output_type": "stream",
     "text": [
      "(ra,dec) = (57.59451632893858, -32.481152201226145)/nHTM_ID = 9871854450032 - HTM_level=20 (bounded by a circle of radius ~0.27 arcsec.)\n"
     ]
    },
    {
     "name": "stderr",
     "output_type": "stream",
     "text": [
      "/opt/lsst/software/stack/conda/envs/lsst-scipipe-9.0.0/share/eups/Linux64/daf_butler/g588e17ab67+fac83bd63d/python/lsst/daf/butler/registry/queries/_structs.py:401: FutureWarning: Dimension 'htm20' should no longer be used in data IDs. Use the region 'OVERLAPS' operator in the where clause instead. Will be removed after v28.\n",
      "  warnings.warn(\n"
     ]
    },
    {
     "name": "stdout",
     "output_type": "stream",
     "text": [
      "Found 145 calexps\n"
     ]
    },
    {
     "name": "stderr",
     "output_type": "stream",
     "text": [
      "/home/karennowo/DP0_microlensing/light_curves.py:107: FutureWarning: The behavior of DataFrame concatenation with empty or all-NA entries is deprecated. In a future version, this will no longer exclude empty or all-NA columns when determining the result dtypes. To retain the old behavior, exclude the relevant entries before the concat operation.\n",
      "  self.data = pd.concat([self.data, new_data], ignore_index=True)\n"
     ]
    },
    {
     "data": {
      "image/png": "[encoded data removed]",
      "text/plain": [
       "<Figure size 640x480 with 1 Axes>"
      ]
     },
     "metadata": {},
     "output_type": "display_data"
    },
    {
     "name": "stdout",
     "output_type": "stream",
     "text": [
      " ------ CALEXP 0 ------\n",
      "Points injected: 4\n",
      "[0, 3, 6, 9]\n"
     ]
    },
    {
     "data": {
      "text/html": [
       "<pre style=\"margin: 0.1em;\n",
       "padding-left: 0.25em;\n",
       "border-left-style: solid;\n",
       "font-family: var(--jp-code-font-family);\n",
       "font-size: var(--jp-code-font-size);\n",
       "line-height: var(--jp-code-line-height);\n",
       "\"><span style=\"color: var(--jp-warn-color2)\">lsst.visitInjectTask</span> <span style=\"color: var(--jp-info-color0)\">INFO</span>: Retrieved 4 injection sources from 1 HTM trixel.</pre>"
      ],
      "text/plain": [
       "<IPython.core.display.HTML object>"
      ]
     },
     "metadata": {},
     "output_type": "display_data"
    },
    {
     "data": {
      "text/html": [
       "<pre style=\"margin: 0.1em;\n",
       "padding-left: 0.25em;\n",
       "border-left-style: solid;\n",
       "font-family: var(--jp-code-font-family);\n",
       "font-size: var(--jp-code-font-size);\n",
       "line-height: var(--jp-code-line-height);\n",
       "\"><span style=\"color: var(--jp-warn-color2)\">lsst.visitInjectTask</span> <span style=\"color: var(--jp-info-color0)\">INFO</span>: Catalog cleaning removed 0 of 4 sources; 4 remaining for catalog checking.</pre>"
      ],
      "text/plain": [
       "<IPython.core.display.HTML object>"
      ]
     },
     "metadata": {},
     "output_type": "display_data"
    },
    {
     "data": {
      "text/html": [
       "<pre style=\"margin: 0.1em;\n",
       "padding-left: 0.25em;\n",
       "border-left-style: solid;\n",
       "font-family: var(--jp-code-font-family);\n",
       "font-size: var(--jp-code-font-size);\n",
       "line-height: var(--jp-code-line-height);\n",
       "\"><span style=\"color: var(--jp-warn-color2)\">lsst.visitInjectTask</span> <span style=\"color: var(--jp-info-color0)\">INFO</span>: Catalog checking flagged 0 of 4 sources; 4 remaining for source generation.</pre>"
      ],
      "text/plain": [
       "<IPython.core.display.HTML object>"
      ]
     },
     "metadata": {},
     "output_type": "display_data"
    },
    {
     "data": {
      "text/html": [
       "<pre style=\"margin: 0.1em;\n",
       "padding-left: 0.25em;\n",
       "border-left-style: solid;\n",
       "font-family: var(--jp-code-font-family);\n",
       "font-size: var(--jp-code-font-size);\n",
       "line-height: var(--jp-code-line-height);\n",
       "\"><span style=\"color: var(--jp-warn-color2)\">lsst.visitInjectTask</span> <span style=\"color: var(--jp-info-color0)\">INFO</span>: Adding INJECTED and INJECTED_CORE mask planes to the exposure.</pre>"
      ],
      "text/plain": [
       "<IPython.core.display.HTML object>"
      ]
     },
     "metadata": {},
     "output_type": "display_data"
    },
    {
     "data": {
      "text/html": [
       "<pre style=\"margin: 0.1em;\n",
       "padding-left: 0.25em;\n",
       "border-left-style: solid;\n",
       "font-family: var(--jp-code-font-family);\n",
       "font-size: var(--jp-code-font-size);\n",
       "line-height: var(--jp-code-line-height);\n",
       "\"><span style=\"color: var(--jp-warn-color2)\">lsst.visitInjectTask</span> <span style=\"color: var(--jp-info-color0)\">INFO</span>: Generating 4 injection sources consisting of 1 unique type: DeltaFunction(4).</pre>"
      ],
      "text/plain": [
       "<IPython.core.display.HTML object>"
      ]
     },
     "metadata": {},
     "output_type": "display_data"
    },
    {
     "data": {
      "text/html": [
       "<pre style=\"margin: 0.1em;\n",
       "padding-left: 0.25em;\n",
       "border-left-style: solid;\n",
       "font-family: var(--jp-code-font-family);\n",
       "font-size: var(--jp-code-font-size);\n",
       "line-height: var(--jp-code-line-height);\n",
       "\"><span style=\"color: var(--jp-warn-color2)\">lsst.visitInjectTask</span> <span style=\"color: var(--jp-info-color0)\">INFO</span>: Injected 4 of 4 potential sources. 0 sources flagged and skipped.</pre>"
      ],
      "text/plain": [
       "<IPython.core.display.HTML object>"
      ]
     },
     "metadata": {},
     "output_type": "display_data"
    },
    {
     "data": {
      "text/html": [
       "<pre style=\"margin: 0.1em;\n",
       "padding-left: 0.25em;\n",
       "border-left-style: solid;\n",
       "font-family: var(--jp-code-font-family);\n",
       "font-size: var(--jp-code-font-size);\n",
       "line-height: var(--jp-code-line-height);\n",
       "\"><span style=\"color: var(--jp-warn-color2)\">lsst.sourceDetection</span> <span style=\"color: var(--jp-info-color0)\">INFO</span>: Setting factor for negative detections equal to that for positive detections: 1.000000</pre>"
      ],
      "text/plain": [
       "<IPython.core.display.HTML object>"
      ]
     },
     "metadata": {},
     "output_type": "display_data"
    },
    {
     "data": {
      "text/html": [
       "<pre style=\"margin: 0.1em;\n",
       "padding-left: 0.25em;\n",
       "border-left-style: solid;\n",
       "font-family: var(--jp-code-font-family);\n",
       "font-size: var(--jp-code-font-size);\n",
       "line-height: var(--jp-code-line-height);\n",
       "\"><span style=\"color: var(--jp-warn-color2)\">lsst.sourceDetection</span> <span style=\"color: var(--jp-info-color0)\">INFO</span>: Detected 3068 positive peaks in 2614 footprints and 80 negative peaks in 80 footprints to 4 +ve and 4 -ve sigma</pre>"
      ],
      "text/plain": [
       "<IPython.core.display.HTML object>"
      ]
     },
     "metadata": {},
     "output_type": "display_data"
    },
    {
     "data": {
      "text/html": [
       "<pre style=\"margin: 0.1em;\n",
       "padding-left: 0.25em;\n",
       "border-left-style: solid;\n",
       "font-family: var(--jp-code-font-family);\n",
       "font-size: var(--jp-code-font-size);\n",
       "line-height: var(--jp-code-line-height);\n",
       "\"><span style=\"color: var(--jp-warn-color2)\">lsst.sourceDetection</span> <span style=\"color: var(--jp-info-color0)\">INFO</span>: Resubtracting the background after object detection</pre>"
      ],
      "text/plain": [
       "<IPython.core.display.HTML object>"
      ]
     },
     "metadata": {},
     "output_type": "display_data"
    },
    {
     "data": {
      "text/html": [
       "<pre style=\"margin: 0.1em;\n",
       "padding-left: 0.25em;\n",
       "border-left-style: solid;\n",
       "font-family: var(--jp-code-font-family);\n",
       "font-size: var(--jp-code-font-size);\n",
       "line-height: var(--jp-code-line-height);\n",
       "\"><span style=\"color: var(--jp-warn-color2)\">lsst.measurement</span> <span style=\"color: var(--jp-info-color0)\">INFO</span>: Measuring 2614 sources (2614 parents, 0 children) </pre>"
      ],
      "text/plain": [
       "<IPython.core.display.HTML object>"
      ]
     },
     "metadata": {},
     "output_type": "display_data"
    },
    {
     "name": "stdout",
     "output_type": "stream",
     "text": [
      "Founded point in source table in 0 iteration/s\n",
      "Founded point in source table in 0 iteration/s\n",
      "Founded point in source table in 9 iteration/s\n",
      "Founded point in source table in 27 iteration/s\n",
      "ra = 57.59451632893858, dec = -32.481152201226145\n",
      "Measured  17.994101799126025 0.0029183877292245836\n",
      "Injected  17.999800399179982\n",
      "ra = 57.45596185969342, dec = -32.31236131995318\n",
      "Measured  20.008942550824447 0.009842405430089709\n",
      "Injected  18.66646706584665\n",
      "ra = 57.59433361270605, dec = -32.67134286725462\n",
      "Measured  22.012778522909112 0.04823822776189315\n",
      "Injected  19.333133732513314\n",
      "ra = 57.56222369701397, dec = -32.615312420521064\n",
      "Measured  23.803550588063068 0.23862938491488805\n",
      "Injected  19.999800399179982\n",
      " ------ CALEXP 1 ------\n",
      "Points injected: 3\n",
      "[0, 2, 3]\n"
     ]
    },
    {
     "data": {
      "text/html": [
       "<pre style=\"margin: 0.1em;\n",
       "padding-left: 0.25em;\n",
       "border-left-style: solid;\n",
       "font-family: var(--jp-code-font-family);\n",
       "font-size: var(--jp-code-font-size);\n",
       "line-height: var(--jp-code-line-height);\n",
       "\"><span style=\"color: var(--jp-warn-color2)\">lsst.visitInjectTask</span> <span style=\"color: var(--jp-info-color0)\">INFO</span>: Retrieved 3 injection sources from 1 HTM trixel.</pre>"
      ],
      "text/plain": [
       "<IPython.core.display.HTML object>"
      ]
     },
     "metadata": {},
     "output_type": "display_data"
    },
    {
     "data": {
      "text/html": [
       "<pre style=\"margin: 0.1em;\n",
       "padding-left: 0.25em;\n",
       "border-left-style: solid;\n",
       "font-family: var(--jp-code-font-family);\n",
       "font-size: var(--jp-code-font-size);\n",
       "line-height: var(--jp-code-line-height);\n",
       "\"><span style=\"color: var(--jp-warn-color2)\">lsst.visitInjectTask</span> <span style=\"color: var(--jp-info-color0)\">INFO</span>: Catalog cleaning removed 0 of 3 sources; 3 remaining for catalog checking.</pre>"
      ],
      "text/plain": [
       "<IPython.core.display.HTML object>"
      ]
     },
     "metadata": {},
     "output_type": "display_data"
    },
    {
     "data": {
      "text/html": [
       "<pre style=\"margin: 0.1em;\n",
       "padding-left: 0.25em;\n",
       "border-left-style: solid;\n",
       "font-family: var(--jp-code-font-family);\n",
       "font-size: var(--jp-code-font-size);\n",
       "line-height: var(--jp-code-line-height);\n",
       "\"><span style=\"color: var(--jp-warn-color2)\">lsst.visitInjectTask</span> <span style=\"color: var(--jp-info-color0)\">INFO</span>: Catalog checking flagged 0 of 3 sources; 3 remaining for source generation.</pre>"
      ],
      "text/plain": [
       "<IPython.core.display.HTML object>"
      ]
     },
     "metadata": {},
     "output_type": "display_data"
    },
    {
     "data": {
      "text/html": [
       "<pre style=\"margin: 0.1em;\n",
       "padding-left: 0.25em;\n",
       "border-left-style: solid;\n",
       "font-family: var(--jp-code-font-family);\n",
       "font-size: var(--jp-code-font-size);\n",
       "line-height: var(--jp-code-line-height);\n",
       "\"><span style=\"color: var(--jp-warn-color2)\">lsst.visitInjectTask</span> <span style=\"color: var(--jp-info-color0)\">INFO</span>: Adding INJECTED and INJECTED_CORE mask planes to the exposure.</pre>"
      ],
      "text/plain": [
       "<IPython.core.display.HTML object>"
      ]
     },
     "metadata": {},
     "output_type": "display_data"
    },
    {
     "data": {
      "text/html": [
       "<pre style=\"margin: 0.1em;\n",
       "padding-left: 0.25em;\n",
       "border-left-style: solid;\n",
       "font-family: var(--jp-code-font-family);\n",
       "font-size: var(--jp-code-font-size);\n",
       "line-height: var(--jp-code-line-height);\n",
       "\"><span style=\"color: var(--jp-warn-color2)\">lsst.visitInjectTask</span> <span style=\"color: var(--jp-info-color0)\">INFO</span>: Generating 3 injection sources consisting of 1 unique type: DeltaFunction(3).</pre>"
      ],
      "text/plain": [
       "<IPython.core.display.HTML object>"
      ]
     },
     "metadata": {},
     "output_type": "display_data"
    },
    {
     "data": {
      "text/html": [
       "<pre style=\"margin: 0.1em;\n",
       "padding-left: 0.25em;\n",
       "border-left-style: solid;\n",
       "font-family: var(--jp-code-font-family);\n",
       "font-size: var(--jp-code-font-size);\n",
       "line-height: var(--jp-code-line-height);\n",
       "\"><span style=\"color: var(--jp-warn-color2)\">lsst.visitInjectTask</span> <span style=\"color: var(--jp-info-color0)\">INFO</span>: Injected 3 of 3 potential sources. 0 sources flagged and skipped.</pre>"
      ],
      "text/plain": [
       "<IPython.core.display.HTML object>"
      ]
     },
     "metadata": {},
     "output_type": "display_data"
    },
    {
     "data": {
      "text/html": [
       "<pre style=\"margin: 0.1em;\n",
       "padding-left: 0.25em;\n",
       "border-left-style: solid;\n",
       "font-family: var(--jp-code-font-family);\n",
       "font-size: var(--jp-code-font-size);\n",
       "line-height: var(--jp-code-line-height);\n",
       "\"><span style=\"color: var(--jp-warn-color2)\">lsst.sourceDetection</span> <span style=\"color: var(--jp-info-color0)\">INFO</span>: Setting factor for negative detections equal to that for positive detections: 1.000000</pre>"
      ],
      "text/plain": [
       "<IPython.core.display.HTML object>"
      ]
     },
     "metadata": {},
     "output_type": "display_data"
    },
    {
     "data": {
      "text/html": [
       "<pre style=\"margin: 0.1em;\n",
       "padding-left: 0.25em;\n",
       "border-left-style: solid;\n",
       "font-family: var(--jp-code-font-family);\n",
       "font-size: var(--jp-code-font-size);\n",
       "line-height: var(--jp-code-line-height);\n",
       "\"><span style=\"color: var(--jp-warn-color2)\">lsst.sourceDetection</span> <span style=\"color: var(--jp-info-color0)\">INFO</span>: Detected 3631 positive peaks in 3124 footprints and 154 negative peaks in 153 footprints to 4 +ve and 4 -ve sigma</pre>"
      ],
      "text/plain": [
       "<IPython.core.display.HTML object>"
      ]
     },
     "metadata": {},
     "output_type": "display_data"
    },
    {
     "data": {
      "text/html": [
       "<pre style=\"margin: 0.1em;\n",
       "padding-left: 0.25em;\n",
       "border-left-style: solid;\n",
       "font-family: var(--jp-code-font-family);\n",
       "font-size: var(--jp-code-font-size);\n",
       "line-height: var(--jp-code-line-height);\n",
       "\"><span style=\"color: var(--jp-warn-color2)\">lsst.sourceDetection</span> <span style=\"color: var(--jp-info-color0)\">INFO</span>: Resubtracting the background after object detection</pre>"
      ],
      "text/plain": [
       "<IPython.core.display.HTML object>"
      ]
     },
     "metadata": {},
     "output_type": "display_data"
    },
    {
     "data": {
      "text/html": [
       "<pre style=\"margin: 0.1em;\n",
       "padding-left: 0.25em;\n",
       "border-left-style: solid;\n",
       "font-family: var(--jp-code-font-family);\n",
       "font-size: var(--jp-code-font-size);\n",
       "line-height: var(--jp-code-line-height);\n",
       "\"><span style=\"color: var(--jp-warn-color2)\">lsst.measurement</span> <span style=\"color: var(--jp-info-color0)\">INFO</span>: Measuring 3124 sources (3124 parents, 0 children) </pre>"
      ],
      "text/plain": [
       "<IPython.core.display.HTML object>"
      ]
     },
     "metadata": {},
     "output_type": "display_data"
    },
    {
     "name": "stdout",
     "output_type": "stream",
     "text": [
      "Founded point in source table in 0 iteration/s\n",
      "Founded point in source table in 0 iteration/s\n",
      "Founded point in source table in 0 iteration/s\n",
      "ra = 57.59451632893858, dec = -32.481152201226145\n",
      "Measured  18.00114260110854 0.0028519741726573617\n",
      "Injected  17.999526457030296\n",
      "ra = 57.45596185969342, dec = -32.31236131995318\n",
      "Measured  19.33093324818412 0.005963072801198803\n",
      "Injected  18.666193123696964\n",
      "ra = 57.59433361270605, dec = -32.67134286725462\n",
      "Measured  20.006258799006464 0.009184940758184016\n",
      "Injected  19.332859790363628\n",
      " ------ CALEXP 2 ------\n",
      "Points injected: 3\n",
      "[0, 2, 3]\n"
     ]
    },
    {
     "data": {
      "text/html": [
       "<pre style=\"margin: 0.1em;\n",
       "padding-left: 0.25em;\n",
       "border-left-style: solid;\n",
       "font-family: var(--jp-code-font-family);\n",
       "font-size: var(--jp-code-font-size);\n",
       "line-height: var(--jp-code-line-height);\n",
       "\"><span style=\"color: var(--jp-warn-color2)\">lsst.visitInjectTask</span> <span style=\"color: var(--jp-info-color0)\">INFO</span>: Retrieved 3 injection sources from 1 HTM trixel.</pre>"
      ],
      "text/plain": [
       "<IPython.core.display.HTML object>"
      ]
     },
     "metadata": {},
     "output_type": "display_data"
    },
    {
     "data": {
      "text/html": [
       "<pre style=\"margin: 0.1em;\n",
       "padding-left: 0.25em;\n",
       "border-left-style: solid;\n",
       "font-family: var(--jp-code-font-family);\n",
       "font-size: var(--jp-code-font-size);\n",
       "line-height: var(--jp-code-line-height);\n",
       "\"><span style=\"color: var(--jp-warn-color2)\">lsst.visitInjectTask</span> <span style=\"color: var(--jp-info-color0)\">INFO</span>: Catalog cleaning removed 0 of 3 sources; 3 remaining for catalog checking.</pre>"
      ],
      "text/plain": [
       "<IPython.core.display.HTML object>"
      ]
     },
     "metadata": {},
     "output_type": "display_data"
    },
    {
     "data": {
      "text/html": [
       "<pre style=\"margin: 0.1em;\n",
       "padding-left: 0.25em;\n",
       "border-left-style: solid;\n",
       "font-family: var(--jp-code-font-family);\n",
       "font-size: var(--jp-code-font-size);\n",
       "line-height: var(--jp-code-line-height);\n",
       "\"><span style=\"color: var(--jp-warn-color2)\">lsst.visitInjectTask</span> <span style=\"color: var(--jp-info-color0)\">INFO</span>: Catalog checking flagged 0 of 3 sources; 3 remaining for source generation.</pre>"
      ],
      "text/plain": [
       "<IPython.core.display.HTML object>"
      ]
     },
     "metadata": {},
     "output_type": "display_data"
    },
    {
     "data": {
      "text/html": [
       "<pre style=\"margin: 0.1em;\n",
       "padding-left: 0.25em;\n",
       "border-left-style: solid;\n",
       "font-family: var(--jp-code-font-family);\n",
       "font-size: var(--jp-code-font-size);\n",
       "line-height: var(--jp-code-line-height);\n",
       "\"><span style=\"color: var(--jp-warn-color2)\">lsst.visitInjectTask</span> <span style=\"color: var(--jp-info-color0)\">INFO</span>: Adding INJECTED and INJECTED_CORE mask planes to the exposure.</pre>"
      ],
      "text/plain": [
       "<IPython.core.display.HTML object>"
      ]
     },
     "metadata": {},
     "output_type": "display_data"
    },
    {
     "data": {
      "text/html": [
       "<pre style=\"margin: 0.1em;\n",
       "padding-left: 0.25em;\n",
       "border-left-style: solid;\n",
       "font-family: var(--jp-code-font-family);\n",
       "font-size: var(--jp-code-font-size);\n",
       "line-height: var(--jp-code-line-height);\n",
       "\"><span style=\"color: var(--jp-warn-color2)\">lsst.visitInjectTask</span> <span style=\"color: var(--jp-info-color0)\">INFO</span>: Generating 3 injection sources consisting of 1 unique type: DeltaFunction(3).</pre>"
      ],
      "text/plain": [
       "<IPython.core.display.HTML object>"
      ]
     },
     "metadata": {},
     "output_type": "display_data"
    },
    {
     "data": {
      "text/html": [
       "<pre style=\"margin: 0.1em;\n",
       "padding-left: 0.25em;\n",
       "border-left-style: solid;\n",
       "font-family: var(--jp-code-font-family);\n",
       "font-size: var(--jp-code-font-size);\n",
       "line-height: var(--jp-code-line-height);\n",
       "\"><span style=\"color: var(--jp-warn-color2)\">lsst.visitInjectTask</span> <span style=\"color: var(--jp-info-color0)\">INFO</span>: Injected 3 of 3 potential sources. 0 sources flagged and skipped.</pre>"
      ],
      "text/plain": [
       "<IPython.core.display.HTML object>"
      ]
     },
     "metadata": {},
     "output_type": "display_data"
    },
    {
     "data": {
      "text/html": [
       "<pre style=\"margin: 0.1em;\n",
       "padding-left: 0.25em;\n",
       "border-left-style: solid;\n",
       "font-family: var(--jp-code-font-family);\n",
       "font-size: var(--jp-code-font-size);\n",
       "line-height: var(--jp-code-line-height);\n",
       "\"><span style=\"color: var(--jp-warn-color2)\">lsst.sourceDetection</span> <span style=\"color: var(--jp-info-color0)\">INFO</span>: Setting factor for negative detections equal to that for positive detections: 1.000000</pre>"
      ],
      "text/plain": [
       "<IPython.core.display.HTML object>"
      ]
     },
     "metadata": {},
     "output_type": "display_data"
    },
    {
     "data": {
      "text/html": [
       "<pre style=\"margin: 0.1em;\n",
       "padding-left: 0.25em;\n",
       "border-left-style: solid;\n",
       "font-family: var(--jp-code-font-family);\n",
       "font-size: var(--jp-code-font-size);\n",
       "line-height: var(--jp-code-line-height);\n",
       "\"><span style=\"color: var(--jp-warn-color2)\">lsst.sourceDetection</span> <span style=\"color: var(--jp-info-color0)\">INFO</span>: Detected 3847 positive peaks in 3275 footprints and 131 negative peaks in 131 footprints to 4 +ve and 4 -ve sigma</pre>"
      ],
      "text/plain": [
       "<IPython.core.display.HTML object>"
      ]
     },
     "metadata": {},
     "output_type": "display_data"
    },
    {
     "data": {
      "text/html": [
       "<pre style=\"margin: 0.1em;\n",
       "padding-left: 0.25em;\n",
       "border-left-style: solid;\n",
       "font-family: var(--jp-code-font-family);\n",
       "font-size: var(--jp-code-font-size);\n",
       "line-height: var(--jp-code-line-height);\n",
       "\"><span style=\"color: var(--jp-warn-color2)\">lsst.sourceDetection</span> <span style=\"color: var(--jp-info-color0)\">INFO</span>: Resubtracting the background after object detection</pre>"
      ],
      "text/plain": [
       "<IPython.core.display.HTML object>"
      ]
     },
     "metadata": {},
     "output_type": "display_data"
    },
    {
     "data": {
      "text/html": [
       "<pre style=\"margin: 0.1em;\n",
       "padding-left: 0.25em;\n",
       "border-left-style: solid;\n",
       "font-family: var(--jp-code-font-family);\n",
       "font-size: var(--jp-code-font-size);\n",
       "line-height: var(--jp-code-line-height);\n",
       "\"><span style=\"color: var(--jp-warn-color2)\">lsst.measurement</span> <span style=\"color: var(--jp-info-color0)\">INFO</span>: Measuring 3275 sources (3275 parents, 0 children) </pre>"
      ],
      "text/plain": [
       "<IPython.core.display.HTML object>"
      ]
     },
     "metadata": {},
     "output_type": "display_data"
    },
    {
     "name": "stdout",
     "output_type": "stream",
     "text": [
      "Founded point in source table in 0 iteration/s\n",
      "Founded point in source table in 0 iteration/s\n",
      "Founded point in source table in 0 iteration/s\n",
      "ra = 57.59451632893858, dec = -32.481152201226145\n",
      "Measured  17.99848713919169 0.0028028628576488883\n",
      "Injected  17.999520247493123\n",
      "ra = 57.45596185969342, dec = -32.31236131995318\n",
      "Measured  19.33555531185322 0.00573530333910745\n",
      "Injected  18.66618691415979\n",
      "ra = 57.59433361270605, dec = -32.67134286725462\n",
      "Measured  20.00361077044962 0.008631746602035131\n",
      "Injected  19.332853580826455\n",
      " ------ CALEXP 3 ------\n",
      "Points injected: 3\n",
      "[0, 4, 7]\n"
     ]
    },
    {
     "data": {
      "text/html": [
       "<pre style=\"margin: 0.1em;\n",
       "padding-left: 0.25em;\n",
       "border-left-style: solid;\n",
       "font-family: var(--jp-code-font-family);\n",
       "font-size: var(--jp-code-font-size);\n",
       "line-height: var(--jp-code-line-height);\n",
       "\"><span style=\"color: var(--jp-warn-color2)\">lsst.visitInjectTask</span> <span style=\"color: var(--jp-info-color0)\">INFO</span>: Retrieved 3 injection sources from 1 HTM trixel.</pre>"
      ],
      "text/plain": [
       "<IPython.core.display.HTML object>"
      ]
     },
     "metadata": {},
     "output_type": "display_data"
    },
    {
     "data": {
      "text/html": [
       "<pre style=\"margin: 0.1em;\n",
       "padding-left: 0.25em;\n",
       "border-left-style: solid;\n",
       "font-family: var(--jp-code-font-family);\n",
       "font-size: var(--jp-code-font-size);\n",
       "line-height: var(--jp-code-line-height);\n",
       "\"><span style=\"color: var(--jp-warn-color2)\">lsst.visitInjectTask</span> <span style=\"color: var(--jp-info-color0)\">INFO</span>: Catalog cleaning removed 0 of 3 sources; 3 remaining for catalog checking.</pre>"
      ],
      "text/plain": [
       "<IPython.core.display.HTML object>"
      ]
     },
     "metadata": {},
     "output_type": "display_data"
    },
    {
     "data": {
      "text/html": [
       "<pre style=\"margin: 0.1em;\n",
       "padding-left: 0.25em;\n",
       "border-left-style: solid;\n",
       "font-family: var(--jp-code-font-family);\n",
       "font-size: var(--jp-code-font-size);\n",
       "line-height: var(--jp-code-line-height);\n",
       "\"><span style=\"color: var(--jp-warn-color2)\">lsst.visitInjectTask</span> <span style=\"color: var(--jp-info-color0)\">INFO</span>: Catalog checking flagged 0 of 3 sources; 3 remaining for source generation.</pre>"
      ],
      "text/plain": [
       "<IPython.core.display.HTML object>"
      ]
     },
     "metadata": {},
     "output_type": "display_data"
    },
    {
     "data": {
      "text/html": [
       "<pre style=\"margin: 0.1em;\n",
       "padding-left: 0.25em;\n",
       "border-left-style: solid;\n",
       "font-family: var(--jp-code-font-family);\n",
       "font-size: var(--jp-code-font-size);\n",
       "line-height: var(--jp-code-line-height);\n",
       "\"><span style=\"color: var(--jp-warn-color2)\">lsst.visitInjectTask</span> <span style=\"color: var(--jp-info-color0)\">INFO</span>: Adding INJECTED and INJECTED_CORE mask planes to the exposure.</pre>"
      ],
      "text/plain": [
       "<IPython.core.display.HTML object>"
      ]
     },
     "metadata": {},
     "output_type": "display_data"
    },
    {
     "data": {
      "text/html": [
       "<pre style=\"margin: 0.1em;\n",
       "padding-left: 0.25em;\n",
       "border-left-style: solid;\n",
       "font-family: var(--jp-code-font-family);\n",
       "font-size: var(--jp-code-font-size);\n",
       "line-height: var(--jp-code-line-height);\n",
       "\"><span style=\"color: var(--jp-warn-color2)\">lsst.visitInjectTask</span> <span style=\"color: var(--jp-info-color0)\">INFO</span>: Generating 3 injection sources consisting of 1 unique type: DeltaFunction(3).</pre>"
      ],
      "text/plain": [
       "<IPython.core.display.HTML object>"
      ]
     },
     "metadata": {},
     "output_type": "display_data"
    },
    {
     "data": {
      "text/html": [
       "<pre style=\"margin: 0.1em;\n",
       "padding-left: 0.25em;\n",
       "border-left-style: solid;\n",
       "font-family: var(--jp-code-font-family);\n",
       "font-size: var(--jp-code-font-size);\n",
       "line-height: var(--jp-code-line-height);\n",
       "\"><span style=\"color: var(--jp-warn-color2)\">lsst.visitInjectTask</span> <span style=\"color: var(--jp-info-color0)\">INFO</span>: Injected 3 of 3 potential sources. 0 sources flagged and skipped.</pre>"
      ],
      "text/plain": [
       "<IPython.core.display.HTML object>"
      ]
     },
     "metadata": {},
     "output_type": "display_data"
    }
   ],
   "source": [
    "n_points = [10,30,50,70,100]\n",
    "levels = [20,11,10,9]\n",
    "\n",
    "\n",
    "for n in n_points:\n",
    "    for lvl in levels:\n",
    "        process = Run(name = f\"run_{n}pts_{lvl}lvl\", htm_level=lvl)\n",
    "        process.inject_task()\n",
    "        schema = process.measure_task()\n",
    "        params = [{\"t_0\": 60700.5, \"t_E\": 110, \"u_0\": 0.5, \"m_base\": m} for m in np.linspace(18,24,n)]\n",
    "        process.add_lc(params[0], ra=57.59451632893858, dec=-32.481152201226145, plot = True)\n",
    "        for p in params[1:]:\n",
    "            process.add_lc(p, dist=0.2)\n",
    "        process.log_task(\"Add and simulate light curves\")\n",
    "        for j, dataId in enumerate(process.calexp_dataIds[:10]):\n",
    "            print(f\" ------ CALEXP {j} ------\")\n",
    "            calexp = Calexp(dataId)\n",
    "            injected_exp, injected_points = process.inject_calexp(calexp, save_fit=f\"calexp_{j}.fit\")\n",
    "            if injected_exp != None:\n",
    "                sources = process.measure_calexp(injected_exp, schema)\n",
    "                flux, flux_err = process.find_flux(sources, injected_points, save=dataId)\n",
    "                for f, ferr, lc in zip(flux, flux_err, process.inj_lc):\n",
    "                    mag, mag_err = lc.add_mag(f, ferr, dataId, exposure = injected_exp)\n",
    "                    print(f\"ra = {lc.ra}, dec = {lc.dec}\")\n",
    "                    print(\"Measured \", mag, mag_err)\n",
    "                    print(\"Injected \", lc.data[\"mag_sim\"][j])\n",
    "        process.save_lc()\n",
    "        process.save_time_log()\n",
    "        process.time_analysis()"
   ]
  },
  {
   "cell_type": "code",
   "execution_count": 14,
   "id": "07b173bd-4f03-413a-a9e5-e95cf3434cc1",
   "metadata": {
    "execution": {
     "iopub.execute_input": "2024-11-06T20:02:27.272203Z",
     "iopub.status.busy": "2024-11-06T20:02:27.271889Z",
     "iopub.status.idle": "2024-11-06T20:02:27.276526Z",
     "shell.execute_reply": "2024-11-06T20:02:27.276070Z",
     "shell.execute_reply.started": "2024-11-06T20:02:27.272173Z"
    }
   },
   "outputs": [
    {
     "data": {
      "text/plain": [
       "array([18. , 19.5, 21. , 22.5, 24. ])"
      ]
     },
     "execution_count": 14,
     "metadata": {},
     "output_type": "execute_result"
    }
   ],
   "source": [
    "import numpy as np\n",
    "np.linspace(18,24,5)"
   ]
  },
  {
   "cell_type": "code",
   "execution_count": null,
   "id": "5ebccf9c-d348-4060-b82b-ac8737dee53c",
   "metadata": {},
   "outputs": [],
   "source": []
  }
 ],
 "metadata": {
  "kernelspec": {
   "display_name": "LSST",
   "language": "python",
   "name": "lsst"
  },
  "language_info": {
   "codemirror_mode": {
    "name": "ipython",
    "version": 3
   },
   "file_extension": ".py",
   "mimetype": "text/x-python",
   "name": "python",
   "nbconvert_exporter": "python",
   "pygments_lexer": "ipython3",
   "version": "3.11.9"
  }
 },
 "nbformat": 4,
 "nbformat_minor": 5
}
