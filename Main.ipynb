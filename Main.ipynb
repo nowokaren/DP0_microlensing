{
 "cells": [
  {
   "cell_type": "code",
   "execution_count": null,
   "id": "f1b73c93-775a-4295-ad2c-aeb9935d080c",
   "metadata": {},
   "outputs": [],
   "source": [
    "from light_curves import LightCurve\n",
    "from exposures import Calexp\n",
    "from task import Run"
   ]
  },
  {
   "cell_type": "markdown",
   "id": "0fbdb6c7-8786-4166-b4e9-6428dbb16619",
   "metadata": {},
   "source": [
    "Run(): class to process and save a bunch of light curves in the same calexps.\n",
    "* For each Run() instance, all of the data is saved in a folder with the date and time name."
   ]
  },
  {
   "cell_type": "markdown",
   "id": "a46629d0-ae29-4b66-a383-47c2d92bf9e5",
   "metadata": {},
   "source": [
    "### Main structure"
   ]
  },
  {
   "cell_type": "markdown",
   "id": "73889448-80de-43a8-b89e-c9c2af9e4160",
   "metadata": {},
   "source": [
    "- Create a Run() instance and a list of parameters (dict).\n",
    "- Add the light curves choosing the params and location (setting ra/dec or a random point within a distance from the first light curve location)\n",
    "- Add a check point (log_task)"
   ]
  },
  {
   "cell_type": "code",
   "execution_count": null,
   "id": "52c0dba3-2833-47bb-a1f5-bfcdcaf539b5",
   "metadata": {},
   "outputs": [],
   "source": [
    "process = Run()\n",
    "print(process.main_path)\n",
    "print(process.tasks) # Saved tasks used\n",
    "params = [{\"t_0\": 60700.5, \"t_E\": 110, \"u_0\": 0.5, \"m_base\": 19.5},\n",
    "          {\"t_0\": 60000.5, \"t_E\": 60, \"u_0\": 0.5, \"m_base\": 22.5}]\n",
    "\n",
    "# for p in params:\n",
    "#     process.add_lc(p, dist=0.2)\n",
    "\n",
    "process.add_lc(params[0], ra=57.67048780800139, dec=-32.49757834967935, plot=True)\n",
    "\n",
    "# process.add_lc(params[1], dist=0.2) \n",
    "process.add_lc(params[1], ra=57.59451632893858, dec=-32.481152201226145, plot = True)\n",
    "\n",
    "process.log_task(\"Add and simulate light curves\", det = len(params))\n",
    "process.inj_lc # List of injected light curves"
   ]
  },
  {
   "cell_type": "markdown",
   "id": "472fbc29-0e21-4dd9-ae32-0aa49435b68a",
   "metadata": {},
   "source": [
    "- Set and configure tasks to be used in the injection-extraction process\n",
    "\n",
    "Iterate over the collected calexp:\n",
    "- Injection\n",
    "- Measure (contains the entire process with the selected approach)\n",
    "- Find fluxes in source detected table (needed for this approach but others approachs might not need it)\n",
    "- Compute magnitudes"
   ]
  },
  {
   "cell_type": "code",
   "execution_count": null,
   "id": "c17ba46e-a446-4a4a-8909-a3c8aa9d9bb3",
   "metadata": {},
   "outputs": [],
   "source": [
    "# Set and config tasks\n",
    "process.inject_task()\n",
    "schema = process.measure_task()\n",
    "\n",
    "# Iterate on collected calexps \n",
    "for j, dataId in enumerate(process.calexp_dataIds[:10]):\n",
    "    print(f\" ------ CALEXP {j} ------\")\n",
    "    calexp = Calexp(dataId)\n",
    "    injected_exp, injected_points = process.inject_calexp(calexp, save_fit=f\"calexp_{j}.fit\")\n",
    "    if injected_exp != None:\n",
    "        # Approach to measure fluxes and save them in LightCurve.data\n",
    "        sources = process.measure_calexp(injected_exp, schema)\n",
    "        flux, flux_err = process.find_flux(sources, injected_points, save=dataId)\n",
    "        # Compute and save magnitudes in LightCurve.data\n",
    "        for f, ferr, lc in zip(flux, flux_err, process.inj_lc):\n",
    "            mag, mag_err = lc.add_mag(f, ferr, dataId, exposure = injected_exp)\n",
    "            print(f\"ra = {lc.ra}, dec = {lc.dec}\")\n",
    "            print(\"Measured \", mag, mag_err)\n",
    "            print(\"Injected \", lc.data[\"mag_sim\"][j])\n"
   ]
  },
  {
   "cell_type": "markdown",
   "id": "d567e216-7721-4796-b3b1-c475382fc2c5",
   "metadata": {},
   "source": [
    "### Outputs"
   ]
  },
  {
   "cell_type": "markdown",
   "id": "64190c2c-039b-48e4-bd11-debc828c3c1e",
   "metadata": {
    "execution": {
     "iopub.execute_input": "2024-11-06T14:58:38.420100Z",
     "iopub.status.busy": "2024-11-06T14:58:38.419830Z",
     "iopub.status.idle": "2024-11-06T14:58:38.423969Z",
     "shell.execute_reply": "2024-11-06T14:58:38.423278Z",
     "shell.execute_reply.started": "2024-11-06T14:58:38.420078Z"
    }
   },
   "source": [
    "* Plot final light curves and show its data (data frame)\n",
    "* Save the lc as csv"
   ]
  },
  {
   "cell_type": "code",
   "execution_count": null,
   "id": "b42ae9fe-2046-4cc0-87af-cf4eb335731e",
   "metadata": {},
   "outputs": [],
   "source": []
  }
 ],
 "metadata": {
  "kernelspec": {
   "display_name": "LSST",
   "language": "python",
   "name": "lsst"
  },
  "language_info": {
   "codemirror_mode": {
    "name": "ipython",
    "version": 3
   },
   "file_extension": ".py",
   "mimetype": "text/x-python",
   "name": "python",
   "nbconvert_exporter": "python",
   "pygments_lexer": "ipython3",
   "version": "3.11.9"
  }
 },
 "nbformat": 4,
 "nbformat_minor": 5
}
