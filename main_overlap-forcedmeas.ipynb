{
 "cells": [
  {
   "cell_type": "code",
   "execution_count": 6,
   "id": "859f9477-60a4-4b3d-80db-5787e04e14f6",
   "metadata": {
    "execution": {
     "iopub.execute_input": "2025-01-29T17:41:51.696983Z",
     "iopub.status.busy": "2025-01-29T17:41:51.695881Z",
     "iopub.status.idle": "2025-01-29T17:41:51.702294Z",
     "shell.execute_reply": "2025-01-29T17:41:51.701230Z",
     "shell.execute_reply.started": "2025-01-29T17:41:51.696938Z"
    }
   },
   "outputs": [],
   "source": [
    "from light_curves import LightCurve\n",
    "from exposures import Calexp\n",
    "from task import Run\n",
    "import numpy as np\n",
    "import matplotlib.pyplot as plt\n",
    "import random\n",
    "import json\n",
    "from tqdm.notebook import tqdm"
   ]
  },
  {
   "cell_type": "code",
   "execution_count": 5,
   "id": "e241b8b0-7b1d-4ff4-a042-6e0db5bd7af8",
   "metadata": {
    "execution": {
     "iopub.execute_input": "2025-01-29T17:32:35.759830Z",
     "iopub.status.busy": "2025-01-29T17:32:35.759354Z",
     "iopub.status.idle": "2025-01-29T17:32:38.283336Z",
     "shell.execute_reply": "2025-01-29T17:32:38.282461Z",
     "shell.execute_reply.started": "2025-01-29T17:32:35.759803Z"
    },
    "scrolled": true
   },
   "outputs": [
    {
     "name": "stdout",
     "output_type": "stream",
     "text": [
      "[1.  0.5 0. ]\n",
      "----------------------------------------\n",
      "Run Name: run_100dens_02rad_gri_100calexps\n",
      "Center: RA=57.59451632893858, Dec=-32.481152201226145\n",
      "Band: gri\n",
      "Calexp Method: overlap\n",
      "Measure Method: SingleFrame\n",
      "Density: 100.0 sources/deg²\n",
      "Area: 0.126 deg²\n",
      "Scale: 0.200 deg\n",
      "Number of LightCurves to inject: 13\n",
      "Main Path: ./runs/run_100dens_02rad_gri_100calexps\n",
      "----------------------------------------\n",
      " ------ CALEXP 1/100 ------\n",
      "Band:  r\n"
     ]
    },
    {
     "ename": "IndexError",
     "evalue": "index 0 is out of bounds for axis 0 with size 0",
     "output_type": "error",
     "traceback": [
      "\u001b[0;31m---------------------------------------------------------------------------\u001b[0m",
      "\u001b[0;31mIndexError\u001b[0m                                Traceback (most recent call last)",
      "Cell \u001b[0;32mIn[5], line 47\u001b[0m\n\u001b[1;32m     42\u001b[0m \u001b[38;5;66;03m# ax = calexp.plot() \u001b[39;00m\n\u001b[1;32m     43\u001b[0m \u001b[38;5;66;03m# for lc in process.inj_lc:\u001b[39;00m\n\u001b[1;32m     44\u001b[0m \u001b[38;5;66;03m#     calexp.add_point(ax, lc.ra, lc.dec, r=40)\u001b[39;00m\n\u001b[1;32m     45\u001b[0m \u001b[38;5;66;03m# plt.show()\u001b[39;00m\n\u001b[1;32m     46\u001b[0m process\u001b[38;5;241m.\u001b[39mdata_calexp\u001b[38;5;241m.\u001b[39mloc[(process\u001b[38;5;241m.\u001b[39mdata_calexp[\u001b[38;5;124m\"\u001b[39m\u001b[38;5;124mdetector\u001b[39m\u001b[38;5;124m\"\u001b[39m] \u001b[38;5;241m==\u001b[39m data_id[\u001b[38;5;124m\"\u001b[39m\u001b[38;5;124mdetector\u001b[39m\u001b[38;5;124m\"\u001b[39m]) \u001b[38;5;241m&\u001b[39m (process\u001b[38;5;241m.\u001b[39mdata_calexp[\u001b[38;5;124m\"\u001b[39m\u001b[38;5;124mvisit\u001b[39m\u001b[38;5;124m\"\u001b[39m] \u001b[38;5;241m==\u001b[39m data_id[\u001b[38;5;124m\"\u001b[39m\u001b[38;5;124mvisit\u001b[39m\u001b[38;5;124m\"\u001b[39m]),\u001b[38;5;124m\"\u001b[39m\u001b[38;5;124moverlap\u001b[39m\u001b[38;5;124m\"\u001b[39m] \u001b[38;5;241m=\u001b[39m \u001b[38;5;28;01mTrue\u001b[39;00m\n\u001b[0;32m---> 47\u001b[0m injection_catalog \u001b[38;5;241m=\u001b[39m \u001b[43mprocess\u001b[49m\u001b[38;5;241;43m.\u001b[39;49m\u001b[43mcreate_injection_table\u001b[49m\u001b[43m(\u001b[49m\u001b[43mcalexp\u001b[49m\u001b[43m,\u001b[49m\u001b[43m \u001b[49m\u001b[43mband\u001b[49m\u001b[43m)\u001b[49m\n\u001b[1;32m     48\u001b[0m injection_catalog_checked \u001b[38;5;241m=\u001b[39m process\u001b[38;5;241m.\u001b[39mcheck_injection_catalog(calexp, catalog \u001b[38;5;241m=\u001b[39m injection_catalog)\n\u001b[1;32m     50\u001b[0m \u001b[38;5;66;03m# print(f\"{injection_catalog_checked=}\")\u001b[39;00m\n",
      "File \u001b[0;32m~/DP0_microlensing/task.py:367\u001b[0m, in \u001b[0;36mcreate_injection_table\u001b[0;34m(self, calexp, band)\u001b[0m\n\u001b[1;32m    365\u001b[0m detector \u001b[38;5;241m=\u001b[39m calexp\u001b[38;5;241m.\u001b[39mdata_id[\u001b[38;5;124m\"\u001b[39m\u001b[38;5;124mdetector\u001b[39m\u001b[38;5;124m\"\u001b[39m]\n\u001b[1;32m    366\u001b[0m mjd \u001b[38;5;241m=\u001b[39m \u001b[38;5;28mself\u001b[39m\u001b[38;5;241m.\u001b[39mdata_calexp[(\u001b[38;5;28mself\u001b[39m\u001b[38;5;241m.\u001b[39mdata_calexp[\u001b[38;5;124m\"\u001b[39m\u001b[38;5;124mvisit\u001b[39m\u001b[38;5;124m\"\u001b[39m] \u001b[38;5;241m==\u001b[39m visit) \u001b[38;5;241m&\u001b[39m (\u001b[38;5;28mself\u001b[39m\u001b[38;5;241m.\u001b[39mdata_calexp[\u001b[38;5;124m\"\u001b[39m\u001b[38;5;124mdetector\u001b[39m\u001b[38;5;124m\"\u001b[39m] \u001b[38;5;241m==\u001b[39m detector)][\u001b[38;5;124m\"\u001b[39m\u001b[38;5;124mmjd\u001b[39m\u001b[38;5;124m\"\u001b[39m]\u001b[38;5;241m.\u001b[39mvalues[\u001b[38;5;241m0\u001b[39m]\n\u001b[0;32m--> 367\u001b[0m \u001b[38;5;28;01mfor\u001b[39;00m lc \u001b[38;5;129;01min\u001b[39;00m \u001b[38;5;28mself\u001b[39m\u001b[38;5;241m.\u001b[39minj_lc:\n\u001b[1;32m    368\u001b[0m     \u001b[38;5;28;01mif\u001b[39;00m lc\u001b[38;5;241m.\u001b[39mband \u001b[38;5;241m==\u001b[39m band:\n\u001b[1;32m    369\u001b[0m         lc_calexp \u001b[38;5;241m=\u001b[39m lc\u001b[38;5;241m.\u001b[39mdata[(lc\u001b[38;5;241m.\u001b[39mdata[\u001b[38;5;124m\"\u001b[39m\u001b[38;5;124mvisit\u001b[39m\u001b[38;5;124m\"\u001b[39m] \u001b[38;5;241m==\u001b[39m visit) \u001b[38;5;241m&\u001b[39m (lc\u001b[38;5;241m.\u001b[39mdata[\u001b[38;5;124m\"\u001b[39m\u001b[38;5;124mdetector\u001b[39m\u001b[38;5;124m\"\u001b[39m] \u001b[38;5;241m==\u001b[39m detector)]\n",
      "\u001b[0;31mIndexError\u001b[0m: index 0 is out of bounds for axis 0 with size 0"
     ]
    }
   ],
   "source": [
    "radius = 0.2 #[0.1,0.2,0.3, 0.5]\n",
    "density = 5/0.05#]np.array([10,50, 100, 500])/0.05\n",
    "n_max_calexps = 100\n",
    "bands = \"gri\"\n",
    "problems = []\n",
    "delta_mag = np.array([2.5,2,1.5,1.0,0.5,0])[-len(bands):]\n",
    "print(delta_mag)\n",
    "\n",
    "\n",
    "process = Run(ra=57.59451632893858, dec=-32.481152201226145, \n",
    "              density = density, scale = radius, bands = bands, \n",
    "              name = f\"run_{density:.0f}dens_{int(radius*10):02d}rad_{bands}_{n_max_calexps}calexps\", \n",
    "              calexps_method=\"overlap\", measure_method =\"ForcedMeas\")\n",
    "# process.measure_method = \"SingleFrame\"\n",
    "print(process)\n",
    "process.inject_task()\n",
    "schema = process.measure_task()\n",
    "\n",
    "process.collect_calexp()\n",
    "process.data_calexp.to_csv(process.main_path+'/data_calexp.csv', index=False)\n",
    "for event_id, m in enumerate(tqdm(np.linspace(17,22,process.n_lc), desc=\"Loading events:\")):\n",
    "    lc_ra, lc_dec = process.generate_location()\n",
    "    params = {\"t_0\": random.uniform(60300,61500),\n",
    "   \"t_E\": random.uniform(20, 200), \n",
    "   \"u_0\": random.uniform(0.1,1)}\n",
    "    for band, dm in zip(process.bands, delta_mag):\n",
    "        params[\"m_base\"]=m+dm\n",
    "        process.add_lc(lc_ra, lc_dec, params, event_id=event_id, band=band)\n",
    "process.data_events.to_csv(process.main_path+'/data_events.csv', index=False) \n",
    "# process.sky_map()\n",
    "process.log_task(\"Add and simulate light curves\")\n",
    "\n",
    "\n",
    "for idx, data in process.data_calexp.iterrows():\n",
    "    if idx >= n_max_calexps:\n",
    "        break\n",
    "    print(f\" ------ CALEXP {idx+1}/{n_max_calexps} ------\")\n",
    "    data_id = data[['detector', 'visit']].to_dict()\n",
    "    calexp = Calexp(data_id)\n",
    "    if calexp.overlaps(process.region):\n",
    "        band = data[\"band\"]; print(\"Band: \", band)\n",
    "        # ax = calexp.plot() \n",
    "        # for lc in process.inj_lc:\n",
    "        #     calexp.add_point(ax, lc.ra, lc.dec, r=40)\n",
    "        # plt.show()\n",
    "        process.data_calexp.loc[(process.data_calexp[\"detector\"] == data_id[\"detector\"]) & (process.data_calexp[\"visit\"] == data_id[\"visit\"]),\"overlap\"] = True\n",
    "        injection_catalog = process.create_injection_table(calexp, band)\n",
    "        injection_catalog_checked = process.check_injection_catalog(calexp, catalog = injection_catalog)\n",
    "        \n",
    "        # print(f\"{injection_catalog_checked=}\")\n",
    "        if injection_catalog_checked:\n",
    "            print(f\"{band=}\")\n",
    "            injected_exposure, injected_catalog = process.inject_calexp(calexp, injection_catalog_checked, save_fit=f\"calexp_{idx}_{band}.fit\")\n",
    "            if injected_catalog != None:\n",
    "                inj_calexp = Calexp(injected_exposure)\n",
    "                # ax = inj_calexp.plot() \n",
    "                #     if lcc[\"injection_flag\"] != 0:\n",
    "                #         color = \"cyan\"\n",
    "                #     else:\n",
    "                #         color = \"red\"\n",
    "                #     inj_calexp.add_point(ax, lcc[\"ra\"], lcc[\"dec\"], r=40, c=color)\n",
    "                # plt.show()\n",
    "                injected_catalog_checked = process.check_injection_catalog(calexp, injected_catalog, before_injection=False)\n",
    "                if len(injected_catalog_checked)>0:\n",
    "                    table, sources = process.measurement(schema, inj_calexp, injected_catalog)\n",
    "                    for _, lc_inj in table.iterrows():\n",
    "                        filtered_idx = process.data_events[\n",
    "                            (process.data_events[\"ra\"] == lc_inj[\"ra\"]) &\n",
    "                            (process.data_events[\"dec\"] == lc_inj[\"dec\"]) &\n",
    "                            (process.data_events[\"band\"] == band)].index\n",
    "                        id_lc_inj = filtered_idx[0] if not filtered_idx.empty else None\n",
    "                        lc = process.inj_lc[id_lc_inj]\n",
    "                        flux, flux_err, mag, mag_err = table.loc[(table[\"ra\"] == lc.ra) & (table[\"dec\"] == lc.dec), [\"flux\", \"flux_err\", \"mag\", \"mag_err\"]].values[0]\n",
    "                        lc.add_data(data_id, [flux, flux_err, mag, mag_err])\n",
    "                        # print(\"-\"*50) [\"mjd\", \"detector\", \"visit\", \"flux\", \"flux_err\", \"mag\", \"mag_err\"]\n",
    "                        # print(f\"ra = {lc.ra}, dec = {lc.dec}, id = {id_lc_inj}, band = {lc.band}\")\n",
    "                        # print(\"Measured \", mag, mag_err)\n",
    "                        # print(\"Injected\", lc.data[\"mag_sim\"][idx])\n",
    "                        # is_within_range = (mag - mag_err <= lc.data[\"mag_sim\"][idx] <= mag + mag_err)\n",
    "                        # print(\"Injected within range:\", is_within_range)\n",
    "                        # print(\"Injected inj_catalog \", lc_inj[\"mag\"])\n",
    "                        # try:\n",
    "                        #     if abs(mag-lc.data[\"mag_inj\"][idx])>1:\n",
    "                        #         problems.append([idx, id_lc_inj, lc.ra, lc.dec])\n",
    "                        #         # problems.append((idx, calexp, process.inj_lc[id_lc_inj], lc.ra , lc.dec, sources, injected_catalog, injected_catalog_checked, mag, mag_err, lc.data[\"mag_inj\"][idx], injected_exposure))\n",
    "                        # except Exception as e:\n",
    "                        #     print(f\"flag: {e}\")\n",
    "\n",
    "        else:\n",
    "            print(\"Injection catalog is empty\")\n",
    "        # print(f\"{len(problems)}\")\n",
    "    else:\n",
    "        print(\"Not intersection between calexp and region.\")\n",
    "            \n",
    "process.data_calexp.to_csv(process.main_path+'/data_calexp.csv', index=False)\n",
    "process.data_events.to_csv(process.main_path+'/data_events.csv', index=False)  \n",
    "process.save_lc()\n",
    "process.save_time_log()\n",
    "process.time_analysis()\n",
    "print(\"Injected points per light curve\", [lc.data[\"mag\"].count() for lc in process.inj_lc] )\n",
    "process.sky_map(calexps=n_max_calexps)\n",
    "for band in process.bands:\n",
    "    process.sky_map(calexps=n_max_calexps, band=band)"
   ]
  },
  {
   "cell_type": "code",
   "execution_count": 7,
   "id": "2d4b73da-7966-45bc-b17d-0582fecca963",
   "metadata": {
    "execution": {
     "iopub.execute_input": "2025-01-27T14:35:13.770167Z",
     "iopub.status.busy": "2025-01-27T14:35:13.769239Z",
     "iopub.status.idle": "2025-01-27T14:35:31.370344Z",
     "shell.execute_reply": "2025-01-27T14:35:31.369555Z",
     "shell.execute_reply.started": "2025-01-27T14:35:13.770129Z"
    },
    "scrolled": true
   },
   "outputs": [
    {
     "name": "stdout",
     "output_type": "stream",
     "text": [
      "Saving 283 light curves in band u\n"
     ]
    },
    {
     "data": {
      "application/vnd.jupyter.widget-view+json": {
       "model_id": "e143e9543f2a4acebfb5b0675a8c1482",
       "version_major": 2,
       "version_minor": 0
      },
      "text/plain": [
       "  0%|          | 0/283 [00:00<?, ?it/s]"
      ]
     },
     "metadata": {},
     "output_type": "display_data"
    },
    {
     "name": "stdout",
     "output_type": "stream",
     "text": [
      "Saving 283 light curves in band g\n"
     ]
    },
    {
     "data": {
      "application/vnd.jupyter.widget-view+json": {
       "model_id": "d077e041b3f14525b0af302df4932a59",
       "version_major": 2,
       "version_minor": 0
      },
      "text/plain": [
       "  0%|          | 0/283 [00:00<?, ?it/s]"
      ]
     },
     "metadata": {},
     "output_type": "display_data"
    },
    {
     "name": "stdout",
     "output_type": "stream",
     "text": [
      "Saving 283 light curves in band r\n"
     ]
    },
    {
     "data": {
      "application/vnd.jupyter.widget-view+json": {
       "model_id": "87c8194108054f2d9aba5483deced93f",
       "version_major": 2,
       "version_minor": 0
      },
      "text/plain": [
       "  0%|          | 0/283 [00:00<?, ?it/s]"
      ]
     },
     "metadata": {},
     "output_type": "display_data"
    },
    {
     "name": "stdout",
     "output_type": "stream",
     "text": [
      "Saving 283 light curves in band i\n"
     ]
    },
    {
     "data": {
      "application/vnd.jupyter.widget-view+json": {
       "model_id": "7766fbd2d5a742998e7afc309b59b620",
       "version_major": 2,
       "version_minor": 0
      },
      "text/plain": [
       "  0%|          | 0/283 [00:00<?, ?it/s]"
      ]
     },
     "metadata": {},
     "output_type": "display_data"
    },
    {
     "name": "stdout",
     "output_type": "stream",
     "text": [
      "Saving 283 light curves in band z\n"
     ]
    },
    {
     "data": {
      "application/vnd.jupyter.widget-view+json": {
       "model_id": "0547b5a5502943d0a31cbd6e0975f659",
       "version_major": 2,
       "version_minor": 0
      },
      "text/plain": [
       "  0%|          | 0/283 [00:00<?, ?it/s]"
      ]
     },
     "metadata": {},
     "output_type": "display_data"
    },
    {
     "name": "stdout",
     "output_type": "stream",
     "text": [
      "Saving 283 light curves in band y\n"
     ]
    },
    {
     "data": {
      "application/vnd.jupyter.widget-view+json": {
       "model_id": "997bd83caa59491db741d13115d17b24",
       "version_major": 2,
       "version_minor": 0
      },
      "text/plain": [
       "  0%|          | 0/283 [00:00<?, ?it/s]"
      ]
     },
     "metadata": {},
     "output_type": "display_data"
    }
   ],
   "source": [
    "from tqdm.notebook import tqdm\n",
    "for band in process.bands:\n",
    "    lcs = [lc for lc in process.inj_lc if lc.band == band]\n",
    "    print(f\"Saving {len(lcs)} light curves in band {band}\")\n",
    "    for i, lc in enumerate(tqdm(lcs)):\n",
    "        event_id = process.data_events[\"event_id\"][i]\n",
    "        lc.save(process.main_path+f\"/lc_{event_id}_{lc.band}.csv\")"
   ]
  }
 ],
 "metadata": {
  "kernelspec": {
   "display_name": "LSST",
   "language": "python",
   "name": "lsst"
  },
  "language_info": {
   "codemirror_mode": {
    "name": "ipython",
    "version": 3
   },
   "file_extension": ".py",
   "mimetype": "text/x-python",
   "name": "python",
   "nbconvert_exporter": "python",
   "pygments_lexer": "ipython3",
   "version": "3.11.9"
  }
 },
 "nbformat": 4,
 "nbformat_minor": 5
}
